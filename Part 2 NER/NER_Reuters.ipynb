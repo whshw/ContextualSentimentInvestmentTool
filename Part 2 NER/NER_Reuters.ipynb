{
 "cells": [
  {
   "cell_type": "code",
   "execution_count": 5,
   "metadata": {
    "collapsed": true,
    "ExecuteTime": {
     "end_time": "2023-08-16T16:18:46.653780Z",
     "start_time": "2023-08-16T16:18:44.937753Z"
    }
   },
   "outputs": [],
   "source": [
    "import pandas as pd\n",
    "import glob\n",
    "import os\n",
    "import ner_functions as nf"
   ]
  },
  {
   "cell_type": "code",
   "execution_count": 11,
   "outputs": [],
   "source": [
    "# 定义一个字典储存每个国家的别名\n",
    "country_aliases = {\n",
    "\"United States\": [\"USA\", \"America\", \"US\", \"United States\"],\n",
    "\"Canada\": [\"Canada\", \"CA\"],\n",
    "\"United Kingdom\": [\"UK\", \"United Kingdom\", \"Britain\", \"England\", \"Scotland\", \"Wales\", \"Northern Ireland\"],\n",
    "\"Australia\": [\"Australia\", \"AU\", \"Aussie\"],\n",
    "\"China\": [\"China\", \"PRC\"],\n",
    "\"Denmark\": [\"Denmark\", \"DK\"],\n",
    "\"Finland\": [\"Finland\", \"FI\"],\n",
    "\"France\": [\"France\", \"French Republic\", \"FR\"],\n",
    "\"Germany\": [\"Germany\", \"DE\"],\n",
    "\"Japan\": [\"Japan\", \"JP\"],\n",
    "\"Italy\": [\"Italy\", \"Italian Republic\", \"IT\"],\n",
    "\"Netherlands\": [\"Netherlands\", \"Holland\", \"NL\"],\n",
    "\"Norway\": [\"Norway\", \"NO\"],\n",
    "\"Portugal\": [\"Portugal\", \"PT\"],\n",
    "\"Singapore\": [\"Singapore\", \"SG\"],\n",
    "\"South Korea\": [\"South Korea\", \"KR\"],\n",
    "\"Spain\": [\"Spain\", \"ES\"],\n",
    "\"Sweden\": [\"Sweden\", \"SE\"],\n",
    "\"Switzerland\": [\"Switzerland\", \"Swiss Confederation\", \"Swiss\", \"CH\"],\n",
    "\"New Zealand\": [\"New Zealand\", \"NZ\"]\n",
    "}"
   ],
   "metadata": {
    "collapsed": false,
    "ExecuteTime": {
     "end_time": "2023-08-15T11:13:17.668189700Z",
     "start_time": "2023-08-15T11:13:17.656838500Z"
    }
   }
  },
  {
   "cell_type": "code",
   "execution_count": 12,
   "outputs": [
    {
     "name": "stdout",
     "output_type": "stream",
     "text": [
      "../Data/Articles/ReutersArticles\\Australia_articles.csv\n"
     ]
    },
    {
     "data": {
      "text/plain": "Processing Australia:   0%|          | 0/11187 [00:00<?, ?it/s]",
      "application/vnd.jupyter.widget-view+json": {
       "version_major": 2,
       "version_minor": 0,
       "model_id": "ae02c2249f3147b5bec246b07ff28d0a"
      }
     },
     "metadata": {},
     "output_type": "display_data"
    },
    {
     "name": "stdout",
     "output_type": "stream",
     "text": [
      "../Data/Articles/ReutersArticles\\Canada_articles.csv\n"
     ]
    },
    {
     "data": {
      "text/plain": "Processing Canada:   0%|          | 0/8908 [00:00<?, ?it/s]",
      "application/vnd.jupyter.widget-view+json": {
       "version_major": 2,
       "version_minor": 0,
       "model_id": "b71806e388804c5f873377ff0a874cc7"
      }
     },
     "metadata": {},
     "output_type": "display_data"
    },
    {
     "name": "stdout",
     "output_type": "stream",
     "text": [
      "../Data/Articles/ReutersArticles\\China_articles.csv\n"
     ]
    },
    {
     "data": {
      "text/plain": "Processing China:   0%|          | 0/23510 [00:00<?, ?it/s]",
      "application/vnd.jupyter.widget-view+json": {
       "version_major": 2,
       "version_minor": 0,
       "model_id": "997885bc4cde42ea9dc45f2a198f6e87"
      }
     },
     "metadata": {},
     "output_type": "display_data"
    },
    {
     "name": "stdout",
     "output_type": "stream",
     "text": [
      "../Data/Articles/ReutersArticles\\Denmark_articles.csv\n"
     ]
    },
    {
     "data": {
      "text/plain": "Processing Denmark:   0%|          | 0/1971 [00:00<?, ?it/s]",
      "application/vnd.jupyter.widget-view+json": {
       "version_major": 2,
       "version_minor": 0,
       "model_id": "ea2db08d097e4b81ad87b375a0f25324"
      }
     },
     "metadata": {},
     "output_type": "display_data"
    },
    {
     "name": "stdout",
     "output_type": "stream",
     "text": [
      "../Data/Articles/ReutersArticles\\Finland_articles.csv\n"
     ]
    },
    {
     "data": {
      "text/plain": "Processing Finland:   0%|          | 0/1592 [00:00<?, ?it/s]",
      "application/vnd.jupyter.widget-view+json": {
       "version_major": 2,
       "version_minor": 0,
       "model_id": "3aaeda4358e74d86b50c0329dd242fcc"
      }
     },
     "metadata": {},
     "output_type": "display_data"
    },
    {
     "name": "stdout",
     "output_type": "stream",
     "text": [
      "../Data/Articles/ReutersArticles\\France_articles.csv\n"
     ]
    },
    {
     "data": {
      "text/plain": "Processing France:   0%|          | 0/11407 [00:00<?, ?it/s]",
      "application/vnd.jupyter.widget-view+json": {
       "version_major": 2,
       "version_minor": 0,
       "model_id": "699db3b708f84ea1b06b5ce1e5146483"
      }
     },
     "metadata": {},
     "output_type": "display_data"
    },
    {
     "name": "stdout",
     "output_type": "stream",
     "text": [
      "../Data/Articles/ReutersArticles\\Germany_articles.csv\n"
     ]
    },
    {
     "data": {
      "text/plain": "Processing Germany:   0%|          | 0/12946 [00:00<?, ?it/s]",
      "application/vnd.jupyter.widget-view+json": {
       "version_major": 2,
       "version_minor": 0,
       "model_id": "aaa8dfac7361427f80bbda26a47a80b4"
      }
     },
     "metadata": {},
     "output_type": "display_data"
    },
    {
     "name": "stdout",
     "output_type": "stream",
     "text": [
      "../Data/Articles/ReutersArticles\\Italy_articles.csv\n"
     ]
    },
    {
     "data": {
      "text/plain": "Processing Italy:   0%|          | 0/6967 [00:00<?, ?it/s]",
      "application/vnd.jupyter.widget-view+json": {
       "version_major": 2,
       "version_minor": 0,
       "model_id": "8d353bdae2f841db94fd215394d95026"
      }
     },
     "metadata": {},
     "output_type": "display_data"
    },
    {
     "name": "stdout",
     "output_type": "stream",
     "text": [
      "../Data/Articles/ReutersArticles\\Japan_articles.csv\n"
     ]
    },
    {
     "data": {
      "text/plain": "Processing Japan:   0%|          | 0/12224 [00:00<?, ?it/s]",
      "application/vnd.jupyter.widget-view+json": {
       "version_major": 2,
       "version_minor": 0,
       "model_id": "00c17f6d4b2c412dafd10fc18fd1ed13"
      }
     },
     "metadata": {},
     "output_type": "display_data"
    },
    {
     "name": "stdout",
     "output_type": "stream",
     "text": [
      "../Data/Articles/ReutersArticles\\Netherlands_articles.csv\n"
     ]
    },
    {
     "data": {
      "text/plain": "Processing Netherlands:   0%|          | 0/3661 [00:00<?, ?it/s]",
      "application/vnd.jupyter.widget-view+json": {
       "version_major": 2,
       "version_minor": 0,
       "model_id": "b442649318924cf3b499f0de94209db7"
      }
     },
     "metadata": {},
     "output_type": "display_data"
    },
    {
     "name": "stdout",
     "output_type": "stream",
     "text": [
      "../Data/Articles/ReutersArticles\\New Zealand_articles.csv\n"
     ]
    },
    {
     "data": {
      "text/plain": "Processing New Zealand:   0%|          | 0/4339 [00:00<?, ?it/s]",
      "application/vnd.jupyter.widget-view+json": {
       "version_major": 2,
       "version_minor": 0,
       "model_id": "c9fc9788c9674074bd7c5077e5a2a2cd"
      }
     },
     "metadata": {},
     "output_type": "display_data"
    },
    {
     "name": "stdout",
     "output_type": "stream",
     "text": [
      "../Data/Articles/ReutersArticles\\Norway_articles.csv\n"
     ]
    },
    {
     "data": {
      "text/plain": "Processing Norway:   0%|          | 0/2444 [00:00<?, ?it/s]",
      "application/vnd.jupyter.widget-view+json": {
       "version_major": 2,
       "version_minor": 0,
       "model_id": "85e5a96de6e64b5fb12646fcaa92f743"
      }
     },
     "metadata": {},
     "output_type": "display_data"
    },
    {
     "name": "stdout",
     "output_type": "stream",
     "text": [
      "../Data/Articles/ReutersArticles\\Portugal_articles.csv\n"
     ]
    },
    {
     "data": {
      "text/plain": "Processing Portugal:   0%|          | 0/2072 [00:00<?, ?it/s]",
      "application/vnd.jupyter.widget-view+json": {
       "version_major": 2,
       "version_minor": 0,
       "model_id": "b1c208c7f82c4f8b9ad136dbfe492af2"
      }
     },
     "metadata": {},
     "output_type": "display_data"
    },
    {
     "name": "stdout",
     "output_type": "stream",
     "text": [
      "../Data/Articles/ReutersArticles\\Singapore_articles.csv\n"
     ]
    },
    {
     "data": {
      "text/plain": "Processing Singapore:   0%|          | 0/4214 [00:00<?, ?it/s]",
      "application/vnd.jupyter.widget-view+json": {
       "version_major": 2,
       "version_minor": 0,
       "model_id": "e33a4f26ef2a4129a16712c2fd14e98c"
      }
     },
     "metadata": {},
     "output_type": "display_data"
    },
    {
     "name": "stdout",
     "output_type": "stream",
     "text": [
      "../Data/Articles/ReutersArticles\\South Korea_articles.csv\n"
     ]
    },
    {
     "data": {
      "text/plain": "Processing South Korea:   0%|          | 0/4938 [00:00<?, ?it/s]",
      "application/vnd.jupyter.widget-view+json": {
       "version_major": 2,
       "version_minor": 0,
       "model_id": "ca7a82495161486a91850c49713f807d"
      }
     },
     "metadata": {},
     "output_type": "display_data"
    },
    {
     "name": "stdout",
     "output_type": "stream",
     "text": [
      "../Data/Articles/ReutersArticles\\Spain_articles.csv\n"
     ]
    },
    {
     "data": {
      "text/plain": "Processing Spain:   0%|          | 0/5374 [00:00<?, ?it/s]",
      "application/vnd.jupyter.widget-view+json": {
       "version_major": 2,
       "version_minor": 0,
       "model_id": "cfbc0878a8cf4f829eb6892666d7eb6e"
      }
     },
     "metadata": {},
     "output_type": "display_data"
    },
    {
     "name": "stdout",
     "output_type": "stream",
     "text": [
      "../Data/Articles/ReutersArticles\\Sweden_articles.csv\n"
     ]
    },
    {
     "data": {
      "text/plain": "Processing Sweden:   0%|          | 0/2689 [00:00<?, ?it/s]",
      "application/vnd.jupyter.widget-view+json": {
       "version_major": 2,
       "version_minor": 0,
       "model_id": "54d66cf856a5464ebef6da02e16a3b6c"
      }
     },
     "metadata": {},
     "output_type": "display_data"
    },
    {
     "name": "stdout",
     "output_type": "stream",
     "text": [
      "../Data/Articles/ReutersArticles\\Switzerland_articles.csv\n"
     ]
    },
    {
     "data": {
      "text/plain": "Processing Switzerland:   0%|          | 0/2726 [00:00<?, ?it/s]",
      "application/vnd.jupyter.widget-view+json": {
       "version_major": 2,
       "version_minor": 0,
       "model_id": "03bc4eedd37e4d79bedfff460f170a55"
      }
     },
     "metadata": {},
     "output_type": "display_data"
    },
    {
     "name": "stdout",
     "output_type": "stream",
     "text": [
      "../Data/Articles/ReutersArticles\\United Kingdom_articles.csv\n"
     ]
    },
    {
     "data": {
      "text/plain": "Processing United Kingdom:   0%|          | 0/14940 [00:00<?, ?it/s]",
      "application/vnd.jupyter.widget-view+json": {
       "version_major": 2,
       "version_minor": 0,
       "model_id": "9245dab903424ae2ac58de72816c4913"
      }
     },
     "metadata": {},
     "output_type": "display_data"
    },
    {
     "name": "stdout",
     "output_type": "stream",
     "text": [
      "../Data/Articles/ReutersArticles\\United States_articles.csv\n"
     ]
    },
    {
     "data": {
      "text/plain": "Processing United States:   0%|          | 0/22907 [00:00<?, ?it/s]",
      "application/vnd.jupyter.widget-view+json": {
       "version_major": 2,
       "version_minor": 0,
       "model_id": "29cd22d40a4f487f9a8b3c65230d9308"
      }
     },
     "metadata": {},
     "output_type": "display_data"
    }
   ],
   "source": [
    "lst_files = []\n",
    "\n",
    "Path = \"../Data/Articles/ReutersArticles/*.csv\"\n",
    "\n",
    "for fname in glob.glob(Path):\n",
    "    lst_files.append(fname)\n",
    "\n",
    "lst_files = sorted(lst_files)\n",
    "\n",
    "# NER判定的阈值\n",
    "threshold = 0\n",
    "\n",
    "for file in lst_files:\n",
    "    file_name = os.path.basename(file)  # Get the file name from the full file path\n",
    "    country_name = os.path.splitext(file_name)[0]  # Remove the file extension\n",
    "    country_name = country_name.replace(\"_articles\", \"\")  # Remove the \"_articles\" part of the file name\n",
    "\n",
    "    # 仅对单个国家的数据进行实体识别\n",
    "    # if file == '../Data/ReutersArticles/United States_articles.csv':\n",
    "    # 对所有的未进行过NER的国家进行实体识别\n",
    "    if os.path.isfile('../Data/NER/Reuters_NER/{0}.csv'.format(country_name)):\n",
    "        print(\"File already exists: {0}.csv\".format(country_name))\n",
    "    else:\n",
    "        print(file)\n",
    "        df = pd.read_csv(file)\n",
    "\n",
    "        if df.shape[0] != 0:\n",
    "            \n",
    "            df = nf.preprocess_dataframe(df)\n",
    "\n",
    "            df, df_ner_results = nf.perform_ner_on_dataframe(df, country_name, country_aliases, threshold)\n",
    "\n",
    "\n",
    "            # Convert the list of relevant articles back to a DataFrame\n",
    "            df.to_csv(r'../Data/NER/Reuters_NER/{0}.csv'.format(country_name))\n",
    "            df_ner_results.to_csv(r'../Data/NER/Reuters_NER_Results/{0}.csv'.format(country_name))"
   ],
   "metadata": {
    "collapsed": false,
    "ExecuteTime": {
     "end_time": "2023-08-15T12:27:16.955994300Z",
     "start_time": "2023-08-15T11:13:32.133388300Z"
    }
   }
  },
  {
   "cell_type": "code",
   "execution_count": 14,
   "outputs": [
    {
     "name": "stdout",
     "output_type": "stream",
     "text": [
      "Australia 3606\n",
      "Canada 2587\n",
      "China 10251\n",
      "Denmark 334\n",
      "Finland 473\n",
      "France 2317\n",
      "Germany 3069\n",
      "Italy 2065\n",
      "Japan 3734\n",
      "Netherlands 236\n",
      "New Zealand 1120\n",
      "Norway 524\n",
      "Portugal 505\n",
      "Singapore 777\n",
      "South Korea 969\n",
      "Spain 1399\n",
      "Sweden 712\n",
      "Switzerland 422\n",
      "United Kingdom 6977\n",
      "United States 2771\n"
     ]
    }
   ],
   "source": [
    "# 读取所有国家的实体识别后剩余的数据, 然后输出剩余数据的数量\n",
    "lst_ner_files = []\n",
    "for fname in glob.glob(\"../Data/NER/Reuters_NER/*.csv\"):\n",
    "    lst_ner_files.append(fname)\n",
    "for file in lst_ner_files:\n",
    "    file_name = os.path.basename(file)  # Get the file name from the full file path\n",
    "    country_name = os.path.splitext(file_name)[0]  # Remove the file extension\n",
    "    df = pd.read_csv(file)\n",
    "    print(country_name, df.shape[0])"
   ],
   "metadata": {
    "collapsed": false,
    "ExecuteTime": {
     "end_time": "2023-08-15T12:30:57.478964900Z",
     "start_time": "2023-08-15T12:30:56.578369700Z"
    }
   }
  },
  {
   "cell_type": "code",
   "execution_count": null,
   "outputs": [],
   "source": [],
   "metadata": {
    "collapsed": false
   }
  }
 ],
 "metadata": {
  "kernelspec": {
   "display_name": "Python 3",
   "language": "python",
   "name": "python3"
  },
  "language_info": {
   "codemirror_mode": {
    "name": "ipython",
    "version": 2
   },
   "file_extension": ".py",
   "mimetype": "text/x-python",
   "name": "python",
   "nbconvert_exporter": "python",
   "pygments_lexer": "ipython2",
   "version": "2.7.6"
  }
 },
 "nbformat": 4,
 "nbformat_minor": 0
}
