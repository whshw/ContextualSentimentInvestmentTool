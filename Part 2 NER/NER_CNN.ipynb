{
 "cells": [
  {
   "cell_type": "code",
   "execution_count": 1,
   "outputs": [],
   "source": [
    "import pandas as pd\n",
    "import glob\n",
    "import os\n",
    "import ner_functions as nf"
   ],
   "metadata": {
    "collapsed": false,
    "ExecuteTime": {
     "end_time": "2023-08-16T15:33:47.071337900Z",
     "start_time": "2023-08-16T15:33:43.426366900Z"
    }
   },
   "id": "7f1759801abc8f19"
  },
  {
   "cell_type": "code",
   "execution_count": 10,
   "outputs": [],
   "source": [
    "# 定义一个字典储存每个国家的别名\n",
    "country_aliases = {\n",
    "\"UnitedStates\": [\"USA\", \"America\", \"US\", \"United States\", \"UnitedStates\"],\n",
    "\"Canada\": [\"Canada\", \"CA\"],\n",
    "\"UnitedKingdom\": [\"UK\", \"United Kingdom\", \"Britain\", \"England\", \"Scotland\", \"Wales\", \"Northern Ireland\", \"UnitedKingdom\"],\n",
    "\"Australia\": [\"Australia\", \"AU\", \"Aussie\"],\n",
    "\"China\": [\"China\", \"PRC\"],\n",
    "\"Denmark\": [\"Denmark\", \"DK\"],\n",
    "\"Finland\": [\"Finland\", \"FI\"],\n",
    "\"France\": [\"France\", \"French Republic\", \"FR\"],\n",
    "\"Germany\": [\"Germany\", \"DE\"],\n",
    "\"Japan\": [\"Japan\", \"JP\"],\n",
    "\"Italy\": [\"Italy\", \"Italian Republic\", \"IT\"],\n",
    "\"Netherlands\": [\"Netherlands\", \"Holland\", \"NL\"],\n",
    "\"Norway\": [\"Norway\", \"NO\"],\n",
    "\"Portugal\": [\"Portugal\", \"PT\"],\n",
    "\"Singapore\": [\"Singapore\", \"SG\"],\n",
    "\"SouthKorea\": [\"South Korea\", \"KR\", \"SouthKorea\"],\n",
    "\"Spain\": [\"Spain\", \"ES\"],\n",
    "\"Sweden\": [\"Sweden\", \"SE\"],\n",
    "\"Switzerland\": [\"Switzerland\", \"Swiss Confederation\", \"Swiss\", \"CH\"],\n",
    "\"NewZealand\": [\"New Zealand\", \"NZ\", \"NewZealand\"]\n",
    "}"
   ],
   "metadata": {
    "collapsed": false,
    "ExecuteTime": {
     "end_time": "2023-08-16T11:27:33.843041200Z",
     "start_time": "2023-08-16T11:27:33.837894400Z"
    }
   },
   "id": "dc053fe0ef6b42c1"
  },
  {
   "cell_type": "code",
   "execution_count": null,
   "outputs": [
    {
     "name": "stdout",
     "output_type": "stream",
     "text": [
      "../Data/Articles/CNNArticles\\Australia.csv\n"
     ]
    },
    {
     "data": {
      "text/plain": "Processing Australia:   0%|          | 0/8562 [00:00<?, ?it/s]",
      "application/vnd.jupyter.widget-view+json": {
       "version_major": 2,
       "version_minor": 0,
       "model_id": "b099764af94849449112c9f22bb715b4"
      }
     },
     "metadata": {},
     "output_type": "display_data"
    }
   ],
   "source": [
    "lst_files = []\n",
    "\n",
    "Path = \"../Data/Articles/CNNArticles/*.csv\"\n",
    "\n",
    "for fname in glob.glob(Path):\n",
    "    lst_files.append(fname)\n",
    "\n",
    "lst_files = sorted(lst_files)\n",
    "\n",
    "# NER判定的阈值\n",
    "threshold = 0\n",
    "\n",
    "for file in lst_files:\n",
    "    file_name = os.path.basename(file)  # Get the file name from the full file path\n",
    "    country_name = os.path.splitext(file_name)[0]  # Remove the file extension\n",
    "\n",
    "    # 仅对单个国家的数据进行实体识别\n",
    "    # if country_name == \"China\":\n",
    "    # 对所有的未进行过NER的国家进行实体识别\n",
    "    if os.path.isfile('../Data/NER/CNN_NER/{0}.csv'.format(country_name)):\n",
    "        print(\"File already exists: {0}.csv\".format(country_name))\n",
    "    else:\n",
    "        print(file)\n",
    "        df = pd.read_csv(file)\n",
    "\n",
    "        if df.shape[0] != 0:\n",
    "            \n",
    "            df = nf.preprocess_dataframe(df)\n",
    "            \n",
    "            df, df_ner_results = nf.perform_ner_on_dataframe(df, country_name, country_aliases, threshold)\n",
    "\n",
    "\n",
    "            # Convert the list of relevant articles back to a DataFrame\n",
    "            df.to_csv(r'../Data/NER/CNN_NER/{0}.csv'.format(country_name))\n",
    "            df_ner_results.to_csv(r'../Data/NER/CNN_NER_Results/{0}.csv'.format(country_name))\n"
   ],
   "metadata": {
    "collapsed": false,
    "is_executing": true,
    "ExecuteTime": {
     "start_time": "2023-08-16T13:48:33.392365300Z"
    }
   },
   "id": "d41e4037f0c8234b"
  },
  {
   "cell_type": "code",
   "execution_count": 1,
   "outputs": [],
   "source": [
    "def merge_and_save_csv(file1, file2):\n",
    "    \"\"\"\n",
    "    Merge two csv files, remove duplicates, and save the merged data to the first file.\n",
    "\n",
    "    Parameters:\n",
    "    - file1 (str): Path to the first csv file. The merged data will be saved to this file.\n",
    "    - file2 (str): Path to the second csv file.\n",
    "\n",
    "    Returns:\n",
    "    None\n",
    "    \"\"\"\n",
    "    \n",
    "    # 读取两个csv文件\n",
    "    df1 = pd.read_csv(file1)\n",
    "    df2 = pd.read_csv(file2)\n",
    "    \n",
    "    # 合并两个数据集\n",
    "    df = pd.concat([df1, df2], axis=0)\n",
    "    \n",
    "    # 去除重复部分\n",
    "    df.drop_duplicates(inplace=True)\n",
    "    \n",
    "    # 保存合并后的数据到第一个文件\n",
    "    df.to_csv(file1, index=False)\n",
    "\n",
    "# 使用方法：\n",
    "# merge_and_save_csv(\"../Data/CNNArticles/UnitedStates.csv\", \"../Data/CNNarticles/UnitedStates2.csv\")\n"
   ],
   "metadata": {
    "collapsed": false,
    "ExecuteTime": {
     "end_time": "2023-08-14T14:43:33.074837500Z",
     "start_time": "2023-08-14T14:43:33.060333600Z"
    }
   },
   "id": "efc15aa872812867"
  },
  {
   "cell_type": "code",
   "execution_count": 5,
   "outputs": [],
   "source": [
    "file1 = \"../Data/CNNArticles/China.csv\"\n",
    "file2 = \"../Data/CNNArticles/China3.csv\"\n",
    "merge_and_save_csv(file1, file2)"
   ],
   "metadata": {
    "collapsed": false,
    "ExecuteTime": {
     "end_time": "2023-08-14T14:45:41.126736200Z",
     "start_time": "2023-08-14T14:45:38.652904200Z"
    }
   },
   "id": "538e77d0b1286bb7"
  },
  {
   "cell_type": "code",
   "execution_count": 17,
   "outputs": [
    {
     "name": "stdout",
     "output_type": "stream",
     "text": [
      "Australia 8562\n",
      "Canada 9089\n",
      "China 15687\n",
      "Denmark 2206\n",
      "Finland 1827\n",
      "France 8895\n",
      "Germany 8634\n",
      "Italy 7506\n",
      "Japan 8589\n",
      "Netherlands 3774\n",
      "NewZealand 4492\n",
      "Norway 2515\n",
      "Portugal 1814\n",
      "Singapore 4583\n",
      "SouthKorea 8182\n",
      "Spain 6145\n",
      "Sweden 3236\n",
      "Switzerland 3885\n",
      "UnitedKingdom 1461\n",
      "UnitedStates 21656\n"
     ]
    }
   ],
   "source": [
    "# 读取所有国家数据, 然后输出所得新闻的数量\n",
    "lst_ner_files = []\n",
    "for fname in glob.glob(\"../Data/Articles/CNNArticles/*.csv\"):\n",
    "    lst_ner_files.append(fname)\n",
    "for file in lst_ner_files:\n",
    "    file_name = os.path.basename(file)  # Get the file name from the full file path\n",
    "    country_name = os.path.splitext(file_name)[0]  # Remove the file extension\n",
    "    df = pd.read_csv(file)\n",
    "    df = df.drop_duplicates(['Date', 'Headline'], keep='last')\n",
    "    print(country_name, df.shape[0])"
   ],
   "metadata": {
    "collapsed": false,
    "ExecuteTime": {
     "end_time": "2023-08-16T13:32:10.214451600Z",
     "start_time": "2023-08-16T13:32:00.765356500Z"
    }
   },
   "id": "6d462eb50b937641"
  },
  {
   "cell_type": "code",
   "execution_count": 2,
   "outputs": [
    {
     "name": "stdout",
     "output_type": "stream",
     "text": [
      "Australia 2016-05-03 2023-08-09\n",
      "Australia 5045\n",
      "Canada 2016-05-10 2023-08-08\n",
      "Canada 5023\n",
      "China 2012-12-16 2023-08-11\n",
      "China 11247\n",
      "Denmark 2011-08-31 2023-08-01\n",
      "Denmark 1047\n",
      "Finland 2011-09-26 2023-07-26\n",
      "Finland 887\n",
      "France 2019-06-06 2023-08-08\n",
      "France 2956\n",
      "Germany 2017-07-06 2023-08-07\n",
      "Germany 4470\n",
      "Italy 2013-06-16 2023-08-04\n",
      "Italy 4322\n",
      "Japan 2016-11-02 2023-08-07\n",
      "Japan 4984\n",
      "Netherlands 2011-07-11 2023-08-02\n",
      "Netherlands 1665\n",
      "NewZealand 2011-06-29 2023-08-11\n",
      "NewZealand 2249\n",
      "Norway 2011-07-25 2023-08-10\n",
      "Norway 1225\n",
      "Portugal 2011-07-11 2023-08-03\n",
      "Portugal 930\n",
      "Singapore 2011-09-08 2023-08-10\n",
      "Singapore 2518\n",
      "SouthKorea 2013-03-26 2023-08-10\n",
      "SouthKorea 3870\n",
      "Spain 2010-08-04 2023-08-11\n",
      "Spain 3585\n",
      "Sweden 2011-09-22 2023-08-11\n",
      "Sweden 1708\n",
      "Switzerland 2010-11-30 2023-08-08\n",
      "Switzerland 2051\n",
      "UnitedKingdom 2022-06-06 2023-08-11\n",
      "UnitedKingdom 756\n",
      "UnitedStates 2011-04-05 2023-08-13\n",
      "UnitedStates 17397\n"
     ]
    }
   ],
   "source": [
    "# 读取所有国家的实体识别后剩余的数据, 然后输出剩余数据的数量\n",
    "lst_ner_files = []\n",
    "for fname in glob.glob(\"../Data/NER/CNN_NER/*.csv\"):\n",
    "    lst_ner_files.append(fname)\n",
    "for file in lst_ner_files:\n",
    "    file_name = os.path.basename(file)  # Get the file name from the full file path\n",
    "    country_name = os.path.splitext(file_name)[0]  # Remove the file extension\n",
    "    df = pd.read_csv(file)\n",
    "    # df = df.drop_duplicates(['Date', 'Headline'], keep='last')\n",
    "    # 展示每个国家的第一个新闻的日期和最后一个新闻的日期\n",
    "    print(country_name, df['Date'].iloc[0], df['Date'].iloc[-1])\n",
    "    print(country_name, df.shape[0])\n"
   ],
   "metadata": {
    "collapsed": false,
    "ExecuteTime": {
     "end_time": "2023-08-16T15:39:31.112263300Z",
     "start_time": "2023-08-16T15:39:28.288350400Z"
    }
   },
   "id": "efda418d2f2b2647"
  },
  {
   "cell_type": "code",
   "execution_count": 31,
   "outputs": [
    {
     "name": "stdout",
     "output_type": "stream",
     "text": [
      "0       [{'entity': 'B-MISC', 'score': 0.9997494816780...\n",
      "1       [{'entity': 'B-MISC', 'score': 0.9992812275886...\n",
      "2       [{'entity': 'B-MISC', 'score': 0.9922473430633...\n",
      "3       [{'entity': 'B-MISC', 'score': 0.9936847090721...\n",
      "4       [{'entity': 'B-LOC', 'score': 0.99973839521408...\n",
      "                              ...                        \n",
      "3769    [{'entity': 'B-PER', 'score': 0.93637478351593...\n",
      "3770    [{'entity': 'B-ORG', 'score': 0.94311094284057...\n",
      "3771    [{'entity': 'B-LOC', 'score': 0.99974805116653...\n",
      "3772    [{'entity': 'B-LOC', 'score': 0.99981027841567...\n",
      "3773    [{'entity': 'B-LOC', 'score': 0.99936670064926...\n",
      "Name: NER, Length: 3774, dtype: object\n"
     ]
    }
   ],
   "source": [
    "# # 读取NER_Results数据, 然后输出所得新闻的数量\n",
    "# path = \"../Data/CNN_NER_Results/Netherlands.csv\"\n",
    "# df = pd.read_csv(path)\n",
    "# df['NER'] = df['NER'].apply(json.loads)\n",
    "# # 检查第一行的数据的NER列的第五行的数据\n",
    "# print(df[\"NER\"])\n"
   ],
   "metadata": {
    "collapsed": false,
    "ExecuteTime": {
     "end_time": "2023-08-12T17:28:30.523922100Z",
     "start_time": "2023-08-12T17:28:29.993562600Z"
    }
   },
   "id": "79105b93b6f503d6"
  },
  {
   "cell_type": "code",
   "execution_count": null,
   "outputs": [],
   "source": [],
   "metadata": {
    "collapsed": false
   },
   "id": "b9315c43d6d04c6f"
  }
 ],
 "metadata": {
  "kernelspec": {
   "display_name": "Python 3",
   "language": "python",
   "name": "python3"
  },
  "language_info": {
   "codemirror_mode": {
    "name": "ipython",
    "version": 2
   },
   "file_extension": ".py",
   "mimetype": "text/x-python",
   "name": "python",
   "nbconvert_exporter": "python",
   "pygments_lexer": "ipython2",
   "version": "2.7.6"
  }
 },
 "nbformat": 4,
 "nbformat_minor": 5
}
