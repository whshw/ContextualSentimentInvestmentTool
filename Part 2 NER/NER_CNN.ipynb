{
 "cells": [
  {
   "cell_type": "code",
   "execution_count": 1,
   "outputs": [],
   "source": [
    "import pandas as pd\n",
    "import glob\n",
    "import os\n",
    "import ner_functions as nf"
   ],
   "metadata": {
    "collapsed": false,
    "ExecuteTime": {
     "end_time": "2023-08-21T17:13:26.917830200Z",
     "start_time": "2023-08-21T17:13:23.381219100Z"
    }
   },
   "id": "7f1759801abc8f19"
  },
  {
   "cell_type": "code",
   "execution_count": 2,
   "outputs": [],
   "source": [
    "# 定义一个字典储存每个国家的别名\n",
    "country_aliases = {\n",
    "\"UnitedStates\": [\"USA\", \"America\", \"US\", \"United States\", \"UnitedStates\"],\n",
    "\"Canada\": [\"Canada\", \"CA\"],\n",
    "\"UnitedKingdom\": [\"UK\", \"United Kingdom\", \"Britain\", \"England\", \"Scotland\", \"Wales\", \"Northern Ireland\", \"UnitedKingdom\"],\n",
    "\"Australia\": [\"Australia\", \"AU\", \"Aussie\"],\n",
    "\"China\": [\"China\", \"PRC\"],\n",
    "\"Denmark\": [\"Denmark\", \"DK\"],\n",
    "\"Finland\": [\"Finland\", \"FI\"],\n",
    "\"France\": [\"France\", \"French Republic\", \"FR\"],\n",
    "\"Germany\": [\"Germany\", \"DE\"],\n",
    "\"Japan\": [\"Japan\", \"JP\"],\n",
    "\"Italy\": [\"Italy\", \"Italian Republic\", \"IT\"],\n",
    "\"Netherlands\": [\"Netherlands\", \"Holland\", \"NL\"],\n",
    "\"Norway\": [\"Norway\", \"NO\"],\n",
    "\"Portugal\": [\"Portugal\", \"PT\"],\n",
    "\"Singapore\": [\"Singapore\", \"SG\"],\n",
    "\"SouthKorea\": [\"South Korea\", \"KR\", \"SouthKorea\"],\n",
    "\"Spain\": [\"Spain\", \"ES\"],\n",
    "\"Sweden\": [\"Sweden\", \"SE\"],\n",
    "\"Switzerland\": [\"Switzerland\", \"Swiss Confederation\", \"Swiss\", \"CH\"],\n",
    "\"NewZealand\": [\"New Zealand\", \"NZ\", \"NewZealand\"]\n",
    "}"
   ],
   "metadata": {
    "collapsed": false,
    "ExecuteTime": {
     "end_time": "2023-08-21T17:13:26.933692900Z",
     "start_time": "2023-08-21T17:13:26.921058900Z"
    }
   },
   "id": "dc053fe0ef6b42c1"
  },
  {
   "cell_type": "code",
   "execution_count": 3,
   "outputs": [
    {
     "name": "stdout",
     "output_type": "stream",
     "text": [
      "../Data/Articles/CNNArticles\\Australia.csv\n"
     ]
    },
    {
     "data": {
      "text/plain": "Processing Australia:   0%|          | 0/8562 [00:00<?, ?it/s]",
      "application/vnd.jupyter.widget-view+json": {
       "version_major": 2,
       "version_minor": 0,
       "model_id": "c8488cd5695640ddbd8a58895f4b5f5c"
      }
     },
     "metadata": {},
     "output_type": "display_data"
    },
    {
     "name": "stdout",
     "output_type": "stream",
     "text": [
      "../Data/Articles/CNNArticles\\Canada.csv\n"
     ]
    },
    {
     "data": {
      "text/plain": "Processing Canada:   0%|          | 0/9089 [00:00<?, ?it/s]",
      "application/vnd.jupyter.widget-view+json": {
       "version_major": 2,
       "version_minor": 0,
       "model_id": "838e9d82b4ec44c69ec6d3c2e99f2df8"
      }
     },
     "metadata": {},
     "output_type": "display_data"
    },
    {
     "name": "stdout",
     "output_type": "stream",
     "text": [
      "../Data/Articles/CNNArticles\\China.csv\n"
     ]
    },
    {
     "data": {
      "text/plain": "Processing China:   0%|          | 0/15687 [00:00<?, ?it/s]",
      "application/vnd.jupyter.widget-view+json": {
       "version_major": 2,
       "version_minor": 0,
       "model_id": "14279eb185774d03b8fe27222da17a0a"
      }
     },
     "metadata": {},
     "output_type": "display_data"
    },
    {
     "name": "stdout",
     "output_type": "stream",
     "text": [
      "../Data/Articles/CNNArticles\\Denmark.csv\n"
     ]
    },
    {
     "data": {
      "text/plain": "Processing Denmark:   0%|          | 0/2206 [00:00<?, ?it/s]",
      "application/vnd.jupyter.widget-view+json": {
       "version_major": 2,
       "version_minor": 0,
       "model_id": "f8a92a4b6ed24664b19d0349d72b8108"
      }
     },
     "metadata": {},
     "output_type": "display_data"
    },
    {
     "name": "stdout",
     "output_type": "stream",
     "text": [
      "../Data/Articles/CNNArticles\\Finland.csv\n"
     ]
    },
    {
     "data": {
      "text/plain": "Processing Finland:   0%|          | 0/1827 [00:00<?, ?it/s]",
      "application/vnd.jupyter.widget-view+json": {
       "version_major": 2,
       "version_minor": 0,
       "model_id": "a7fe7a984b164008ae911db1d39df33e"
      }
     },
     "metadata": {},
     "output_type": "display_data"
    },
    {
     "name": "stdout",
     "output_type": "stream",
     "text": [
      "../Data/Articles/CNNArticles\\France.csv\n"
     ]
    },
    {
     "data": {
      "text/plain": "Processing France:   0%|          | 0/8895 [00:00<?, ?it/s]",
      "application/vnd.jupyter.widget-view+json": {
       "version_major": 2,
       "version_minor": 0,
       "model_id": "c4eebce194034d7885c22b1b6a4b79bb"
      }
     },
     "metadata": {},
     "output_type": "display_data"
    },
    {
     "name": "stdout",
     "output_type": "stream",
     "text": [
      "../Data/Articles/CNNArticles\\Germany.csv\n"
     ]
    },
    {
     "data": {
      "text/plain": "Processing Germany:   0%|          | 0/8634 [00:00<?, ?it/s]",
      "application/vnd.jupyter.widget-view+json": {
       "version_major": 2,
       "version_minor": 0,
       "model_id": "52138e3cce7a44c89f6957cd4db522db"
      }
     },
     "metadata": {},
     "output_type": "display_data"
    },
    {
     "name": "stdout",
     "output_type": "stream",
     "text": [
      "../Data/Articles/CNNArticles\\Italy.csv\n"
     ]
    },
    {
     "data": {
      "text/plain": "Processing Italy:   0%|          | 0/7506 [00:00<?, ?it/s]",
      "application/vnd.jupyter.widget-view+json": {
       "version_major": 2,
       "version_minor": 0,
       "model_id": "a92e4d9827f94da3bd3dbdb1f3af997e"
      }
     },
     "metadata": {},
     "output_type": "display_data"
    },
    {
     "name": "stdout",
     "output_type": "stream",
     "text": [
      "../Data/Articles/CNNArticles\\Japan.csv\n"
     ]
    },
    {
     "data": {
      "text/plain": "Processing Japan:   0%|          | 0/8589 [00:00<?, ?it/s]",
      "application/vnd.jupyter.widget-view+json": {
       "version_major": 2,
       "version_minor": 0,
       "model_id": "63a1066b125240f2b9feb8a4bba5bd59"
      }
     },
     "metadata": {},
     "output_type": "display_data"
    },
    {
     "name": "stdout",
     "output_type": "stream",
     "text": [
      "../Data/Articles/CNNArticles\\Netherlands.csv\n"
     ]
    },
    {
     "data": {
      "text/plain": "Processing Netherlands:   0%|          | 0/3774 [00:00<?, ?it/s]",
      "application/vnd.jupyter.widget-view+json": {
       "version_major": 2,
       "version_minor": 0,
       "model_id": "dd53c3ffb6704b568426109887584616"
      }
     },
     "metadata": {},
     "output_type": "display_data"
    },
    {
     "name": "stdout",
     "output_type": "stream",
     "text": [
      "../Data/Articles/CNNArticles\\NewZealand.csv\n"
     ]
    },
    {
     "data": {
      "text/plain": "Processing NewZealand:   0%|          | 0/4492 [00:00<?, ?it/s]",
      "application/vnd.jupyter.widget-view+json": {
       "version_major": 2,
       "version_minor": 0,
       "model_id": "7ddbdd81991249f0a364a8e06019e9dd"
      }
     },
     "metadata": {},
     "output_type": "display_data"
    },
    {
     "name": "stdout",
     "output_type": "stream",
     "text": [
      "../Data/Articles/CNNArticles\\Norway.csv\n"
     ]
    },
    {
     "data": {
      "text/plain": "Processing Norway:   0%|          | 0/2515 [00:00<?, ?it/s]",
      "application/vnd.jupyter.widget-view+json": {
       "version_major": 2,
       "version_minor": 0,
       "model_id": "5e6e772c31cf4b908d9e0149c2b092d5"
      }
     },
     "metadata": {},
     "output_type": "display_data"
    },
    {
     "name": "stdout",
     "output_type": "stream",
     "text": [
      "../Data/Articles/CNNArticles\\Portugal.csv\n"
     ]
    },
    {
     "data": {
      "text/plain": "Processing Portugal:   0%|          | 0/1814 [00:00<?, ?it/s]",
      "application/vnd.jupyter.widget-view+json": {
       "version_major": 2,
       "version_minor": 0,
       "model_id": "69851d6c600140319ac51732af0cccc6"
      }
     },
     "metadata": {},
     "output_type": "display_data"
    },
    {
     "name": "stdout",
     "output_type": "stream",
     "text": [
      "../Data/Articles/CNNArticles\\Singapore.csv\n"
     ]
    },
    {
     "data": {
      "text/plain": "Processing Singapore:   0%|          | 0/4583 [00:00<?, ?it/s]",
      "application/vnd.jupyter.widget-view+json": {
       "version_major": 2,
       "version_minor": 0,
       "model_id": "01d80542764e407584ccc65a4c42e3a5"
      }
     },
     "metadata": {},
     "output_type": "display_data"
    },
    {
     "name": "stdout",
     "output_type": "stream",
     "text": [
      "../Data/Articles/CNNArticles\\SouthKorea.csv\n"
     ]
    },
    {
     "data": {
      "text/plain": "Processing SouthKorea:   0%|          | 0/8182 [00:00<?, ?it/s]",
      "application/vnd.jupyter.widget-view+json": {
       "version_major": 2,
       "version_minor": 0,
       "model_id": "e66b7b02b6944e618404e80b03ee5357"
      }
     },
     "metadata": {},
     "output_type": "display_data"
    },
    {
     "name": "stdout",
     "output_type": "stream",
     "text": [
      "../Data/Articles/CNNArticles\\Spain.csv\n"
     ]
    },
    {
     "data": {
      "text/plain": "Processing Spain:   0%|          | 0/6145 [00:00<?, ?it/s]",
      "application/vnd.jupyter.widget-view+json": {
       "version_major": 2,
       "version_minor": 0,
       "model_id": "978f55ce8ec24c85b24172fa88b0b7d8"
      }
     },
     "metadata": {},
     "output_type": "display_data"
    },
    {
     "name": "stdout",
     "output_type": "stream",
     "text": [
      "../Data/Articles/CNNArticles\\Sweden.csv\n"
     ]
    },
    {
     "data": {
      "text/plain": "Processing Sweden:   0%|          | 0/3236 [00:00<?, ?it/s]",
      "application/vnd.jupyter.widget-view+json": {
       "version_major": 2,
       "version_minor": 0,
       "model_id": "88810190896046a9b2a43d34c538ae46"
      }
     },
     "metadata": {},
     "output_type": "display_data"
    },
    {
     "name": "stdout",
     "output_type": "stream",
     "text": [
      "../Data/Articles/CNNArticles\\Switzerland.csv\n"
     ]
    },
    {
     "data": {
      "text/plain": "Processing Switzerland:   0%|          | 0/3885 [00:00<?, ?it/s]",
      "application/vnd.jupyter.widget-view+json": {
       "version_major": 2,
       "version_minor": 0,
       "model_id": "c9f1207018124ba9be53dc67fc4db117"
      }
     },
     "metadata": {},
     "output_type": "display_data"
    },
    {
     "name": "stdout",
     "output_type": "stream",
     "text": [
      "../Data/Articles/CNNArticles\\UnitedKingdom.csv\n"
     ]
    },
    {
     "data": {
      "text/plain": "Processing UnitedKingdom:   0%|          | 0/1461 [00:00<?, ?it/s]",
      "application/vnd.jupyter.widget-view+json": {
       "version_major": 2,
       "version_minor": 0,
       "model_id": "067ee96e01434614b23849d8adc93683"
      }
     },
     "metadata": {},
     "output_type": "display_data"
    },
    {
     "name": "stdout",
     "output_type": "stream",
     "text": [
      "../Data/Articles/CNNArticles\\UnitedStates.csv\n"
     ]
    },
    {
     "data": {
      "text/plain": "Processing UnitedStates:   0%|          | 0/21656 [00:00<?, ?it/s]",
      "application/vnd.jupyter.widget-view+json": {
       "version_major": 2,
       "version_minor": 0,
       "model_id": "4d487bac891940eea53fc803b1ea4785"
      }
     },
     "metadata": {},
     "output_type": "display_data"
    }
   ],
   "source": [
    "lst_files = []\n",
    "\n",
    "Path = \"../Data/Articles/CNNArticles/*.csv\"\n",
    "\n",
    "for fname in glob.glob(Path):\n",
    "    lst_files.append(fname)\n",
    "\n",
    "lst_files = sorted(lst_files)\n",
    "\n",
    "# NER判定的阈值\n",
    "threshold = 0\n",
    "\n",
    "for file in lst_files:\n",
    "    file_name = os.path.basename(file)  # Get the file name from the full file path\n",
    "    country_name = os.path.splitext(file_name)[0]  # Remove the file extension\n",
    "\n",
    "    # 仅对单个国家的数据进行实体识别\n",
    "    # if country_name == \"China\":\n",
    "    # 对所有的未进行过NER的国家进行实体识别\n",
    "    if os.path.isfile('../Data/NER/count_3/CNN_NER/{0}.csv'.format(country_name)):\n",
    "        print(\"File already exists: {0}.csv\".format(country_name))\n",
    "    else:\n",
    "        print(file)\n",
    "        df = pd.read_csv(file)\n",
    "\n",
    "        if df.shape[0] != 0:\n",
    "            \n",
    "            df = nf.preprocess_dataframe(df)\n",
    "            \n",
    "            df, df_ner_results = nf.perform_ner_on_dataframe(df, country_name, country_aliases, threshold)\n",
    "\n",
    "\n",
    "            # Convert the list of relevant articles back to a DataFrame\n",
    "            df.to_csv(r'../Data/NER/count_3/CNN_NER/{0}.csv'.format(country_name))\n",
    "            df_ner_results.to_csv(r'../Data/NER/count_3/CNN_NER_Results/{0}.csv'.format(country_name))\n"
   ],
   "metadata": {
    "collapsed": false,
    "ExecuteTime": {
     "end_time": "2023-08-21T18:34:49.709272300Z",
     "start_time": "2023-08-21T17:14:22.296086200Z"
    }
   },
   "id": "d41e4037f0c8234b"
  },
  {
   "cell_type": "code",
   "execution_count": 1,
   "outputs": [],
   "source": [
    "def merge_and_save_csv(file1, file2):\n",
    "    \"\"\"\n",
    "    Merge two csv files, remove duplicates, and save the merged data to the first file.\n",
    "\n",
    "    Parameters:\n",
    "    - file1 (str): Path to the first csv file. The merged data will be saved to this file.\n",
    "    - file2 (str): Path to the second csv file.\n",
    "\n",
    "    Returns:\n",
    "    None\n",
    "    \"\"\"\n",
    "    \n",
    "    # 读取两个csv文件\n",
    "    df1 = pd.read_csv(file1)\n",
    "    df2 = pd.read_csv(file2)\n",
    "    \n",
    "    # 合并两个数据集\n",
    "    df = pd.concat([df1, df2], axis=0)\n",
    "    \n",
    "    # 去除重复部分\n",
    "    df.drop_duplicates(inplace=True)\n",
    "    \n",
    "    # 保存合并后的数据到第一个文件\n",
    "    df.to_csv(file1, index=False)\n",
    "\n",
    "# 使用方法：\n",
    "# merge_and_save_csv(\"../Data/CNNArticles/UnitedStates.csv\", \"../Data/CNNarticles/UnitedStates2.csv\")\n"
   ],
   "metadata": {
    "collapsed": false,
    "ExecuteTime": {
     "end_time": "2023-08-14T14:43:33.074837500Z",
     "start_time": "2023-08-14T14:43:33.060333600Z"
    }
   },
   "id": "efc15aa872812867"
  },
  {
   "cell_type": "code",
   "execution_count": 5,
   "outputs": [],
   "source": [
    "file1 = \"../Data/CNNArticles/China.csv\"\n",
    "file2 = \"../Data/CNNArticles/China3.csv\"\n",
    "merge_and_save_csv(file1, file2)"
   ],
   "metadata": {
    "collapsed": false,
    "ExecuteTime": {
     "end_time": "2023-08-14T14:45:41.126736200Z",
     "start_time": "2023-08-14T14:45:38.652904200Z"
    }
   },
   "id": "538e77d0b1286bb7"
  },
  {
   "cell_type": "code",
   "execution_count": 17,
   "outputs": [
    {
     "name": "stdout",
     "output_type": "stream",
     "text": [
      "Australia 8562\n",
      "Canada 9089\n",
      "China 15687\n",
      "Denmark 2206\n",
      "Finland 1827\n",
      "France 8895\n",
      "Germany 8634\n",
      "Italy 7506\n",
      "Japan 8589\n",
      "Netherlands 3774\n",
      "NewZealand 4492\n",
      "Norway 2515\n",
      "Portugal 1814\n",
      "Singapore 4583\n",
      "SouthKorea 8182\n",
      "Spain 6145\n",
      "Sweden 3236\n",
      "Switzerland 3885\n",
      "UnitedKingdom 1461\n",
      "UnitedStates 21656\n"
     ]
    }
   ],
   "source": [
    "# 读取所有国家数据, 然后输出所得新闻的数量\n",
    "lst_ner_files = []\n",
    "for fname in glob.glob(\"../Data/Articles/CNNArticles/*.csv\"):\n",
    "    lst_ner_files.append(fname)\n",
    "for file in lst_ner_files:\n",
    "    file_name = os.path.basename(file)  # Get the file name from the full file path\n",
    "    country_name = os.path.splitext(file_name)[0]  # Remove the file extension\n",
    "    df = pd.read_csv(file)\n",
    "    df = df.drop_duplicates(['Date', 'Headline'], keep='last')\n",
    "    print(country_name, df.shape[0])"
   ],
   "metadata": {
    "collapsed": false,
    "ExecuteTime": {
     "end_time": "2023-08-16T13:32:10.214451600Z",
     "start_time": "2023-08-16T13:32:00.765356500Z"
    }
   },
   "id": "6d462eb50b937641"
  },
  {
   "cell_type": "code",
   "execution_count": 4,
   "outputs": [
    {
     "name": "stdout",
     "output_type": "stream",
     "text": [
      "Australia 2016-05-05 2023-08-02\n",
      "Australia 569\n",
      "Canada 2016-12-12 2023-07-10\n",
      "Canada 332\n",
      "China 2012-12-17 2023-08-07\n",
      "China 812\n",
      "Denmark 2014-02-13 2023-01-03\n",
      "Denmark 15\n",
      "Finland 2013-08-14 2023-02-22\n",
      "Finland 12\n",
      "France 2019-06-10 2023-08-07\n",
      "France 150\n",
      "Germany 2017-07-28 2023-07-22\n",
      "Germany 82\n",
      "Italy 2014-01-29 2023-05-17\n",
      "Italy 71\n",
      "Japan 2016-11-18 2023-08-01\n",
      "Japan 390\n",
      "Netherlands 2011-11-09 2023-08-02\n",
      "Netherlands 54\n",
      "NewZealand 2011-10-04 2023-08-11\n",
      "NewZealand 287\n",
      "Norway 2012-05-03 2023-06-08\n",
      "Norway 22\n",
      "Portugal 2011-11-18 2023-05-24\n",
      "Portugal 20\n",
      "Singapore 2011-10-17 2023-08-04\n",
      "Singapore 234\n",
      "SouthKorea 2015-05-15 2023-02-09\n",
      "SouthKorea 13\n",
      "Spain 2012-02-10 2023-07-03\n",
      "Spain 56\n",
      "Sweden 2012-07-17 2023-03-16\n",
      "Sweden 12\n",
      "Switzerland 2011-10-24 2023-06-09\n",
      "Switzerland 52\n",
      "UnitedKingdom 2022-06-21 2023-08-11\n",
      "UnitedKingdom 96\n",
      "UnitedStates 2011-04-05 2023-08-13\n",
      "UnitedStates 2768\n"
     ]
    }
   ],
   "source": [
    "# 读取所有国家的实体识别后剩余的数据, 然后输出剩余数据的数量\n",
    "lst_ner_files = []\n",
    "for fname in glob.glob(\"../Data/NER/count_3/CNN_NER/*.csv\"):\n",
    "    lst_ner_files.append(fname)\n",
    "for file in lst_ner_files:\n",
    "    file_name = os.path.basename(file)  # Get the file name from the full file path\n",
    "    country_name = os.path.splitext(file_name)[0]  # Remove the file extension\n",
    "    df = pd.read_csv(file)\n",
    "    # df = df.drop_duplicates(['Date', 'Headline'], keep='last')\n",
    "    # 展示每个国家的第一个新闻的日期和最后一个新闻的日期\n",
    "    print(country_name, df['Date'].iloc[0], df['Date'].iloc[-1])\n",
    "    print(country_name, df.shape[0])\n"
   ],
   "metadata": {
    "collapsed": false,
    "ExecuteTime": {
     "end_time": "2023-08-21T18:40:59.043106600Z",
     "start_time": "2023-08-21T18:40:58.751670300Z"
    }
   },
   "id": "efda418d2f2b2647"
  },
  {
   "cell_type": "code",
   "execution_count": 31,
   "outputs": [
    {
     "name": "stdout",
     "output_type": "stream",
     "text": [
      "0       [{'entity': 'B-MISC', 'score': 0.9997494816780...\n",
      "1       [{'entity': 'B-MISC', 'score': 0.9992812275886...\n",
      "2       [{'entity': 'B-MISC', 'score': 0.9922473430633...\n",
      "3       [{'entity': 'B-MISC', 'score': 0.9936847090721...\n",
      "4       [{'entity': 'B-LOC', 'score': 0.99973839521408...\n",
      "                              ...                        \n",
      "3769    [{'entity': 'B-PER', 'score': 0.93637478351593...\n",
      "3770    [{'entity': 'B-ORG', 'score': 0.94311094284057...\n",
      "3771    [{'entity': 'B-LOC', 'score': 0.99974805116653...\n",
      "3772    [{'entity': 'B-LOC', 'score': 0.99981027841567...\n",
      "3773    [{'entity': 'B-LOC', 'score': 0.99936670064926...\n",
      "Name: NER, Length: 3774, dtype: object\n"
     ]
    }
   ],
   "source": [
    "# # 读取NER_Results数据, 然后输出所得新闻的数量\n",
    "# path = \"../Data/CNN_NER_Results/Netherlands.csv\"\n",
    "# df = pd.read_csv(path)\n",
    "# df['NER'] = df['NER'].apply(json.loads)\n",
    "# # 检查第一行的数据的NER列的第五行的数据\n",
    "# print(df[\"NER\"])\n"
   ],
   "metadata": {
    "collapsed": false,
    "ExecuteTime": {
     "end_time": "2023-08-12T17:28:30.523922100Z",
     "start_time": "2023-08-12T17:28:29.993562600Z"
    }
   },
   "id": "79105b93b6f503d6"
  },
  {
   "cell_type": "code",
   "execution_count": null,
   "outputs": [],
   "source": [],
   "metadata": {
    "collapsed": false
   },
   "id": "b9315c43d6d04c6f"
  }
 ],
 "metadata": {
  "kernelspec": {
   "display_name": "Python 3",
   "language": "python",
   "name": "python3"
  },
  "language_info": {
   "codemirror_mode": {
    "name": "ipython",
    "version": 2
   },
   "file_extension": ".py",
   "mimetype": "text/x-python",
   "name": "python",
   "nbconvert_exporter": "python",
   "pygments_lexer": "ipython2",
   "version": "2.7.6"
  }
 },
 "nbformat": 4,
 "nbformat_minor": 5
}
