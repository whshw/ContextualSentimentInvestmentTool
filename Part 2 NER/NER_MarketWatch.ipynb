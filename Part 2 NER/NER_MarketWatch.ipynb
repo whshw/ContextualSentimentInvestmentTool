{
 "cells": [
  {
   "cell_type": "code",
   "execution_count": 1,
   "metadata": {
    "collapsed": true,
    "ExecuteTime": {
     "end_time": "2023-08-21T18:54:05.190124Z",
     "start_time": "2023-08-21T18:54:02.494453600Z"
    }
   },
   "outputs": [],
   "source": [
    "import pandas as pd\n",
    "import glob\n",
    "import os\n",
    "import ner_functions as nf"
   ]
  },
  {
   "cell_type": "code",
   "execution_count": 2,
   "outputs": [],
   "source": [
    "# 定义一个字典储存每个国家的别名\n",
    "country_aliases = {\n",
    "\"United States\": [\"USA\", \"America\", \"US\", \"United States\", \"UnitedStates\"],\n",
    "\"Canada\": [\"Canada\", \"CA\"],\n",
    "\"United Kingdom\": [\"UK\", \"United Kingdom\", \"Britain\", \"England\", \"Scotland\", \"Wales\", \"Northern Ireland\", \"UnitedKingdom\"],\n",
    "\"Australia\": [\"Australia\", \"AU\", \"Aussie\"],\n",
    "\"China\": [\"China\", \"PRC\"],\n",
    "\"Denmark\": [\"Denmark\", \"DK\"],\n",
    "\"Finland\": [\"Finland\", \"FI\"],\n",
    "\"France\": [\"France\", \"French Republic\", \"FR\"],\n",
    "\"Germany\": [\"Germany\", \"DE\"],\n",
    "\"Japan\": [\"Japan\", \"JP\"],\n",
    "\"Italy\": [\"Italy\", \"Italian Republic\", \"IT\"],\n",
    "\"Netherlands\": [\"Netherlands\", \"Holland\", \"NL\"],\n",
    "\"Norway\": [\"Norway\", \"NO\"],\n",
    "\"Portugal\": [\"Portugal\", \"PT\"],\n",
    "\"Singapore\": [\"Singapore\", \"SG\"],\n",
    "\"South Korea\": [\"South Korea\", \"KR\", \"SouthKorea\"],\n",
    "\"Spain\": [\"Spain\", \"ES\"],\n",
    "\"Sweden\": [\"Sweden\", \"SE\"],\n",
    "\"Switzerland\": [\"Switzerland\", \"Swiss Confederation\", \"Swiss\", \"CH\"],\n",
    "\"New Zealand\": [\"New Zealand\", \"NZ\", \"NewZealand\"]\n",
    "}"
   ],
   "metadata": {
    "collapsed": false,
    "ExecuteTime": {
     "end_time": "2023-08-21T18:54:06.245416200Z",
     "start_time": "2023-08-21T18:54:06.226883700Z"
    }
   }
  },
  {
   "cell_type": "code",
   "execution_count": 3,
   "outputs": [
    {
     "name": "stdout",
     "output_type": "stream",
     "text": [
      "../Data/Articles/MWArticles\\Australia_articles.csv\n"
     ]
    },
    {
     "data": {
      "text/plain": "Processing Australia:   0%|          | 0/11105 [00:00<?, ?it/s]",
      "application/vnd.jupyter.widget-view+json": {
       "version_major": 2,
       "version_minor": 0,
       "model_id": "b364cd774ab7464bb829997d95139899"
      }
     },
     "metadata": {},
     "output_type": "display_data"
    },
    {
     "name": "stdout",
     "output_type": "stream",
     "text": [
      "../Data/Articles/MWArticles\\Canada_articles.csv\n"
     ]
    },
    {
     "data": {
      "text/plain": "Processing Canada:   0%|          | 0/12215 [00:00<?, ?it/s]",
      "application/vnd.jupyter.widget-view+json": {
       "version_major": 2,
       "version_minor": 0,
       "model_id": "f07d2584737b4e30b729979ed8f6c6cd"
      }
     },
     "metadata": {},
     "output_type": "display_data"
    },
    {
     "name": "stdout",
     "output_type": "stream",
     "text": [
      "../Data/Articles/MWArticles\\China_articles.csv\n"
     ]
    },
    {
     "data": {
      "text/plain": "Processing China:   0%|          | 0/59958 [00:00<?, ?it/s]",
      "application/vnd.jupyter.widget-view+json": {
       "version_major": 2,
       "version_minor": 0,
       "model_id": "f007e68360fe40f18e0760c248159e29"
      }
     },
     "metadata": {},
     "output_type": "display_data"
    },
    {
     "name": "stdout",
     "output_type": "stream",
     "text": [
      "../Data/Articles/MWArticles\\Denmark_articles.csv\n"
     ]
    },
    {
     "data": {
      "text/plain": "Processing Denmark:   0%|          | 0/1412 [00:00<?, ?it/s]",
      "application/vnd.jupyter.widget-view+json": {
       "version_major": 2,
       "version_minor": 0,
       "model_id": "4a66fc935ea04f23bb2285423262c407"
      }
     },
     "metadata": {},
     "output_type": "display_data"
    },
    {
     "name": "stdout",
     "output_type": "stream",
     "text": [
      "../Data/Articles/MWArticles\\Finland_articles.csv\n"
     ]
    },
    {
     "data": {
      "text/plain": "Processing Finland:   0%|          | 0/913 [00:00<?, ?it/s]",
      "application/vnd.jupyter.widget-view+json": {
       "version_major": 2,
       "version_minor": 0,
       "model_id": "1c1af199e37d47ce9cdf1b28eb42726d"
      }
     },
     "metadata": {},
     "output_type": "display_data"
    },
    {
     "name": "stdout",
     "output_type": "stream",
     "text": [
      "../Data/Articles/MWArticles\\France_articles.csv\n"
     ]
    },
    {
     "data": {
      "text/plain": "Processing France:   0%|          | 0/15104 [00:00<?, ?it/s]",
      "application/vnd.jupyter.widget-view+json": {
       "version_major": 2,
       "version_minor": 0,
       "model_id": "62327d549591490c814f9a2c7d40e34b"
      }
     },
     "metadata": {},
     "output_type": "display_data"
    },
    {
     "name": "stdout",
     "output_type": "stream",
     "text": [
      "../Data/Articles/MWArticles\\Germany_articles.csv\n"
     ]
    },
    {
     "data": {
      "text/plain": "Processing Germany:   0%|          | 0/15222 [00:00<?, ?it/s]",
      "application/vnd.jupyter.widget-view+json": {
       "version_major": 2,
       "version_minor": 0,
       "model_id": "02eb2c963b33448087e75a77cc19482b"
      }
     },
     "metadata": {},
     "output_type": "display_data"
    },
    {
     "name": "stdout",
     "output_type": "stream",
     "text": [
      "../Data/Articles/MWArticles\\Italy_articles.csv\n"
     ]
    },
    {
     "data": {
      "text/plain": "Processing Italy:   0%|          | 0/8363 [00:00<?, ?it/s]",
      "application/vnd.jupyter.widget-view+json": {
       "version_major": 2,
       "version_minor": 0,
       "model_id": "3d0a894960d74db2835b446a6aa7396f"
      }
     },
     "metadata": {},
     "output_type": "display_data"
    },
    {
     "name": "stdout",
     "output_type": "stream",
     "text": [
      "../Data/Articles/MWArticles\\Japan_articles.csv\n"
     ]
    },
    {
     "data": {
      "text/plain": "Processing Japan:   0%|          | 0/21052 [00:00<?, ?it/s]",
      "application/vnd.jupyter.widget-view+json": {
       "version_major": 2,
       "version_minor": 0,
       "model_id": "da5c073a44e64d3cb8a99f45c3fcc509"
      }
     },
     "metadata": {},
     "output_type": "display_data"
    },
    {
     "name": "stdout",
     "output_type": "stream",
     "text": [
      "../Data/Articles/MWArticles\\Netherlands_articles.csv\n"
     ]
    },
    {
     "data": {
      "text/plain": "Processing Netherlands:   0%|          | 0/2411 [00:00<?, ?it/s]",
      "application/vnd.jupyter.widget-view+json": {
       "version_major": 2,
       "version_minor": 0,
       "model_id": "2b5204522d44418b8f4462323cb74c01"
      }
     },
     "metadata": {},
     "output_type": "display_data"
    },
    {
     "name": "stdout",
     "output_type": "stream",
     "text": [
      "../Data/Articles/MWArticles\\New Zealand_articles.csv\n"
     ]
    },
    {
     "data": {
      "text/plain": "Processing New Zealand:   0%|          | 0/2971 [00:00<?, ?it/s]",
      "application/vnd.jupyter.widget-view+json": {
       "version_major": 2,
       "version_minor": 0,
       "model_id": "8534401aa81940c5bf989fcdd4a8e35d"
      }
     },
     "metadata": {},
     "output_type": "display_data"
    },
    {
     "name": "stdout",
     "output_type": "stream",
     "text": [
      "../Data/Articles/MWArticles\\Norway_articles.csv\n"
     ]
    },
    {
     "data": {
      "text/plain": "Processing Norway:   0%|          | 0/1916 [00:00<?, ?it/s]",
      "application/vnd.jupyter.widget-view+json": {
       "version_major": 2,
       "version_minor": 0,
       "model_id": "42d4789f600942b2b9950e55d71f851d"
      }
     },
     "metadata": {},
     "output_type": "display_data"
    },
    {
     "name": "stdout",
     "output_type": "stream",
     "text": [
      "../Data/Articles/MWArticles\\Portugal_articles.csv\n"
     ]
    },
    {
     "data": {
      "text/plain": "Processing Portugal:   0%|          | 0/1628 [00:00<?, ?it/s]",
      "application/vnd.jupyter.widget-view+json": {
       "version_major": 2,
       "version_minor": 0,
       "model_id": "3826da32d5ad4452a1c93fafbceae45d"
      }
     },
     "metadata": {},
     "output_type": "display_data"
    },
    {
     "name": "stdout",
     "output_type": "stream",
     "text": [
      "../Data/Articles/MWArticles\\Singapore_articles.csv\n"
     ]
    },
    {
     "data": {
      "text/plain": "Processing Singapore:   0%|          | 0/4750 [00:00<?, ?it/s]",
      "application/vnd.jupyter.widget-view+json": {
       "version_major": 2,
       "version_minor": 0,
       "model_id": "85c34327f26841498afd90ca947ff377"
      }
     },
     "metadata": {},
     "output_type": "display_data"
    },
    {
     "name": "stdout",
     "output_type": "stream",
     "text": [
      "../Data/Articles/MWArticles\\South Korea_articles.csv\n"
     ]
    },
    {
     "data": {
      "text/plain": "Processing South Korea:   0%|          | 0/7235 [00:00<?, ?it/s]",
      "application/vnd.jupyter.widget-view+json": {
       "version_major": 2,
       "version_minor": 0,
       "model_id": "b2f798bcbb914113a92bbb791e6af542"
      }
     },
     "metadata": {},
     "output_type": "display_data"
    },
    {
     "name": "stdout",
     "output_type": "stream",
     "text": [
      "../Data/Articles/MWArticles\\Spain_articles.csv\n"
     ]
    },
    {
     "data": {
      "text/plain": "Processing Spain:   0%|          | 0/8323 [00:00<?, ?it/s]",
      "application/vnd.jupyter.widget-view+json": {
       "version_major": 2,
       "version_minor": 0,
       "model_id": "8d8c7c2a5e9e4fdca6cac8a4486e446d"
      }
     },
     "metadata": {},
     "output_type": "display_data"
    },
    {
     "name": "stdout",
     "output_type": "stream",
     "text": [
      "../Data/Articles/MWArticles\\Sweden_articles.csv\n"
     ]
    },
    {
     "data": {
      "text/plain": "Processing Sweden:   0%|          | 0/2097 [00:00<?, ?it/s]",
      "application/vnd.jupyter.widget-view+json": {
       "version_major": 2,
       "version_minor": 0,
       "model_id": "1118e020b9444150b71b388061494a61"
      }
     },
     "metadata": {},
     "output_type": "display_data"
    },
    {
     "name": "stdout",
     "output_type": "stream",
     "text": [
      "../Data/Articles/MWArticles\\Switzerland_articles.csv\n"
     ]
    },
    {
     "data": {
      "text/plain": "Processing Switzerland:   0%|          | 0/3092 [00:00<?, ?it/s]",
      "application/vnd.jupyter.widget-view+json": {
       "version_major": 2,
       "version_minor": 0,
       "model_id": "58ee2a74d16c4e82bac90c5ac711ffc1"
      }
     },
     "metadata": {},
     "output_type": "display_data"
    },
    {
     "name": "stdout",
     "output_type": "stream",
     "text": [
      "../Data/Articles/MWArticles\\United Kingdom_articles.csv\n"
     ]
    },
    {
     "data": {
      "text/plain": "Processing United Kingdom:   0%|          | 0/2939 [00:00<?, ?it/s]",
      "application/vnd.jupyter.widget-view+json": {
       "version_major": 2,
       "version_minor": 0,
       "model_id": "bd50b8ffb5cc4f70afab66f264e4e623"
      }
     },
     "metadata": {},
     "output_type": "display_data"
    },
    {
     "name": "stdout",
     "output_type": "stream",
     "text": [
      "../Data/Articles/MWArticles\\United States_articles.csv\n"
     ]
    },
    {
     "data": {
      "text/plain": "Processing United States:   0%|          | 0/21938 [00:00<?, ?it/s]",
      "application/vnd.jupyter.widget-view+json": {
       "version_major": 2,
       "version_minor": 0,
       "model_id": "213c436eb17747d8b565cdc81dffb17d"
      }
     },
     "metadata": {},
     "output_type": "display_data"
    }
   ],
   "source": [
    "lst_files = []\n",
    "\n",
    "Path = \"../Data/Articles/MWArticles/*.csv\"\n",
    "\n",
    "for fname in glob.glob(Path):\n",
    "    lst_files.append(fname)\n",
    "\n",
    "lst_files = sorted(lst_files)\n",
    "\n",
    "# NER判定的阈值\n",
    "threshold = 0\n",
    "\n",
    "for file in lst_files:\n",
    "    file_name = os.path.basename(file)  # Get the file name from the full file path\n",
    "    country_name = os.path.splitext(file_name)[0]  # Remove the file extension\n",
    "    country_name = country_name.replace(\"_articles\", \"\")  # Remove the \"_articles\" part of the file name\n",
    "\n",
    "\n",
    "    # 仅对单个国家的数据进行实体识别\n",
    "    # if country_name == \"China\":\n",
    "    # 对所有的未进行过NER的国家进行实体识别\n",
    "    if os.path.isfile('../Data/count_3/MW_NER/{0}.csv'.format(country_name)):\n",
    "        print(\"File already exists: {0}.csv\".format(country_name))\n",
    "    else:\n",
    "        print(file)\n",
    "        df = pd.read_csv(file)\n",
    "\n",
    "        if df.shape[0] != 0:\n",
    "            df = nf.preprocess_dataframe(df, use_parse=True)\n",
    "\n",
    "            df, df_ner_results = nf.perform_ner_on_dataframe(df, country_name, country_aliases, threshold)\n",
    "\n",
    "            # Convert the list of relevant articles back to a DataFrame\n",
    "            df.to_csv(r'../Data/NER/count_3/MW_NER/{0}.csv'.format(country_name))\n",
    "            df_ner_results.to_csv(r'../Data/NER/count_3/MW_NER_Results/{0}.csv'.format(country_name))"
   ],
   "metadata": {
    "collapsed": false,
    "ExecuteTime": {
     "end_time": "2023-08-21T20:43:44.483416300Z",
     "start_time": "2023-08-21T18:54:54.580327900Z"
    }
   }
  },
  {
   "cell_type": "code",
   "execution_count": 5,
   "outputs": [
    {
     "name": "stdout",
     "output_type": "stream",
     "text": [
      "Australia 2108\n",
      "Canada 1111\n",
      "China 5317\n",
      "Denmark 12\n",
      "Finland 15\n",
      "France 786\n",
      "Germany 118\n",
      "Italy 101\n",
      "Japan 2751\n",
      "Netherlands 53\n",
      "New Zealand 467\n",
      "Norway 51\n",
      "Portugal 60\n",
      "Singapore 401\n",
      "South Korea 14\n",
      "Spain 107\n",
      "Sweden 68\n",
      "Switzerland 200\n",
      "United Kingdom 122\n",
      "United States 1508\n"
     ]
    }
   ],
   "source": [
    "# 读取所有国家的实体识别后剩余的数据, 然后输出剩余数据的数量\n",
    "lst_ner_files = []\n",
    "for fname in glob.glob(\"../Data/NER/count_3/MW_NER/*.csv\"):\n",
    "    lst_ner_files.append(fname)\n",
    "for file in lst_ner_files:\n",
    "    file_name = os.path.basename(file)  # Get the file name from the full file path\n",
    "    country_name = os.path.splitext(file_name)[0]  # Remove the file extension\n",
    "    df = pd.read_csv(file)\n",
    "    print(country_name, df.shape[0])"
   ],
   "metadata": {
    "collapsed": false,
    "ExecuteTime": {
     "end_time": "2023-08-21T20:49:20.400872500Z",
     "start_time": "2023-08-21T20:49:20.014286900Z"
    }
   }
  },
  {
   "cell_type": "code",
   "execution_count": 4,
   "outputs": [
    {
     "name": "stdout",
     "output_type": "stream",
     "text": [
      "../Data/countries_integration/Denmark_articles.csv\n"
     ]
    },
    {
     "data": {
      "text/plain": "Processing Denmark:   0%|          | 0/1412 [00:00<?, ?it/s]",
      "application/vnd.jupyter.widget-view+json": {
       "version_major": 2,
       "version_minor": 0,
       "model_id": "3f30c31ddbb7465ab032816cd845d3a5"
      }
     },
     "metadata": {},
     "output_type": "display_data"
    }
   ],
   "source": [
    "def process_single_article(text, country_name):\n",
    "    ner_results = nlp(text)\n",
    "    country_instances = [d for d in ner_results if (d['entity'] in \"B-ORG\") and (d['word'] in country_name) and (d['score'] > 0.98)]\n",
    "    return len(country_instances)"
   ],
   "metadata": {
    "collapsed": false,
    "ExecuteTime": {
     "start_time": "2023-07-25T13:33:44.315833Z"
    }
   }
  },
  {
   "cell_type": "code",
   "execution_count": 6,
   "outputs": [
    {
     "name": "stdout",
     "output_type": "stream",
     "text": [
      "1412\n",
      "839\n"
     ]
    }
   ],
   "source": [
    "# Find all csv files in the path\n",
    "csv_files = glob.glob('../Data/countries_integration/*.csv')\n",
    "\n",
    "# Sort the file names\n",
    "csv_files = sorted(csv_files)\n",
    "\n",
    "# Read the first csv file\n",
    "df = pd.read_csv(csv_files[0])\n",
    "\n",
    "# Get the first row of the DataFrame\n",
    "first_row = df.iloc[43]\n",
    "\n",
    "# Extract the 'Date', 'Headline' and 'Text' columns\n",
    "date = first_row['Date']\n",
    "headline = first_row['Headline']\n",
    "text = first_row['Text']"
   ],
   "metadata": {
    "collapsed": false,
    "ExecuteTime": {
     "start_time": "2023-07-25T13:38:34.826715Z"
    }
   }
  },
  {
   "cell_type": "code",
   "execution_count": 10,
   "outputs": [
    {
     "data": {
      "text/plain": "[{'entity': 'B-ORG',\n  'score': 0.9932053,\n  'index': 1,\n  'word': 'AN',\n  'start': 0,\n  'end': 2},\n {'entity': 'I-ORG',\n  'score': 0.992149,\n  'index': 2,\n  'word': '##Z',\n  'start': 2,\n  'end': 3},\n {'entity': 'B-ORG',\n  'score': 0.99892753,\n  'index': 4,\n  'word': 'RB',\n  'start': 9,\n  'end': 11},\n {'entity': 'I-ORG',\n  'score': 0.9988914,\n  'index': 5,\n  'word': '##A',\n  'start': 11,\n  'end': 12},\n {'entity': 'B-ORG',\n  'score': 0.9988292,\n  'index': 20,\n  'word': 'Australia',\n  'start': 56,\n  'end': 65},\n {'entity': 'I-ORG',\n  'score': 0.99927264,\n  'index': 21,\n  'word': '&',\n  'start': 66,\n  'end': 67},\n {'entity': 'I-ORG',\n  'score': 0.9993352,\n  'index': 22,\n  'word': 'New',\n  'start': 68,\n  'end': 71},\n {'entity': 'I-ORG',\n  'score': 0.9992262,\n  'index': 23,\n  'word': 'Zealand',\n  'start': 72,\n  'end': 79},\n {'entity': 'I-ORG',\n  'score': 0.999316,\n  'index': 24,\n  'word': 'Banking',\n  'start': 80,\n  'end': 87},\n {'entity': 'I-ORG',\n  'score': 0.99929905,\n  'index': 25,\n  'word': 'Group',\n  'start': 88,\n  'end': 93},\n {'entity': 'I-ORG',\n  'score': 0.99907744,\n  'index': 26,\n  'word': 'Ltd',\n  'start': 94,\n  'end': 97},\n {'entity': 'B-ORG',\n  'score': 0.99583226,\n  'index': 29,\n  'word': 'AN',\n  'start': 100,\n  'end': 102},\n {'entity': 'I-ORG',\n  'score': 0.98822916,\n  'index': 30,\n  'word': '##Z',\n  'start': 102,\n  'end': 103},\n {'entity': 'I-ORG',\n  'score': 0.5856561,\n  'index': 31,\n  'word': '.',\n  'start': 103,\n  'end': 104},\n {'entity': 'I-ORG',\n  'score': 0.99690634,\n  'index': 32,\n  'word': 'AU',\n  'start': 104,\n  'end': 106},\n {'entity': 'B-MISC',\n  'score': 0.9997466,\n  'index': 38,\n  'word': 'Australian',\n  'start': 133,\n  'end': 143},\n {'entity': 'B-LOC',\n  'score': 0.9997409,\n  'index': 65,\n  'word': 'Australia',\n  'start': 273,\n  'end': 282},\n {'entity': 'B-ORG',\n  'score': 0.99879766,\n  'index': 78,\n  'word': 'Reserve',\n  'start': 336,\n  'end': 343},\n {'entity': 'I-ORG',\n  'score': 0.9993382,\n  'index': 79,\n  'word': 'Bank',\n  'start': 344,\n  'end': 348},\n {'entity': 'I-ORG',\n  'score': 0.9992987,\n  'index': 80,\n  'word': 'of',\n  'start': 349,\n  'end': 351},\n {'entity': 'I-ORG',\n  'score': 0.99930394,\n  'index': 81,\n  'word': 'Australia',\n  'start': 352,\n  'end': 361},\n {'entity': 'B-MISC',\n  'score': 0.9997414,\n  'index': 114,\n  'word': 'Australian',\n  'start': 491,\n  'end': 501},\n {'entity': 'B-ORG',\n  'score': 0.9984345,\n  'index': 126,\n  'word': 'RB',\n  'start': 553,\n  'end': 555},\n {'entity': 'I-ORG',\n  'score': 0.9982514,\n  'index': 127,\n  'word': '##A',\n  'start': 555,\n  'end': 556},\n {'entity': 'B-ORG',\n  'score': 0.9973816,\n  'index': 169,\n  'word': 'AN',\n  'start': 770,\n  'end': 772},\n {'entity': 'I-ORG',\n  'score': 0.99851054,\n  'index': 170,\n  'word': '##Z',\n  'start': 772,\n  'end': 773},\n {'entity': 'B-LOC',\n  'score': 0.9995554,\n  'index': 184,\n  'word': 'Australia',\n  'start': 835,\n  'end': 844},\n {'entity': 'B-ORG',\n  'score': 0.9981427,\n  'index': 235,\n  'word': 'RB',\n  'start': 1089,\n  'end': 1091},\n {'entity': 'I-ORG',\n  'score': 0.9981115,\n  'index': 236,\n  'word': '##A',\n  'start': 1091,\n  'end': 1092},\n {'entity': 'B-ORG',\n  'score': 0.9991461,\n  'index': 291,\n  'word': 'Goldman',\n  'start': 1392,\n  'end': 1399},\n {'entity': 'I-ORG',\n  'score': 0.99940324,\n  'index': 292,\n  'word': 'Sachs',\n  'start': 1400,\n  'end': 1405},\n {'entity': 'I-ORG',\n  'score': 0.99936825,\n  'index': 293,\n  'word': 'Group',\n  'start': 1406,\n  'end': 1411},\n {'entity': 'I-ORG',\n  'score': 0.99941456,\n  'index': 294,\n  'word': 'Inc',\n  'start': 1412,\n  'end': 1415},\n {'entity': 'B-ORG',\n  'score': 0.98708224,\n  'index': 299,\n  'word': 'G',\n  'start': 1420,\n  'end': 1421},\n {'entity': 'I-ORG',\n  'score': 0.913189,\n  'index': 300,\n  'word': '##S',\n  'start': 1421,\n  'end': 1422},\n {'entity': 'B-PER',\n  'score': 0.99957937,\n  'index': 307,\n  'word': 'Tim',\n  'start': 1450,\n  'end': 1453},\n {'entity': 'I-PER',\n  'score': 0.99967384,\n  'index': 308,\n  'word': 'Too',\n  'start': 1454,\n  'end': 1457},\n {'entity': 'I-PER',\n  'score': 0.9991948,\n  'index': 309,\n  'word': '##hey',\n  'start': 1457,\n  'end': 1460},\n {'entity': 'B-MISC',\n  'score': 0.99970394,\n  'index': 335,\n  'word': 'Australian',\n  'start': 1563,\n  'end': 1573},\n {'entity': 'B-ORG',\n  'score': 0.99665314,\n  'index': 364,\n  'word': 'AN',\n  'start': 1748,\n  'end': 1750},\n {'entity': 'I-ORG',\n  'score': 0.9985342,\n  'index': 365,\n  'word': '##Z',\n  'start': 1750,\n  'end': 1751},\n {'entity': 'B-PER',\n  'score': 0.9965178,\n  'index': 371,\n  'word': 'Caroline',\n  'start': 1766,\n  'end': 1774},\n {'entity': 'I-PER',\n  'score': 0.99918824,\n  'index': 372,\n  'word': 'He',\n  'start': 1775,\n  'end': 1777},\n {'entity': 'I-PER',\n  'score': 0.8371813,\n  'index': 373,\n  'word': '##ns',\n  'start': 1777,\n  'end': 1779},\n {'entity': 'I-PER',\n  'score': 0.9167949,\n  'index': 374,\n  'word': '##haw',\n  'start': 1779,\n  'end': 1782}]"
     },
     "execution_count": 10,
     "metadata": {},
     "output_type": "execute_result"
    }
   ],
   "source": [
    "ner_results"
   ],
   "metadata": {
    "collapsed": false,
    "ExecuteTime": {
     "end_time": "2023-07-22T16:17:52.976153Z",
     "start_time": "2023-07-22T16:17:52.970590Z"
    }
   }
  },
  {
   "cell_type": "code",
   "execution_count": null,
   "outputs": [],
   "source": [],
   "metadata": {
    "collapsed": false
   }
  }
 ],
 "metadata": {
  "kernelspec": {
   "display_name": "Python 3",
   "language": "python",
   "name": "python3"
  },
  "language_info": {
   "codemirror_mode": {
    "name": "ipython",
    "version": 2
   },
   "file_extension": ".py",
   "mimetype": "text/x-python",
   "name": "python",
   "nbconvert_exporter": "python",
   "pygments_lexer": "ipython2",
   "version": "2.7.6"
  }
 },
 "nbformat": 4,
 "nbformat_minor": 0
}
