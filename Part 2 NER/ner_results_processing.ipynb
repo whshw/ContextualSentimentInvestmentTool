{
 "cells": [
  {
   "cell_type": "code",
   "execution_count": 1,
   "id": "initial_id",
   "metadata": {
    "collapsed": true,
    "ExecuteTime": {
     "end_time": "2023-08-25T13:07:28.370188100Z",
     "start_time": "2023-08-25T13:07:27.802195300Z"
    }
   },
   "outputs": [],
   "source": [
    "# 导入库\n",
    "import numpy as np\n",
    "import pandas as pd\n",
    "import matplotlib.pyplot as plt\n",
    "\n",
    "import re\n",
    "import glob\n",
    "import json"
   ]
  },
  {
   "cell_type": "markdown",
   "source": [
    "## 定义了一些函数"
   ],
   "metadata": {
    "collapsed": false
   },
   "id": "a222a01d2808126d"
  },
  {
   "cell_type": "code",
   "execution_count": 28,
   "outputs": [],
   "source": [
    "import pandas as pd\n",
    "\n",
    "def extract_ner_entities(df):\n",
    "    \"\"\"\n",
    "    Extract named entities, their types, words, and scores from the NER column of the dataframe.\n",
    "    \n",
    "    Parameters:\n",
    "    - df (pd.DataFrame): DataFrame containing the 'NER_parsed' column with the NER results.\n",
    "\n",
    "    Returns:\n",
    "    - entities_df (pd.DataFrame): DataFrame with extracted entities, their types, words, and scores.\n",
    "    \"\"\"\n",
    "    \n",
    "    entities = []\n",
    "    entity_words = []\n",
    "    scores = []\n",
    "\n",
    "    for ner_list in df['NER'].apply(json.loads):\n",
    "        for ner in ner_list:\n",
    "            entities.append(ner['entity'])\n",
    "            entity_words.append(ner['word'])\n",
    "            scores.append(ner['score'])\n",
    "\n",
    "    entities_df = pd.DataFrame({\n",
    "        'Entity_Type': entities,\n",
    "        'Entity_Word': entity_words,\n",
    "        'Score': scores\n",
    "    })\n",
    "\n",
    "    return entities_df\n",
    "\n",
    "def process_entities(ner_results):\n",
    "    entities = [{'word': d['Entity_Word'], 'entity': d['Entity_Type'], 'score': d['Score']} for index, d in ner_results.iterrows()]\n",
    "    processed_entities = []\n",
    "    current_entity = []\n",
    "    for entity in entities:\n",
    "        if entity['entity'].startswith('B-') or (entity['entity'].startswith('I-') and not current_entity):\n",
    "            if current_entity:\n",
    "                processed_entities.append(current_entity)\n",
    "            current_entity = [entity]\n",
    "        elif entity['entity'].startswith('I-') and current_entity:\n",
    "            current_entity.append(entity)\n",
    "    if current_entity:\n",
    "        processed_entities.append(current_entity)\n",
    "\n",
    "    return processed_entities\n",
    "\n",
    "# Example usage:\n",
    "# extracted_df = extract_ner_entities(australia_data)\n",
    "# processed_results = process_entities(extracted_df)\n",
    "# for entity_group in processed_results:\n",
    "#     print(entity_group)\n",
    "\n",
    "\n",
    "def text_display(text):\n",
    "    sentences = re.split(r'(?<!\\w\\.\\w.)(?<![A-Z][a-z]\\.)(?<=\\.|\\?)\\s', text)\n",
    "\n",
    "    # Displaying each sentence on a new line for clarity\n",
    "    displayed_text = \"\\n\\n\".join(sentences)\n",
    "    print(displayed_text)"
   ],
   "metadata": {
    "collapsed": false,
    "ExecuteTime": {
     "end_time": "2023-08-25T13:42:57.377412900Z",
     "start_time": "2023-08-25T13:42:57.365347700Z"
    }
   },
   "id": "469b96f29c654648"
  },
  {
   "cell_type": "markdown",
   "source": [
    "# CNN NER结果分析"
   ],
   "metadata": {
    "collapsed": false
   },
   "id": "945355b247f0e058"
  },
  {
   "cell_type": "code",
   "execution_count": 57,
   "outputs": [],
   "source": [
    "# 读取数据\n",
    "cnn_articles_path = '../Data/Articles/CNNArticles/*.csv'\n",
    "cnn_ner_path = '../Data/NER/count_3/CNN_NER_Results/*.csv'\n",
    "\n",
    "lst_files = []\n",
    "for fname in glob.glob(cnn_ner_path):\n",
    "    lst_files.append(fname)\n",
    "\n",
    "lst_files = sorted(lst_files)\n",
    "\n",
    "lst_files_articles = []\n",
    "\n",
    "for fname in glob.glob(cnn_articles_path):\n",
    "    lst_files_articles.append(fname)\n",
    "\n",
    "lst_files_articles = sorted(lst_files_articles)\n",
    "\n",
    "all_selected_articles = []\n",
    "# 读取数据\n",
    "for i in range(1, 2):\n",
    "    file_ner = lst_files[i]\n",
    "    file_articles = lst_files_articles[i]\n",
    "    \n",
    "    df = pd.read_csv(file_ner, index_col=0)\n",
    "    df_articles = pd.read_csv(file_articles, index_col=0)\n",
    "    # 读取文件大小，随机抽选20篇文章\n",
    "    # Randomly select 20 articles (rows) from the DataFrame\n",
    "    selected_articles = df.sample(n=20, replace=False) if len(df) >= 20 else df\n",
    "    \n",
    "    for index, row in selected_articles.iterrows():\n",
    "        if row['Headline'] in df_articles['Headline'].values:\n",
    "            selected_articles.loc[index, 'Text'] = df_articles[df_articles['Headline'] == row['Headline']]['Text'].values[0]\n",
    "    \n",
    "    # Append the selected articles to the list\n",
    "    all_selected_articles.append(selected_articles)\n",
    "\n",
    "# Concatenate all the selected articles into a single DataFrame\n",
    "combined_df = pd.concat(all_selected_articles, ignore_index=True)\n",
    "\n"
   ],
   "metadata": {
    "collapsed": false,
    "ExecuteTime": {
     "end_time": "2023-08-25T14:01:49.362847800Z",
     "start_time": "2023-08-25T14:01:48.185365800Z"
    }
   },
   "id": "3e7f1b41731ecb95"
  },
  {
   "cell_type": "code",
   "execution_count": 58,
   "outputs": [
    {
     "data": {
      "text/plain": "          Date                                           Headline  Count  \\\n0   2018-10-31  Trump claims he can defy Constitution and end ...      0   \n1   2018-05-25  2 men wanted after blast injures 15 people at ...      0   \n2   2021-11-09  Covid-19 drove deaths up 16% in OECD countries...      0   \n3   2020-05-08  A weak polar vortex will usher in record cold air      0   \n4   2022-04-19  The bags look like well-known chips or candies...      0   \n5   2018-03-02  Republican governor asks Trump to reconsider t...      0   \n6   2018-12-18  China is buying soybeans again, but Trump is s...      0   \n7   2018-02-13  How one tweet inspired 120 people to shovel sn...      0   \n8   2022-09-29  Myanmar court sentences Aung San Suu Kyi and A...      0   \n9   2017-08-09  U.S. sanctions 8 more Venezuelan leaders tied ...      0   \n10  2021-07-15  Wildfire smoke blankets the US from California...      0   \n11  2021-04-19  Faltering vaccine supplies in India is bad new...      0   \n12  2020-12-04  Chef cooks up incredible gourmet meals using h...      0   \n13  2020-02-18                        Pier 1 files for bankruptcy      0   \n14  2021-10-31  Aurora borealis may be hidden over mainland US...      0   \n15  2019-07-18  Alphabet's plans to track people in its 'smart...      0   \n16  2020-10-22  Why Trump? Why now? Behind Mexican President A...      0   \n17  2022-03-02                  March 1, 2022 Russia-Ukraine news      0   \n18  2021-09-22  UK Prime Minister Boris Johnson has played his...      0   \n19  2019-04-17  Bernie Sanders triggers Trump as he seeks to w...      0   \n\n                                                  NER  \\\n0   [{\"entity\": \"B-PER\", \"score\": 0.99924743175506...   \n1   [{\"entity\": \"B-LOC\", \"score\": 0.99959534406661...   \n2   [{\"entity\": \"B-MISC\", \"score\": 0.9694918990135...   \n3   [{\"entity\": \"B-LOC\", \"score\": 0.99911135435104...   \n4   [{\"entity\": \"B-MISC\", \"score\": 0.7330789566040...   \n5   [{\"entity\": \"B-MISC\", \"score\": 0.9997137188911...   \n6   [{\"entity\": \"B-LOC\", \"score\": 0.99981015920639...   \n7   [{\"entity\": \"B-LOC\", \"score\": 0.99961709976196...   \n8   [{\"entity\": \"B-LOC\", \"score\": 0.99960035085678...   \n9   [{\"entity\": \"B-LOC\", \"score\": 0.99926501512527...   \n10  [{\"entity\": \"B-LOC\", \"score\": 0.99896669387817...   \n11  [{\"entity\": \"B-LOC\", \"score\": 0.99979907274246...   \n12  [{\"entity\": \"B-MISC\", \"score\": 0.9997338652610...   \n13  [{\"entity\": \"B-ORG\", \"score\": 0.95457309484481...   \n14  [{\"entity\": \"B-MISC\", \"score\": 0.3467014729976...   \n15  [{\"entity\": \"B-ORG\", \"score\": 0.99898678064346...   \n16  [{\"entity\": \"B-PER\", \"score\": 0.99884700775146...   \n17  [{\"entity\": \"B-LOC\", \"score\": 0.99943643808364...   \n18  [{\"entity\": \"B-LOC\", \"score\": 0.99960845708847...   \n19  [{\"entity\": \"B-PER\", \"score\": 0.99959999322891...   \n\n                                                 Text  \n0   President Donald Trump offered a dramatic, if ...  \n1   A manhunt is on in Canada after two men detona...  \n2   The Covid-19 pandemic caused a 16% rise in exp...  \n3   A weak polar vortex will help usher in record ...  \n4   At first glance, it looks like a single servin...  \n5   Wisconsin's Republican governor says President...  \n6   President Donald Trump said Monday that he wou...  \n7   Jahmal Cole is a community organizer in Chatha...  \n8   A Myanmar military court has sentenced ousted ...  \n9   The Trump administration just got a little tou...  \n10  Large wildfires burning across the US will bla...  \n11  The world's biggest vaccine producer is runnin...  \n12  Fat fluffy pancakes straight off the clothes i...  \n13  Pier 1, the troubled home furnishings retailer...  \n14  Many Americans trying to catch a glimpse of th...  \n15  Alphabet's plans to develop a Toronto neighbor...  \n16  If you're not a close follower of US-Mexico re...  \n17  Our live coverage of Russia's invasion of Ukra...  \n18  British Prime Minister Boris Johnson was dealt...  \n19  Bernie Sanders guessed right. At a Fox News to...  ",
      "text/html": "<div>\n<style scoped>\n    .dataframe tbody tr th:only-of-type {\n        vertical-align: middle;\n    }\n\n    .dataframe tbody tr th {\n        vertical-align: top;\n    }\n\n    .dataframe thead th {\n        text-align: right;\n    }\n</style>\n<table border=\"1\" class=\"dataframe\">\n  <thead>\n    <tr style=\"text-align: right;\">\n      <th></th>\n      <th>Date</th>\n      <th>Headline</th>\n      <th>Count</th>\n      <th>NER</th>\n      <th>Text</th>\n    </tr>\n  </thead>\n  <tbody>\n    <tr>\n      <th>0</th>\n      <td>2018-10-31</td>\n      <td>Trump claims he can defy Constitution and end ...</td>\n      <td>0</td>\n      <td>[{\"entity\": \"B-PER\", \"score\": 0.99924743175506...</td>\n      <td>President Donald Trump offered a dramatic, if ...</td>\n    </tr>\n    <tr>\n      <th>1</th>\n      <td>2018-05-25</td>\n      <td>2 men wanted after blast injures 15 people at ...</td>\n      <td>0</td>\n      <td>[{\"entity\": \"B-LOC\", \"score\": 0.99959534406661...</td>\n      <td>A manhunt is on in Canada after two men detona...</td>\n    </tr>\n    <tr>\n      <th>2</th>\n      <td>2021-11-09</td>\n      <td>Covid-19 drove deaths up 16% in OECD countries...</td>\n      <td>0</td>\n      <td>[{\"entity\": \"B-MISC\", \"score\": 0.9694918990135...</td>\n      <td>The Covid-19 pandemic caused a 16% rise in exp...</td>\n    </tr>\n    <tr>\n      <th>3</th>\n      <td>2020-05-08</td>\n      <td>A weak polar vortex will usher in record cold air</td>\n      <td>0</td>\n      <td>[{\"entity\": \"B-LOC\", \"score\": 0.99911135435104...</td>\n      <td>A weak polar vortex will help usher in record ...</td>\n    </tr>\n    <tr>\n      <th>4</th>\n      <td>2022-04-19</td>\n      <td>The bags look like well-known chips or candies...</td>\n      <td>0</td>\n      <td>[{\"entity\": \"B-MISC\", \"score\": 0.7330789566040...</td>\n      <td>At first glance, it looks like a single servin...</td>\n    </tr>\n    <tr>\n      <th>5</th>\n      <td>2018-03-02</td>\n      <td>Republican governor asks Trump to reconsider t...</td>\n      <td>0</td>\n      <td>[{\"entity\": \"B-MISC\", \"score\": 0.9997137188911...</td>\n      <td>Wisconsin's Republican governor says President...</td>\n    </tr>\n    <tr>\n      <th>6</th>\n      <td>2018-12-18</td>\n      <td>China is buying soybeans again, but Trump is s...</td>\n      <td>0</td>\n      <td>[{\"entity\": \"B-LOC\", \"score\": 0.99981015920639...</td>\n      <td>President Donald Trump said Monday that he wou...</td>\n    </tr>\n    <tr>\n      <th>7</th>\n      <td>2018-02-13</td>\n      <td>How one tweet inspired 120 people to shovel sn...</td>\n      <td>0</td>\n      <td>[{\"entity\": \"B-LOC\", \"score\": 0.99961709976196...</td>\n      <td>Jahmal Cole is a community organizer in Chatha...</td>\n    </tr>\n    <tr>\n      <th>8</th>\n      <td>2022-09-29</td>\n      <td>Myanmar court sentences Aung San Suu Kyi and A...</td>\n      <td>0</td>\n      <td>[{\"entity\": \"B-LOC\", \"score\": 0.99960035085678...</td>\n      <td>A Myanmar military court has sentenced ousted ...</td>\n    </tr>\n    <tr>\n      <th>9</th>\n      <td>2017-08-09</td>\n      <td>U.S. sanctions 8 more Venezuelan leaders tied ...</td>\n      <td>0</td>\n      <td>[{\"entity\": \"B-LOC\", \"score\": 0.99926501512527...</td>\n      <td>The Trump administration just got a little tou...</td>\n    </tr>\n    <tr>\n      <th>10</th>\n      <td>2021-07-15</td>\n      <td>Wildfire smoke blankets the US from California...</td>\n      <td>0</td>\n      <td>[{\"entity\": \"B-LOC\", \"score\": 0.99896669387817...</td>\n      <td>Large wildfires burning across the US will bla...</td>\n    </tr>\n    <tr>\n      <th>11</th>\n      <td>2021-04-19</td>\n      <td>Faltering vaccine supplies in India is bad new...</td>\n      <td>0</td>\n      <td>[{\"entity\": \"B-LOC\", \"score\": 0.99979907274246...</td>\n      <td>The world's biggest vaccine producer is runnin...</td>\n    </tr>\n    <tr>\n      <th>12</th>\n      <td>2020-12-04</td>\n      <td>Chef cooks up incredible gourmet meals using h...</td>\n      <td>0</td>\n      <td>[{\"entity\": \"B-MISC\", \"score\": 0.9997338652610...</td>\n      <td>Fat fluffy pancakes straight off the clothes i...</td>\n    </tr>\n    <tr>\n      <th>13</th>\n      <td>2020-02-18</td>\n      <td>Pier 1 files for bankruptcy</td>\n      <td>0</td>\n      <td>[{\"entity\": \"B-ORG\", \"score\": 0.95457309484481...</td>\n      <td>Pier 1, the troubled home furnishings retailer...</td>\n    </tr>\n    <tr>\n      <th>14</th>\n      <td>2021-10-31</td>\n      <td>Aurora borealis may be hidden over mainland US...</td>\n      <td>0</td>\n      <td>[{\"entity\": \"B-MISC\", \"score\": 0.3467014729976...</td>\n      <td>Many Americans trying to catch a glimpse of th...</td>\n    </tr>\n    <tr>\n      <th>15</th>\n      <td>2019-07-18</td>\n      <td>Alphabet's plans to track people in its 'smart...</td>\n      <td>0</td>\n      <td>[{\"entity\": \"B-ORG\", \"score\": 0.99898678064346...</td>\n      <td>Alphabet's plans to develop a Toronto neighbor...</td>\n    </tr>\n    <tr>\n      <th>16</th>\n      <td>2020-10-22</td>\n      <td>Why Trump? Why now? Behind Mexican President A...</td>\n      <td>0</td>\n      <td>[{\"entity\": \"B-PER\", \"score\": 0.99884700775146...</td>\n      <td>If you're not a close follower of US-Mexico re...</td>\n    </tr>\n    <tr>\n      <th>17</th>\n      <td>2022-03-02</td>\n      <td>March 1, 2022 Russia-Ukraine news</td>\n      <td>0</td>\n      <td>[{\"entity\": \"B-LOC\", \"score\": 0.99943643808364...</td>\n      <td>Our live coverage of Russia's invasion of Ukra...</td>\n    </tr>\n    <tr>\n      <th>18</th>\n      <td>2021-09-22</td>\n      <td>UK Prime Minister Boris Johnson has played his...</td>\n      <td>0</td>\n      <td>[{\"entity\": \"B-LOC\", \"score\": 0.99960845708847...</td>\n      <td>British Prime Minister Boris Johnson was dealt...</td>\n    </tr>\n    <tr>\n      <th>19</th>\n      <td>2019-04-17</td>\n      <td>Bernie Sanders triggers Trump as he seeks to w...</td>\n      <td>0</td>\n      <td>[{\"entity\": \"B-PER\", \"score\": 0.99959999322891...</td>\n      <td>Bernie Sanders guessed right. At a Fox News to...</td>\n    </tr>\n  </tbody>\n</table>\n</div>"
     },
     "execution_count": 58,
     "metadata": {},
     "output_type": "execute_result"
    }
   ],
   "source": [
    "combined_df"
   ],
   "metadata": {
    "collapsed": false,
    "ExecuteTime": {
     "end_time": "2023-08-25T14:01:50.154496300Z",
     "start_time": "2023-08-25T14:01:50.096494800Z"
    }
   },
   "id": "2438d4bc613a6deb"
  },
  {
   "cell_type": "code",
   "execution_count": 59,
   "outputs": [
    {
     "name": "stdout",
     "output_type": "stream",
     "text": [
      "President Donald Trump offered a dramatic, if legally dubious, promise in a new interview to unilaterally end birthright citizenship, ratcheting up his hardline immigration rhetoric with a week to go before critical midterm elections.\n",
      "\n",
      "Trump's vow to end the right to citizenship for the children of non-citizens and unauthorized immigrants born on US soil came in an interview with Axios released Tuesday.\n",
      "\n",
      "Such a step would be regarded as an affront to the US Constitution, which was amended 150 years ago to include the words: \"All persons born or naturalized in the United States and subject to the jurisdiction thereof, are citizens of the United States.\" Trump did not say when he would sign the order, and some of his past promises to use executive action have gone unfulfilled.\n",
      "\n",
      "But whether the President follows through on his threat or not, the issue joins a string of actions intended to thrust the matter of immigration into the front of voters' minds as they head to polls next week.\n",
      "\n",
      "A day earlier, the President vowed in an interview on Fox News to construct tent cities to house migrants traveling through Mexico to the US southern border.\n",
      "\n",
      "His administration announced the deployment of 5,200 troops to protect the frontier as the \"caravan\" continues to advance -- though it is still weeks, if not months, from reaching the US border.\n",
      "\n",
      "And the President has warned of an \"invasion\" of undocumented immigrants if the border isn't sealed with a wall.\n",
      "\n",
      "Still, the threat of ending birthright citizenship amounts to another escalation in Trump's hardline approach to immigration, which has become his signature issue.\n",
      "\n",
      "\"We're the only country in the world where a person comes in, has a baby, and the baby is essentially a citizen of the United States for 85 years with all of those benefits,\" Trump said in an interview for \"Axios on HBO.\" Several other countries, including Canada, have a policy of birthright citizenship, according to an analysis by the Center for Immigration Studies, which advocates for reducing immigration.\n",
      "\n",
      "\"It's ridiculous.\n",
      "\n",
      "It's ridiculous.\n",
      "\n",
      "And it has to end,\" he continued.\n",
      "\n",
      "Already, even some of the President's defenders downplayed the prospects of successfully ending birthright citizenship by executive order.\n",
      "\n",
      "\"Well, you obviously cannot do that.\n",
      "\n",
      "You cannot end birthright citizenship with an executive order,\" House Speaker Paul Ryan told a Kentucky radio station.\n",
      "\n",
      "Ryan said it would involve a \"very, very lengthy\" constitutional process to change the 14th Amendment, which was adopted in 1868 to protect citizenship rights for freed slaves.\n",
      "\n",
      "The step would immediately be challenged in court.\n",
      "\n",
      "Some of Trump's previous immigration executive orders, including an attempt to bar entry to citizens from some Muslim-majority countries, came under legal scrutiny after a chaotic drafting process.\n",
      "\n",
      "At the same time, the President has derided his predecessor Barack Obama for taking executive actions to block some young undocumented immigrants from deportation, a step Trump said was a presidential overstep.\n",
      "\n",
      "The American Civil Liberties Union slammed Trump's proposal Tuesday morning.\n",
      "\n",
      "\"The President cannot erase the Constitution with an executive order, and the 14th Amendment's citizenship guarantee is clear,\" said Omar Jadwat, director of the ACLU's Immigrants' Rights Project.\n",
      "\n",
      "\"This is a transparent and blatantly unconstitutional attempt to sow division and fan the flames of anti-immigrant hatred in the days ahead of the midterms.\" Asked about Trump's promise on Tuesday, Sen.\n",
      "\n",
      "Mark Warner, D-Virginia, said the President has the \"right to raise that debate\" if he wants but \"this notion that he can simply violate the Constitution by executive order, let's face it, no serious legal scholar thinks that's real.\" \"This is simply an attempt for Donald Trump, who wants to do anything possible to bring back fears around immigration, to use that as a political tool in this last week before the election,\" Warner said.\n",
      "\n",
      "\"This is again, where a President's words matter.\n",
      "\n",
      "The Constitution is quite clear that no one, including the President of the United States, is above the law.\" The White House did not provide additional details of the planned executive order on Tuesday morning.\n",
      "\n",
      "\"It was always told to me that you needed a constitutional amendment.\n",
      "\n",
      "Guess what?\n",
      "\n",
      "You don't,\" he said, adding that he has run it by his counsel.\n",
      "\n",
      "\"You can definitely do it with an act of Congress.\n",
      "\n",
      "But now they're saying I can do it just with an executive order,\" Trump said.\n",
      "\n",
      "The President didn't provide any details of his plan, but said that \"it's in the process.\n",
      "\n",
      "It'll happen.\" The interview is a part of \"Axios on HBO,\" a new four-part documentary series debuting on HBO this Sunday, according to the news site.\n"
     ]
    }
   ],
   "source": [
    "num = 0\n",
    "text_display(combined_df['Text'].iloc[num])"
   ],
   "metadata": {
    "collapsed": false,
    "ExecuteTime": {
     "end_time": "2023-08-25T14:01:51.564379800Z",
     "start_time": "2023-08-25T14:01:51.556336400Z"
    }
   },
   "id": "9948fdc7ff382871"
  },
  {
   "cell_type": "code",
   "execution_count": 60,
   "outputs": [
    {
     "name": "stdout",
     "output_type": "stream",
     "text": [
      "B-PER: Trump\n",
      "B-ORG: Constitution\n",
      "B-PER: Donald Trump\n",
      "B-PER: Trump\n",
      "B-LOC: US\n",
      "B-PER: A\n",
      "B-PER: ##xi\n",
      "B-PER: ##os\n",
      "B-MISC: US Constitution\n",
      "B-LOC: United States\n",
      "B-LOC: United States\n",
      "B-PER: Trump\n",
      "B-ORG: Fox News\n",
      "B-LOC: Mexico\n",
      "B-LOC: US\n",
      "B-LOC: US\n",
      "B-PER: Trump\n",
      "B-LOC: United States\n",
      "B-PER: Trump\n",
      "B-ORG: HBO\n",
      "B-LOC: Canada\n",
      "B-ORG: Center\n",
      "B-ORG: House\n",
      "B-PER: Paul\n",
      "B-PER: Ryan\n",
      "B-LOC: Kentucky\n"
     ]
    }
   ],
   "source": [
    "extracted_df = extract_ner_entities(combined_df.iloc[num:num+1])\n",
    "processed_results = process_entities(extracted_df)\n",
    "\n",
    "for entity_group in processed_results:\n",
    "    entity_type = entity_group[0]['entity']\n",
    "    words = [entity['word'] for entity in entity_group]\n",
    "    entity_name = ' '.join(words)\n",
    "    print(f'{entity_type}: {entity_name}')"
   ],
   "metadata": {
    "collapsed": false,
    "ExecuteTime": {
     "end_time": "2023-08-25T14:01:52.193969600Z",
     "start_time": "2023-08-25T14:01:52.187028500Z"
    }
   },
   "id": "d330314b68b88f0b"
  },
  {
   "cell_type": "code",
   "execution_count": 53,
   "outputs": [
    {
     "data": {
      "text/plain": "pandas.core.series.Series"
     },
     "execution_count": 53,
     "metadata": {},
     "output_type": "execute_result"
    }
   ],
   "source": [
    "type(combined_df.iloc[0])"
   ],
   "metadata": {
    "collapsed": false,
    "ExecuteTime": {
     "end_time": "2023-08-25T13:58:39.540759900Z",
     "start_time": "2023-08-25T13:58:39.530423100Z"
    }
   },
   "id": "889115849451b0dc"
  },
  {
   "cell_type": "code",
   "execution_count": null,
   "outputs": [],
   "source": [],
   "metadata": {
    "collapsed": false
   },
   "id": "afbfa7bc222363a5"
  }
 ],
 "metadata": {
  "kernelspec": {
   "display_name": "Python 3",
   "language": "python",
   "name": "python3"
  },
  "language_info": {
   "codemirror_mode": {
    "name": "ipython",
    "version": 2
   },
   "file_extension": ".py",
   "mimetype": "text/x-python",
   "name": "python",
   "nbconvert_exporter": "python",
   "pygments_lexer": "ipython2",
   "version": "2.7.6"
  }
 },
 "nbformat": 4,
 "nbformat_minor": 5
}
