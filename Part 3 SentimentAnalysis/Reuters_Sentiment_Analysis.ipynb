{
 "cells": [
  {
   "cell_type": "code",
   "execution_count": 2,
   "metadata": {
    "collapsed": true,
    "ExecuteTime": {
     "end_time": "2023-08-15T17:14:11.965438100Z",
     "start_time": "2023-08-15T17:14:09.540473300Z"
    }
   },
   "outputs": [],
   "source": [
    "# 导入库\n",
    "import numpy as np\n",
    "import pandas as pd\n",
    "from   datetime import datetime\n",
    "from tqdm.notebook import tqdm\n",
    "import os\n",
    "import glob\n",
    "import pysentiment2 as ps\n",
    "import nltk\n",
    "from   nltk.sentiment.vader import SentimentIntensityAnalyzer\n",
    "from   IPython.core.display import HTML\n",
    "\n",
    "from transformers import pipeline\n",
    "from transformers import AutoTokenizer, AutoModelForSequenceClassification\n",
    "\n",
    "import torch"
   ]
  },
  {
   "cell_type": "code",
   "execution_count": 2,
   "outputs": [
    {
     "name": "stderr",
     "output_type": "stream",
     "text": [
      "[nltk_data] Downloading package vader_lexicon to\n",
      "[nltk_data]     C:\\Users\\WangH\\AppData\\Roaming\\nltk_data...\n",
      "[nltk_data]   Package vader_lexicon is already up-to-date!\n",
      "A matching Triton is not available, some optimizations will not be enabled.\n",
      "Error caught was: No module named 'triton'\n"
     ]
    }
   ],
   "source": [
    "## 设置情感分析工具\n",
    "\n",
    "# 下载Vader情感分析工具的词典\n",
    "nltk.download('vader_lexicon')\n",
    "# 初始化Loughran-McDonald情感分析模型\n",
    "lm    = ps.LM()\n",
    "# 初始化HIV-4情感分析模型\n",
    "hiv4  = ps.HIV4()\n",
    "# 初始化Vader情感分析模型\n",
    "vader = SentimentIntensityAnalyzer()\n",
    "\n",
    "# 如果有可用的第一块GPU则使用，否则使用CPU\n",
    "device = torch.device(\"cuda:0\" if torch.cuda.is_available() else \"cpu\")\n",
    "# device = torch.device(\"mps\"if torch.backends.mps.is_available()else \"cpu\")\n",
    "\n",
    "# 初始化FinBERT情感分析模型的tokenizer\n",
    "finbert_tokenizer  = AutoTokenizer.from_pretrained(\"ProsusAI/finbert\")\n",
    "# 从FinBERT预训练模型加载模型\n",
    "finbert_model      = AutoModelForSequenceClassification.from_pretrained(\"ProsusAI/finbert\")\n",
    "# 配置FinBERT情感分析模型的运行环境（GPU or CPU）\n",
    "finbert_classifier = pipeline(\"sentiment-analysis\", model = finbert_model, tokenizer = finbert_tokenizer, device = device)"
   ],
   "metadata": {
    "collapsed": false,
    "ExecuteTime": {
     "end_time": "2023-08-15T12:46:05.131189Z",
     "start_time": "2023-08-15T12:46:02.068619500Z"
    }
   }
  },
  {
   "cell_type": "code",
   "execution_count": 3,
   "outputs": [],
   "source": [
    "def sentimentAnalysisLMD(text):\n",
    "    tokens = lm.tokenize(text) #tokenize the text into relevant words in the LM dict\n",
    "    score = lm.get_score(tokens) #score dict seperates into: NEG, POS, POLARITY, SUBJECTIVITY\n",
    "    return score\n",
    "\n",
    "def sentimentAnalysisHIV4(text):\n",
    "    tokens = hiv4.tokenize(text)\n",
    "    score = hiv4.get_score(tokens)\n",
    "    return score\n",
    "\n",
    "def sentimentAnalysisVader(df):\n",
    "    df_vader = pd.DataFrame(df, columns=['Date', 'Text'])\n",
    "    scores = [vader.polarity_scores(text) for text in tqdm(df_vader['Text'], desc=\"Processing with VADER\")]\n",
    "    scores_vader = pd.DataFrame(scores).add_prefix(\"vader_\")\n",
    "    df_vader = df_vader.join(scores_vader, rsuffix='_right')\n",
    "    return df_vader['vader_compound']\n",
    "\n",
    "def sentimentAnalysisFinBert(df):\n",
    "    df_finbert = pd.DataFrame(df, columns=['Date', 'Text'])\n",
    "    score = []\n",
    "    for text in tqdm(df_finbert['Text'], desc=\"Processing with FinBERT\"):\n",
    "        classified = finbert_classifier(text, truncation=True)[0]\n",
    "        if classified['label'] == \"negative\":\n",
    "            score.append(classified['score']*(-1))\n",
    "        elif classified['label'] == \"positive\":\n",
    "            score.append(classified['score'])\n",
    "        else:\n",
    "            score.append(0)\n",
    "    return score"
   ],
   "metadata": {
    "collapsed": false,
    "ExecuteTime": {
     "end_time": "2023-08-15T12:46:05.152188200Z",
     "start_time": "2023-08-15T12:46:05.135187600Z"
    }
   }
  },
  {
   "cell_type": "code",
   "execution_count": 5,
   "outputs": [
    {
     "name": "stdout",
     "output_type": "stream",
     "text": [
      "../Data/NER/Reuters_NER\\Australia.csv\n"
     ]
    },
    {
     "data": {
      "text/plain": "Processing with LMD:   0%|          | 0/3606 [00:00<?, ?it/s]",
      "application/vnd.jupyter.widget-view+json": {
       "version_major": 2,
       "version_minor": 0,
       "model_id": "3bb4aac4c90b4be9ba003eb336ff7b11"
      }
     },
     "metadata": {},
     "output_type": "display_data"
    },
    {
     "data": {
      "text/plain": "Processing with HIV4:   0%|          | 0/3606 [00:00<?, ?it/s]",
      "application/vnd.jupyter.widget-view+json": {
       "version_major": 2,
       "version_minor": 0,
       "model_id": "ba744e3c773c461e8b345baf00797a9d"
      }
     },
     "metadata": {},
     "output_type": "display_data"
    },
    {
     "data": {
      "text/plain": "Processing with VADER:   0%|          | 0/3606 [00:00<?, ?it/s]",
      "application/vnd.jupyter.widget-view+json": {
       "version_major": 2,
       "version_minor": 0,
       "model_id": "c8a5c1accb6d486b91f2957892c87fe2"
      }
     },
     "metadata": {},
     "output_type": "display_data"
    },
    {
     "data": {
      "text/plain": "Processing with FinBERT:   0%|          | 0/3606 [00:00<?, ?it/s]",
      "application/vnd.jupyter.widget-view+json": {
       "version_major": 2,
       "version_minor": 0,
       "model_id": "2d95779e307a420993a2e9fba46045a4"
      }
     },
     "metadata": {},
     "output_type": "display_data"
    },
    {
     "name": "stderr",
     "output_type": "stream",
     "text": [
      "C:\\Users\\WangH\\anaconda3\\envs\\tensorflow\\lib\\site-packages\\transformers\\pipelines\\base.py:1080: UserWarning: You seem to be using the pipelines sequentially on GPU. In order to maximize efficiency please use a dataset\n",
      "  warnings.warn(\n"
     ]
    },
    {
     "name": "stdout",
     "output_type": "stream",
     "text": [
      "1\n",
      "../Data/NER/Reuters_NER\\Canada.csv\n"
     ]
    },
    {
     "data": {
      "text/plain": "Processing with LMD:   0%|          | 0/2587 [00:00<?, ?it/s]",
      "application/vnd.jupyter.widget-view+json": {
       "version_major": 2,
       "version_minor": 0,
       "model_id": "2991e3ed70b249a88b1e5f111bea4227"
      }
     },
     "metadata": {},
     "output_type": "display_data"
    },
    {
     "data": {
      "text/plain": "Processing with HIV4:   0%|          | 0/2587 [00:00<?, ?it/s]",
      "application/vnd.jupyter.widget-view+json": {
       "version_major": 2,
       "version_minor": 0,
       "model_id": "6f82e36c2b2748be9e91f56cb502a8dd"
      }
     },
     "metadata": {},
     "output_type": "display_data"
    },
    {
     "data": {
      "text/plain": "Processing with VADER:   0%|          | 0/2587 [00:00<?, ?it/s]",
      "application/vnd.jupyter.widget-view+json": {
       "version_major": 2,
       "version_minor": 0,
       "model_id": "5325f322e2154be6af47f2060ff2a869"
      }
     },
     "metadata": {},
     "output_type": "display_data"
    },
    {
     "data": {
      "text/plain": "Processing with FinBERT:   0%|          | 0/2587 [00:00<?, ?it/s]",
      "application/vnd.jupyter.widget-view+json": {
       "version_major": 2,
       "version_minor": 0,
       "model_id": "ab9b538a035f4510848bb3664d1c77a7"
      }
     },
     "metadata": {},
     "output_type": "display_data"
    },
    {
     "name": "stderr",
     "output_type": "stream",
     "text": [
      "C:\\Users\\WangH\\anaconda3\\envs\\tensorflow\\lib\\site-packages\\transformers\\pipelines\\base.py:1080: UserWarning: You seem to be using the pipelines sequentially on GPU. In order to maximize efficiency please use a dataset\n",
      "  warnings.warn(\n"
     ]
    },
    {
     "name": "stdout",
     "output_type": "stream",
     "text": [
      "2\n",
      "../Data/NER/Reuters_NER\\China.csv\n"
     ]
    },
    {
     "data": {
      "text/plain": "Processing with LMD:   0%|          | 0/10251 [00:00<?, ?it/s]",
      "application/vnd.jupyter.widget-view+json": {
       "version_major": 2,
       "version_minor": 0,
       "model_id": "98ca96009dc44d6da4d40f4e88a87f49"
      }
     },
     "metadata": {},
     "output_type": "display_data"
    },
    {
     "data": {
      "text/plain": "Processing with HIV4:   0%|          | 0/10251 [00:00<?, ?it/s]",
      "application/vnd.jupyter.widget-view+json": {
       "version_major": 2,
       "version_minor": 0,
       "model_id": "1cd17d264aeb477c9561c77cbdfab7ac"
      }
     },
     "metadata": {},
     "output_type": "display_data"
    },
    {
     "data": {
      "text/plain": "Processing with VADER:   0%|          | 0/10251 [00:00<?, ?it/s]",
      "application/vnd.jupyter.widget-view+json": {
       "version_major": 2,
       "version_minor": 0,
       "model_id": "c95d3b82264644dc964bcb6456618c8f"
      }
     },
     "metadata": {},
     "output_type": "display_data"
    },
    {
     "data": {
      "text/plain": "Processing with FinBERT:   0%|          | 0/10251 [00:00<?, ?it/s]",
      "application/vnd.jupyter.widget-view+json": {
       "version_major": 2,
       "version_minor": 0,
       "model_id": "55b1eafbe2354de7b15fdee74bbaa314"
      }
     },
     "metadata": {},
     "output_type": "display_data"
    },
    {
     "name": "stderr",
     "output_type": "stream",
     "text": [
      "C:\\Users\\WangH\\anaconda3\\envs\\tensorflow\\lib\\site-packages\\transformers\\pipelines\\base.py:1080: UserWarning: You seem to be using the pipelines sequentially on GPU. In order to maximize efficiency please use a dataset\n",
      "  warnings.warn(\n"
     ]
    },
    {
     "name": "stdout",
     "output_type": "stream",
     "text": [
      "3\n",
      "../Data/NER/Reuters_NER\\Denmark.csv\n"
     ]
    },
    {
     "data": {
      "text/plain": "Processing with LMD:   0%|          | 0/334 [00:00<?, ?it/s]",
      "application/vnd.jupyter.widget-view+json": {
       "version_major": 2,
       "version_minor": 0,
       "model_id": "ba7dc1899eea4e76896e06d3bbc5ba12"
      }
     },
     "metadata": {},
     "output_type": "display_data"
    },
    {
     "data": {
      "text/plain": "Processing with HIV4:   0%|          | 0/334 [00:00<?, ?it/s]",
      "application/vnd.jupyter.widget-view+json": {
       "version_major": 2,
       "version_minor": 0,
       "model_id": "5ff56dc4b899425782d1c978689b8827"
      }
     },
     "metadata": {},
     "output_type": "display_data"
    },
    {
     "data": {
      "text/plain": "Processing with VADER:   0%|          | 0/334 [00:00<?, ?it/s]",
      "application/vnd.jupyter.widget-view+json": {
       "version_major": 2,
       "version_minor": 0,
       "model_id": "d03ed51630ea4423ae53800ac71c19d3"
      }
     },
     "metadata": {},
     "output_type": "display_data"
    },
    {
     "data": {
      "text/plain": "Processing with FinBERT:   0%|          | 0/334 [00:00<?, ?it/s]",
      "application/vnd.jupyter.widget-view+json": {
       "version_major": 2,
       "version_minor": 0,
       "model_id": "cb657c56bdca4dc880e5bc58b4f7a63b"
      }
     },
     "metadata": {},
     "output_type": "display_data"
    },
    {
     "name": "stderr",
     "output_type": "stream",
     "text": [
      "C:\\Users\\WangH\\anaconda3\\envs\\tensorflow\\lib\\site-packages\\transformers\\pipelines\\base.py:1080: UserWarning: You seem to be using the pipelines sequentially on GPU. In order to maximize efficiency please use a dataset\n",
      "  warnings.warn(\n"
     ]
    },
    {
     "name": "stdout",
     "output_type": "stream",
     "text": [
      "4\n",
      "../Data/NER/Reuters_NER\\Finland.csv\n"
     ]
    },
    {
     "data": {
      "text/plain": "Processing with LMD:   0%|          | 0/473 [00:00<?, ?it/s]",
      "application/vnd.jupyter.widget-view+json": {
       "version_major": 2,
       "version_minor": 0,
       "model_id": "835618438295403ca13b331b68386cec"
      }
     },
     "metadata": {},
     "output_type": "display_data"
    },
    {
     "data": {
      "text/plain": "Processing with HIV4:   0%|          | 0/473 [00:00<?, ?it/s]",
      "application/vnd.jupyter.widget-view+json": {
       "version_major": 2,
       "version_minor": 0,
       "model_id": "7f5b861740d349f388ba716250c8177b"
      }
     },
     "metadata": {},
     "output_type": "display_data"
    },
    {
     "data": {
      "text/plain": "Processing with VADER:   0%|          | 0/473 [00:00<?, ?it/s]",
      "application/vnd.jupyter.widget-view+json": {
       "version_major": 2,
       "version_minor": 0,
       "model_id": "ab6ce793318c4524bb6829bd8e782000"
      }
     },
     "metadata": {},
     "output_type": "display_data"
    },
    {
     "data": {
      "text/plain": "Processing with FinBERT:   0%|          | 0/473 [00:00<?, ?it/s]",
      "application/vnd.jupyter.widget-view+json": {
       "version_major": 2,
       "version_minor": 0,
       "model_id": "97dd34aa23ce4d74b7c6890080b5db5b"
      }
     },
     "metadata": {},
     "output_type": "display_data"
    },
    {
     "name": "stderr",
     "output_type": "stream",
     "text": [
      "C:\\Users\\WangH\\anaconda3\\envs\\tensorflow\\lib\\site-packages\\transformers\\pipelines\\base.py:1080: UserWarning: You seem to be using the pipelines sequentially on GPU. In order to maximize efficiency please use a dataset\n",
      "  warnings.warn(\n"
     ]
    },
    {
     "name": "stdout",
     "output_type": "stream",
     "text": [
      "5\n",
      "../Data/NER/Reuters_NER\\France.csv\n"
     ]
    },
    {
     "data": {
      "text/plain": "Processing with LMD:   0%|          | 0/2317 [00:00<?, ?it/s]",
      "application/vnd.jupyter.widget-view+json": {
       "version_major": 2,
       "version_minor": 0,
       "model_id": "aa8a2aae760d42e6b03522126a1c1943"
      }
     },
     "metadata": {},
     "output_type": "display_data"
    },
    {
     "data": {
      "text/plain": "Processing with HIV4:   0%|          | 0/2317 [00:00<?, ?it/s]",
      "application/vnd.jupyter.widget-view+json": {
       "version_major": 2,
       "version_minor": 0,
       "model_id": "37e9b464c39a4b1c9c83af412d57faa1"
      }
     },
     "metadata": {},
     "output_type": "display_data"
    },
    {
     "data": {
      "text/plain": "Processing with VADER:   0%|          | 0/2317 [00:00<?, ?it/s]",
      "application/vnd.jupyter.widget-view+json": {
       "version_major": 2,
       "version_minor": 0,
       "model_id": "631a2755191c4207ace565cff8cba3d3"
      }
     },
     "metadata": {},
     "output_type": "display_data"
    },
    {
     "data": {
      "text/plain": "Processing with FinBERT:   0%|          | 0/2317 [00:00<?, ?it/s]",
      "application/vnd.jupyter.widget-view+json": {
       "version_major": 2,
       "version_minor": 0,
       "model_id": "9bdc106041c241e8a9901dc8e92da0e0"
      }
     },
     "metadata": {},
     "output_type": "display_data"
    },
    {
     "name": "stderr",
     "output_type": "stream",
     "text": [
      "C:\\Users\\WangH\\anaconda3\\envs\\tensorflow\\lib\\site-packages\\transformers\\pipelines\\base.py:1080: UserWarning: You seem to be using the pipelines sequentially on GPU. In order to maximize efficiency please use a dataset\n",
      "  warnings.warn(\n"
     ]
    },
    {
     "name": "stdout",
     "output_type": "stream",
     "text": [
      "6\n",
      "../Data/NER/Reuters_NER\\Germany.csv\n"
     ]
    },
    {
     "data": {
      "text/plain": "Processing with LMD:   0%|          | 0/3069 [00:00<?, ?it/s]",
      "application/vnd.jupyter.widget-view+json": {
       "version_major": 2,
       "version_minor": 0,
       "model_id": "2e69b50b2ebe4096bb84ec1ed76b3e1b"
      }
     },
     "metadata": {},
     "output_type": "display_data"
    },
    {
     "data": {
      "text/plain": "Processing with HIV4:   0%|          | 0/3069 [00:00<?, ?it/s]",
      "application/vnd.jupyter.widget-view+json": {
       "version_major": 2,
       "version_minor": 0,
       "model_id": "b871882a5d6d44a2ac06a5177b7c495d"
      }
     },
     "metadata": {},
     "output_type": "display_data"
    },
    {
     "data": {
      "text/plain": "Processing with VADER:   0%|          | 0/3069 [00:00<?, ?it/s]",
      "application/vnd.jupyter.widget-view+json": {
       "version_major": 2,
       "version_minor": 0,
       "model_id": "47919aeb80bf4956965c53db22e11beb"
      }
     },
     "metadata": {},
     "output_type": "display_data"
    },
    {
     "data": {
      "text/plain": "Processing with FinBERT:   0%|          | 0/3069 [00:00<?, ?it/s]",
      "application/vnd.jupyter.widget-view+json": {
       "version_major": 2,
       "version_minor": 0,
       "model_id": "7160a96634bb48d3bf807fe6cd53db25"
      }
     },
     "metadata": {},
     "output_type": "display_data"
    },
    {
     "name": "stderr",
     "output_type": "stream",
     "text": [
      "C:\\Users\\WangH\\anaconda3\\envs\\tensorflow\\lib\\site-packages\\transformers\\pipelines\\base.py:1080: UserWarning: You seem to be using the pipelines sequentially on GPU. In order to maximize efficiency please use a dataset\n",
      "  warnings.warn(\n"
     ]
    },
    {
     "name": "stdout",
     "output_type": "stream",
     "text": [
      "7\n",
      "../Data/NER/Reuters_NER\\Italy.csv\n"
     ]
    },
    {
     "data": {
      "text/plain": "Processing with LMD:   0%|          | 0/2065 [00:00<?, ?it/s]",
      "application/vnd.jupyter.widget-view+json": {
       "version_major": 2,
       "version_minor": 0,
       "model_id": "578c4e70df5b4dfeac1609016194e251"
      }
     },
     "metadata": {},
     "output_type": "display_data"
    },
    {
     "data": {
      "text/plain": "Processing with HIV4:   0%|          | 0/2065 [00:00<?, ?it/s]",
      "application/vnd.jupyter.widget-view+json": {
       "version_major": 2,
       "version_minor": 0,
       "model_id": "829e8955ec8a4e0f91562a34fb5b5e0e"
      }
     },
     "metadata": {},
     "output_type": "display_data"
    },
    {
     "data": {
      "text/plain": "Processing with VADER:   0%|          | 0/2065 [00:00<?, ?it/s]",
      "application/vnd.jupyter.widget-view+json": {
       "version_major": 2,
       "version_minor": 0,
       "model_id": "2dbafa5758f24d97a6cef7d2e6285763"
      }
     },
     "metadata": {},
     "output_type": "display_data"
    },
    {
     "data": {
      "text/plain": "Processing with FinBERT:   0%|          | 0/2065 [00:00<?, ?it/s]",
      "application/vnd.jupyter.widget-view+json": {
       "version_major": 2,
       "version_minor": 0,
       "model_id": "e5802bec5605462b883a5bb00ec1ab70"
      }
     },
     "metadata": {},
     "output_type": "display_data"
    },
    {
     "name": "stderr",
     "output_type": "stream",
     "text": [
      "C:\\Users\\WangH\\anaconda3\\envs\\tensorflow\\lib\\site-packages\\transformers\\pipelines\\base.py:1080: UserWarning: You seem to be using the pipelines sequentially on GPU. In order to maximize efficiency please use a dataset\n",
      "  warnings.warn(\n"
     ]
    },
    {
     "name": "stdout",
     "output_type": "stream",
     "text": [
      "8\n",
      "../Data/NER/Reuters_NER\\Japan.csv\n"
     ]
    },
    {
     "data": {
      "text/plain": "Processing with LMD:   0%|          | 0/3734 [00:00<?, ?it/s]",
      "application/vnd.jupyter.widget-view+json": {
       "version_major": 2,
       "version_minor": 0,
       "model_id": "78714d0c24474c66be408e600c251142"
      }
     },
     "metadata": {},
     "output_type": "display_data"
    },
    {
     "data": {
      "text/plain": "Processing with HIV4:   0%|          | 0/3734 [00:00<?, ?it/s]",
      "application/vnd.jupyter.widget-view+json": {
       "version_major": 2,
       "version_minor": 0,
       "model_id": "e04de37866e94e9faf40df3f979a0652"
      }
     },
     "metadata": {},
     "output_type": "display_data"
    },
    {
     "data": {
      "text/plain": "Processing with VADER:   0%|          | 0/3734 [00:00<?, ?it/s]",
      "application/vnd.jupyter.widget-view+json": {
       "version_major": 2,
       "version_minor": 0,
       "model_id": "894fbe301b8a469693e704aeeb1b0d43"
      }
     },
     "metadata": {},
     "output_type": "display_data"
    },
    {
     "data": {
      "text/plain": "Processing with FinBERT:   0%|          | 0/3734 [00:00<?, ?it/s]",
      "application/vnd.jupyter.widget-view+json": {
       "version_major": 2,
       "version_minor": 0,
       "model_id": "96f19ed77b8b4c348b9ec24058e803d7"
      }
     },
     "metadata": {},
     "output_type": "display_data"
    },
    {
     "name": "stderr",
     "output_type": "stream",
     "text": [
      "C:\\Users\\WangH\\anaconda3\\envs\\tensorflow\\lib\\site-packages\\transformers\\pipelines\\base.py:1080: UserWarning: You seem to be using the pipelines sequentially on GPU. In order to maximize efficiency please use a dataset\n",
      "  warnings.warn(\n"
     ]
    },
    {
     "name": "stdout",
     "output_type": "stream",
     "text": [
      "9\n",
      "../Data/NER/Reuters_NER\\Netherlands.csv\n"
     ]
    },
    {
     "data": {
      "text/plain": "Processing with LMD:   0%|          | 0/236 [00:00<?, ?it/s]",
      "application/vnd.jupyter.widget-view+json": {
       "version_major": 2,
       "version_minor": 0,
       "model_id": "48c6e684a2164d9aa680e78a52d848fa"
      }
     },
     "metadata": {},
     "output_type": "display_data"
    },
    {
     "data": {
      "text/plain": "Processing with HIV4:   0%|          | 0/236 [00:00<?, ?it/s]",
      "application/vnd.jupyter.widget-view+json": {
       "version_major": 2,
       "version_minor": 0,
       "model_id": "90e36f0bb1e14d12b4009ca902e401db"
      }
     },
     "metadata": {},
     "output_type": "display_data"
    },
    {
     "data": {
      "text/plain": "Processing with VADER:   0%|          | 0/236 [00:00<?, ?it/s]",
      "application/vnd.jupyter.widget-view+json": {
       "version_major": 2,
       "version_minor": 0,
       "model_id": "463fd092f2d6476b85866d448eaa0de7"
      }
     },
     "metadata": {},
     "output_type": "display_data"
    },
    {
     "data": {
      "text/plain": "Processing with FinBERT:   0%|          | 0/236 [00:00<?, ?it/s]",
      "application/vnd.jupyter.widget-view+json": {
       "version_major": 2,
       "version_minor": 0,
       "model_id": "9eb73ef729f147958816ea94f0038fff"
      }
     },
     "metadata": {},
     "output_type": "display_data"
    },
    {
     "name": "stderr",
     "output_type": "stream",
     "text": [
      "C:\\Users\\WangH\\anaconda3\\envs\\tensorflow\\lib\\site-packages\\transformers\\pipelines\\base.py:1080: UserWarning: You seem to be using the pipelines sequentially on GPU. In order to maximize efficiency please use a dataset\n",
      "  warnings.warn(\n"
     ]
    },
    {
     "name": "stdout",
     "output_type": "stream",
     "text": [
      "10\n",
      "../Data/NER/Reuters_NER\\New Zealand.csv\n"
     ]
    },
    {
     "data": {
      "text/plain": "Processing with LMD:   0%|          | 0/1120 [00:00<?, ?it/s]",
      "application/vnd.jupyter.widget-view+json": {
       "version_major": 2,
       "version_minor": 0,
       "model_id": "72a24e0084f54b5186568b615072f8df"
      }
     },
     "metadata": {},
     "output_type": "display_data"
    },
    {
     "data": {
      "text/plain": "Processing with HIV4:   0%|          | 0/1120 [00:00<?, ?it/s]",
      "application/vnd.jupyter.widget-view+json": {
       "version_major": 2,
       "version_minor": 0,
       "model_id": "ab35b43aafd8442fa63908e11f0ae502"
      }
     },
     "metadata": {},
     "output_type": "display_data"
    },
    {
     "data": {
      "text/plain": "Processing with VADER:   0%|          | 0/1120 [00:00<?, ?it/s]",
      "application/vnd.jupyter.widget-view+json": {
       "version_major": 2,
       "version_minor": 0,
       "model_id": "5bd1464933a54af38906b084b8fcedb3"
      }
     },
     "metadata": {},
     "output_type": "display_data"
    },
    {
     "data": {
      "text/plain": "Processing with FinBERT:   0%|          | 0/1120 [00:00<?, ?it/s]",
      "application/vnd.jupyter.widget-view+json": {
       "version_major": 2,
       "version_minor": 0,
       "model_id": "0aa194bb88104ee49b9693e3f7eb9f88"
      }
     },
     "metadata": {},
     "output_type": "display_data"
    },
    {
     "name": "stderr",
     "output_type": "stream",
     "text": [
      "C:\\Users\\WangH\\anaconda3\\envs\\tensorflow\\lib\\site-packages\\transformers\\pipelines\\base.py:1080: UserWarning: You seem to be using the pipelines sequentially on GPU. In order to maximize efficiency please use a dataset\n",
      "  warnings.warn(\n"
     ]
    },
    {
     "name": "stdout",
     "output_type": "stream",
     "text": [
      "11\n",
      "../Data/NER/Reuters_NER\\Norway.csv\n"
     ]
    },
    {
     "data": {
      "text/plain": "Processing with LMD:   0%|          | 0/524 [00:00<?, ?it/s]",
      "application/vnd.jupyter.widget-view+json": {
       "version_major": 2,
       "version_minor": 0,
       "model_id": "d666b7ccf0fe4841a5538d28079702cd"
      }
     },
     "metadata": {},
     "output_type": "display_data"
    },
    {
     "data": {
      "text/plain": "Processing with HIV4:   0%|          | 0/524 [00:00<?, ?it/s]",
      "application/vnd.jupyter.widget-view+json": {
       "version_major": 2,
       "version_minor": 0,
       "model_id": "5bed849eade34f53b763829a62a0b340"
      }
     },
     "metadata": {},
     "output_type": "display_data"
    },
    {
     "data": {
      "text/plain": "Processing with VADER:   0%|          | 0/524 [00:00<?, ?it/s]",
      "application/vnd.jupyter.widget-view+json": {
       "version_major": 2,
       "version_minor": 0,
       "model_id": "208933b51cbd4c53a5f0990235308979"
      }
     },
     "metadata": {},
     "output_type": "display_data"
    },
    {
     "data": {
      "text/plain": "Processing with FinBERT:   0%|          | 0/524 [00:00<?, ?it/s]",
      "application/vnd.jupyter.widget-view+json": {
       "version_major": 2,
       "version_minor": 0,
       "model_id": "83e0775eb2ac472a9278c29fcb984665"
      }
     },
     "metadata": {},
     "output_type": "display_data"
    },
    {
     "name": "stderr",
     "output_type": "stream",
     "text": [
      "C:\\Users\\WangH\\anaconda3\\envs\\tensorflow\\lib\\site-packages\\transformers\\pipelines\\base.py:1080: UserWarning: You seem to be using the pipelines sequentially on GPU. In order to maximize efficiency please use a dataset\n",
      "  warnings.warn(\n"
     ]
    },
    {
     "name": "stdout",
     "output_type": "stream",
     "text": [
      "12\n",
      "../Data/NER/Reuters_NER\\Portugal.csv\n"
     ]
    },
    {
     "data": {
      "text/plain": "Processing with LMD:   0%|          | 0/505 [00:00<?, ?it/s]",
      "application/vnd.jupyter.widget-view+json": {
       "version_major": 2,
       "version_minor": 0,
       "model_id": "f0134c90412a4c1aa00b39827abc12e7"
      }
     },
     "metadata": {},
     "output_type": "display_data"
    },
    {
     "data": {
      "text/plain": "Processing with HIV4:   0%|          | 0/505 [00:00<?, ?it/s]",
      "application/vnd.jupyter.widget-view+json": {
       "version_major": 2,
       "version_minor": 0,
       "model_id": "e989258b9ccf4d3480c5e7743c01fb7c"
      }
     },
     "metadata": {},
     "output_type": "display_data"
    },
    {
     "data": {
      "text/plain": "Processing with VADER:   0%|          | 0/505 [00:00<?, ?it/s]",
      "application/vnd.jupyter.widget-view+json": {
       "version_major": 2,
       "version_minor": 0,
       "model_id": "56af069db79c4f33823372c9f17995d5"
      }
     },
     "metadata": {},
     "output_type": "display_data"
    },
    {
     "data": {
      "text/plain": "Processing with FinBERT:   0%|          | 0/505 [00:00<?, ?it/s]",
      "application/vnd.jupyter.widget-view+json": {
       "version_major": 2,
       "version_minor": 0,
       "model_id": "7a730de45cd243328125c88d80cec26b"
      }
     },
     "metadata": {},
     "output_type": "display_data"
    },
    {
     "name": "stderr",
     "output_type": "stream",
     "text": [
      "C:\\Users\\WangH\\anaconda3\\envs\\tensorflow\\lib\\site-packages\\transformers\\pipelines\\base.py:1080: UserWarning: You seem to be using the pipelines sequentially on GPU. In order to maximize efficiency please use a dataset\n",
      "  warnings.warn(\n"
     ]
    },
    {
     "name": "stdout",
     "output_type": "stream",
     "text": [
      "13\n",
      "../Data/NER/Reuters_NER\\Singapore.csv\n"
     ]
    },
    {
     "data": {
      "text/plain": "Processing with LMD:   0%|          | 0/777 [00:00<?, ?it/s]",
      "application/vnd.jupyter.widget-view+json": {
       "version_major": 2,
       "version_minor": 0,
       "model_id": "5d3be897332c46329c353fdbb8110e76"
      }
     },
     "metadata": {},
     "output_type": "display_data"
    },
    {
     "data": {
      "text/plain": "Processing with HIV4:   0%|          | 0/777 [00:00<?, ?it/s]",
      "application/vnd.jupyter.widget-view+json": {
       "version_major": 2,
       "version_minor": 0,
       "model_id": "2fade8ec1d114f45b86a186e54fe8076"
      }
     },
     "metadata": {},
     "output_type": "display_data"
    },
    {
     "data": {
      "text/plain": "Processing with VADER:   0%|          | 0/777 [00:00<?, ?it/s]",
      "application/vnd.jupyter.widget-view+json": {
       "version_major": 2,
       "version_minor": 0,
       "model_id": "f8e4fcbc52e5446389fd9396fac992e3"
      }
     },
     "metadata": {},
     "output_type": "display_data"
    },
    {
     "data": {
      "text/plain": "Processing with FinBERT:   0%|          | 0/777 [00:00<?, ?it/s]",
      "application/vnd.jupyter.widget-view+json": {
       "version_major": 2,
       "version_minor": 0,
       "model_id": "3a15991cbe374d0eb82055cbe12ba8ea"
      }
     },
     "metadata": {},
     "output_type": "display_data"
    },
    {
     "name": "stderr",
     "output_type": "stream",
     "text": [
      "C:\\Users\\WangH\\anaconda3\\envs\\tensorflow\\lib\\site-packages\\transformers\\pipelines\\base.py:1080: UserWarning: You seem to be using the pipelines sequentially on GPU. In order to maximize efficiency please use a dataset\n",
      "  warnings.warn(\n"
     ]
    },
    {
     "name": "stdout",
     "output_type": "stream",
     "text": [
      "14\n",
      "../Data/NER/Reuters_NER\\South Korea.csv\n"
     ]
    },
    {
     "data": {
      "text/plain": "Processing with LMD:   0%|          | 0/969 [00:00<?, ?it/s]",
      "application/vnd.jupyter.widget-view+json": {
       "version_major": 2,
       "version_minor": 0,
       "model_id": "a44f347e452746c19d8344af26d61653"
      }
     },
     "metadata": {},
     "output_type": "display_data"
    },
    {
     "data": {
      "text/plain": "Processing with HIV4:   0%|          | 0/969 [00:00<?, ?it/s]",
      "application/vnd.jupyter.widget-view+json": {
       "version_major": 2,
       "version_minor": 0,
       "model_id": "365e58a7be61458faa7a0b48d0f0c30b"
      }
     },
     "metadata": {},
     "output_type": "display_data"
    },
    {
     "data": {
      "text/plain": "Processing with VADER:   0%|          | 0/969 [00:00<?, ?it/s]",
      "application/vnd.jupyter.widget-view+json": {
       "version_major": 2,
       "version_minor": 0,
       "model_id": "4e44ed1e56b14f469c94701b8c024a1e"
      }
     },
     "metadata": {},
     "output_type": "display_data"
    },
    {
     "data": {
      "text/plain": "Processing with FinBERT:   0%|          | 0/969 [00:00<?, ?it/s]",
      "application/vnd.jupyter.widget-view+json": {
       "version_major": 2,
       "version_minor": 0,
       "model_id": "139532686ab14fcb9c644a45738fd509"
      }
     },
     "metadata": {},
     "output_type": "display_data"
    },
    {
     "name": "stderr",
     "output_type": "stream",
     "text": [
      "C:\\Users\\WangH\\anaconda3\\envs\\tensorflow\\lib\\site-packages\\transformers\\pipelines\\base.py:1080: UserWarning: You seem to be using the pipelines sequentially on GPU. In order to maximize efficiency please use a dataset\n",
      "  warnings.warn(\n"
     ]
    },
    {
     "name": "stdout",
     "output_type": "stream",
     "text": [
      "15\n",
      "../Data/NER/Reuters_NER\\Spain.csv\n"
     ]
    },
    {
     "data": {
      "text/plain": "Processing with LMD:   0%|          | 0/1399 [00:00<?, ?it/s]",
      "application/vnd.jupyter.widget-view+json": {
       "version_major": 2,
       "version_minor": 0,
       "model_id": "f7a5c88622524f6099cf775c7ddb4e9f"
      }
     },
     "metadata": {},
     "output_type": "display_data"
    },
    {
     "data": {
      "text/plain": "Processing with HIV4:   0%|          | 0/1399 [00:00<?, ?it/s]",
      "application/vnd.jupyter.widget-view+json": {
       "version_major": 2,
       "version_minor": 0,
       "model_id": "e9fd1638f0dc41d1bd8886315a654632"
      }
     },
     "metadata": {},
     "output_type": "display_data"
    },
    {
     "data": {
      "text/plain": "Processing with VADER:   0%|          | 0/1399 [00:00<?, ?it/s]",
      "application/vnd.jupyter.widget-view+json": {
       "version_major": 2,
       "version_minor": 0,
       "model_id": "69c1b5dc3d4a470382fc0751c68bf92b"
      }
     },
     "metadata": {},
     "output_type": "display_data"
    },
    {
     "data": {
      "text/plain": "Processing with FinBERT:   0%|          | 0/1399 [00:00<?, ?it/s]",
      "application/vnd.jupyter.widget-view+json": {
       "version_major": 2,
       "version_minor": 0,
       "model_id": "a3aefea4d368411a8453b05cc1ae5eb7"
      }
     },
     "metadata": {},
     "output_type": "display_data"
    },
    {
     "name": "stderr",
     "output_type": "stream",
     "text": [
      "C:\\Users\\WangH\\anaconda3\\envs\\tensorflow\\lib\\site-packages\\transformers\\pipelines\\base.py:1080: UserWarning: You seem to be using the pipelines sequentially on GPU. In order to maximize efficiency please use a dataset\n",
      "  warnings.warn(\n"
     ]
    },
    {
     "name": "stdout",
     "output_type": "stream",
     "text": [
      "16\n",
      "../Data/NER/Reuters_NER\\Sweden.csv\n"
     ]
    },
    {
     "data": {
      "text/plain": "Processing with LMD:   0%|          | 0/712 [00:00<?, ?it/s]",
      "application/vnd.jupyter.widget-view+json": {
       "version_major": 2,
       "version_minor": 0,
       "model_id": "4bfaeda07c80423f8846fad888841102"
      }
     },
     "metadata": {},
     "output_type": "display_data"
    },
    {
     "data": {
      "text/plain": "Processing with HIV4:   0%|          | 0/712 [00:00<?, ?it/s]",
      "application/vnd.jupyter.widget-view+json": {
       "version_major": 2,
       "version_minor": 0,
       "model_id": "8212146c56874214b9aa14920442f184"
      }
     },
     "metadata": {},
     "output_type": "display_data"
    },
    {
     "data": {
      "text/plain": "Processing with VADER:   0%|          | 0/712 [00:00<?, ?it/s]",
      "application/vnd.jupyter.widget-view+json": {
       "version_major": 2,
       "version_minor": 0,
       "model_id": "b5c1b2c992b94049baa190bed13aacef"
      }
     },
     "metadata": {},
     "output_type": "display_data"
    },
    {
     "data": {
      "text/plain": "Processing with FinBERT:   0%|          | 0/712 [00:00<?, ?it/s]",
      "application/vnd.jupyter.widget-view+json": {
       "version_major": 2,
       "version_minor": 0,
       "model_id": "0e1908523f4d48039498fdf549491942"
      }
     },
     "metadata": {},
     "output_type": "display_data"
    },
    {
     "name": "stderr",
     "output_type": "stream",
     "text": [
      "C:\\Users\\WangH\\anaconda3\\envs\\tensorflow\\lib\\site-packages\\transformers\\pipelines\\base.py:1080: UserWarning: You seem to be using the pipelines sequentially on GPU. In order to maximize efficiency please use a dataset\n",
      "  warnings.warn(\n"
     ]
    },
    {
     "name": "stdout",
     "output_type": "stream",
     "text": [
      "17\n",
      "../Data/NER/Reuters_NER\\Switzerland.csv\n"
     ]
    },
    {
     "data": {
      "text/plain": "Processing with LMD:   0%|          | 0/422 [00:00<?, ?it/s]",
      "application/vnd.jupyter.widget-view+json": {
       "version_major": 2,
       "version_minor": 0,
       "model_id": "1c96ed9d66b8437a935f994cf7a3df38"
      }
     },
     "metadata": {},
     "output_type": "display_data"
    },
    {
     "data": {
      "text/plain": "Processing with HIV4:   0%|          | 0/422 [00:00<?, ?it/s]",
      "application/vnd.jupyter.widget-view+json": {
       "version_major": 2,
       "version_minor": 0,
       "model_id": "de7e03305fe54ae7b5acaac556c99da8"
      }
     },
     "metadata": {},
     "output_type": "display_data"
    },
    {
     "data": {
      "text/plain": "Processing with VADER:   0%|          | 0/422 [00:00<?, ?it/s]",
      "application/vnd.jupyter.widget-view+json": {
       "version_major": 2,
       "version_minor": 0,
       "model_id": "bd95bf4e4d754c11bc63d9b3ed79198c"
      }
     },
     "metadata": {},
     "output_type": "display_data"
    },
    {
     "data": {
      "text/plain": "Processing with FinBERT:   0%|          | 0/422 [00:00<?, ?it/s]",
      "application/vnd.jupyter.widget-view+json": {
       "version_major": 2,
       "version_minor": 0,
       "model_id": "0225f7fdda1d425ca1c29c4a4130e633"
      }
     },
     "metadata": {},
     "output_type": "display_data"
    },
    {
     "name": "stderr",
     "output_type": "stream",
     "text": [
      "C:\\Users\\WangH\\anaconda3\\envs\\tensorflow\\lib\\site-packages\\transformers\\pipelines\\base.py:1080: UserWarning: You seem to be using the pipelines sequentially on GPU. In order to maximize efficiency please use a dataset\n",
      "  warnings.warn(\n"
     ]
    },
    {
     "name": "stdout",
     "output_type": "stream",
     "text": [
      "18\n",
      "../Data/NER/Reuters_NER\\United Kingdom.csv\n"
     ]
    },
    {
     "data": {
      "text/plain": "Processing with LMD:   0%|          | 0/6977 [00:00<?, ?it/s]",
      "application/vnd.jupyter.widget-view+json": {
       "version_major": 2,
       "version_minor": 0,
       "model_id": "80a90ac6aac1412e990b59e0d38160c9"
      }
     },
     "metadata": {},
     "output_type": "display_data"
    },
    {
     "data": {
      "text/plain": "Processing with HIV4:   0%|          | 0/6977 [00:00<?, ?it/s]",
      "application/vnd.jupyter.widget-view+json": {
       "version_major": 2,
       "version_minor": 0,
       "model_id": "fcaf8204dbbd40c9ac2a0f69b961e819"
      }
     },
     "metadata": {},
     "output_type": "display_data"
    },
    {
     "data": {
      "text/plain": "Processing with VADER:   0%|          | 0/6977 [00:00<?, ?it/s]",
      "application/vnd.jupyter.widget-view+json": {
       "version_major": 2,
       "version_minor": 0,
       "model_id": "3a0359feac8741c4a69db433dfbbafdb"
      }
     },
     "metadata": {},
     "output_type": "display_data"
    },
    {
     "data": {
      "text/plain": "Processing with FinBERT:   0%|          | 0/6977 [00:00<?, ?it/s]",
      "application/vnd.jupyter.widget-view+json": {
       "version_major": 2,
       "version_minor": 0,
       "model_id": "9d156c8c04e8443bbeed08752eceee81"
      }
     },
     "metadata": {},
     "output_type": "display_data"
    },
    {
     "name": "stderr",
     "output_type": "stream",
     "text": [
      "C:\\Users\\WangH\\anaconda3\\envs\\tensorflow\\lib\\site-packages\\transformers\\pipelines\\base.py:1080: UserWarning: You seem to be using the pipelines sequentially on GPU. In order to maximize efficiency please use a dataset\n",
      "  warnings.warn(\n"
     ]
    },
    {
     "name": "stdout",
     "output_type": "stream",
     "text": [
      "19\n",
      "../Data/NER/Reuters_NER\\United States.csv\n"
     ]
    },
    {
     "data": {
      "text/plain": "Processing with LMD:   0%|          | 0/2771 [00:00<?, ?it/s]",
      "application/vnd.jupyter.widget-view+json": {
       "version_major": 2,
       "version_minor": 0,
       "model_id": "f5600bc6237f450f8872049df592eff6"
      }
     },
     "metadata": {},
     "output_type": "display_data"
    },
    {
     "data": {
      "text/plain": "Processing with HIV4:   0%|          | 0/2771 [00:00<?, ?it/s]",
      "application/vnd.jupyter.widget-view+json": {
       "version_major": 2,
       "version_minor": 0,
       "model_id": "2a0fb17052664ded813601d5b7f3c1ef"
      }
     },
     "metadata": {},
     "output_type": "display_data"
    },
    {
     "data": {
      "text/plain": "Processing with VADER:   0%|          | 0/2771 [00:00<?, ?it/s]",
      "application/vnd.jupyter.widget-view+json": {
       "version_major": 2,
       "version_minor": 0,
       "model_id": "39e71261468b4709a16a34aa47e14a04"
      }
     },
     "metadata": {},
     "output_type": "display_data"
    },
    {
     "data": {
      "text/plain": "Processing with FinBERT:   0%|          | 0/2771 [00:00<?, ?it/s]",
      "application/vnd.jupyter.widget-view+json": {
       "version_major": 2,
       "version_minor": 0,
       "model_id": "609c9618cc664acebf848a6ecff69c8f"
      }
     },
     "metadata": {},
     "output_type": "display_data"
    },
    {
     "name": "stderr",
     "output_type": "stream",
     "text": [
      "C:\\Users\\WangH\\anaconda3\\envs\\tensorflow\\lib\\site-packages\\transformers\\pipelines\\base.py:1080: UserWarning: You seem to be using the pipelines sequentially on GPU. In order to maximize efficiency please use a dataset\n",
      "  warnings.warn(\n"
     ]
    },
    {
     "name": "stdout",
     "output_type": "stream",
     "text": [
      "20\n"
     ]
    }
   ],
   "source": [
    "lst_files = []\n",
    "\n",
    "Path = \"../Data/NER/Reuters_NER/*.csv\"\n",
    "count = 0\n",
    "\n",
    "for fname in glob.glob(Path):\n",
    "    lst_files.append(fname)\n",
    "\n",
    "lst_files = sorted(lst_files)\n",
    "\n",
    "for file in lst_files:\n",
    "    file_name = os.path.basename(file)  # Get the file name from the full file path\n",
    "    country_name = os.path.splitext(file_name)[0]  # Remove the file extension\n",
    "\n",
    "    # 对单个国家的数据进行情感分析\n",
    "    # if country_name == 'Finland':\n",
    "    # Check if the file already exists\n",
    "    if os.path.isfile('../Data/Sentiment_Scores/Reuters_Sentiment_Scores/{0}.csv'.format(country_name)):\n",
    "        print(\"File already exists: {0}.csv\".format(country_name))\n",
    "    else:\n",
    "        print(file)\n",
    "        df = pd.read_csv(file)\n",
    "\n",
    "        if df.shape[0] != 0:\n",
    "            df = df.drop_duplicates(['Date','Headline'], keep='last')\n",
    "            df = df.drop(['Unnamed: 0', 'Headline'], axis = 1)\n",
    "            df['Text'] = df['Text'].astype(str)\n",
    "            df['Date'] = pd.to_datetime(df['Date'], utc=True).dt.date\n",
    "            df.reset_index(drop=True, inplace=True)\n",
    "\n",
    "            # LMD + HIV4\n",
    "            df_LMD_HIV4 = pd.DataFrame(df, columns=['Date', 'Text'])\n",
    "            # df_LMD_HIV4[\"scoreLMD\"] = df_LMD_HIV4[\"Text\"].apply(sentimentAnalysisLMD)\n",
    "            # df_LMD_HIV4[\"scoreHIV4\"] = df_LMD_HIV4[\"Text\"].apply(sentimentAnalysisHIV4)\n",
    "            # 使用tqdm在处理sentiment时显示进度条\n",
    "            df_LMD_HIV4[\"scoreLMD\"] = [sentimentAnalysisLMD(text) for text in tqdm(df_LMD_HIV4[\"Text\"], desc=\"Processing with LMD\")]\n",
    "            df_LMD_HIV4[\"scoreHIV4\"] = [sentimentAnalysisHIV4(text) for text in tqdm(df_LMD_HIV4[\"Text\"], desc=\"Processing with HIV4\")]\n",
    "            df_LMD_HIV4 = pd.concat([df_LMD_HIV4.drop([\"scoreLMD\"], axis=1), df_LMD_HIV4[\"scoreLMD\"].apply(pd.Series).add_prefix(\"LMD_\")], axis=1)\n",
    "            df_LMD_HIV4 = pd.concat([df_LMD_HIV4.drop([\"scoreHIV4\"], axis=1), df_LMD_HIV4[\"scoreHIV4\"].apply(pd.Series).add_prefix(\"HIV4_\")], axis=1)\n",
    "            df[['LMD_Polarity', 'HIV4_Polarity']] = df_LMD_HIV4[['LMD_Polarity', 'HIV4_Polarity']]\n",
    "\n",
    "            # VADER\n",
    "            df['Vader_Polarity'] = sentimentAnalysisVader(df)\n",
    "\n",
    "            # FINBERT\n",
    "            df['FinBert_Polarity'] = sentimentAnalysisFinBert(df)\n",
    "\n",
    "            # 储存一下df的原始数据\n",
    "            df_original = df.copy()\n",
    "            df['Country'] = country_name\n",
    "            # Find the average Polarity for each Dictionary, per given date\n",
    "            df = df.groupby('Date').mean(numeric_only=True).reset_index()\n",
    "            df = df.sort_values(by = ['Date'], ascending = True)\n",
    "            idx = pd.date_range('2012-01-01', '2023-06-30')\n",
    "            df = df.set_index(['Date']).reindex(idx, fill_value=np.nan).rename_axis('Date').reset_index()\n",
    "\n",
    "            df['Country'] = country_name\n",
    "            df= df[['Date', 'Country', 'LMD_Polarity', 'HIV4_Polarity', 'Vader_Polarity', 'FinBert_Polarity']]\n",
    "\n",
    "            count = count + 1\n",
    "            print(count)\n",
    "            df.to_csv('../Data/Sentiment_Scores/Reuters_Sentiment_Scores/{0}.csv'.format(country_name))\n",
    "            # 保存df的原始数据\n",
    "            df_original.to_csv('../Data/Sentiment_Scores/Reuters_Sentiment_Scores/{0}_original.csv'.format(country_name))\n"
   ],
   "metadata": {
    "collapsed": false,
    "ExecuteTime": {
     "end_time": "2023-08-15T13:09:38.977576Z",
     "start_time": "2023-08-15T12:46:39.479445900Z"
    }
   }
  },
  {
   "cell_type": "code",
   "execution_count": 5,
   "outputs": [
    {
     "name": "stdout",
     "output_type": "stream",
     "text": [
      "Australia\n",
      "   Unnamed: 0        Date    Country  LMD_Polarity  HIV4_Polarity  \\\n",
      "0           0  2012-01-01  Australia           NaN            NaN   \n",
      "1           1  2012-01-02  Australia           NaN            NaN   \n",
      "2           2  2012-01-03  Australia           NaN            NaN   \n",
      "3           3  2012-01-04  Australia           NaN            NaN   \n",
      "4           4  2012-01-05  Australia           NaN            NaN   \n",
      "\n",
      "   Vader_Polarity  FinBert_Polarity  \n",
      "0             NaN               NaN  \n",
      "1             NaN               NaN  \n",
      "2             NaN               NaN  \n",
      "3             NaN               NaN  \n",
      "4             NaN               NaN  \n",
      "\n",
      "\n",
      "Canada\n",
      "   Unnamed: 0        Date Country  LMD_Polarity  HIV4_Polarity  \\\n",
      "0           0  2012-01-01  Canada           NaN            NaN   \n",
      "1           1  2012-01-02  Canada           NaN            NaN   \n",
      "2           2  2012-01-03  Canada           NaN            NaN   \n",
      "3           3  2012-01-04  Canada           NaN            NaN   \n",
      "4           4  2012-01-05  Canada           NaN            NaN   \n",
      "\n",
      "   Vader_Polarity  FinBert_Polarity  \n",
      "0             NaN               NaN  \n",
      "1             NaN               NaN  \n",
      "2             NaN               NaN  \n",
      "3             NaN               NaN  \n",
      "4             NaN               NaN  \n",
      "\n",
      "\n",
      "China\n",
      "   Unnamed: 0        Date Country  LMD_Polarity  HIV4_Polarity  \\\n",
      "0           0  2012-01-01   China           NaN            NaN   \n",
      "1           1  2012-01-02   China           NaN            NaN   \n",
      "2           2  2012-01-03   China           NaN            NaN   \n",
      "3           3  2012-01-04   China           NaN            NaN   \n",
      "4           4  2012-01-05   China           NaN            NaN   \n",
      "\n",
      "   Vader_Polarity  FinBert_Polarity  \n",
      "0             NaN               NaN  \n",
      "1             NaN               NaN  \n",
      "2             NaN               NaN  \n",
      "3             NaN               NaN  \n",
      "4             NaN               NaN  \n",
      "\n",
      "\n",
      "Denmark\n",
      "   Unnamed: 0        Date  Country  LMD_Polarity  HIV4_Polarity  \\\n",
      "0           0  2012-01-01  Denmark           NaN            NaN   \n",
      "1           1  2012-01-02  Denmark           NaN            NaN   \n",
      "2           2  2012-01-03  Denmark           NaN            NaN   \n",
      "3           3  2012-01-04  Denmark           NaN            NaN   \n",
      "4           4  2012-01-05  Denmark           NaN            NaN   \n",
      "\n",
      "   Vader_Polarity  FinBert_Polarity  \n",
      "0             NaN               NaN  \n",
      "1             NaN               NaN  \n",
      "2             NaN               NaN  \n",
      "3             NaN               NaN  \n",
      "4             NaN               NaN  \n",
      "\n",
      "\n",
      "Finland\n",
      "   Unnamed: 0        Date  Country  LMD_Polarity  HIV4_Polarity  \\\n",
      "0           0  2012-01-01  Finland           NaN            NaN   \n",
      "1           1  2012-01-02  Finland           NaN            NaN   \n",
      "2           2  2012-01-03  Finland           NaN            NaN   \n",
      "3           3  2012-01-04  Finland           NaN            NaN   \n",
      "4           4  2012-01-05  Finland           NaN            NaN   \n",
      "\n",
      "   Vader_Polarity  FinBert_Polarity  \n",
      "0             NaN               NaN  \n",
      "1             NaN               NaN  \n",
      "2             NaN               NaN  \n",
      "3             NaN               NaN  \n",
      "4             NaN               NaN  \n",
      "\n",
      "\n",
      "France\n",
      "   Unnamed: 0        Date Country  LMD_Polarity  HIV4_Polarity  \\\n",
      "0           0  2012-01-01  France           NaN            NaN   \n",
      "1           1  2012-01-02  France           NaN            NaN   \n",
      "2           2  2012-01-03  France           NaN            NaN   \n",
      "3           3  2012-01-04  France           NaN            NaN   \n",
      "4           4  2012-01-05  France           NaN            NaN   \n",
      "\n",
      "   Vader_Polarity  FinBert_Polarity  \n",
      "0             NaN               NaN  \n",
      "1             NaN               NaN  \n",
      "2             NaN               NaN  \n",
      "3             NaN               NaN  \n",
      "4             NaN               NaN  \n",
      "\n",
      "\n",
      "Germany\n",
      "   Unnamed: 0        Date  Country  LMD_Polarity  HIV4_Polarity  \\\n",
      "0           0  2012-01-01  Germany           NaN            NaN   \n",
      "1           1  2012-01-02  Germany           NaN            NaN   \n",
      "2           2  2012-01-03  Germany           NaN            NaN   \n",
      "3           3  2012-01-04  Germany           NaN            NaN   \n",
      "4           4  2012-01-05  Germany           NaN            NaN   \n",
      "\n",
      "   Vader_Polarity  FinBert_Polarity  \n",
      "0             NaN               NaN  \n",
      "1             NaN               NaN  \n",
      "2             NaN               NaN  \n",
      "3             NaN               NaN  \n",
      "4             NaN               NaN  \n",
      "\n",
      "\n",
      "Italy\n",
      "   Unnamed: 0        Date Country  LMD_Polarity  HIV4_Polarity  \\\n",
      "0           0  2012-01-01   Italy           NaN            NaN   \n",
      "1           1  2012-01-02   Italy           NaN            NaN   \n",
      "2           2  2012-01-03   Italy           NaN            NaN   \n",
      "3           3  2012-01-04   Italy           NaN            NaN   \n",
      "4           4  2012-01-05   Italy           NaN            NaN   \n",
      "\n",
      "   Vader_Polarity  FinBert_Polarity  \n",
      "0             NaN               NaN  \n",
      "1             NaN               NaN  \n",
      "2             NaN               NaN  \n",
      "3             NaN               NaN  \n",
      "4             NaN               NaN  \n",
      "\n",
      "\n",
      "Japan\n",
      "   Unnamed: 0        Date Country  LMD_Polarity  HIV4_Polarity  \\\n",
      "0           0  2012-01-01   Japan           NaN            NaN   \n",
      "1           1  2012-01-02   Japan           NaN            NaN   \n",
      "2           2  2012-01-03   Japan           NaN            NaN   \n",
      "3           3  2012-01-04   Japan           NaN            NaN   \n",
      "4           4  2012-01-05   Japan           NaN            NaN   \n",
      "\n",
      "   Vader_Polarity  FinBert_Polarity  \n",
      "0             NaN               NaN  \n",
      "1             NaN               NaN  \n",
      "2             NaN               NaN  \n",
      "3             NaN               NaN  \n",
      "4             NaN               NaN  \n",
      "\n",
      "\n",
      "Netherlands\n",
      "   Unnamed: 0        Date      Country  LMD_Polarity  HIV4_Polarity  \\\n",
      "0           0  2012-01-01  Netherlands           NaN            NaN   \n",
      "1           1  2012-01-02  Netherlands           NaN            NaN   \n",
      "2           2  2012-01-03  Netherlands           NaN            NaN   \n",
      "3           3  2012-01-04  Netherlands           NaN            NaN   \n",
      "4           4  2012-01-05  Netherlands           NaN            NaN   \n",
      "\n",
      "   Vader_Polarity  FinBert_Polarity  \n",
      "0             NaN               NaN  \n",
      "1             NaN               NaN  \n",
      "2             NaN               NaN  \n",
      "3             NaN               NaN  \n",
      "4             NaN               NaN  \n",
      "\n",
      "\n",
      "New Zealand\n",
      "   Unnamed: 0        Date      Country  LMD_Polarity  HIV4_Polarity  \\\n",
      "0           0  2012-01-01  New Zealand           NaN            NaN   \n",
      "1           1  2012-01-02  New Zealand           NaN            NaN   \n",
      "2           2  2012-01-03  New Zealand           NaN            NaN   \n",
      "3           3  2012-01-04  New Zealand           NaN            NaN   \n",
      "4           4  2012-01-05  New Zealand           NaN            NaN   \n",
      "\n",
      "   Vader_Polarity  FinBert_Polarity  \n",
      "0             NaN               NaN  \n",
      "1             NaN               NaN  \n",
      "2             NaN               NaN  \n",
      "3             NaN               NaN  \n",
      "4             NaN               NaN  \n",
      "\n",
      "\n",
      "Norway\n",
      "   Unnamed: 0        Date Country  LMD_Polarity  HIV4_Polarity  \\\n",
      "0           0  2012-01-01  Norway           NaN            NaN   \n",
      "1           1  2012-01-02  Norway           NaN            NaN   \n",
      "2           2  2012-01-03  Norway           NaN            NaN   \n",
      "3           3  2012-01-04  Norway           NaN            NaN   \n",
      "4           4  2012-01-05  Norway           NaN            NaN   \n",
      "\n",
      "   Vader_Polarity  FinBert_Polarity  \n",
      "0             NaN               NaN  \n",
      "1             NaN               NaN  \n",
      "2             NaN               NaN  \n",
      "3             NaN               NaN  \n",
      "4             NaN               NaN  \n",
      "\n",
      "\n",
      "Portugal\n",
      "   Unnamed: 0        Date   Country  LMD_Polarity  HIV4_Polarity  \\\n",
      "0           0  2012-01-01  Portugal           NaN            NaN   \n",
      "1           1  2012-01-02  Portugal           NaN            NaN   \n",
      "2           2  2012-01-03  Portugal           NaN            NaN   \n",
      "3           3  2012-01-04  Portugal           NaN            NaN   \n",
      "4           4  2012-01-05  Portugal           NaN            NaN   \n",
      "\n",
      "   Vader_Polarity  FinBert_Polarity  \n",
      "0             NaN               NaN  \n",
      "1             NaN               NaN  \n",
      "2             NaN               NaN  \n",
      "3             NaN               NaN  \n",
      "4             NaN               NaN  \n",
      "\n",
      "\n",
      "Singapore\n",
      "   Unnamed: 0        Date    Country  LMD_Polarity  HIV4_Polarity  \\\n",
      "0           0  2012-01-01  Singapore           NaN            NaN   \n",
      "1           1  2012-01-02  Singapore           NaN            NaN   \n",
      "2           2  2012-01-03  Singapore           NaN            NaN   \n",
      "3           3  2012-01-04  Singapore           NaN            NaN   \n",
      "4           4  2012-01-05  Singapore           NaN            NaN   \n",
      "\n",
      "   Vader_Polarity  FinBert_Polarity  \n",
      "0             NaN               NaN  \n",
      "1             NaN               NaN  \n",
      "2             NaN               NaN  \n",
      "3             NaN               NaN  \n",
      "4             NaN               NaN  \n",
      "\n",
      "\n",
      "South Korea\n",
      "   Unnamed: 0        Date      Country  LMD_Polarity  HIV4_Polarity  \\\n",
      "0           0  2012-01-01  South Korea           NaN            NaN   \n",
      "1           1  2012-01-02  South Korea           NaN            NaN   \n",
      "2           2  2012-01-03  South Korea           NaN            NaN   \n",
      "3           3  2012-01-04  South Korea           NaN            NaN   \n",
      "4           4  2012-01-05  South Korea           NaN            NaN   \n",
      "\n",
      "   Vader_Polarity  FinBert_Polarity  \n",
      "0             NaN               NaN  \n",
      "1             NaN               NaN  \n",
      "2             NaN               NaN  \n",
      "3             NaN               NaN  \n",
      "4             NaN               NaN  \n",
      "\n",
      "\n",
      "Spain\n",
      "   Unnamed: 0        Date Country  LMD_Polarity  HIV4_Polarity  \\\n",
      "0           0  2012-01-01   Spain           NaN            NaN   \n",
      "1           1  2012-01-02   Spain           NaN            NaN   \n",
      "2           2  2012-01-03   Spain           NaN            NaN   \n",
      "3           3  2012-01-04   Spain           NaN            NaN   \n",
      "4           4  2012-01-05   Spain           NaN            NaN   \n",
      "\n",
      "   Vader_Polarity  FinBert_Polarity  \n",
      "0             NaN               NaN  \n",
      "1             NaN               NaN  \n",
      "2             NaN               NaN  \n",
      "3             NaN               NaN  \n",
      "4             NaN               NaN  \n",
      "\n",
      "\n",
      "Sweden\n",
      "   Unnamed: 0        Date Country  LMD_Polarity  HIV4_Polarity  \\\n",
      "0           0  2012-01-01  Sweden           NaN            NaN   \n",
      "1           1  2012-01-02  Sweden           NaN            NaN   \n",
      "2           2  2012-01-03  Sweden           NaN            NaN   \n",
      "3           3  2012-01-04  Sweden           NaN            NaN   \n",
      "4           4  2012-01-05  Sweden           NaN            NaN   \n",
      "\n",
      "   Vader_Polarity  FinBert_Polarity  \n",
      "0             NaN               NaN  \n",
      "1             NaN               NaN  \n",
      "2             NaN               NaN  \n",
      "3             NaN               NaN  \n",
      "4             NaN               NaN  \n",
      "\n",
      "\n",
      "Switzerland\n",
      "   Unnamed: 0        Date      Country  LMD_Polarity  HIV4_Polarity  \\\n",
      "0           0  2012-01-01  Switzerland           NaN            NaN   \n",
      "1           1  2012-01-02  Switzerland           NaN            NaN   \n",
      "2           2  2012-01-03  Switzerland           NaN            NaN   \n",
      "3           3  2012-01-04  Switzerland           NaN            NaN   \n",
      "4           4  2012-01-05  Switzerland           NaN            NaN   \n",
      "\n",
      "   Vader_Polarity  FinBert_Polarity  \n",
      "0             NaN               NaN  \n",
      "1             NaN               NaN  \n",
      "2             NaN               NaN  \n",
      "3             NaN               NaN  \n",
      "4             NaN               NaN  \n",
      "\n",
      "\n",
      "United Kingdom\n",
      "   Unnamed: 0        Date         Country  LMD_Polarity  HIV4_Polarity  \\\n",
      "0           0  2012-01-01  United Kingdom           NaN            NaN   \n",
      "1           1  2012-01-02  United Kingdom           NaN            NaN   \n",
      "2           2  2012-01-03  United Kingdom           NaN            NaN   \n",
      "3           3  2012-01-04  United Kingdom           NaN            NaN   \n",
      "4           4  2012-01-05  United Kingdom           NaN            NaN   \n",
      "\n",
      "   Vader_Polarity  FinBert_Polarity  \n",
      "0             NaN               NaN  \n",
      "1             NaN               NaN  \n",
      "2             NaN               NaN  \n",
      "3             NaN               NaN  \n",
      "4             NaN               NaN  \n",
      "\n",
      "\n",
      "United States\n",
      "   Unnamed: 0        Date        Country  LMD_Polarity  HIV4_Polarity  \\\n",
      "0           0  2012-01-01  United States           NaN            NaN   \n",
      "1           1  2012-01-02  United States           NaN            NaN   \n",
      "2           2  2012-01-03  United States           NaN            NaN   \n",
      "3           3  2012-01-04  United States           NaN            NaN   \n",
      "4           4  2012-01-05  United States           NaN            NaN   \n",
      "\n",
      "   Vader_Polarity  FinBert_Polarity  \n",
      "0             NaN               NaN  \n",
      "1             NaN               NaN  \n",
      "2             NaN               NaN  \n",
      "3             NaN               NaN  \n",
      "4             NaN               NaN  \n"
     ]
    }
   ],
   "source": [
    "# 展示每个国家的情感分析数据\n",
    "lst_files = []\n",
    "path = \"../Data/SentimentScores/*.csv\"\n",
    "\n",
    "for fname in glob.glob(path):\n",
    "    # 检查文件名是否以 \"_original.csv\" 结尾\n",
    "    if not fname.endswith(\"_original.csv\"):\n",
    "        lst_files.append(fname)\n",
    "\n",
    "lst_files = sorted(lst_files)\n",
    "\n",
    "# 读取每个国家数据, 并输出每个数据的前5行\n",
    "for file in lst_files:\n",
    "    file_name = os.path.basename(file)  # Get the file name from the full file path\n",
    "    country_name = os.path.splitext(file_name)[0]  # Remove the file extension\n",
    "    df = pd.read_csv(file)\n",
    "    print(country_name)\n",
    "    print(df.head())\n",
    "    print('\\n')\n"
   ],
   "metadata": {
    "collapsed": false,
    "ExecuteTime": {
     "end_time": "2023-07-26T10:30:39.196837Z",
     "start_time": "2023-07-26T10:30:39.120410Z"
    }
   }
  },
  {
   "cell_type": "code",
   "execution_count": 10,
   "outputs": [],
   "source": [
    "# 展示每个国家的原始情感数据\n",
    "lst_files = []\n",
    "path = \"../Data/SentimentScores/*.csv\"\n",
    "\n",
    "for fname in glob.glob(path):\n",
    "    # 检查文件名是否以 \"_original.csv\" 结尾\n",
    "    if fname.endswith(\"_original.csv\"):\n",
    "        lst_files.append(fname)\n",
    "\n",
    "lst_files = sorted(lst_files)\n",
    "\n",
    "# 读取每个国家数据, 并输出每个数据的前5行\n",
    "for file in lst_files:\n",
    "    file_name = os.path.basename(file)  # Get the file name from the full file path\n",
    "    country_name = os.path.splitext(file_name)[0]  # Remove the file extension\n",
    "    country_name = country_name.replace(\"_original\", \"\")\n",
    "    df = pd.read_csv(file)\n",
    "    df = df.drop(['Unnamed: 0', 'Country'], axis = 1)\n",
    "    # print(country_name)\n",
    "    # print(df.head())\n",
    "    # print('\\n')\n",
    "    # Find the average Polarity for each Dictionary, per given date\n",
    "    df['Date'] = pd.to_datetime(df['Date'], utc=True).dt.date   \n",
    "    df.reset_index(drop=True, inplace=True)\n",
    "    df = df.groupby('Date').mean(numeric_only=True).reset_index()\n",
    "    df = df.sort_values(by = ['Date'], ascending = True)\n",
    "    idx = pd.date_range('2012-01-01', '2023-06-30')\n",
    "    df = df.set_index(['Date']).reindex(idx, fill_value=np.nan).rename_axis('Date').reset_index()\n",
    "\n",
    "    df['Country'] = country_name\n",
    "    df= df[['Date', 'Country', 'LMD_Polarity', 'HIV4_Polarity', 'Vader_Polarity', 'FinBert_Polarity']]\n",
    "\n",
    "    # count = count + 1\n",
    "    # print(count)\n",
    "    df.to_csv('../Data/Sentiment_Scores/Reuters_Sentiment_Scores/{0}.csv'.format(country_name))"
   ],
   "metadata": {
    "collapsed": false,
    "ExecuteTime": {
     "end_time": "2023-07-27T12:51:00.227898Z",
     "start_time": "2023-07-27T12:50:57.563752Z"
    }
   }
  },
  {
   "cell_type": "code",
   "execution_count": 5,
   "outputs": [],
   "source": [],
   "metadata": {
    "collapsed": false,
    "ExecuteTime": {
     "end_time": "2023-08-15T18:17:36.831473500Z",
     "start_time": "2023-08-15T18:17:36.524879600Z"
    }
   }
  },
  {
   "cell_type": "code",
   "execution_count": 1,
   "outputs": [],
   "source": [],
   "metadata": {
    "collapsed": false,
    "ExecuteTime": {
     "end_time": "2023-08-15T17:14:05.564919500Z",
     "start_time": "2023-08-15T17:14:05.529286Z"
    }
   }
  },
  {
   "cell_type": "code",
   "execution_count": null,
   "outputs": [],
   "source": [],
   "metadata": {
    "collapsed": false
   }
  }
 ],
 "metadata": {
  "kernelspec": {
   "display_name": "Python 3",
   "language": "python",
   "name": "python3"
  },
  "language_info": {
   "codemirror_mode": {
    "name": "ipython",
    "version": 2
   },
   "file_extension": ".py",
   "mimetype": "text/x-python",
   "name": "python",
   "nbconvert_exporter": "python",
   "pygments_lexer": "ipython2",
   "version": "2.7.6"
  }
 },
 "nbformat": 4,
 "nbformat_minor": 0
}
