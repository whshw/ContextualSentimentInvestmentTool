{
 "cells": [
  {
   "cell_type": "code",
   "execution_count": 1,
   "id": "initial_id",
   "metadata": {
    "collapsed": true,
    "ExecuteTime": {
     "end_time": "2023-08-15T17:39:50.718571700Z",
     "start_time": "2023-08-15T17:39:49.006403200Z"
    }
   },
   "outputs": [],
   "source": [
    "# 导入库\n",
    "import numpy as np\n",
    "import pandas as pd\n",
    "import warnings\n",
    "warnings.filterwarnings(\"ignore\", category=UserWarning, module='transformers')\n",
    "\n",
    "from   datetime import datetime\n",
    "from tqdm.notebook import tqdm\n",
    "import os\n",
    "import glob\n",
    "import pysentiment2 as ps\n",
    "import nltk\n",
    "from   nltk.sentiment.vader import SentimentIntensityAnalyzer\n",
    "from   IPython.core.display import HTML\n",
    "\n",
    "from transformers import pipeline\n",
    "from transformers import AutoTokenizer, AutoModelForSequenceClassification\n",
    "\n",
    "import torch"
   ]
  },
  {
   "cell_type": "code",
   "execution_count": 2,
   "outputs": [
    {
     "name": "stderr",
     "output_type": "stream",
     "text": [
      "[nltk_data] Downloading package vader_lexicon to\n",
      "[nltk_data]     C:\\Users\\WangH\\AppData\\Roaming\\nltk_data...\n",
      "[nltk_data]   Package vader_lexicon is already up-to-date!\n",
      "A matching Triton is not available, some optimizations will not be enabled.\n",
      "Error caught was: No module named 'triton'\n"
     ]
    }
   ],
   "source": [
    "## 设置情感分析工具\n",
    "\n",
    "# 下载Vader情感分析工具的词典\n",
    "nltk.download('vader_lexicon')\n",
    "# 初始化Loughran-McDonald情感分析模型\n",
    "lm    = ps.LM()\n",
    "# 初始化HIV-4情感分析模型\n",
    "hiv4  = ps.HIV4()\n",
    "# 初始化Vader情感分析模型\n",
    "vader = SentimentIntensityAnalyzer()\n",
    "\n",
    "# 如果有可用的第一块GPU则使用，否则使用CPU\n",
    "device = torch.device(\"cuda:0\" if torch.cuda.is_available() else \"cpu\")\n",
    "# device = torch.device(\"mps\"if torch.backends.mps.is_available()else \"cpu\")\n",
    "\n",
    "# 初始化FinBERT情感分析模型的tokenizer\n",
    "finbert_tokenizer  = AutoTokenizer.from_pretrained(\"ProsusAI/finbert\")\n",
    "# 从FinBERT预训练模型加载模型\n",
    "finbert_model      = AutoModelForSequenceClassification.from_pretrained(\"ProsusAI/finbert\")\n",
    "# 配置FinBERT情感分析模型的运行环境（GPU or CPU）\n",
    "finbert_classifier = pipeline(\"sentiment-analysis\", model = finbert_model, tokenizer = finbert_tokenizer, device = device)"
   ],
   "metadata": {
    "collapsed": false,
    "ExecuteTime": {
     "end_time": "2023-08-15T17:39:53.101129800Z",
     "start_time": "2023-08-15T17:39:50.722799600Z"
    }
   },
   "id": "f08cd19a9b248282"
  },
  {
   "cell_type": "code",
   "execution_count": 3,
   "outputs": [],
   "source": [
    "def sentimentAnalysisLMD(text):\n",
    "    tokens = lm.tokenize(text) #tokenize the text into relevant words in the LM dict\n",
    "    score = lm.get_score(tokens) #score dict seperates into: NEG, POS, POLARITY, SUBJECTIVITY\n",
    "    return score\n",
    "\n",
    "def sentimentAnalysisHIV4(text):\n",
    "    tokens = hiv4.tokenize(text)\n",
    "    score = hiv4.get_score(tokens)\n",
    "    return score\n",
    "\n",
    "def sentimentAnalysisVader(df):\n",
    "    df_vader = pd.DataFrame(df, columns=['Date', 'Text'])\n",
    "    scores = [vader.polarity_scores(text) for text in tqdm(df_vader['Text'], desc=\"Processing with VADER\")]\n",
    "    scores_vader = pd.DataFrame(scores).add_prefix(\"vader_\")\n",
    "    df_vader = df_vader.join(scores_vader, rsuffix='_right')\n",
    "    return df_vader['vader_compound']\n",
    "\n",
    "def sentimentAnalysisFinBert(df):\n",
    "    df_finbert = pd.DataFrame(df, columns=['Date', 'Text'])\n",
    "    score = []\n",
    "    for text in tqdm(df_finbert['Text'], desc=\"Processing with FinBERT\"):\n",
    "        classified = finbert_classifier(text, truncation=True)[0]\n",
    "        if classified['label'] == \"negative\":\n",
    "            score.append(classified['score']*(-1))\n",
    "        elif classified['label'] == \"positive\":\n",
    "            score.append(classified['score'])\n",
    "        else:\n",
    "            score.append(0)\n",
    "    return score\n"
   ],
   "metadata": {
    "collapsed": false,
    "ExecuteTime": {
     "end_time": "2023-08-15T17:39:53.116133300Z",
     "start_time": "2023-08-15T17:39:53.104128900Z"
    }
   },
   "id": "f612e849891c98f5"
  },
  {
   "cell_type": "code",
   "execution_count": 4,
   "outputs": [
    {
     "name": "stdout",
     "output_type": "stream",
     "text": [
      "../Data/NER/CNN_NER\\Australia.csv\n"
     ]
    },
    {
     "data": {
      "text/plain": "Processing with LMD:   0%|          | 0/1359 [00:00<?, ?it/s]",
      "application/vnd.jupyter.widget-view+json": {
       "version_major": 2,
       "version_minor": 0,
       "model_id": "7d8e2f6cbd8a48ff9aba7952f0f95b59"
      }
     },
     "metadata": {},
     "output_type": "display_data"
    },
    {
     "data": {
      "text/plain": "Processing with HIV4:   0%|          | 0/1359 [00:00<?, ?it/s]",
      "application/vnd.jupyter.widget-view+json": {
       "version_major": 2,
       "version_minor": 0,
       "model_id": "6ec157f23c5d4ec3b14c4985393a4884"
      }
     },
     "metadata": {},
     "output_type": "display_data"
    },
    {
     "data": {
      "text/plain": "Processing with VADER:   0%|          | 0/1359 [00:00<?, ?it/s]",
      "application/vnd.jupyter.widget-view+json": {
       "version_major": 2,
       "version_minor": 0,
       "model_id": "81f0d675e8544b7698246e5399214236"
      }
     },
     "metadata": {},
     "output_type": "display_data"
    },
    {
     "data": {
      "text/plain": "Processing with FinBERT:   0%|          | 0/1359 [00:00<?, ?it/s]",
      "application/vnd.jupyter.widget-view+json": {
       "version_major": 2,
       "version_minor": 0,
       "model_id": "8431b0ddb8a741d59f317f97f032d5c1"
      }
     },
     "metadata": {},
     "output_type": "display_data"
    },
    {
     "name": "stdout",
     "output_type": "stream",
     "text": [
      "1\n",
      "../Data/NER/CNN_NER\\Canada.csv\n"
     ]
    },
    {
     "data": {
      "text/plain": "Processing with LMD:   0%|          | 0/831 [00:00<?, ?it/s]",
      "application/vnd.jupyter.widget-view+json": {
       "version_major": 2,
       "version_minor": 0,
       "model_id": "7f7f4876930e4b8ea3acd97427fdc992"
      }
     },
     "metadata": {},
     "output_type": "display_data"
    },
    {
     "data": {
      "text/plain": "Processing with HIV4:   0%|          | 0/831 [00:00<?, ?it/s]",
      "application/vnd.jupyter.widget-view+json": {
       "version_major": 2,
       "version_minor": 0,
       "model_id": "39269f66b7ad40fc91c8a9027af5659f"
      }
     },
     "metadata": {},
     "output_type": "display_data"
    },
    {
     "data": {
      "text/plain": "Processing with VADER:   0%|          | 0/831 [00:00<?, ?it/s]",
      "application/vnd.jupyter.widget-view+json": {
       "version_major": 2,
       "version_minor": 0,
       "model_id": "d43d8881505e4fbe86915744c149ebfb"
      }
     },
     "metadata": {},
     "output_type": "display_data"
    },
    {
     "data": {
      "text/plain": "Processing with FinBERT:   0%|          | 0/831 [00:00<?, ?it/s]",
      "application/vnd.jupyter.widget-view+json": {
       "version_major": 2,
       "version_minor": 0,
       "model_id": "3083c286f528400390f5619bbeac0d05"
      }
     },
     "metadata": {},
     "output_type": "display_data"
    },
    {
     "name": "stdout",
     "output_type": "stream",
     "text": [
      "2\n",
      "../Data/NER/CNN_NER\\China.csv\n"
     ]
    },
    {
     "data": {
      "text/plain": "Processing with LMD:   0%|          | 0/5494 [00:00<?, ?it/s]",
      "application/vnd.jupyter.widget-view+json": {
       "version_major": 2,
       "version_minor": 0,
       "model_id": "05923a87cd89446b9efffe9a53de4dc9"
      }
     },
     "metadata": {},
     "output_type": "display_data"
    },
    {
     "data": {
      "text/plain": "Processing with HIV4:   0%|          | 0/5494 [00:00<?, ?it/s]",
      "application/vnd.jupyter.widget-view+json": {
       "version_major": 2,
       "version_minor": 0,
       "model_id": "63768602f74b42a8880a802d171dfecf"
      }
     },
     "metadata": {},
     "output_type": "display_data"
    },
    {
     "data": {
      "text/plain": "Processing with VADER:   0%|          | 0/5494 [00:00<?, ?it/s]",
      "application/vnd.jupyter.widget-view+json": {
       "version_major": 2,
       "version_minor": 0,
       "model_id": "bab5ffeee8194455a9dd27937388e745"
      }
     },
     "metadata": {},
     "output_type": "display_data"
    },
    {
     "data": {
      "text/plain": "Processing with FinBERT:   0%|          | 0/5494 [00:00<?, ?it/s]",
      "application/vnd.jupyter.widget-view+json": {
       "version_major": 2,
       "version_minor": 0,
       "model_id": "293a4a3f9ad1409684896d6b9d6ac465"
      }
     },
     "metadata": {},
     "output_type": "display_data"
    },
    {
     "name": "stdout",
     "output_type": "stream",
     "text": [
      "3\n",
      "../Data/NER/CNN_NER\\Denmark.csv\n"
     ]
    },
    {
     "data": {
      "text/plain": "Processing with LMD:   0%|          | 0/136 [00:00<?, ?it/s]",
      "application/vnd.jupyter.widget-view+json": {
       "version_major": 2,
       "version_minor": 0,
       "model_id": "d027c2601d914df0b8e2593136ab876c"
      }
     },
     "metadata": {},
     "output_type": "display_data"
    },
    {
     "data": {
      "text/plain": "Processing with HIV4:   0%|          | 0/136 [00:00<?, ?it/s]",
      "application/vnd.jupyter.widget-view+json": {
       "version_major": 2,
       "version_minor": 0,
       "model_id": "436ccefd79a5445793ab6049e36ec2f1"
      }
     },
     "metadata": {},
     "output_type": "display_data"
    },
    {
     "data": {
      "text/plain": "Processing with VADER:   0%|          | 0/136 [00:00<?, ?it/s]",
      "application/vnd.jupyter.widget-view+json": {
       "version_major": 2,
       "version_minor": 0,
       "model_id": "2e1791a319e94eed971d73b88e5036cc"
      }
     },
     "metadata": {},
     "output_type": "display_data"
    },
    {
     "data": {
      "text/plain": "Processing with FinBERT:   0%|          | 0/136 [00:00<?, ?it/s]",
      "application/vnd.jupyter.widget-view+json": {
       "version_major": 2,
       "version_minor": 0,
       "model_id": "a7fb18ba14cd49cfb93d31b5d568f49e"
      }
     },
     "metadata": {},
     "output_type": "display_data"
    },
    {
     "name": "stdout",
     "output_type": "stream",
     "text": [
      "4\n",
      "../Data/NER/CNN_NER\\Finland.csv\n"
     ]
    },
    {
     "data": {
      "text/plain": "Processing with LMD:   0%|          | 0/127 [00:00<?, ?it/s]",
      "application/vnd.jupyter.widget-view+json": {
       "version_major": 2,
       "version_minor": 0,
       "model_id": "0d798407203845eab20bf6cbf440db13"
      }
     },
     "metadata": {},
     "output_type": "display_data"
    },
    {
     "data": {
      "text/plain": "Processing with HIV4:   0%|          | 0/127 [00:00<?, ?it/s]",
      "application/vnd.jupyter.widget-view+json": {
       "version_major": 2,
       "version_minor": 0,
       "model_id": "fc7583a26d7042fdb9b46971f3c7a544"
      }
     },
     "metadata": {},
     "output_type": "display_data"
    },
    {
     "data": {
      "text/plain": "Processing with VADER:   0%|          | 0/127 [00:00<?, ?it/s]",
      "application/vnd.jupyter.widget-view+json": {
       "version_major": 2,
       "version_minor": 0,
       "model_id": "02c0b5f5bde745639bf064f0ab40be30"
      }
     },
     "metadata": {},
     "output_type": "display_data"
    },
    {
     "data": {
      "text/plain": "Processing with FinBERT:   0%|          | 0/127 [00:00<?, ?it/s]",
      "application/vnd.jupyter.widget-view+json": {
       "version_major": 2,
       "version_minor": 0,
       "model_id": "960a64aeba5d4cef8b8c5313c90cb562"
      }
     },
     "metadata": {},
     "output_type": "display_data"
    },
    {
     "name": "stdout",
     "output_type": "stream",
     "text": [
      "5\n",
      "../Data/NER/CNN_NER\\France.csv\n"
     ]
    },
    {
     "data": {
      "text/plain": "Processing with LMD:   0%|          | 0/474 [00:00<?, ?it/s]",
      "application/vnd.jupyter.widget-view+json": {
       "version_major": 2,
       "version_minor": 0,
       "model_id": "da98e521552d4ba19161a8de1d61a1ad"
      }
     },
     "metadata": {},
     "output_type": "display_data"
    },
    {
     "data": {
      "text/plain": "Processing with HIV4:   0%|          | 0/474 [00:00<?, ?it/s]",
      "application/vnd.jupyter.widget-view+json": {
       "version_major": 2,
       "version_minor": 0,
       "model_id": "c0a5c49f73d64221860aa3f7b494f7f2"
      }
     },
     "metadata": {},
     "output_type": "display_data"
    },
    {
     "data": {
      "text/plain": "Processing with VADER:   0%|          | 0/474 [00:00<?, ?it/s]",
      "application/vnd.jupyter.widget-view+json": {
       "version_major": 2,
       "version_minor": 0,
       "model_id": "73ac907fd8004aa59e0ddca7f1020b0e"
      }
     },
     "metadata": {},
     "output_type": "display_data"
    },
    {
     "data": {
      "text/plain": "Processing with FinBERT:   0%|          | 0/474 [00:00<?, ?it/s]",
      "application/vnd.jupyter.widget-view+json": {
       "version_major": 2,
       "version_minor": 0,
       "model_id": "ea1bdc59a0e7432d9c350e59655bee55"
      }
     },
     "metadata": {},
     "output_type": "display_data"
    },
    {
     "name": "stdout",
     "output_type": "stream",
     "text": [
      "6\n",
      "../Data/NER/CNN_NER\\Germany.csv\n"
     ]
    },
    {
     "data": {
      "text/plain": "Processing with LMD:   0%|          | 0/706 [00:00<?, ?it/s]",
      "application/vnd.jupyter.widget-view+json": {
       "version_major": 2,
       "version_minor": 0,
       "model_id": "8fd1a2fed309415db33c6b0040ab6c13"
      }
     },
     "metadata": {},
     "output_type": "display_data"
    },
    {
     "data": {
      "text/plain": "Processing with HIV4:   0%|          | 0/706 [00:00<?, ?it/s]",
      "application/vnd.jupyter.widget-view+json": {
       "version_major": 2,
       "version_minor": 0,
       "model_id": "c14617fe4b3c485cab5cad575eb00a9a"
      }
     },
     "metadata": {},
     "output_type": "display_data"
    },
    {
     "data": {
      "text/plain": "Processing with VADER:   0%|          | 0/706 [00:00<?, ?it/s]",
      "application/vnd.jupyter.widget-view+json": {
       "version_major": 2,
       "version_minor": 0,
       "model_id": "d0b4e36d2b834c77b6c7f099cd3951ec"
      }
     },
     "metadata": {},
     "output_type": "display_data"
    },
    {
     "data": {
      "text/plain": "Processing with FinBERT:   0%|          | 0/706 [00:00<?, ?it/s]",
      "application/vnd.jupyter.widget-view+json": {
       "version_major": 2,
       "version_minor": 0,
       "model_id": "a52b411723334a639fca59d2336a28d6"
      }
     },
     "metadata": {},
     "output_type": "display_data"
    },
    {
     "name": "stdout",
     "output_type": "stream",
     "text": [
      "7\n",
      "../Data/NER/CNN_NER\\Italy.csv\n"
     ]
    },
    {
     "data": {
      "text/plain": "Processing with LMD:   0%|          | 0/762 [00:00<?, ?it/s]",
      "application/vnd.jupyter.widget-view+json": {
       "version_major": 2,
       "version_minor": 0,
       "model_id": "c081dd253edb417584ad24d6dab37a37"
      }
     },
     "metadata": {},
     "output_type": "display_data"
    },
    {
     "data": {
      "text/plain": "Processing with HIV4:   0%|          | 0/762 [00:00<?, ?it/s]",
      "application/vnd.jupyter.widget-view+json": {
       "version_major": 2,
       "version_minor": 0,
       "model_id": "7d79a3f10dda44bea2074f3f22c8acd9"
      }
     },
     "metadata": {},
     "output_type": "display_data"
    },
    {
     "data": {
      "text/plain": "Processing with VADER:   0%|          | 0/762 [00:00<?, ?it/s]",
      "application/vnd.jupyter.widget-view+json": {
       "version_major": 2,
       "version_minor": 0,
       "model_id": "133e3cf98add4817842578da5f7264d1"
      }
     },
     "metadata": {},
     "output_type": "display_data"
    },
    {
     "data": {
      "text/plain": "Processing with FinBERT:   0%|          | 0/762 [00:00<?, ?it/s]",
      "application/vnd.jupyter.widget-view+json": {
       "version_major": 2,
       "version_minor": 0,
       "model_id": "49e4a3d0b30c4a84b15d033197336d96"
      }
     },
     "metadata": {},
     "output_type": "display_data"
    },
    {
     "name": "stdout",
     "output_type": "stream",
     "text": [
      "8\n",
      "../Data/NER/CNN_NER\\Japan.csv\n"
     ]
    },
    {
     "data": {
      "text/plain": "Processing with LMD:   0%|          | 0/1337 [00:00<?, ?it/s]",
      "application/vnd.jupyter.widget-view+json": {
       "version_major": 2,
       "version_minor": 0,
       "model_id": "e1107027e8ff455bbd285afe8cebbff8"
      }
     },
     "metadata": {},
     "output_type": "display_data"
    },
    {
     "data": {
      "text/plain": "Processing with HIV4:   0%|          | 0/1337 [00:00<?, ?it/s]",
      "application/vnd.jupyter.widget-view+json": {
       "version_major": 2,
       "version_minor": 0,
       "model_id": "302679192d8c4dbaa2fac36d477de931"
      }
     },
     "metadata": {},
     "output_type": "display_data"
    },
    {
     "data": {
      "text/plain": "Processing with VADER:   0%|          | 0/1337 [00:00<?, ?it/s]",
      "application/vnd.jupyter.widget-view+json": {
       "version_major": 2,
       "version_minor": 0,
       "model_id": "b454a8eb59904d3caa39e7184b5b77fe"
      }
     },
     "metadata": {},
     "output_type": "display_data"
    },
    {
     "data": {
      "text/plain": "Processing with FinBERT:   0%|          | 0/1337 [00:00<?, ?it/s]",
      "application/vnd.jupyter.widget-view+json": {
       "version_major": 2,
       "version_minor": 0,
       "model_id": "893aa07577c148148f04ed894943c341"
      }
     },
     "metadata": {},
     "output_type": "display_data"
    },
    {
     "name": "stdout",
     "output_type": "stream",
     "text": [
      "9\n",
      "../Data/NER/CNN_NER\\Netherlands.csv\n"
     ]
    },
    {
     "data": {
      "text/plain": "Processing with LMD:   0%|          | 0/107 [00:00<?, ?it/s]",
      "application/vnd.jupyter.widget-view+json": {
       "version_major": 2,
       "version_minor": 0,
       "model_id": "5969fed1881b4f43b87daa16754b56db"
      }
     },
     "metadata": {},
     "output_type": "display_data"
    },
    {
     "data": {
      "text/plain": "Processing with HIV4:   0%|          | 0/107 [00:00<?, ?it/s]",
      "application/vnd.jupyter.widget-view+json": {
       "version_major": 2,
       "version_minor": 0,
       "model_id": "291372b4ccdd4003b3eea6ca3a5343d5"
      }
     },
     "metadata": {},
     "output_type": "display_data"
    },
    {
     "data": {
      "text/plain": "Processing with VADER:   0%|          | 0/107 [00:00<?, ?it/s]",
      "application/vnd.jupyter.widget-view+json": {
       "version_major": 2,
       "version_minor": 0,
       "model_id": "7656cfe7253141af8f4636dd11e6983d"
      }
     },
     "metadata": {},
     "output_type": "display_data"
    },
    {
     "data": {
      "text/plain": "Processing with FinBERT:   0%|          | 0/107 [00:00<?, ?it/s]",
      "application/vnd.jupyter.widget-view+json": {
       "version_major": 2,
       "version_minor": 0,
       "model_id": "74e41132cc24489b8f0047b70ac932fa"
      }
     },
     "metadata": {},
     "output_type": "display_data"
    },
    {
     "name": "stdout",
     "output_type": "stream",
     "text": [
      "10\n",
      "../Data/NER/CNN_NER\\NewZealand.csv\n"
     ]
    },
    {
     "data": {
      "text/plain": "Processing with LMD:   0%|          | 0/717 [00:00<?, ?it/s]",
      "application/vnd.jupyter.widget-view+json": {
       "version_major": 2,
       "version_minor": 0,
       "model_id": "052ea66582024d56b9831b5b068175ac"
      }
     },
     "metadata": {},
     "output_type": "display_data"
    },
    {
     "data": {
      "text/plain": "Processing with HIV4:   0%|          | 0/717 [00:00<?, ?it/s]",
      "application/vnd.jupyter.widget-view+json": {
       "version_major": 2,
       "version_minor": 0,
       "model_id": "2ce1edc0669d4399b1e787dd209d5537"
      }
     },
     "metadata": {},
     "output_type": "display_data"
    },
    {
     "data": {
      "text/plain": "Processing with VADER:   0%|          | 0/717 [00:00<?, ?it/s]",
      "application/vnd.jupyter.widget-view+json": {
       "version_major": 2,
       "version_minor": 0,
       "model_id": "0d918712099c4787af8120a8b0fd7d36"
      }
     },
     "metadata": {},
     "output_type": "display_data"
    },
    {
     "data": {
      "text/plain": "Processing with FinBERT:   0%|          | 0/717 [00:00<?, ?it/s]",
      "application/vnd.jupyter.widget-view+json": {
       "version_major": 2,
       "version_minor": 0,
       "model_id": "dfb694f827e7436b8ddd286776aa1215"
      }
     },
     "metadata": {},
     "output_type": "display_data"
    },
    {
     "name": "stdout",
     "output_type": "stream",
     "text": [
      "11\n",
      "../Data/NER/CNN_NER\\Norway.csv\n"
     ]
    },
    {
     "data": {
      "text/plain": "Processing with LMD:   0%|          | 0/200 [00:00<?, ?it/s]",
      "application/vnd.jupyter.widget-view+json": {
       "version_major": 2,
       "version_minor": 0,
       "model_id": "e7873465d0a3444d949f1aea6269464d"
      }
     },
     "metadata": {},
     "output_type": "display_data"
    },
    {
     "data": {
      "text/plain": "Processing with HIV4:   0%|          | 0/200 [00:00<?, ?it/s]",
      "application/vnd.jupyter.widget-view+json": {
       "version_major": 2,
       "version_minor": 0,
       "model_id": "60bdc7b1311246589bac3cff727f5980"
      }
     },
     "metadata": {},
     "output_type": "display_data"
    },
    {
     "data": {
      "text/plain": "Processing with VADER:   0%|          | 0/200 [00:00<?, ?it/s]",
      "application/vnd.jupyter.widget-view+json": {
       "version_major": 2,
       "version_minor": 0,
       "model_id": "d14a84eba7c14734a1463a47763c9603"
      }
     },
     "metadata": {},
     "output_type": "display_data"
    },
    {
     "data": {
      "text/plain": "Processing with FinBERT:   0%|          | 0/200 [00:00<?, ?it/s]",
      "application/vnd.jupyter.widget-view+json": {
       "version_major": 2,
       "version_minor": 0,
       "model_id": "814a03cd07ec4509be8c9496c4b0bc63"
      }
     },
     "metadata": {},
     "output_type": "display_data"
    },
    {
     "name": "stdout",
     "output_type": "stream",
     "text": [
      "12\n",
      "../Data/NER/CNN_NER\\Portugal.csv\n"
     ]
    },
    {
     "data": {
      "text/plain": "Processing with LMD:   0%|          | 0/110 [00:00<?, ?it/s]",
      "application/vnd.jupyter.widget-view+json": {
       "version_major": 2,
       "version_minor": 0,
       "model_id": "7cb2d7cff1294b26b79b1158818ff073"
      }
     },
     "metadata": {},
     "output_type": "display_data"
    },
    {
     "data": {
      "text/plain": "Processing with HIV4:   0%|          | 0/110 [00:00<?, ?it/s]",
      "application/vnd.jupyter.widget-view+json": {
       "version_major": 2,
       "version_minor": 0,
       "model_id": "ec5164e25aa34f638195360e3fb0bee7"
      }
     },
     "metadata": {},
     "output_type": "display_data"
    },
    {
     "data": {
      "text/plain": "Processing with VADER:   0%|          | 0/110 [00:00<?, ?it/s]",
      "application/vnd.jupyter.widget-view+json": {
       "version_major": 2,
       "version_minor": 0,
       "model_id": "11a69c128c774a6688143072f95b1d46"
      }
     },
     "metadata": {},
     "output_type": "display_data"
    },
    {
     "data": {
      "text/plain": "Processing with FinBERT:   0%|          | 0/110 [00:00<?, ?it/s]",
      "application/vnd.jupyter.widget-view+json": {
       "version_major": 2,
       "version_minor": 0,
       "model_id": "4e8275cdfc7947cb92526b1ac4a5eac8"
      }
     },
     "metadata": {},
     "output_type": "display_data"
    },
    {
     "name": "stdout",
     "output_type": "stream",
     "text": [
      "13\n",
      "../Data/NER/CNN_NER\\Singapore.csv\n"
     ]
    },
    {
     "data": {
      "text/plain": "Processing with LMD:   0%|          | 0/499 [00:00<?, ?it/s]",
      "application/vnd.jupyter.widget-view+json": {
       "version_major": 2,
       "version_minor": 0,
       "model_id": "22613abeee0c4de4a3a2c4d1527a63c5"
      }
     },
     "metadata": {},
     "output_type": "display_data"
    },
    {
     "data": {
      "text/plain": "Processing with HIV4:   0%|          | 0/499 [00:00<?, ?it/s]",
      "application/vnd.jupyter.widget-view+json": {
       "version_major": 2,
       "version_minor": 0,
       "model_id": "df41c0b74dc340a3b89ac1178453e586"
      }
     },
     "metadata": {},
     "output_type": "display_data"
    },
    {
     "data": {
      "text/plain": "Processing with VADER:   0%|          | 0/499 [00:00<?, ?it/s]",
      "application/vnd.jupyter.widget-view+json": {
       "version_major": 2,
       "version_minor": 0,
       "model_id": "cc339b15821648e0b31bf9f1a18ab64e"
      }
     },
     "metadata": {},
     "output_type": "display_data"
    },
    {
     "data": {
      "text/plain": "Processing with FinBERT:   0%|          | 0/499 [00:00<?, ?it/s]",
      "application/vnd.jupyter.widget-view+json": {
       "version_major": 2,
       "version_minor": 0,
       "model_id": "a7d387b0d94b4ffaba7a114e9fc8dfc5"
      }
     },
     "metadata": {},
     "output_type": "display_data"
    },
    {
     "name": "stdout",
     "output_type": "stream",
     "text": [
      "14\n",
      "../Data/NER/CNN_NER\\SouthKorea.csv\n"
     ]
    },
    {
     "data": {
      "text/plain": "Processing with LMD:   0%|          | 0/892 [00:00<?, ?it/s]",
      "application/vnd.jupyter.widget-view+json": {
       "version_major": 2,
       "version_minor": 0,
       "model_id": "144a12f50dd34be0a7e85a104304aa89"
      }
     },
     "metadata": {},
     "output_type": "display_data"
    },
    {
     "data": {
      "text/plain": "Processing with HIV4:   0%|          | 0/892 [00:00<?, ?it/s]",
      "application/vnd.jupyter.widget-view+json": {
       "version_major": 2,
       "version_minor": 0,
       "model_id": "6efb5e024513429d85ef077909cbaa76"
      }
     },
     "metadata": {},
     "output_type": "display_data"
    },
    {
     "data": {
      "text/plain": "Processing with VADER:   0%|          | 0/892 [00:00<?, ?it/s]",
      "application/vnd.jupyter.widget-view+json": {
       "version_major": 2,
       "version_minor": 0,
       "model_id": "e9dd048f60ed4b5f94fa4877623884c4"
      }
     },
     "metadata": {},
     "output_type": "display_data"
    },
    {
     "data": {
      "text/plain": "Processing with FinBERT:   0%|          | 0/892 [00:00<?, ?it/s]",
      "application/vnd.jupyter.widget-view+json": {
       "version_major": 2,
       "version_minor": 0,
       "model_id": "a8911d32e3e0443d9db3af28bcf83219"
      }
     },
     "metadata": {},
     "output_type": "display_data"
    },
    {
     "name": "stdout",
     "output_type": "stream",
     "text": [
      "15\n",
      "../Data/NER/CNN_NER\\Spain.csv\n"
     ]
    },
    {
     "data": {
      "text/plain": "Processing with LMD:   0%|          | 0/695 [00:00<?, ?it/s]",
      "application/vnd.jupyter.widget-view+json": {
       "version_major": 2,
       "version_minor": 0,
       "model_id": "dcc5d6dcd0614f02aa9ebd75297558bc"
      }
     },
     "metadata": {},
     "output_type": "display_data"
    },
    {
     "data": {
      "text/plain": "Processing with HIV4:   0%|          | 0/695 [00:00<?, ?it/s]",
      "application/vnd.jupyter.widget-view+json": {
       "version_major": 2,
       "version_minor": 0,
       "model_id": "848949adca3b4754a131843451d3db30"
      }
     },
     "metadata": {},
     "output_type": "display_data"
    },
    {
     "data": {
      "text/plain": "Processing with VADER:   0%|          | 0/695 [00:00<?, ?it/s]",
      "application/vnd.jupyter.widget-view+json": {
       "version_major": 2,
       "version_minor": 0,
       "model_id": "0779fc68ac294e45aa70deff028b90d7"
      }
     },
     "metadata": {},
     "output_type": "display_data"
    },
    {
     "data": {
      "text/plain": "Processing with FinBERT:   0%|          | 0/695 [00:00<?, ?it/s]",
      "application/vnd.jupyter.widget-view+json": {
       "version_major": 2,
       "version_minor": 0,
       "model_id": "d485076d40e7405a9fade38daa85e6de"
      }
     },
     "metadata": {},
     "output_type": "display_data"
    },
    {
     "name": "stdout",
     "output_type": "stream",
     "text": [
      "16\n",
      "../Data/NER/CNN_NER\\Sweden.csv\n"
     ]
    },
    {
     "data": {
      "text/plain": "Processing with LMD:   0%|          | 0/262 [00:00<?, ?it/s]",
      "application/vnd.jupyter.widget-view+json": {
       "version_major": 2,
       "version_minor": 0,
       "model_id": "61e627e106274760b0fc167c58458029"
      }
     },
     "metadata": {},
     "output_type": "display_data"
    },
    {
     "data": {
      "text/plain": "Processing with HIV4:   0%|          | 0/262 [00:00<?, ?it/s]",
      "application/vnd.jupyter.widget-view+json": {
       "version_major": 2,
       "version_minor": 0,
       "model_id": "ec0382de37a0481b918d4403aa142035"
      }
     },
     "metadata": {},
     "output_type": "display_data"
    },
    {
     "data": {
      "text/plain": "Processing with VADER:   0%|          | 0/262 [00:00<?, ?it/s]",
      "application/vnd.jupyter.widget-view+json": {
       "version_major": 2,
       "version_minor": 0,
       "model_id": "1f36a8a2e6464ed2bbc8ce6d49dad4d6"
      }
     },
     "metadata": {},
     "output_type": "display_data"
    },
    {
     "data": {
      "text/plain": "Processing with FinBERT:   0%|          | 0/262 [00:00<?, ?it/s]",
      "application/vnd.jupyter.widget-view+json": {
       "version_major": 2,
       "version_minor": 0,
       "model_id": "ed304023160f4974814d2215c0365bcc"
      }
     },
     "metadata": {},
     "output_type": "display_data"
    },
    {
     "name": "stdout",
     "output_type": "stream",
     "text": [
      "17\n",
      "../Data/NER/CNN_NER\\Switzerland.csv\n"
     ]
    },
    {
     "data": {
      "text/plain": "Processing with LMD:   0%|          | 0/121 [00:00<?, ?it/s]",
      "application/vnd.jupyter.widget-view+json": {
       "version_major": 2,
       "version_minor": 0,
       "model_id": "7eed596310b34e83963f891c277b8a54"
      }
     },
     "metadata": {},
     "output_type": "display_data"
    },
    {
     "data": {
      "text/plain": "Processing with HIV4:   0%|          | 0/121 [00:00<?, ?it/s]",
      "application/vnd.jupyter.widget-view+json": {
       "version_major": 2,
       "version_minor": 0,
       "model_id": "ea442de0f8da4a09a8fa1e19e91d6160"
      }
     },
     "metadata": {},
     "output_type": "display_data"
    },
    {
     "data": {
      "text/plain": "Processing with VADER:   0%|          | 0/121 [00:00<?, ?it/s]",
      "application/vnd.jupyter.widget-view+json": {
       "version_major": 2,
       "version_minor": 0,
       "model_id": "ceef4fb0565c4c04be5285abbe479a40"
      }
     },
     "metadata": {},
     "output_type": "display_data"
    },
    {
     "data": {
      "text/plain": "Processing with FinBERT:   0%|          | 0/121 [00:00<?, ?it/s]",
      "application/vnd.jupyter.widget-view+json": {
       "version_major": 2,
       "version_minor": 0,
       "model_id": "cf722268eedf4ca28de9e3fa86a6317c"
      }
     },
     "metadata": {},
     "output_type": "display_data"
    },
    {
     "name": "stdout",
     "output_type": "stream",
     "text": [
      "18\n",
      "../Data/NER/CNN_NER\\UnitedKingdom.csv\n"
     ]
    },
    {
     "data": {
      "text/plain": "Processing with LMD:   0%|          | 0/312 [00:00<?, ?it/s]",
      "application/vnd.jupyter.widget-view+json": {
       "version_major": 2,
       "version_minor": 0,
       "model_id": "8a83c2edc2c64ceb84e841f188fe8d1c"
      }
     },
     "metadata": {},
     "output_type": "display_data"
    },
    {
     "data": {
      "text/plain": "Processing with HIV4:   0%|          | 0/312 [00:00<?, ?it/s]",
      "application/vnd.jupyter.widget-view+json": {
       "version_major": 2,
       "version_minor": 0,
       "model_id": "a8e18c0b34164694b10fe96da989638f"
      }
     },
     "metadata": {},
     "output_type": "display_data"
    },
    {
     "data": {
      "text/plain": "Processing with VADER:   0%|          | 0/312 [00:00<?, ?it/s]",
      "application/vnd.jupyter.widget-view+json": {
       "version_major": 2,
       "version_minor": 0,
       "model_id": "1fcc5cd22a7b4f31bf174087a3c16bd7"
      }
     },
     "metadata": {},
     "output_type": "display_data"
    },
    {
     "data": {
      "text/plain": "Processing with FinBERT:   0%|          | 0/312 [00:00<?, ?it/s]",
      "application/vnd.jupyter.widget-view+json": {
       "version_major": 2,
       "version_minor": 0,
       "model_id": "874e9ab3d9df49beba98f3693afdd9d9"
      }
     },
     "metadata": {},
     "output_type": "display_data"
    },
    {
     "name": "stdout",
     "output_type": "stream",
     "text": [
      "19\n",
      "../Data/NER/CNN_NER\\UnitedStates.csv\n"
     ]
    },
    {
     "data": {
      "text/plain": "Processing with LMD:   0%|          | 0/8138 [00:00<?, ?it/s]",
      "application/vnd.jupyter.widget-view+json": {
       "version_major": 2,
       "version_minor": 0,
       "model_id": "ed813142c09e4a1b88f838c4ccdb6a49"
      }
     },
     "metadata": {},
     "output_type": "display_data"
    },
    {
     "data": {
      "text/plain": "Processing with HIV4:   0%|          | 0/8138 [00:00<?, ?it/s]",
      "application/vnd.jupyter.widget-view+json": {
       "version_major": 2,
       "version_minor": 0,
       "model_id": "7084d0e77540441faf1189fab7b20c88"
      }
     },
     "metadata": {},
     "output_type": "display_data"
    },
    {
     "data": {
      "text/plain": "Processing with VADER:   0%|          | 0/8138 [00:00<?, ?it/s]",
      "application/vnd.jupyter.widget-view+json": {
       "version_major": 2,
       "version_minor": 0,
       "model_id": "5836000159a4466f92f84fbbd4b7fdfc"
      }
     },
     "metadata": {},
     "output_type": "display_data"
    },
    {
     "data": {
      "text/plain": "Processing with FinBERT:   0%|          | 0/8138 [00:00<?, ?it/s]",
      "application/vnd.jupyter.widget-view+json": {
       "version_major": 2,
       "version_minor": 0,
       "model_id": "a2ed4073fd244a65b1f279e7e689273a"
      }
     },
     "metadata": {},
     "output_type": "display_data"
    },
    {
     "name": "stdout",
     "output_type": "stream",
     "text": [
      "20\n"
     ]
    }
   ],
   "source": [
    "lst_files = []\n",
    "\n",
    "Path = \"../Data/NER/CNN_NER/*.csv\"\n",
    "count = 0\n",
    "\n",
    "for fname in glob.glob(Path):\n",
    "    lst_files.append(fname)\n",
    "\n",
    "lst_files = sorted(lst_files)\n",
    "\n",
    "for file in lst_files:\n",
    "    file_name = os.path.basename(file)  # Get the file name from the full file path\n",
    "    country_name = os.path.splitext(file_name)[0]  # Remove the file extension\n",
    "\n",
    "    # 对单个国家的数据进行情感分析\n",
    "    # if country_name == 'Finland':\n",
    "    # Check if the file already exists\n",
    "    if os.path.isfile('../Data/Sentiment_Scores/CNN_Sentiment_Scores/{0}.csv'.format(country_name)):\n",
    "        print(\"File already exists: {0}.csv\".format(country_name))\n",
    "    else:\n",
    "        print(file)\n",
    "        df = pd.read_csv(file)\n",
    "\n",
    "        if df.shape[0] != 0:\n",
    "            df = df.drop_duplicates(['Date','Headline'], keep='last')\n",
    "            df = df.drop(['Unnamed: 0', 'Headline'], axis = 1)\n",
    "            df['Text'] = df['Text'].astype(str)\n",
    "            df['Date'] = pd.to_datetime(df['Date'], utc=True).dt.date\n",
    "            df.reset_index(drop=True, inplace=True)\n",
    "\n",
    "            # LMD + HIV4\n",
    "            df_LMD_HIV4 = pd.DataFrame(df, columns=['Date', 'Text'])\n",
    "            # df_LMD_HIV4[\"scoreLMD\"] = df_LMD_HIV4[\"Text\"].apply(sentimentAnalysisLMD)\n",
    "            # df_LMD_HIV4[\"scoreHIV4\"] = df_LMD_HIV4[\"Text\"].apply(sentimentAnalysisHIV4)\n",
    "            # 使用tqdm在处理sentiment时显示进度条\n",
    "            df_LMD_HIV4[\"scoreLMD\"] = [sentimentAnalysisLMD(text) for text in tqdm(df_LMD_HIV4[\"Text\"], desc=\"Processing with LMD\")]\n",
    "            df_LMD_HIV4[\"scoreHIV4\"] = [sentimentAnalysisHIV4(text) for text in tqdm(df_LMD_HIV4[\"Text\"], desc=\"Processing with HIV4\")]\n",
    "            df_LMD_HIV4 = pd.concat([df_LMD_HIV4.drop([\"scoreLMD\"], axis=1), df_LMD_HIV4[\"scoreLMD\"].apply(pd.Series).add_prefix(\"LMD_\")], axis=1)\n",
    "            df_LMD_HIV4 = pd.concat([df_LMD_HIV4.drop([\"scoreHIV4\"], axis=1), df_LMD_HIV4[\"scoreHIV4\"].apply(pd.Series).add_prefix(\"HIV4_\")], axis=1)\n",
    "            df[['LMD_Polarity', 'HIV4_Polarity']] = df_LMD_HIV4[['LMD_Polarity', 'HIV4_Polarity']]\n",
    "\n",
    "            # VADER\n",
    "            df['Vader_Polarity'] = sentimentAnalysisVader(df)\n",
    "\n",
    "            # FINBERT\n",
    "            df['FinBert_Polarity'] = sentimentAnalysisFinBert(df)\n",
    "\n",
    "            # 储存一下df的原始数据\n",
    "            df_original = df.copy()\n",
    "            df['Country'] = country_name\n",
    "            # Find the average Polarity for each Dictionary, per given date\n",
    "            df = df.groupby('Date').mean(numeric_only=True).reset_index()\n",
    "            df = df.sort_values(by = ['Date'], ascending = True)\n",
    "            idx = pd.date_range('2012-01-01', '2023-06-30')\n",
    "            df = df.set_index(['Date']).reindex(idx, fill_value=np.nan).rename_axis('Date').reset_index()\n",
    "\n",
    "            df['Country'] = country_name\n",
    "            df= df[['Date', 'Country', 'LMD_Polarity', 'HIV4_Polarity', 'Vader_Polarity', 'FinBert_Polarity']]\n",
    "\n",
    "            count = count + 1\n",
    "            print(count)\n",
    "            df.to_csv('../Data/Sentiment_Scores/CNN_Sentiment_Scores/{0}.csv'.format(country_name))\n",
    "            # 保存df的原始数据\n",
    "            df_original.to_csv('../Data/Sentiment_Scores/CNN_Sentiment_Scores/{0}_original.csv'.format(country_name))\n"
   ],
   "metadata": {
    "collapsed": false,
    "ExecuteTime": {
     "end_time": "2023-08-15T17:59:40.103909800Z",
     "start_time": "2023-08-15T17:41:21.738417500Z"
    }
   },
   "id": "544814532bf380b3"
  },
  {
   "cell_type": "code",
   "execution_count": 6,
   "outputs": [
    {
     "name": "stdout",
     "output_type": "stream",
     "text": [
      "Australia\n",
      "   Unnamed: 0        Date    Country  LMD_Polarity  HIV4_Polarity  \\\n",
      "0           0  2012-01-01  Australia           NaN            NaN   \n",
      "1           1  2012-01-02  Australia           NaN            NaN   \n",
      "2           2  2012-01-03  Australia           NaN            NaN   \n",
      "3           3  2012-01-04  Australia           NaN            NaN   \n",
      "4           4  2012-01-05  Australia           NaN            NaN   \n",
      "\n",
      "   Vader_Polarity  FinBert_Polarity  \n",
      "0             NaN               NaN  \n",
      "1             NaN               NaN  \n",
      "2             NaN               NaN  \n",
      "3             NaN               NaN  \n",
      "4             NaN               NaN  \n",
      "\n",
      "\n",
      "Canada\n",
      "   Unnamed: 0        Date Country  LMD_Polarity  HIV4_Polarity  \\\n",
      "0           0  2012-01-01  Canada           NaN            NaN   \n",
      "1           1  2012-01-02  Canada           NaN            NaN   \n",
      "2           2  2012-01-03  Canada           NaN            NaN   \n",
      "3           3  2012-01-04  Canada           NaN            NaN   \n",
      "4           4  2012-01-05  Canada           NaN            NaN   \n",
      "\n",
      "   Vader_Polarity  FinBert_Polarity  \n",
      "0             NaN               NaN  \n",
      "1             NaN               NaN  \n",
      "2             NaN               NaN  \n",
      "3             NaN               NaN  \n",
      "4             NaN               NaN  \n",
      "\n",
      "\n",
      "China\n",
      "   Unnamed: 0        Date Country  LMD_Polarity  HIV4_Polarity  \\\n",
      "0           0  2012-01-01   China           NaN            NaN   \n",
      "1           1  2012-01-02   China           NaN            NaN   \n",
      "2           2  2012-01-03   China           NaN            NaN   \n",
      "3           3  2012-01-04   China           NaN            NaN   \n",
      "4           4  2012-01-05   China           NaN            NaN   \n",
      "\n",
      "   Vader_Polarity  FinBert_Polarity  \n",
      "0             NaN               NaN  \n",
      "1             NaN               NaN  \n",
      "2             NaN               NaN  \n",
      "3             NaN               NaN  \n",
      "4             NaN               NaN  \n",
      "\n",
      "\n",
      "Denmark\n",
      "   Unnamed: 0        Date  Country  LMD_Polarity  HIV4_Polarity  \\\n",
      "0           0  2012-01-01  Denmark           NaN            NaN   \n",
      "1           1  2012-01-02  Denmark           NaN            NaN   \n",
      "2           2  2012-01-03  Denmark           NaN            NaN   \n",
      "3           3  2012-01-04  Denmark           NaN            NaN   \n",
      "4           4  2012-01-05  Denmark           NaN            NaN   \n",
      "\n",
      "   Vader_Polarity  FinBert_Polarity  \n",
      "0             NaN               NaN  \n",
      "1             NaN               NaN  \n",
      "2             NaN               NaN  \n",
      "3             NaN               NaN  \n",
      "4             NaN               NaN  \n",
      "\n",
      "\n",
      "Finland\n",
      "   Unnamed: 0        Date  Country  LMD_Polarity  HIV4_Polarity  \\\n",
      "0           0  2012-01-01  Finland           NaN            NaN   \n",
      "1           1  2012-01-02  Finland           NaN            NaN   \n",
      "2           2  2012-01-03  Finland           NaN            NaN   \n",
      "3           3  2012-01-04  Finland           NaN            NaN   \n",
      "4           4  2012-01-05  Finland           NaN            NaN   \n",
      "\n",
      "   Vader_Polarity  FinBert_Polarity  \n",
      "0             NaN               NaN  \n",
      "1             NaN               NaN  \n",
      "2             NaN               NaN  \n",
      "3             NaN               NaN  \n",
      "4             NaN               NaN  \n",
      "\n",
      "\n",
      "France\n",
      "   Unnamed: 0        Date Country  LMD_Polarity  HIV4_Polarity  \\\n",
      "0           0  2012-01-01  France           NaN            NaN   \n",
      "1           1  2012-01-02  France           NaN            NaN   \n",
      "2           2  2012-01-03  France           NaN            NaN   \n",
      "3           3  2012-01-04  France           NaN            NaN   \n",
      "4           4  2012-01-05  France           NaN            NaN   \n",
      "\n",
      "   Vader_Polarity  FinBert_Polarity  \n",
      "0             NaN               NaN  \n",
      "1             NaN               NaN  \n",
      "2             NaN               NaN  \n",
      "3             NaN               NaN  \n",
      "4             NaN               NaN  \n",
      "\n",
      "\n",
      "Germany\n",
      "   Unnamed: 0        Date  Country  LMD_Polarity  HIV4_Polarity  \\\n",
      "0           0  2012-01-01  Germany           NaN            NaN   \n",
      "1           1  2012-01-02  Germany           NaN            NaN   \n",
      "2           2  2012-01-03  Germany           NaN            NaN   \n",
      "3           3  2012-01-04  Germany           NaN            NaN   \n",
      "4           4  2012-01-05  Germany           NaN            NaN   \n",
      "\n",
      "   Vader_Polarity  FinBert_Polarity  \n",
      "0             NaN               NaN  \n",
      "1             NaN               NaN  \n",
      "2             NaN               NaN  \n",
      "3             NaN               NaN  \n",
      "4             NaN               NaN  \n",
      "\n",
      "\n",
      "Italy\n",
      "   Unnamed: 0        Date Country  LMD_Polarity  HIV4_Polarity  \\\n",
      "0           0  2012-01-01   Italy           NaN            NaN   \n",
      "1           1  2012-01-02   Italy           NaN            NaN   \n",
      "2           2  2012-01-03   Italy           NaN            NaN   \n",
      "3           3  2012-01-04   Italy           NaN            NaN   \n",
      "4           4  2012-01-05   Italy           NaN            NaN   \n",
      "\n",
      "   Vader_Polarity  FinBert_Polarity  \n",
      "0             NaN               NaN  \n",
      "1             NaN               NaN  \n",
      "2             NaN               NaN  \n",
      "3             NaN               NaN  \n",
      "4             NaN               NaN  \n",
      "\n",
      "\n",
      "Japan\n",
      "   Unnamed: 0        Date Country  LMD_Polarity  HIV4_Polarity  \\\n",
      "0           0  2012-01-01   Japan           NaN            NaN   \n",
      "1           1  2012-01-02   Japan           NaN            NaN   \n",
      "2           2  2012-01-03   Japan           NaN            NaN   \n",
      "3           3  2012-01-04   Japan           NaN            NaN   \n",
      "4           4  2012-01-05   Japan           NaN            NaN   \n",
      "\n",
      "   Vader_Polarity  FinBert_Polarity  \n",
      "0             NaN               NaN  \n",
      "1             NaN               NaN  \n",
      "2             NaN               NaN  \n",
      "3             NaN               NaN  \n",
      "4             NaN               NaN  \n",
      "\n",
      "\n",
      "Netherlands\n",
      "   Unnamed: 0        Date      Country  LMD_Polarity  HIV4_Polarity  \\\n",
      "0           0  2012-01-01  Netherlands           NaN            NaN   \n",
      "1           1  2012-01-02  Netherlands           NaN            NaN   \n",
      "2           2  2012-01-03  Netherlands           NaN            NaN   \n",
      "3           3  2012-01-04  Netherlands           NaN            NaN   \n",
      "4           4  2012-01-05  Netherlands           NaN            NaN   \n",
      "\n",
      "   Vader_Polarity  FinBert_Polarity  \n",
      "0             NaN               NaN  \n",
      "1             NaN               NaN  \n",
      "2             NaN               NaN  \n",
      "3             NaN               NaN  \n",
      "4             NaN               NaN  \n",
      "\n",
      "\n",
      "NewZealand\n",
      "   Unnamed: 0        Date     Country  LMD_Polarity  HIV4_Polarity  \\\n",
      "0           0  2012-01-01  NewZealand           NaN            NaN   \n",
      "1           1  2012-01-02  NewZealand           NaN            NaN   \n",
      "2           2  2012-01-03  NewZealand           NaN            NaN   \n",
      "3           3  2012-01-04  NewZealand           NaN            NaN   \n",
      "4           4  2012-01-05  NewZealand           NaN            NaN   \n",
      "\n",
      "   Vader_Polarity  FinBert_Polarity  \n",
      "0             NaN               NaN  \n",
      "1             NaN               NaN  \n",
      "2             NaN               NaN  \n",
      "3             NaN               NaN  \n",
      "4             NaN               NaN  \n",
      "\n",
      "\n",
      "Norway\n",
      "   Unnamed: 0        Date Country  LMD_Polarity  HIV4_Polarity  \\\n",
      "0           0  2012-01-01  Norway           NaN            NaN   \n",
      "1           1  2012-01-02  Norway           NaN            NaN   \n",
      "2           2  2012-01-03  Norway           NaN            NaN   \n",
      "3           3  2012-01-04  Norway     -0.507692       0.193548   \n",
      "4           4  2012-01-05  Norway           NaN            NaN   \n",
      "\n",
      "   Vader_Polarity  FinBert_Polarity  \n",
      "0             NaN               NaN  \n",
      "1             NaN               NaN  \n",
      "2             NaN               NaN  \n",
      "3          0.9367         -0.698363  \n",
      "4             NaN               NaN  \n",
      "\n",
      "\n",
      "Portugal\n",
      "   Unnamed: 0        Date   Country  LMD_Polarity  HIV4_Polarity  \\\n",
      "0           0  2012-01-01  Portugal           NaN            NaN   \n",
      "1           1  2012-01-02  Portugal           NaN            NaN   \n",
      "2           2  2012-01-03  Portugal           NaN            NaN   \n",
      "3           3  2012-01-04  Portugal           NaN            NaN   \n",
      "4           4  2012-01-05  Portugal           NaN            NaN   \n",
      "\n",
      "   Vader_Polarity  FinBert_Polarity  \n",
      "0             NaN               NaN  \n",
      "1             NaN               NaN  \n",
      "2             NaN               NaN  \n",
      "3             NaN               NaN  \n",
      "4             NaN               NaN  \n",
      "\n",
      "\n",
      "Singapore\n",
      "   Unnamed: 0        Date    Country  LMD_Polarity  HIV4_Polarity  \\\n",
      "0           0  2012-01-01  Singapore           NaN            NaN   \n",
      "1           1  2012-01-02  Singapore           NaN            NaN   \n",
      "2           2  2012-01-03  Singapore           NaN            NaN   \n",
      "3           3  2012-01-04  Singapore           NaN            NaN   \n",
      "4           4  2012-01-05  Singapore           NaN            NaN   \n",
      "\n",
      "   Vader_Polarity  FinBert_Polarity  \n",
      "0             NaN               NaN  \n",
      "1             NaN               NaN  \n",
      "2             NaN               NaN  \n",
      "3             NaN               NaN  \n",
      "4             NaN               NaN  \n",
      "\n",
      "\n",
      "SouthKorea\n",
      "   Unnamed: 0        Date     Country  LMD_Polarity  HIV4_Polarity  \\\n",
      "0           0  2012-01-01  SouthKorea           NaN            NaN   \n",
      "1           1  2012-01-02  SouthKorea           NaN            NaN   \n",
      "2           2  2012-01-03  SouthKorea           NaN            NaN   \n",
      "3           3  2012-01-04  SouthKorea           NaN            NaN   \n",
      "4           4  2012-01-05  SouthKorea           NaN            NaN   \n",
      "\n",
      "   Vader_Polarity  FinBert_Polarity  \n",
      "0             NaN               NaN  \n",
      "1             NaN               NaN  \n",
      "2             NaN               NaN  \n",
      "3             NaN               NaN  \n",
      "4             NaN               NaN  \n",
      "\n",
      "\n",
      "Spain\n",
      "   Unnamed: 0        Date Country  LMD_Polarity  HIV4_Polarity  \\\n",
      "0           0  2012-01-01   Spain           NaN            NaN   \n",
      "1           1  2012-01-02   Spain           NaN            NaN   \n",
      "2           2  2012-01-03   Spain           NaN            NaN   \n",
      "3           3  2012-01-04   Spain           NaN            NaN   \n",
      "4           4  2012-01-05   Spain           NaN            NaN   \n",
      "\n",
      "   Vader_Polarity  FinBert_Polarity  \n",
      "0             NaN               NaN  \n",
      "1             NaN               NaN  \n",
      "2             NaN               NaN  \n",
      "3             NaN               NaN  \n",
      "4             NaN               NaN  \n",
      "\n",
      "\n",
      "Sweden\n",
      "   Unnamed: 0        Date Country  LMD_Polarity  HIV4_Polarity  \\\n",
      "0           0  2012-01-01  Sweden           NaN            NaN   \n",
      "1           1  2012-01-02  Sweden           NaN            NaN   \n",
      "2           2  2012-01-03  Sweden           NaN            NaN   \n",
      "3           3  2012-01-04  Sweden           NaN            NaN   \n",
      "4           4  2012-01-05  Sweden           NaN            NaN   \n",
      "\n",
      "   Vader_Polarity  FinBert_Polarity  \n",
      "0             NaN               NaN  \n",
      "1             NaN               NaN  \n",
      "2             NaN               NaN  \n",
      "3             NaN               NaN  \n",
      "4             NaN               NaN  \n",
      "\n",
      "\n",
      "Switzerland\n",
      "   Unnamed: 0        Date      Country  LMD_Polarity  HIV4_Polarity  \\\n",
      "0           0  2012-01-01  Switzerland           NaN            NaN   \n",
      "1           1  2012-01-02  Switzerland           NaN            NaN   \n",
      "2           2  2012-01-03  Switzerland           NaN            NaN   \n",
      "3           3  2012-01-04  Switzerland           NaN            NaN   \n",
      "4           4  2012-01-05  Switzerland           NaN            NaN   \n",
      "\n",
      "   Vader_Polarity  FinBert_Polarity  \n",
      "0             NaN               NaN  \n",
      "1             NaN               NaN  \n",
      "2             NaN               NaN  \n",
      "3             NaN               NaN  \n",
      "4             NaN               NaN  \n",
      "\n",
      "\n",
      "UnitedKingdom\n",
      "   Unnamed: 0        Date        Country  LMD_Polarity  HIV4_Polarity  \\\n",
      "0           0  2012-01-01  UnitedKingdom           NaN            NaN   \n",
      "1           1  2012-01-02  UnitedKingdom           NaN            NaN   \n",
      "2           2  2012-01-03  UnitedKingdom           NaN            NaN   \n",
      "3           3  2012-01-04  UnitedKingdom           NaN            NaN   \n",
      "4           4  2012-01-05  UnitedKingdom           NaN            NaN   \n",
      "\n",
      "   Vader_Polarity  FinBert_Polarity  \n",
      "0             NaN               NaN  \n",
      "1             NaN               NaN  \n",
      "2             NaN               NaN  \n",
      "3             NaN               NaN  \n",
      "4             NaN               NaN  \n",
      "\n",
      "\n",
      "UnitedStates\n",
      "   Unnamed: 0        Date       Country  LMD_Polarity  HIV4_Polarity  \\\n",
      "0           0  2012-01-01  UnitedStates           NaN            NaN   \n",
      "1           1  2012-01-02  UnitedStates           NaN            NaN   \n",
      "2           2  2012-01-03  UnitedStates           NaN            NaN   \n",
      "3           3  2012-01-04  UnitedStates     -0.507692       0.193548   \n",
      "4           4  2012-01-05  UnitedStates     -0.076923       0.100000   \n",
      "\n",
      "   Vader_Polarity  FinBert_Polarity  \n",
      "0             NaN               NaN  \n",
      "1             NaN               NaN  \n",
      "2             NaN               NaN  \n",
      "3          0.9367         -0.698363  \n",
      "4          0.9872          0.000000  \n"
     ]
    }
   ],
   "source": [
    "# 展示每个国家的情感分析数据\n",
    "lst_files = []\n",
    "path = \"../Data/CNN_Sentiment_Scores/*.csv\"\n",
    "\n",
    "for fname in glob.glob(path):\n",
    "    # 检查文件名是否以 \"_original.csv\" 结尾\n",
    "    if not fname.endswith(\"_original.csv\"):\n",
    "        lst_files.append(fname)\n",
    "\n",
    "lst_files = sorted(lst_files)\n",
    "\n",
    "# 读取每个国家数据, 并输出每个数据的前5行\n",
    "for file in lst_files:\n",
    "    file_name = os.path.basename(file)  # Get the file name from the full file path\n",
    "    country_name = os.path.splitext(file_name)[0]  # Remove the file extension\n",
    "    df = pd.read_csv(file)\n",
    "    \n",
    "    # print(country_name)\n",
    "    # print(df.head())\n",
    "    # print('\\n')\n"
   ],
   "metadata": {
    "collapsed": false,
    "ExecuteTime": {
     "end_time": "2023-08-12T18:23:41.496800100Z",
     "start_time": "2023-08-12T18:23:41.313657300Z"
    }
   },
   "id": "5f2a54440125b455"
  },
  {
   "cell_type": "code",
   "execution_count": 8,
   "outputs": [
    {
     "name": "stdout",
     "output_type": "stream",
     "text": [
      "Australia\n",
      "         Date                                               Text  \\\n",
      "0  2016-05-05  Australia's most wanted ISIS recruiter 'killed...   \n",
      "1  2016-05-08  Australian PM Turnbull announces general elect...   \n",
      "2  2016-05-11  'World's oldest ax' found in Australia. Archae...   \n",
      "3  2016-05-11  Five terror suspects caught trying to flee Aus...   \n",
      "4  2016-05-13  The great Richard Quest social media challenge...   \n",
      "\n",
      "   LMD_Polarity  HIV4_Polarity  Vader_Polarity  FinBert_Polarity  \n",
      "0      0.000000      -0.222222         -0.9947          0.000000  \n",
      "1     -0.130435       0.172414          0.9705         -0.757349  \n",
      "2     -0.250000       0.135135          0.8271          0.000000  \n",
      "3     -0.837838      -0.159091         -0.9980         -0.578246  \n",
      "4     -0.384615       0.377778          0.7569          0.000000  \n",
      "\n",
      "\n",
      "Canada\n",
      "         Date                                               Text  \\\n",
      "0  2016-11-18  America's NAFTA nemesis: Canada, not Mexico. A...   \n",
      "1  2016-11-28  O Canada: Trudeau's Castro tribute raises eyeb...   \n",
      "2  2016-12-01  The NAFTA teardown: Here's where Trump could s...   \n",
      "3  2016-12-15  These are America's biggest trading partners. ...   \n",
      "4  2017-01-19  Canada's Donald Trump? 'Shark Tank' star Kevin...   \n",
      "\n",
      "   LMD_Polarity  HIV4_Polarity  Vader_Polarity  FinBert_Polarity  \n",
      "0     -0.612903      -0.083871         -0.9971         -0.925336  \n",
      "1     -0.052632       0.315789          0.9804          0.000000  \n",
      "2     -0.642857       0.274725          0.9469         -0.845155  \n",
      "3     -0.250000       0.172414          0.9493          0.000000  \n",
      "4     -0.400000       0.168317          0.9191          0.000000  \n",
      "\n",
      "China\n",
      "         Date                                               Text  \\\n",
      "0  2020-10-02  This Republican senator is the early leader fo...   \n",
      "1  2020-10-03  Trump has repeatedly blamed China for a virus ...   \n",
      "2  2020-10-05  Top milk supplier Fonterra is selling its dair...   \n",
      "3  2020-10-05  The United States is taking aim at China's big...   \n",
      "4  2020-10-05  China's treatment of Uyghur Muslims sparks ang...   \n",
      "\n",
      "   LMD_Polarity  HIV4_Polarity  Vader_Polarity  FinBert_Polarity  \n",
      "0     -0.272727      -0.090909          0.8443          0.000000  \n",
      "1      0.000000       0.085714         -0.7843         -0.851552  \n",
      "2     -0.555555       0.351351          0.8911         -0.942332  \n",
      "3     -0.407407       0.341176         -0.9350         -0.971316  \n",
      "4     -0.714286       0.244444         -0.9737         -0.553782  \n",
      "\n",
      "\n",
      "Denmark\n",
      "         Date                                               Text  \\\n",
      "0  2012-04-27  3 arrested in Denmark over suspected terror pl...   \n",
      "1  2012-04-28  Denmark terror suspects appear in court. Three...   \n",
      "2  2012-06-04  Four convicted in Scandinavian 'Mumbai-style' ...   \n",
      "3  2012-06-19  UEFA sees red over Bendtner's underpants. Denm...   \n",
      "4  2012-08-03  Mixing business and pleasure: What is the poin...   \n",
      "\n",
      "   LMD_Polarity  HIV4_Polarity  Vader_Polarity  FinBert_Polarity  \n",
      "0     -0.818182      -0.037037         -0.9723         -0.519981  \n",
      "1     -1.000000      -0.280000         -0.9873         -0.603254  \n",
      "2     -0.860465      -0.022727         -0.9991         -0.567540  \n",
      "3     -0.900000       0.155556         -0.9786         -0.911054  \n",
      "4      0.565217       0.659574          0.9972          0.000000  \n",
      "\n",
      "\n",
      "Finland\n",
      "         Date                                               Text  \\\n",
      "0  2012-05-26  Police: 2 dead and 8 wounded in Finland shooti...   \n",
      "1  2013-03-25  Quest: Cold comfort for Cyprus at Lapland retr...   \n",
      "2  2014-02-20  Sochi 2014: Russia's ice hockey dream ends. It...   \n",
      "3  2014-02-22  Sochi 2014: More woes for U.S. hockey but joy ...   \n",
      "4  2014-02-22  Americans lose in hockey, crushed 5-0 by Finla...   \n",
      "\n",
      "   LMD_Polarity  HIV4_Polarity  Vader_Polarity  FinBert_Polarity  \n",
      "0     -0.777778      -0.428571         -0.9883         -0.778246  \n",
      "1     -0.700000       0.048780          0.9288          0.000000  \n",
      "2      0.114286       0.314685          0.9999          0.000000  \n",
      "3      0.000000       0.333333          0.9957         -0.779281  \n",
      "4     -0.466667       0.259259          0.9860         -0.741185  \n",
      "\n",
      "\n",
      "France\n",
      "         Date                                               Text  \\\n",
      "0  2019-06-07  Former NASCAR CEO Brian France pleads guilty t...   \n",
      "1  2019-06-07  The FIFA Women's World Cup kicks off a big spo...   \n",
      "2  2019-06-11  Tree symbolizing Trump-Macron friendship dies....   \n",
      "3  2019-06-12  France will send a new 'friendship tree' to Tr...   \n",
      "4  2019-06-18  Being blamed for the oil tanker attack suits I...   \n",
      "\n",
      "   LMD_Polarity  HIV4_Polarity  Vader_Polarity  FinBert_Polarity  \n",
      "0     -0.652174      -0.069767         -0.9074          0.000000  \n",
      "1      0.348837       0.367647          0.9977          0.000000  \n",
      "2     -0.200000       0.283019          0.9615         -0.495029  \n",
      "3     -0.333333       0.319149         -0.7637          0.000000  \n",
      "4     -0.823529       0.064516         -0.9974         -0.558818  \n",
      "\n",
      "\n",
      "Germany\n",
      "         Date                                               Text  \\\n",
      "0  2017-07-06  Trump, Merkel start off tense visit with a han...   \n",
      "1  2017-07-06  Germany worried Trump may start trade war with...   \n",
      "2  2017-07-06  U.S. trade deficit is getting bigger. Presiden...   \n",
      "3  2017-07-07  Germans should retire later, IMF says. The Int...   \n",
      "4  2017-07-09  Inside Trump's Europe trip: The President sett...   \n",
      "\n",
      "   LMD_Polarity  HIV4_Polarity  Vader_Polarity  FinBert_Polarity  \n",
      "0     -0.571429       0.313433          0.7884         -0.786531  \n",
      "1     -0.565217      -0.250000         -0.9934         -0.924395  \n",
      "2     -0.878788      -0.403509         -0.9961         -0.908636  \n",
      "3     -0.066667       0.017544          0.9870          0.000000  \n",
      "4     -0.593220       0.098446          0.9897         -0.546522  \n",
      "\n",
      "\n",
      "Italy\n",
      "         Date                                               Text  \\\n",
      "0  2013-06-17  Rooms with no view: Underground stays. A room ...   \n",
      "1  2013-06-20  Fashion icons Dolce, Gabbana convicted in Ital...   \n",
      "2  2013-06-24  UNESCO adds 19 sites to World Heritage List. N...   \n",
      "3  2013-06-27  Plane carrying Missoni fashion director found ...   \n",
      "4  2013-07-16  Italian lawmaker compares black politician to ...   \n",
      "\n",
      "   LMD_Polarity  HIV4_Polarity  Vader_Polarity  FinBert_Polarity  \n",
      "0      0.000000       0.378788          0.9972          0.000000  \n",
      "1     -0.923077       0.111111         -0.8362         -0.680626  \n",
      "2      0.333333       0.853659          0.9867          0.000000  \n",
      "3     -0.428571       0.806452          0.5709          0.000000  \n",
      "4     -0.263158       0.090909         -0.8225         -0.711681  \n",
      "\n",
      "\n",
      "Japan\n",
      "         Date                                               Text  \\\n",
      "0  2016-11-03  Japan's single mothers face poverty trap. In o...   \n",
      "1  2016-11-09  Japan finance officials in emergency talks aft...   \n",
      "2  2016-11-10  Want to read your dog's mind? Japan's boom in ...   \n",
      "3  2016-11-11  Nagoya: Home to Japan's most unique cuisine?. ...   \n",
      "4  2016-11-11  India and Japan sign civil nuclear deal. India...   \n",
      "\n",
      "   LMD_Polarity  HIV4_Polarity  Vader_Polarity  FinBert_Polarity  \n",
      "0     -0.500000       0.255319          0.9887         -0.668425  \n",
      "1     -0.571429      -0.096774         -0.9432         -0.966146  \n",
      "2      0.448276       0.514563          0.9943          0.000000  \n",
      "3      0.333333       0.301587          0.9945          0.000000  \n",
      "4     -0.714286       0.466667          0.9846          0.000000  \n",
      "\n",
      "\n",
      "Netherlands\n",
      "         Date                                               Text  \\\n",
      "0  2012-03-09  Dutch euthanasia clinic offers mobile service....   \n",
      "1  2012-04-24  Backlash against eurozone austerity. A politic...   \n",
      "2  2012-04-24  Muslims in Europe dogged by bias, Amnesty says...   \n",
      "3  2012-10-17  Picasso, Matisse paintings and more stolen fro...   \n",
      "4  2012-10-24  Farmers sue oil giant Shell over Niger Delta p...   \n",
      "\n",
      "   LMD_Polarity  HIV4_Polarity  Vader_Polarity  FinBert_Polarity  \n",
      "0     -0.652174       0.351779         -0.9983         -0.820266  \n",
      "1     -0.560976       0.060000         -0.0009         -0.965478  \n",
      "2     -0.687500       0.189542         -0.9584         -0.665701  \n",
      "3     -0.818182       0.363636          0.6605         -0.571813  \n",
      "4     -0.703704       0.117647         -0.9841         -0.834652  \n",
      "\n",
      "NewZealand\n",
      "         Date                                               Text  \\\n",
      "0  2011-06-29  New Zealand zoo: Lost penguine with stomach fu...   \n",
      "1  2011-09-16  New Zealand romp to Japan victory. Rugby World...   \n",
      "2  2011-09-21  Tonga win ends Japan's Rugby World Cup hopes. ...   \n",
      "3  2011-09-24  All Blacks overcome bogey team France to reach...   \n",
      "4  2011-10-01  England beat Scotland to reach last eight at R...   \n",
      "\n",
      "   LMD_Polarity  HIV4_Polarity  Vader_Polarity  FinBert_Polarity  \n",
      "0      0.000000       0.230769          0.8337         -0.570667  \n",
      "1      0.000000       0.176471          0.9319          0.000000  \n",
      "2      0.200000       0.172414          0.9748          0.000000  \n",
      "3     -0.142857       0.000000          0.9397          0.488229  \n",
      "4     -0.250000      -0.090909         -0.8714         -0.496151  \n",
      "\n",
      "\n",
      "Norway\n",
      "         Date                                               Text  \\\n",
      "0  2011-11-15  Norway terror suspect to leave solitary confin...   \n",
      "1  2011-11-15  Judge: Norway terror suspect is not insane. Th...   \n",
      "2  2011-11-29  Norway mass murder suspect is insane, police s...   \n",
      "3  2011-12-13  Prices spike as butter shortage spreads throug...   \n",
      "4  2012-01-04  Report: North Korea world's least democratic n...   \n",
      "\n",
      "   LMD_Polarity  HIV4_Polarity  Vader_Polarity  FinBert_Polarity  \n",
      "0     -1.000000      -0.500000         -0.9914         -0.712294  \n",
      "1     -0.888889      -0.218750         -0.9890         -0.671420  \n",
      "2     -0.642857      -0.012346         -0.9952         -0.721867  \n",
      "3     -1.000000       0.315789         -0.8360         -0.962597  \n",
      "4     -0.507692       0.193548          0.9367         -0.698363  \n",
      "\n",
      "\n",
      "Portugal\n",
      "         Date                                               Text  \\\n",
      "0  2011-09-28  On the run for 41 years, hijacker traced to Po...   \n",
      "1  2011-09-29  Extradition of U.S. militant from Portugal may...   \n",
      "2  2011-10-02  Source: Travel patterns, fingerprint match led...   \n",
      "3  2011-10-09  American fugitive in Portugal fights extraditi...   \n",
      "4  2011-11-18  Court rules against extradition for U.S. fugit...   \n",
      "\n",
      "   LMD_Polarity  HIV4_Polarity  Vader_Polarity  FinBert_Polarity  \n",
      "0     -0.714286       0.012048         -0.6438          0.000000  \n",
      "1     -1.000000      -0.111111         -0.6132         -0.536953  \n",
      "2     -1.000000      -0.135135         -0.9532         -0.704474  \n",
      "3     -1.000000      -0.169811         -0.9792          0.000000  \n",
      "4     -0.913043       0.113924         -0.9878         -0.553161  \n",
      "\n",
      "\n",
      "Singapore\n",
      "         Date                                               Text  \\\n",
      "0  2011-09-26  Latest F1 standings after Singapore GP. Sebast...   \n",
      "1  2011-10-07  Debts and dreams: Singapore's migrant workers....   \n",
      "2  2011-10-25  Alleged conspiracy that sent bomb components f...   \n",
      "3  2011-10-26  Singapore considers extradition review of susp...   \n",
      "4  2011-10-31  Little rest for Singapore's silent army. The l...   \n",
      "\n",
      "   LMD_Polarity  HIV4_Polarity  Vader_Polarity  FinBert_Polarity  \n",
      "0      0.142857       0.235294          0.8126          0.000000  \n",
      "1     -0.636364       0.178744         -0.9973          0.000000  \n",
      "2     -0.941176      -0.083333         -0.7227         -0.650361  \n",
      "3     -0.888889      -0.111111         -0.8126         -0.725281  \n",
      "4     -0.600000       0.416667         -0.7444         -0.672128  \n",
      "\n",
      "\n",
      "SouthKorea\n",
      "         Date                                               Text  \\\n",
      "0  2013-03-26  Island faces North Korean threat up close. It ...   \n",
      "1  2013-03-26  North Korea ups the ante in war of words, thre...   \n",
      "2  2013-03-28  U.S. says it sent B-2 stealth bombers over Sou...   \n",
      "3  2013-03-28  U.S. officials concerned over North Korea's 'r...   \n",
      "4  2013-03-29  North Korea readying rockets to aim at U.S. ta...   \n",
      "\n",
      "   LMD_Polarity  HIV4_Polarity  Vader_Polarity  FinBert_Polarity  \n",
      "0     -0.600000      -0.241379         -0.9976         -0.898877  \n",
      "1     -0.696970      -0.308642         -0.9972          0.000000  \n",
      "2     -0.769231      -0.174603         -0.9817         -0.745794  \n",
      "3     -0.652174       0.022556         -0.9889         -0.790052  \n",
      "4     -0.700000      -0.082569         -0.5704         -0.550404  \n",
      "\n",
      "\n",
      "Spain\n",
      "         Date                                               Text  \\\n",
      "0  2011-09-02  Secrets of Spain's Alhambra to be revealed to ...   \n",
      "1  2011-09-16  Spain take commanding Davis Cup lead over Fran...   \n",
      "2  2011-09-16  The New Musketeers: France's fantastic four bi...   \n",
      "3  2011-09-17  Motorsport: Stoner claims pole in Spain. Champ...   \n",
      "4  2011-09-23  Suspected al Qaeda operative is released, but ...   \n",
      "\n",
      "   LMD_Polarity  HIV4_Polarity  Vader_Polarity  FinBert_Polarity  \n",
      "0      0.777778       0.549296          0.9911          0.000000  \n",
      "1      0.000000       0.118644          0.9848          0.000000  \n",
      "2      0.272727       0.350993          0.9997          0.000000  \n",
      "3      0.000000       0.428571          0.9774          0.532622  \n",
      "4     -0.826087      -0.183673         -0.9963         -0.537741  \n",
      "\n",
      "\n",
      "Sweden\n",
      "         Date                                               Text  \\\n",
      "0  2011-10-29  Assange extradition ruling to come within days...   \n",
      "1  2011-11-03  Assange loses fight against extradition. WikiL...   \n",
      "2  2011-11-09  In Sweden, a generation of kids who've never b...   \n",
      "3  2012-03-15  Crews search for missing Norwegian military pl...   \n",
      "4  2012-05-03  Summer in Lapland, land of the midnight sun. Y...   \n",
      "\n",
      "   LMD_Polarity  HIV4_Polarity  Vader_Polarity  FinBert_Polarity  \n",
      "0     -0.777778      -0.058824         -0.9833         -0.844236  \n",
      "1     -0.750000       0.000000         -0.9875         -0.738890  \n",
      "2     -0.717647       0.098814         -0.9994         -0.512517  \n",
      "3     -1.000000       0.034483         -0.9607         -0.781307  \n",
      "4      0.090909       0.378378          0.9971          0.000000  \n",
      "\n",
      "\n",
      "Switzerland\n",
      "         Date                                               Text  \\\n",
      "0  2011-09-23  Scientists: Particles appear to travel faster ...   \n",
      "1  2011-10-24  Swiss voters choose  moderate, center parties ...   \n",
      "2  2011-11-09  'Train-addicted' Swiss on track for rail revam...   \n",
      "3  2011-11-12  Muslims outraged over pig parts dumped at Swis...   \n",
      "4  2011-12-02  Liechtenstein works to shake off 'tax haven' t...   \n",
      "\n",
      "   LMD_Polarity  HIV4_Polarity  Vader_Polarity  FinBert_Polarity  \n",
      "0     -0.300000       0.460674          0.9677          0.000000  \n",
      "1     -0.500000       0.120000          0.9628         -0.955928  \n",
      "2      0.000000       0.476190          0.9467          0.000000  \n",
      "3     -0.520000       0.038462         -0.9938         -0.829079  \n",
      "4     -0.230769       0.372549          0.4209          0.837744  \n",
      "\n",
      "\n",
      "UnitedKingdom\n",
      "         Date                                               Text  \\\n",
      "0  2022-06-07  Boris Johnson confidence vote. Our live covera...   \n",
      "1  2022-06-07  Britain's economy is in a bad place. Removing ...   \n",
      "2  2022-06-08  Buy now, pay later users in the UK are racking...   \n",
      "3  2022-06-08  Former Hollywood producer Harvey Weinstein fac...   \n",
      "4  2022-06-14  A hostel that housed Rwanda genocide survivors...   \n",
      "\n",
      "   LMD_Polarity  HIV4_Polarity  Vader_Polarity  FinBert_Polarity  \n",
      "0     -0.100917       0.285714          1.0000         -0.852166  \n",
      "1     -0.416667       0.133858          0.9948         -0.958129  \n",
      "2     -0.363636       0.382979          0.9889         -0.650815  \n",
      "3     -1.000000      -0.652174         -0.9702          0.000000  \n",
      "4     -0.538462       0.217949          0.9735          0.000000  \n",
      "\n",
      "UnitedStates\n",
      "   Unnamed: 0.1        Date  \\\n",
      "0          4511  2011-04-05   \n",
      "1          4528  2011-09-16   \n",
      "2          4170  2011-09-19   \n",
      "3          3391  2011-09-21   \n",
      "4          1040  2011-09-21   \n",
      "\n",
      "                                                Text  LMD_Polarity  \\\n",
      "0  Tonight on JKUSA…. Tonight John King, USA will...     -1.000000   \n",
      "1  Palestinians vow push for state but hint compr...     -0.250000   \n",
      "2  FBI: 2010 sees further decline in violent crim...     -0.857143   \n",
      "3  Former Ukrainian Nazi, 90, loses deportation a...     -0.833333   \n",
      "4  Morales wants drug certification for U.S.. The...     -0.818182   \n",
      "\n",
      "   HIV4_Polarity  Vader_Polarity  FinBert_Polarity  \n",
      "0       0.217391          0.6482          0.000000  \n",
      "1       0.632653          0.9965          0.000000  \n",
      "2      -0.483871         -0.9950         -0.968908  \n",
      "3      -0.025641         -0.9468         -0.682231  \n",
      "4      -0.018868         -0.9841         -0.782525  \n"
     ]
    }
   ],
   "source": [
    "# 展示每个国家的原始情感数据\n",
    "lst_files = []\n",
    "path = \"../Data/CNN_Sentiment_Scores/*.csv\"\n",
    "\n",
    "for fname in glob.glob(path):\n",
    "    # 检查文件名是否以 \"_original.csv\" 结尾\n",
    "    if fname.endswith(\"_original.csv\"):\n",
    "        lst_files.append(fname)\n",
    "\n",
    "lst_files = sorted(lst_files)\n",
    "\n",
    "# 读取每个国家数据, 并输出每个数据的前5行\n",
    "for file in lst_files:\n",
    "    file_name = os.path.basename(file)  # Get the file name from the full file path\n",
    "    country_name = os.path.splitext(file_name)[0]  # Remove the file extension\n",
    "    country_name = country_name.replace(\"_original\", \"\")\n",
    "    df = pd.read_csv(file)\n",
    "    df = df.drop(['Unnamed: 0'], axis = 1)\n",
    "    print(country_name)\n",
    "    print(df.head())\n",
    "    print('\\n')\n",
    "    # Find the average Polarity for each Dictionary, per given date\n",
    "    df['Date'] = pd.to_datetime(df['Date'], utc=True).dt.date   \n",
    "    df.reset_index(drop=True, inplace=True)\n",
    "    df = df.groupby('Date').mean(numeric_only=True).reset_index()\n",
    "    df = df.sort_values(by = ['Date'], ascending = True)\n",
    "    # idx = pd.date_range('2012-01-01', '2023-06-30')\n",
    "    # df = df.set_index(['Date']).reindex(idx, fill_value=np.nan).rename_axis('Date').reset_index()\n",
    "    # \n",
    "    # df['Country'] = country_name\n",
    "    # df= df[['Date', 'Country', 'LMD_Polarity', 'HIV4_Polarity', 'Vader_Polarity', 'FinBert_Polarity']]\n",
    "    # \n",
    "    # # count = count + 1\n",
    "    # # print(count)\n",
    "    # df.to_csv('../Data/CNN_Sentiment_Scores/{0}.csv'.format(country_name))"
   ],
   "metadata": {
    "collapsed": false,
    "ExecuteTime": {
     "end_time": "2023-08-12T18:28:09.668066200Z",
     "start_time": "2023-08-12T18:28:08.226522500Z"
    }
   },
   "id": "94f532b7b9e75b7e"
  },
  {
   "cell_type": "code",
   "execution_count": null,
   "outputs": [],
   "source": [
    "# # 合并所有国家的情感分析数据\n",
    "# lst_Reuters_files = []\n",
    "# lst_MarketWatch_files = []\n",
    "# path_Reuters = \"../Data/CNN_Sentiment_Scores/*.csv\"\n",
    "# path_MarketWatch = \"../Data/MW Sentiment/*.csv\"\n",
    "# \n",
    "# for fname in glob.glob(path_Reuters):\n",
    "#     # 检查文件名是否以 \"_original.csv\" 结尾\n",
    "#     if not fname.endswith(\"_original.csv\"):\n",
    "#         lst_Reuters_files.append(fname)\n",
    "# \n",
    "# for fname in glob.glob(path_MarketWatch):\n",
    "#     lst_MarketWatch_files.append(fname)\n",
    "# \n",
    "# lst_Reuters_files = sorted(lst_Reuters_files)\n",
    "# lst_MarketWatch_files = sorted(lst_MarketWatch_files)\n",
    "# \n",
    "# df_Reuters_sentiment = pd.concat(map(pd.read_csv, lst_Reuters_files), ignore_index=True)\n",
    "# df_MW_sentiment = pd.concat(map(pd.read_csv, lst_MarketWatch_files), ignore_index=True)\n",
    "# \n",
    "# # Sort by Date, Country; drop redundant columns\n",
    "# df_Reuters_sentiment = df_Reuters_sentiment.sort_values(by = ['Date', 'Country'], ascending = True)\n",
    "# df_Reuters_sentiment = df_Reuters_sentiment.drop(['Unnamed: 0'], axis = 1)\n",
    "# df_MW_sentiment = df_MW_sentiment.sort_values(by = ['Date', 'Country'], ascending = True)\n",
    "# df_MW_sentiment = df_MW_sentiment.drop(['Unnamed: 0'], axis = 1)\n",
    "# \n",
    "# # Align Sentiment with the following day's Return\n",
    "# df_Reuters_sentiment['Date'] = pd.to_datetime(df_Reuters_sentiment['Date'])\n",
    "# df_Reuters_sentiment = df_Reuters_sentiment[~(df_Reuters_sentiment['Date'] < '2012-01-01')]\n",
    "# df_MW_sentiment['Date'] = pd.to_datetime(df_MW_sentiment['Date'])\n",
    "# df_MW_sentiment = df_MW_sentiment[~(df_MW_sentiment['Date'] < '2012-01-01')]\n",
    "# # df['Date'] = df[\"Date\"] + BusinessDay()\n",
    "# \n",
    "# # 展示数据\n",
    "# # df\n",
    "# #\n",
    "# df_Reuters_sentiment.to_csv(r'../Data/{0}.csv'.format('Merged Sentiment Reuters'))\n",
    "# df_MW_sentiment.to_csv(r'../Data/{0}.csv'.format('Merged Sentiment MW'))\n"
   ],
   "metadata": {
    "collapsed": false
   },
   "id": "50bb8f7e440ce2e1"
  },
  {
   "cell_type": "code",
   "execution_count": 9,
   "outputs": [
    {
     "data": {
      "text/plain": "         Date  New Zealand  United Kingdom   Finland    Norway  United States  \\\n0  2011-12-01          NaN             NaN       NaN       NaN            NaN   \n1  2011-12-02    -0.010866       -0.207038  0.302897  0.235483       0.489692   \n2  2011-12-05     0.077141       -0.460678 -0.474224 -0.158909      -0.084015   \n3  2011-12-06     0.201784        0.810078  0.100602 -0.190226      -0.406179   \n4  2011-12-07     0.187048        0.129148  0.496636  0.290407       0.543003   \n\n     Sweden     Korea     Japan    Canada  ...  Australia   Germany    France  \\\n0       NaN       NaN       NaN       NaN  ...        NaN       NaN       NaN   \n1  0.154354  0.094609 -0.042270  0.178307  ...   0.053087  0.393824 -1.345329   \n2 -0.179613  0.056292  0.165816  0.227525  ...   0.302855 -0.615728  1.099039   \n3  0.198203 -0.004941  0.066255 -0.330724  ...   0.354603  0.150150 -0.863361   \n4  0.567308 -0.043160  0.002849  0.596567  ...  -0.273399  0.762903  0.199724   \n\n      China  Switzerland     Spain   Denmark     Italy  Singapore  Portugal  \n0       NaN          NaN       NaN       NaN       NaN        NaN       NaN  \n1  0.328191     0.241278  0.536400  0.065521 -0.189497  -0.251753  0.148492  \n2  0.264403    -0.125720  3.778843 -1.723893  5.259712  -0.012405  3.308727  \n3 -0.157734     0.335027 -0.630513  0.272330  0.715348   0.047384  1.062182  \n4  0.001528     0.198283 -1.476326 -0.028845 -0.948723  -0.251362  1.737582  \n\n[5 rows x 21 columns]",
      "text/html": "<div>\n<style scoped>\n    .dataframe tbody tr th:only-of-type {\n        vertical-align: middle;\n    }\n\n    .dataframe tbody tr th {\n        vertical-align: top;\n    }\n\n    .dataframe thead th {\n        text-align: right;\n    }\n</style>\n<table border=\"1\" class=\"dataframe\">\n  <thead>\n    <tr style=\"text-align: right;\">\n      <th></th>\n      <th>Date</th>\n      <th>New Zealand</th>\n      <th>United Kingdom</th>\n      <th>Finland</th>\n      <th>Norway</th>\n      <th>United States</th>\n      <th>Sweden</th>\n      <th>Korea</th>\n      <th>Japan</th>\n      <th>Canada</th>\n      <th>...</th>\n      <th>Australia</th>\n      <th>Germany</th>\n      <th>France</th>\n      <th>China</th>\n      <th>Switzerland</th>\n      <th>Spain</th>\n      <th>Denmark</th>\n      <th>Italy</th>\n      <th>Singapore</th>\n      <th>Portugal</th>\n    </tr>\n  </thead>\n  <tbody>\n    <tr>\n      <th>0</th>\n      <td>2011-12-01</td>\n      <td>NaN</td>\n      <td>NaN</td>\n      <td>NaN</td>\n      <td>NaN</td>\n      <td>NaN</td>\n      <td>NaN</td>\n      <td>NaN</td>\n      <td>NaN</td>\n      <td>NaN</td>\n      <td>...</td>\n      <td>NaN</td>\n      <td>NaN</td>\n      <td>NaN</td>\n      <td>NaN</td>\n      <td>NaN</td>\n      <td>NaN</td>\n      <td>NaN</td>\n      <td>NaN</td>\n      <td>NaN</td>\n      <td>NaN</td>\n    </tr>\n    <tr>\n      <th>1</th>\n      <td>2011-12-02</td>\n      <td>-0.010866</td>\n      <td>-0.207038</td>\n      <td>0.302897</td>\n      <td>0.235483</td>\n      <td>0.489692</td>\n      <td>0.154354</td>\n      <td>0.094609</td>\n      <td>-0.042270</td>\n      <td>0.178307</td>\n      <td>...</td>\n      <td>0.053087</td>\n      <td>0.393824</td>\n      <td>-1.345329</td>\n      <td>0.328191</td>\n      <td>0.241278</td>\n      <td>0.536400</td>\n      <td>0.065521</td>\n      <td>-0.189497</td>\n      <td>-0.251753</td>\n      <td>0.148492</td>\n    </tr>\n    <tr>\n      <th>2</th>\n      <td>2011-12-05</td>\n      <td>0.077141</td>\n      <td>-0.460678</td>\n      <td>-0.474224</td>\n      <td>-0.158909</td>\n      <td>-0.084015</td>\n      <td>-0.179613</td>\n      <td>0.056292</td>\n      <td>0.165816</td>\n      <td>0.227525</td>\n      <td>...</td>\n      <td>0.302855</td>\n      <td>-0.615728</td>\n      <td>1.099039</td>\n      <td>0.264403</td>\n      <td>-0.125720</td>\n      <td>3.778843</td>\n      <td>-1.723893</td>\n      <td>5.259712</td>\n      <td>-0.012405</td>\n      <td>3.308727</td>\n    </tr>\n    <tr>\n      <th>3</th>\n      <td>2011-12-06</td>\n      <td>0.201784</td>\n      <td>0.810078</td>\n      <td>0.100602</td>\n      <td>-0.190226</td>\n      <td>-0.406179</td>\n      <td>0.198203</td>\n      <td>-0.004941</td>\n      <td>0.066255</td>\n      <td>-0.330724</td>\n      <td>...</td>\n      <td>0.354603</td>\n      <td>0.150150</td>\n      <td>-0.863361</td>\n      <td>-0.157734</td>\n      <td>0.335027</td>\n      <td>-0.630513</td>\n      <td>0.272330</td>\n      <td>0.715348</td>\n      <td>0.047384</td>\n      <td>1.062182</td>\n    </tr>\n    <tr>\n      <th>4</th>\n      <td>2011-12-07</td>\n      <td>0.187048</td>\n      <td>0.129148</td>\n      <td>0.496636</td>\n      <td>0.290407</td>\n      <td>0.543003</td>\n      <td>0.567308</td>\n      <td>-0.043160</td>\n      <td>0.002849</td>\n      <td>0.596567</td>\n      <td>...</td>\n      <td>-0.273399</td>\n      <td>0.762903</td>\n      <td>0.199724</td>\n      <td>0.001528</td>\n      <td>0.198283</td>\n      <td>-1.476326</td>\n      <td>-0.028845</td>\n      <td>-0.948723</td>\n      <td>-0.251362</td>\n      <td>1.737582</td>\n    </tr>\n  </tbody>\n</table>\n<p>5 rows × 21 columns</p>\n</div>"
     },
     "execution_count": 9,
     "metadata": {},
     "output_type": "execute_result"
    }
   ],
   "source": [
    "# 导入收益率数据\n",
    "df_return = pd.read_csv('../Data/daily_return.csv')\n",
    "\n",
    "# 展示数据\n",
    "df_return.head()"
   ],
   "metadata": {
    "collapsed": false,
    "ExecuteTime": {
     "end_time": "2023-08-12T18:41:21.869184300Z",
     "start_time": "2023-08-12T18:41:21.840750600Z"
    }
   },
   "id": "d98c7abe9feca67d"
  },
  {
   "cell_type": "code",
   "execution_count": 24,
   "outputs": [],
   "source": [
    "correlation_data = []  # 用于储存每个国家的相关性数据\n",
    "\n",
    "lst_files = []\n",
    "path = \"../Data/CNN_Sentiment_Scores/*.csv\"\n",
    "\n",
    "for fname in glob.glob(path):\n",
    "    # 检查文件名是否以 \"_original.csv\" 结尾\n",
    "    if not fname.endswith(\"_original.csv\"):\n",
    "        lst_files.append(fname)\n",
    "\n",
    "lst_files = sorted(lst_files)\n",
    "        \n",
    "correlation_data = []\n",
    "\n",
    "# 对于每个国家的情感分数数据，找到非NaN值的日期，取相应的收益率数据，然后计算相关性\n",
    "for file in lst_files:\n",
    "    file_name = os.path.basename(file)  # 获取完整文件路径的文件名\n",
    "    country_name = os.path.splitext(file_name)[0]  # 去掉文件扩展名\n",
    "\n",
    "    df_sentiment = pd.read_csv(file)\n",
    "    df_sentiment = df_sentiment.drop(['Unnamed: 0'], axis = 1)\n",
    "    available_dates = df_sentiment[df_sentiment['LMD_Polarity'].notna()]['Date'].tolist()  # 获取非NaN情感分数的日期\n",
    "\n",
    "    # 根据可用日期筛选收益率数据\n",
    "    df_country_return = df_return[df_return['Date'].isin(available_dates)][['Date', country_name]]\n",
    "    df_country_return.columns = ['Date', 'Return']\n",
    "\n",
    "    # Merge the sentiment data with the return data\n",
    "    merged_data = pd.merge(df_sentiment, df_country_return, on='Date')\n",
    "\n",
    "    # Ensure that there's no missing return data in merged_data\n",
    "    merged_data = merged_data.dropna(subset=['Return'])\n",
    "\n",
    "    # Compute the correlations\n",
    "    correlations = merged_data.corr(numeric_only=True).unstack().sort_values(ascending=False)  # Build correlation matrix\n",
    "    correlations = pd.DataFrame(correlations).reset_index()  # Convert to dataframe\n",
    "    correlations.columns = ['Return', 'Method', 'Correlation with Returns']  # Label it\n",
    "\n",
    "    # Filter for correlations with 'Return' and exclude the correlation of 'Return' with itself\n",
    "    result = correlations.query(\"Return == 'Return' & Method != 'Return'\")\n",
    "\n",
    "    # Store the results\n",
    "    for _, row in result.iterrows():\n",
    "        correlation_data.append({\n",
    "            'Country': country_name,\n",
    "            'Method': row['Method'],\n",
    "            'Correlation with Returns': row['Correlation with Returns']\n",
    "        })\n",
    "\n",
    "df_correlation = pd.DataFrame(correlation_data)\n",
    "df_correlation.to_csv('../Data/correlation_results.csv', index=False)\n",
    "\n",
    "    "
   ],
   "metadata": {
    "collapsed": false,
    "ExecuteTime": {
     "end_time": "2023-08-12T19:03:52.132571500Z",
     "start_time": "2023-08-12T19:03:51.910233800Z"
    }
   },
   "id": "3871bedad7e7a40e"
  },
  {
   "cell_type": "code",
   "execution_count": 25,
   "outputs": [
    {
     "data": {
      "text/plain": "           Country            Method  Correlation with Returns\n0        Australia    Vader_Polarity                  0.023871\n1        Australia      LMD_Polarity                  0.019424\n2        Australia  FinBert_Polarity                  0.005801\n3        Australia     HIV4_Polarity                 -0.005539\n4           Canada     HIV4_Polarity                 -0.004902\n..             ...               ...                       ...\n75  United Kingdom    Vader_Polarity                  0.028748\n76   United States     HIV4_Polarity                  0.003358\n77   United States    Vader_Polarity                  0.000419\n78   United States  FinBert_Polarity                 -0.018033\n79   United States      LMD_Polarity                 -0.023221\n\n[80 rows x 3 columns]",
      "text/html": "<div>\n<style scoped>\n    .dataframe tbody tr th:only-of-type {\n        vertical-align: middle;\n    }\n\n    .dataframe tbody tr th {\n        vertical-align: top;\n    }\n\n    .dataframe thead th {\n        text-align: right;\n    }\n</style>\n<table border=\"1\" class=\"dataframe\">\n  <thead>\n    <tr style=\"text-align: right;\">\n      <th></th>\n      <th>Country</th>\n      <th>Method</th>\n      <th>Correlation with Returns</th>\n    </tr>\n  </thead>\n  <tbody>\n    <tr>\n      <th>0</th>\n      <td>Australia</td>\n      <td>Vader_Polarity</td>\n      <td>0.023871</td>\n    </tr>\n    <tr>\n      <th>1</th>\n      <td>Australia</td>\n      <td>LMD_Polarity</td>\n      <td>0.019424</td>\n    </tr>\n    <tr>\n      <th>2</th>\n      <td>Australia</td>\n      <td>FinBert_Polarity</td>\n      <td>0.005801</td>\n    </tr>\n    <tr>\n      <th>3</th>\n      <td>Australia</td>\n      <td>HIV4_Polarity</td>\n      <td>-0.005539</td>\n    </tr>\n    <tr>\n      <th>4</th>\n      <td>Canada</td>\n      <td>HIV4_Polarity</td>\n      <td>-0.004902</td>\n    </tr>\n    <tr>\n      <th>...</th>\n      <td>...</td>\n      <td>...</td>\n      <td>...</td>\n    </tr>\n    <tr>\n      <th>75</th>\n      <td>United Kingdom</td>\n      <td>Vader_Polarity</td>\n      <td>0.028748</td>\n    </tr>\n    <tr>\n      <th>76</th>\n      <td>United States</td>\n      <td>HIV4_Polarity</td>\n      <td>0.003358</td>\n    </tr>\n    <tr>\n      <th>77</th>\n      <td>United States</td>\n      <td>Vader_Polarity</td>\n      <td>0.000419</td>\n    </tr>\n    <tr>\n      <th>78</th>\n      <td>United States</td>\n      <td>FinBert_Polarity</td>\n      <td>-0.018033</td>\n    </tr>\n    <tr>\n      <th>79</th>\n      <td>United States</td>\n      <td>LMD_Polarity</td>\n      <td>-0.023221</td>\n    </tr>\n  </tbody>\n</table>\n<p>80 rows × 3 columns</p>\n</div>"
     },
     "execution_count": 25,
     "metadata": {},
     "output_type": "execute_result"
    }
   ],
   "source": [
    "df_correlation"
   ],
   "metadata": {
    "collapsed": false,
    "ExecuteTime": {
     "end_time": "2023-08-12T19:03:52.149577Z",
     "start_time": "2023-08-12T19:03:52.133572300Z"
    }
   },
   "id": "a78fe5b41e9043f0"
  },
  {
   "cell_type": "code",
   "execution_count": null,
   "outputs": [],
   "source": [],
   "metadata": {
    "collapsed": false
   },
   "id": "97434bba9e20a5bb"
  }
 ],
 "metadata": {
  "kernelspec": {
   "display_name": "Python 3",
   "language": "python",
   "name": "python3"
  },
  "language_info": {
   "codemirror_mode": {
    "name": "ipython",
    "version": 2
   },
   "file_extension": ".py",
   "mimetype": "text/x-python",
   "name": "python",
   "nbconvert_exporter": "python",
   "pygments_lexer": "ipython2",
   "version": "2.7.6"
  }
 },
 "nbformat": 4,
 "nbformat_minor": 5
}
