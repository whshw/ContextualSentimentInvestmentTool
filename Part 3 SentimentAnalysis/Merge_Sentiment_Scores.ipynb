{
 "cells": [
  {
   "cell_type": "code",
   "execution_count": 7,
   "outputs": [],
   "source": [
    "# 导入库\n",
    "import pandas as pd\n",
    "import numpy as np\n",
    "import glob"
   ],
   "metadata": {
    "collapsed": false,
    "ExecuteTime": {
     "end_time": "2023-08-16T19:59:26.954070900Z",
     "start_time": "2023-08-16T19:59:26.940559900Z"
    }
   },
   "id": "81800142029e5c30"
  },
  {
   "cell_type": "code",
   "execution_count": 8,
   "id": "initial_id",
   "metadata": {
    "collapsed": true,
    "ExecuteTime": {
     "end_time": "2023-08-16T19:59:37.141737700Z",
     "start_time": "2023-08-16T19:59:36.253083600Z"
    }
   },
   "outputs": [],
   "source": [
    "# 选择NER阈值\n",
    "count = 'count 1'\n",
    "\n",
    "# 合并所有国家的情感分析数据\n",
    "path_Reuters = \"../Data/Sentiment_Scores/\" + count + \"/Reuters_Sentiment_Scores/*.csv\"\n",
    "path_MarketWatch = \"../Data/Sentiment_Scores/\" + count + \"/MW_Sentiment_Scores/*.csv\"\n",
    "path_CNN = \"../Data/Sentiment_Scores/\" + count + \"/CNN_Sentiment_Scores/*.csv\"\n",
    "\n",
    "def process_files(path, exclude_suffix=None):\n",
    "    lst_files = []\n",
    "\n",
    "    for fname in glob.glob(path):\n",
    "        if exclude_suffix:\n",
    "            if not fname.endswith(exclude_suffix):\n",
    "                lst_files.append(fname)\n",
    "        else:\n",
    "            lst_files.append(fname)\n",
    "\n",
    "    lst_files = sorted(lst_files)\n",
    "\n",
    "    df_sentiment = pd.concat(map(pd.read_csv, lst_files), ignore_index=True)\n",
    "    df_sentiment = df_sentiment.sort_values(by=['Date', 'Country'], ascending=True)\n",
    "    df_sentiment = df_sentiment.drop(['Unnamed: 0'], axis=1)\n",
    "    df_sentiment['Date'] = pd.to_datetime(df_sentiment['Date'])\n",
    "    df_sentiment = df_sentiment[~(df_sentiment['Date'] < '2012-01-01')]\n",
    "\n",
    "    return df_sentiment\n",
    "\n",
    "# 处理数据\n",
    "df_Reuters_sentiment = process_files(path_Reuters, \"_original.csv\")\n",
    "df_MW_sentiment = process_files(path_MarketWatch, \"_original.csv\")\n",
    "df_CNN_sentiment = process_files(path_CNN, \"_original.csv\")\n",
    "\n",
    "\n",
    "df_Reuters_sentiment.to_csv(r'../Data/Sentiment_Scores/{0}.csv'.format('Merged Sentiment Reuters'))\n",
    "df_MW_sentiment.to_csv(r'../Data/Sentiment_Scores/{0}.csv'.format('Merged Sentiment MW'))\n",
    "df_CNN_sentiment.to_csv(r'../Data/Sentiment_Scores/{0}.csv'.format('Merged Sentiment CNN'))\n"
   ]
  },
  {
   "cell_type": "code",
   "execution_count": 9,
   "outputs": [],
   "source": [
    "# 读取CNN合并后的情感分数数据\n",
    "df_CNN_sentiment = pd.read_csv('../Data/Sentiment_Scores/Merged Sentiment CNN.csv')\n",
    "# 将CNN的国家名称中的“UnitedStates”改为“United Sates”\n",
    "df_CNN_sentiment['Country'] = df_CNN_sentiment['Country'].replace('UnitedStates', 'United States')\n",
    "# 将CNN的国家名称中的“UnitedKingdom”改为“United Kingdom”\n",
    "df_CNN_sentiment['Country'] = df_CNN_sentiment['Country'].replace('UnitedKingdom', 'United Kingdom')\n",
    "# 将CNN的国家名称中的“SouthKorea”改为“South Korea”\n",
    "df_CNN_sentiment['Country'] = df_CNN_sentiment['Country'].replace('SouthKorea', 'South Korea')\n",
    "# 将CNN的国家名称中的“NewZealand”改为“New Zealand”\n",
    "df_CNN_sentiment['Country'] = df_CNN_sentiment['Country'].replace('NewZealand', 'New Zealand')\n",
    "# 保存修改后的CNN情感分数数据\n",
    "df_CNN_sentiment.to_csv(r'../Data/Sentiment_Scores/{0}.csv'.format('Merged Sentiment CNN'))"
   ],
   "metadata": {
    "collapsed": false,
    "ExecuteTime": {
     "end_time": "2023-08-16T19:59:39.425821200Z",
     "start_time": "2023-08-16T19:59:39.166054600Z"
    }
   },
   "id": "8872edb89ba2ea11"
  },
  {
   "cell_type": "code",
   "execution_count": null,
   "outputs": [],
   "source": [],
   "metadata": {
    "collapsed": false
   },
   "id": "bb31a089f36939ba"
  }
 ],
 "metadata": {
  "kernelspec": {
   "display_name": "Python 3",
   "language": "python",
   "name": "python3"
  },
  "language_info": {
   "codemirror_mode": {
    "name": "ipython",
    "version": 2
   },
   "file_extension": ".py",
   "mimetype": "text/x-python",
   "name": "python",
   "nbconvert_exporter": "python",
   "pygments_lexer": "ipython2",
   "version": "2.7.6"
  }
 },
 "nbformat": 4,
 "nbformat_minor": 5
}
