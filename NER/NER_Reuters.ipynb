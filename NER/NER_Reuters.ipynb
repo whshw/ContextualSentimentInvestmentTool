{
 "cells": [
  {
   "cell_type": "code",
   "execution_count": 1,
   "metadata": {
    "collapsed": true,
    "ExecuteTime": {
     "end_time": "2023-07-25T15:45:33.200690Z",
     "start_time": "2023-07-25T15:45:29.847780Z"
    }
   },
   "outputs": [],
   "source": [
    "import numpy as np\n",
    "import pandas as pd\n",
    "import re\n",
    "import glob\n",
    "from   os import path\n",
    "import os\n",
    "from tqdm.notebook import tqdm\n",
    "from dateutil.parser import parse\n",
    "from dateutil.tz import gettz\n",
    "\n",
    "import warnings\n",
    "warnings.filterwarnings('ignore', category=UserWarning, module='transformers')\n",
    "\n",
    "import torch\n",
    "\n",
    "from transformers import AutoTokenizer, AutoModelForTokenClassification\n",
    "from transformers import pipeline\n",
    "\n",
    "# use the first GPU if available, otherwise use CPU\n",
    "device = torch.device(\"mps\"if torch.backends.mps.is_available()else \"cpu\")\n",
    "# device = 0 if torch.cuda.is_available() else -1\n",
    "# device = torch.device(\"cuda\" if torch.cuda.is_available() else \"cpu\")\n",
    "\n",
    "tokenizer = AutoTokenizer.from_pretrained(\"dslim/bert-base-NER\")\n",
    "model = AutoModelForTokenClassification.from_pretrained(\"dslim/bert-base-NER\")\n",
    "\n",
    "nlp = pipeline(\"ner\", model=model, tokenizer=tokenizer, device=device)"
   ]
  },
  {
   "cell_type": "code",
   "execution_count": 2,
   "outputs": [],
   "source": [
    "def combineHeadlineText(row):\n",
    "    if isinstance(row[\"Headline\"], str):\n",
    "        return row[\"Headline\"] + \". \" + row[\"Text\"]\n",
    "    else:\n",
    "        return row[\"Text\"]"
   ],
   "metadata": {
    "collapsed": false,
    "ExecuteTime": {
     "end_time": "2023-07-25T15:45:33.202678Z",
     "start_time": "2023-07-25T15:45:33.201099Z"
    }
   }
  },
  {
   "cell_type": "code",
   "execution_count": 3,
   "outputs": [],
   "source": [
    "# 定义一个字典储存每个国家的别名\n",
    "country_aliases = {\n",
    "\"United States\": [\"USA\", \"America\", \"United States of America\", \"US\"],\n",
    "\"Canada\": [\"Canada\", \"CA\"],\n",
    "\"United Kingdom\": [\"UK\", \"United Kingdom\", \"Britain\", \"England\", \"Scotland\", \"Wales\", \"Northern Ireland\"],\n",
    "\"Australia\": [\"Australia\", \"AU\", \"Aussie\"],\n",
    "\"China\": [\"China\", \"PRC\", \"People's Republic of China\"],\n",
    "\"Denmark\": [\"Denmark\", \"DK\"],\n",
    "\"Finland\": [\"Finland\", \"FI\"],\n",
    "\"France\": [\"France\", \"French Republic\", \"FR\"],\n",
    "\"Germany\": [\"Germany\", \"Federal Republic of Germany\", \"DE\"],\n",
    "\"Japan\": [\"Japan\", \"JP\"],\n",
    "\"Italy\": [\"Italy\", \"Italian Republic\", \"IT\"],\n",
    "\"Netherlands\": [\"Netherlands\", \"Holland\", \"NL\"],\n",
    "\"Norway\": [\"Norway\", \"NO\"],\n",
    "\"Portugal\": [\"Portugal\", \"PT\"],\n",
    "\"Singapore\": [\"Singapore\", \"SG\"],\n",
    "\"South Korea\": [\"South Korea\", \"Republic of Korea\", \"KR\"],\n",
    "\"Spain\": [\"Spain\", \"Kingdom of Spain\", \"ES\"],\n",
    "\"Sweden\": [\"Sweden\", \"SE\"],\n",
    "\"Switzerland\": [\"Switzerland\", \"Swiss Confederation\", \"CH\"],\n",
    "\"New Zealand\": [\"New Zealand\", \"NZ\"]\n",
    "}"
   ],
   "metadata": {
    "collapsed": false,
    "ExecuteTime": {
     "end_time": "2023-07-25T15:45:33.206220Z",
     "start_time": "2023-07-25T15:45:33.204398Z"
    }
   }
  },
  {
   "cell_type": "code",
   "execution_count": 8,
   "outputs": [
    {
     "name": "stdout",
     "output_type": "stream",
     "text": [
      "File already exists: Australia.csv\n",
      "../Data/ReutersArticles/Canada_articles.csv\n"
     ]
    },
    {
     "data": {
      "text/plain": "Processing Canada:   0%|          | 0/8908 [00:00<?, ?it/s]",
      "application/vnd.jupyter.widget-view+json": {
       "version_major": 2,
       "version_minor": 0,
       "model_id": "9f1de67a4ef542d4b76bc8770734dfe1"
      }
     },
     "metadata": {},
     "output_type": "display_data"
    },
    {
     "name": "stdout",
     "output_type": "stream",
     "text": [
      "File already exists: China.csv\n",
      "File already exists: Denmark.csv\n",
      "File already exists: Finland.csv\n",
      "File already exists: France.csv\n",
      "File already exists: Germany.csv\n",
      "File already exists: Italy.csv\n",
      "../Data/ReutersArticles/Japan_articles.csv\n"
     ]
    },
    {
     "data": {
      "text/plain": "Processing Japan:   0%|          | 0/12224 [00:00<?, ?it/s]",
      "application/vnd.jupyter.widget-view+json": {
       "version_major": 2,
       "version_minor": 0,
       "model_id": "2c3db3af9a47418a861740a68f8996f2"
      }
     },
     "metadata": {},
     "output_type": "display_data"
    },
    {
     "name": "stdout",
     "output_type": "stream",
     "text": [
      "../Data/ReutersArticles/Netherlands_articles.csv\n"
     ]
    },
    {
     "data": {
      "text/plain": "Processing Netherlands:   0%|          | 0/3661 [00:00<?, ?it/s]",
      "application/vnd.jupyter.widget-view+json": {
       "version_major": 2,
       "version_minor": 0,
       "model_id": "7df89b260f8d4ef585f388317ef352b2"
      }
     },
     "metadata": {},
     "output_type": "display_data"
    },
    {
     "name": "stdout",
     "output_type": "stream",
     "text": [
      "../Data/ReutersArticles/New Zealand_articles.csv\n"
     ]
    },
    {
     "data": {
      "text/plain": "Processing New Zealand:   0%|          | 0/4339 [00:00<?, ?it/s]",
      "application/vnd.jupyter.widget-view+json": {
       "version_major": 2,
       "version_minor": 0,
       "model_id": "410be2f55f1d46088d166f500c75654c"
      }
     },
     "metadata": {},
     "output_type": "display_data"
    },
    {
     "name": "stdout",
     "output_type": "stream",
     "text": [
      "../Data/ReutersArticles/Norway_articles.csv\n"
     ]
    },
    {
     "data": {
      "text/plain": "Processing Norway:   0%|          | 0/2444 [00:00<?, ?it/s]",
      "application/vnd.jupyter.widget-view+json": {
       "version_major": 2,
       "version_minor": 0,
       "model_id": "66d8e39cc3b042b48463923abc02edea"
      }
     },
     "metadata": {},
     "output_type": "display_data"
    },
    {
     "name": "stdout",
     "output_type": "stream",
     "text": [
      "../Data/ReutersArticles/Portugal_articles.csv\n"
     ]
    },
    {
     "data": {
      "text/plain": "Processing Portugal:   0%|          | 0/2072 [00:00<?, ?it/s]",
      "application/vnd.jupyter.widget-view+json": {
       "version_major": 2,
       "version_minor": 0,
       "model_id": "10416d20202a4f95a0ee429cb47beda9"
      }
     },
     "metadata": {},
     "output_type": "display_data"
    },
    {
     "name": "stdout",
     "output_type": "stream",
     "text": [
      "../Data/ReutersArticles/Singapore_articles.csv\n"
     ]
    },
    {
     "data": {
      "text/plain": "Processing Singapore:   0%|          | 0/4214 [00:00<?, ?it/s]",
      "application/vnd.jupyter.widget-view+json": {
       "version_major": 2,
       "version_minor": 0,
       "model_id": "f049918fcfaa46d3a83f3042a124ea5e"
      }
     },
     "metadata": {},
     "output_type": "display_data"
    },
    {
     "name": "stdout",
     "output_type": "stream",
     "text": [
      "../Data/ReutersArticles/South Korea_articles.csv\n"
     ]
    },
    {
     "data": {
      "text/plain": "Processing South Korea:   0%|          | 0/4938 [00:00<?, ?it/s]",
      "application/vnd.jupyter.widget-view+json": {
       "version_major": 2,
       "version_minor": 0,
       "model_id": "439cb8d9d1d748678850986c534ed93c"
      }
     },
     "metadata": {},
     "output_type": "display_data"
    },
    {
     "name": "stdout",
     "output_type": "stream",
     "text": [
      "../Data/ReutersArticles/Spain_articles.csv\n"
     ]
    },
    {
     "data": {
      "text/plain": "Processing Spain:   0%|          | 0/5374 [00:00<?, ?it/s]",
      "application/vnd.jupyter.widget-view+json": {
       "version_major": 2,
       "version_minor": 0,
       "model_id": "16cef99af72c446bbd40371c9d4eff31"
      }
     },
     "metadata": {},
     "output_type": "display_data"
    },
    {
     "name": "stdout",
     "output_type": "stream",
     "text": [
      "../Data/ReutersArticles/Sweden_articles.csv\n"
     ]
    },
    {
     "data": {
      "text/plain": "Processing Sweden:   0%|          | 0/2689 [00:00<?, ?it/s]",
      "application/vnd.jupyter.widget-view+json": {
       "version_major": 2,
       "version_minor": 0,
       "model_id": "790f1759f9e84692a16a027e5d09742a"
      }
     },
     "metadata": {},
     "output_type": "display_data"
    },
    {
     "name": "stdout",
     "output_type": "stream",
     "text": [
      "../Data/ReutersArticles/Switzerland_articles.csv\n"
     ]
    },
    {
     "data": {
      "text/plain": "Processing Switzerland:   0%|          | 0/2726 [00:00<?, ?it/s]",
      "application/vnd.jupyter.widget-view+json": {
       "version_major": 2,
       "version_minor": 0,
       "model_id": "00218cc4be2b40be8c6d0600b42546e3"
      }
     },
     "metadata": {},
     "output_type": "display_data"
    },
    {
     "name": "stdout",
     "output_type": "stream",
     "text": [
      "../Data/ReutersArticles/United Kingdom_articles.csv\n"
     ]
    },
    {
     "data": {
      "text/plain": "Processing United Kingdom:   0%|          | 0/14940 [00:00<?, ?it/s]",
      "application/vnd.jupyter.widget-view+json": {
       "version_major": 2,
       "version_minor": 0,
       "model_id": "816d777e168443d48b73b7fe8d5b19d8"
      }
     },
     "metadata": {},
     "output_type": "display_data"
    },
    {
     "name": "stdout",
     "output_type": "stream",
     "text": [
      "../Data/ReutersArticles/United States_articles.csv\n"
     ]
    },
    {
     "data": {
      "text/plain": "Processing United States:   0%|          | 0/22907 [00:00<?, ?it/s]",
      "application/vnd.jupyter.widget-view+json": {
       "version_major": 2,
       "version_minor": 0,
       "model_id": "49ebfb373df7425bb5f3fcae1509b5f7"
      }
     },
     "metadata": {},
     "output_type": "display_data"
    }
   ],
   "source": [
    "lst_files = []\n",
    "\n",
    "Path = \"../Data/ReutersArticles/*.csv\"\n",
    "\n",
    "for fname in glob.glob(Path):\n",
    "    lst_files.append(fname)\n",
    "\n",
    "lst_files = sorted(lst_files)\n",
    "\n",
    "for file in lst_files:\n",
    "    file_name = os.path.basename(file)  # Get the file name from the full file path\n",
    "    country_name = os.path.splitext(file_name)[0]  # Remove the file extension\n",
    "    country_name = country_name.replace(\"_articles\", \"\")  # Remove the \"_articles\" part of the file name\n",
    "\n",
    "    # 仅对芬兰的数据进行实体识别\n",
    "    # if file == '../Data/ReutersArticles/Finland_articles.csv':\n",
    "    # 对所有的未进行过NER的国家进行实体识别\n",
    "    if os.path.isfile('../Data/Reuters_NER/{0}.csv'.format(country_name)):\n",
    "        print(\"File already exists: {0}.csv\".format(country_name))\n",
    "    else:\n",
    "        print(file)\n",
    "        df = pd.read_csv(file)\n",
    "\n",
    "        if df.shape[0] != 0:\n",
    "            df = df.drop(['Unnamed: 0'], axis = 1)\n",
    "            df = df.drop_duplicates(['Date','Headline'],keep= 'last')\n",
    "            df['Text'] = df['Text'].astype(str)\n",
    "            df['Text'] = df.apply(lambda row: combineHeadlineText(row), axis=1)\n",
    "            df['Date'] = pd.to_datetime(df['Date']).dt.date  # change date format to YYYY-MM-DD\n",
    "            df = df.sort_values(by = ['Date'], ascending = True)\n",
    "\n",
    "            count = []\n",
    "            check = []\n",
    "            # 新建一个DataFrame储存实体识别结果\n",
    "            ner_results_data = pd.DataFrame()\n",
    "            for i in tqdm(range(len(df)), desc=f\"Processing {country_name}\"):\n",
    "                ner_results = nlp(df[\"Text\"].iloc[i])\n",
    "                aliases = country_aliases.get(country_name, [country_name])\n",
    "                # 检查是否有国家名以及任何别名出现在实体识别结果中\n",
    "                country_instances = [d for d in ner_results if (d['entity'] in [\"B-LOC\", \"B-ORG\"]) and (any(alias in d['word'] for alias in aliases)) and (d['score'] > 0.98)]\n",
    "                country_check = [d for d in ner_results if (d['entity'] in [\"B-LOC\", \"B-ORG\"]) and (d['score'] > 0.98)]\n",
    "                count.append(len(country_instances))\n",
    "                check.append([d['word'] for d in country_check])\n",
    "                ner_results_data = pd.concat([ner_results_data, pd.json_normalize(ner_results)], ignore_index=True)\n",
    "\n",
    "            df['Count'] = count\n",
    "            df_check = df.copy()\n",
    "            df_check['Check'] = check\n",
    "            df = df[df['Count'] > 0]\n",
    "            df = df.drop(['Count'], axis = 1)\n",
    "            df.to_csv(r'../Data/Reuters_NER/{0}.csv'.format(country_name))\n",
    "            # 添加df_check为csv文件, 并命名为country_name_check.csv\n",
    "            df_check.to_csv(r'../Data/NER_Entity/{0}_check.csv'.format(country_name))\n",
    "            ner_results_data.to_csv(r'../Data/NER_Entity/{0}.csv'.format(country_name), index=False)  # Save the ner_results DataFrame to a CSV file\n"
   ],
   "metadata": {
    "collapsed": false,
    "ExecuteTime": {
     "end_time": "2023-07-25T17:15:05.803151Z",
     "start_time": "2023-07-25T15:47:55.754105Z"
    }
   }
  },
  {
   "cell_type": "code",
   "execution_count": null,
   "outputs": [],
   "source": [],
   "metadata": {
    "collapsed": false
   }
  }
 ],
 "metadata": {
  "kernelspec": {
   "display_name": "Python 3",
   "language": "python",
   "name": "python3"
  },
  "language_info": {
   "codemirror_mode": {
    "name": "ipython",
    "version": 2
   },
   "file_extension": ".py",
   "mimetype": "text/x-python",
   "name": "python",
   "nbconvert_exporter": "python",
   "pygments_lexer": "ipython2",
   "version": "2.7.6"
  }
 },
 "nbformat": 4,
 "nbformat_minor": 0
}
