{
 "cells": [
  {
   "cell_type": "code",
   "execution_count": 1,
   "metadata": {
    "collapsed": true,
    "ExecuteTime": {
     "end_time": "2023-07-25T12:10:43.922227Z",
     "start_time": "2023-07-25T12:10:41.015255Z"
    }
   },
   "outputs": [],
   "source": [
    "import numpy as np\n",
    "import pandas as pd\n",
    "import re\n",
    "import glob\n",
    "from   os import path\n",
    "import os\n",
    "from tqdm.notebook import tqdm\n",
    "from dateutil.parser import parse\n",
    "from dateutil.tz import gettz\n",
    "\n",
    "import warnings\n",
    "warnings.filterwarnings('ignore', category=UserWarning, module='transformers')\n",
    "\n",
    "import torch\n",
    "\n",
    "from transformers import AutoTokenizer, AutoModelForTokenClassification\n",
    "from transformers import pipeline\n",
    "\n",
    "# use the first GPU if available, otherwise use CPU\n",
    "device = torch.device(\"mps\"if torch.backends.mps.is_available()else \"cpu\")\n",
    "# device = 0 if torch.cuda.is_available() else -1\n",
    "# device = torch.device(\"cuda\" if torch.cuda.is_available() else \"cpu\")\n",
    "\n",
    "tokenizer = AutoTokenizer.from_pretrained(\"dslim/bert-base-NER\")\n",
    "model = AutoModelForTokenClassification.from_pretrained(\"dslim/bert-base-NER\")\n",
    "\n",
    "nlp = pipeline(\"ner\", model=model, tokenizer=tokenizer, device=device)"
   ]
  },
  {
   "cell_type": "code",
   "execution_count": 2,
   "outputs": [],
   "source": [
    "def combineHeadlineText(row):\n",
    "    if isinstance(row[\"Headline\"], str):\n",
    "        return row[\"Headline\"] + \". \" + row[\"Text\"]\n",
    "    else:\n",
    "        return row[\"Text\"]"
   ],
   "metadata": {
    "collapsed": false,
    "ExecuteTime": {
     "end_time": "2023-07-25T12:10:43.925488Z",
     "start_time": "2023-07-25T12:10:43.923510Z"
    }
   }
  },
  {
   "cell_type": "code",
   "execution_count": 3,
   "outputs": [],
   "source": [
    "# 定义一个字典储存每个国家的别名\n",
    "country_aliases = {\n",
    "\"United States\": [\"USA\", \"America\", \"United States of America\", \"US\"],\n",
    "\"Canada\": [\"Canada\", \"CA\"],\n",
    "\"United Kingdom\": [\"UK\", \"United Kingdom\", \"Britain\", \"England\", \"Scotland\", \"Wales\", \"Northern Ireland\"],\n",
    "\"Australia\": [\"Australia\", \"AU\", \"Aussie\"],\n",
    "\"China\": [\"China\", \"PRC\", \"People's Republic of China\"],\n",
    "\"Denmark\": [\"Denmark\", \"DK\"],\n",
    "\"Finland\": [\"Finland\", \"FI\"],\n",
    "\"France\": [\"France\", \"French Republic\", \"FR\"],\n",
    "\"Germany\": [\"Germany\", \"Federal Republic of Germany\", \"DE\"],\n",
    "\"Japan\": [\"Japan\", \"JP\"],\n",
    "\"Italy\": [\"Italy\", \"Italian Republic\", \"IT\"],\n",
    "\"Netherlands\": [\"Netherlands\", \"Holland\", \"NL\"],\n",
    "\"Norway\": [\"Norway\", \"NO\"],\n",
    "\"Portugal\": [\"Portugal\", \"PT\"],\n",
    "\"Singapore\": [\"Singapore\", \"SG\"],\n",
    "\"South Korea\": [\"South Korea\", \"Republic of Korea\", \"KR\"],\n",
    "\"Spain\": [\"Spain\", \"Kingdom of Spain\", \"ES\"],\n",
    "\"Sweden\": [\"Sweden\", \"SE\"],\n",
    "\"Switzerland\": [\"Switzerland\", \"Swiss Confederation\", \"CH\"],\n",
    "\"New Zealand\": [\"New Zealand\", \"NZ\"]\n",
    "}"
   ],
   "metadata": {
    "collapsed": false,
    "ExecuteTime": {
     "end_time": "2023-07-25T12:10:43.928775Z",
     "start_time": "2023-07-25T12:10:43.927407Z"
    }
   }
  },
  {
   "cell_type": "code",
   "execution_count": 7,
   "outputs": [
    {
     "name": "stdout",
     "output_type": "stream",
     "text": [
      "../Data/ReutersArticles/Finland_articles.csv\n"
     ]
    },
    {
     "data": {
      "text/plain": "Processing Finland:   0%|          | 0/1592 [00:00<?, ?it/s]",
      "application/vnd.jupyter.widget-view+json": {
       "version_major": 2,
       "version_minor": 0,
       "model_id": "426a972a05804c9dbca7727f9b5e94d1"
      }
     },
     "metadata": {},
     "output_type": "display_data"
    }
   ],
   "source": [
    "lst_files = []\n",
    "\n",
    "Path = \"../Data/ReutersArticles/*.csv\"\n",
    "\n",
    "for fname in glob.glob(Path):\n",
    "    lst_files.append(fname)\n",
    "\n",
    "lst_files = sorted(lst_files)\n",
    "\n",
    "for file in lst_files:\n",
    "    file_name = os.path.basename(file)  # Get the file name from the full file path\n",
    "    country_name = os.path.splitext(file_name)[0]  # Remove the file extension\n",
    "\n",
    "    # 对所有的国家进行实体识别\n",
    "    # if not os.path.isfile('../Data/MW_NER/{0}.csv'.format(country_name)):\n",
    "    # 仅对芬兰的数据进行实体识别\n",
    "    if file == '../Data/ReutersArticles/Finland_articles.csv':\n",
    "        print(file)\n",
    "        df = pd.read_csv(file)\n",
    "        country_name = country_name.replace(\"_articles\", \"\")  # Remove the \"_articles\" part of the file name\n",
    "\n",
    "        if df.shape[0] != 0:\n",
    "            df = df.drop(['Unnamed: 0'], axis = 1)\n",
    "            df = df.drop_duplicates(['Date','Headline'],keep= 'last')\n",
    "            df['Text'] = df['Text'].astype(str)\n",
    "            df['Text'] = df.apply(lambda row: combineHeadlineText(row), axis=1)\n",
    "            df['Date'] = pd.to_datetime(df['Date']).dt.date  # change date format to YYYY-MM-DD\n",
    "            df = df.sort_values(by = ['Date'], ascending = True)\n",
    "\n",
    "            count = []\n",
    "            check = []\n",
    "            # 新建一个DataFrame储存实体识别结果\n",
    "            ner_results_data = pd.DataFrame()\n",
    "            for i in tqdm(range(len(df)), desc=f\"Processing {country_name}\"):\n",
    "                ner_results = nlp(df[\"Text\"].iloc[i])\n",
    "                aliases = country_aliases.get(country_name, [country_name])\n",
    "                # 检查是否有国家名以及任何别名出现在实体识别结果中\n",
    "                country_instances = [d for d in ner_results if (d['entity'] in [\"B-LOC\", \"B-ORG\"]) and (any(alias in d['word'] for alias in aliases)) and (d['score'] > 0.98)]\n",
    "                country_check = [d for d in ner_results if (d['entity'] in [\"B-LOC\", \"B-ORG\"]) and (d['score'] > 0.98)]\n",
    "                count.append(len(country_instances))\n",
    "                check.append([d['word'] for d in country_check])\n",
    "                ner_results_data = pd.concat([ner_results_data, pd.json_normalize(ner_results)], ignore_index=True)\n",
    "\n",
    "            df['Count'] = count\n",
    "            df_check = df.copy()\n",
    "            df_check['Check'] = check\n",
    "            df = df[df['Count'] > 0]\n",
    "            df = df.drop(['Count'], axis = 1)\n",
    "            df.to_csv(r'../Data/Reuters_NER/{0}.csv'.format(country_name))\n",
    "            # 添加df_check为csv文件, 并命名为country_name_check.csv\n",
    "            df_check.to_csv(r'../Data/NER_Entity/{0}_check.csv'.format(country_name))\n",
    "            ner_results_data.to_csv(r'../Data/NER_Entity/{0}.csv'.format(country_name), index=False)  # Save the ner_results DataFrame to a CSV file\n"
   ],
   "metadata": {
    "collapsed": false,
    "ExecuteTime": {
     "end_time": "2023-07-25T12:41:51.384338Z",
     "start_time": "2023-07-25T12:40:32.197733Z"
    }
   }
  },
  {
   "cell_type": "code",
   "execution_count": null,
   "outputs": [],
   "source": [],
   "metadata": {
    "collapsed": false
   }
  }
 ],
 "metadata": {
  "kernelspec": {
   "display_name": "Python 3",
   "language": "python",
   "name": "python3"
  },
  "language_info": {
   "codemirror_mode": {
    "name": "ipython",
    "version": 2
   },
   "file_extension": ".py",
   "mimetype": "text/x-python",
   "name": "python",
   "nbconvert_exporter": "python",
   "pygments_lexer": "ipython2",
   "version": "2.7.6"
  }
 },
 "nbformat": 4,
 "nbformat_minor": 0
}
