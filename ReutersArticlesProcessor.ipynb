{
 "cells": [
  {
   "cell_type": "code",
   "execution_count": 2,
   "metadata": {
    "collapsed": true,
    "ExecuteTime": {
     "end_time": "2023-07-25T10:33:52.279540Z",
     "start_time": "2023-07-25T10:33:51.625237Z"
    }
   },
   "outputs": [],
   "source": [
    "# 导入库\n",
    "import pandas as pd\n",
    "import glob"
   ]
  },
  {
   "cell_type": "code",
   "execution_count": 12,
   "outputs": [
    {
     "name": "stdout",
     "output_type": "stream",
     "text": [
      "./Data/ReutersArticles/Finland_articles.csv\n",
      "./Data/ReutersArticles/China_articles.csv\n",
      "./Data/ReutersArticles/France_articles.csv\n",
      "./Data/ReutersArticles/United States_articles.csv\n",
      "./Data/ReutersArticles/Japan_articles.csv\n",
      "./Data/ReutersArticles/Germany_articles.csv\n"
     ]
    }
   ],
   "source": [
    "# 读取所有/Data/ReutersArticles/下的csv文件\n",
    "path = r'./Data/ReutersArticles/'\n",
    "all_files = glob.glob(path + \"/*.csv\")\n",
    "\n",
    "# 读取每一个csv文件, 并输出没有列索引的文件的名称, 并为其添加与其他列相同的列索引\n",
    "for file in all_files:\n",
    "    df = pd.read_csv(file, index_col=None, header=0)\n",
    "    if df.columns[1] != 'Date':\n",
    "        print(file)\n",
    "        df.columns = ['Unnamed: 0', 'Date', 'Headline', 'Text']\n",
    "        df.to_csv(file, index=False)"
   ],
   "metadata": {
    "collapsed": false,
    "ExecuteTime": {
     "end_time": "2023-07-25T10:40:32.309947Z",
     "start_time": "2023-07-25T10:40:27.134297Z"
    }
   }
  },
  {
   "cell_type": "code",
   "execution_count": 13,
   "outputs": [
    {
     "name": "stdout",
     "output_type": "stream",
     "text": [
      "Index(['Unnamed: 0', 'Date', 'Headline', 'Text'], dtype='object')\n",
      "Index(['Unnamed: 0', 'Date', 'Headline', 'Text'], dtype='object')\n",
      "Index(['Unnamed: 0', 'Date', 'Headline', 'Text'], dtype='object')\n",
      "Index(['Unnamed: 0', 'Date', 'Headline', 'Text'], dtype='object')\n",
      "Index(['Unnamed: 0', 'Date', 'Headline', 'Text'], dtype='object')\n",
      "Index(['Unnamed: 0', 'Date', 'Headline', 'Text'], dtype='object')\n",
      "Index(['Unnamed: 0', 'Date', 'Headline', 'Text'], dtype='object')\n",
      "Index(['Unnamed: 0', 'Date', 'Headline', 'Text'], dtype='object')\n",
      "Index(['Unnamed: 0', 'Date', 'Headline', 'Text'], dtype='object')\n",
      "Index(['Unnamed: 0', 'Date', 'Headline', 'Text'], dtype='object')\n",
      "Index(['Unnamed: 0', 'Date', 'Headline', 'Text'], dtype='object')\n",
      "Index(['Unnamed: 0', 'Date', 'Headline', 'Text'], dtype='object')\n",
      "Index(['Unnamed: 0', 'Date', 'Headline', 'Text'], dtype='object')\n",
      "Index(['Unnamed: 0', 'Date', 'Headline', 'Text'], dtype='object')\n",
      "Index(['Unnamed: 0', 'Date', 'Headline', 'Text'], dtype='object')\n",
      "Index(['Unnamed: 0', 'Date', 'Headline', 'Text'], dtype='object')\n",
      "Index(['Unnamed: 0', 'Date', 'Headline', 'Text'], dtype='object')\n",
      "Index(['Unnamed: 0', 'Date', 'Headline', 'Text'], dtype='object')\n",
      "Index(['Unnamed: 0', 'Date', 'Headline', 'Text'], dtype='object')\n",
      "Index(['Unnamed: 0', 'Date', 'Headline', 'Text'], dtype='object')\n"
     ]
    }
   ],
   "source": [
    "# 读取每一个csv文件, 检查是否所有的文件都有列索引\n",
    "for file in all_files:\n",
    "    df = pd.read_csv(file, index_col=None, header=0)\n",
    "    print(df.columns)"
   ],
   "metadata": {
    "collapsed": false,
    "ExecuteTime": {
     "end_time": "2023-07-25T10:40:41.595899Z",
     "start_time": "2023-07-25T10:40:38.583264Z"
    }
   }
  },
  {
   "cell_type": "code",
   "execution_count": null,
   "outputs": [],
   "source": [],
   "metadata": {
    "collapsed": false
   }
  }
 ],
 "metadata": {
  "kernelspec": {
   "display_name": "Python 3",
   "language": "python",
   "name": "python3"
  },
  "language_info": {
   "codemirror_mode": {
    "name": "ipython",
    "version": 2
   },
   "file_extension": ".py",
   "mimetype": "text/x-python",
   "name": "python",
   "nbconvert_exporter": "python",
   "pygments_lexer": "ipython2",
   "version": "2.7.6"
  }
 },
 "nbformat": 4,
 "nbformat_minor": 0
}
