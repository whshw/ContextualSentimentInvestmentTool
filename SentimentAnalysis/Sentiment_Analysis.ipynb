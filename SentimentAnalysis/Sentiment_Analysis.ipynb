{
 "cells": [
  {
   "cell_type": "code",
   "execution_count": 10,
   "metadata": {
    "collapsed": true,
    "ExecuteTime": {
     "end_time": "2023-07-26T16:17:06.896173Z",
     "start_time": "2023-07-26T16:17:06.892184Z"
    }
   },
   "outputs": [],
   "source": [
    "# 导入库\n",
    "import numpy as np\n",
    "import pandas as pd\n",
    "from   datetime import datetime\n",
    "from tqdm.notebook import tqdm\n",
    "import os\n",
    "import glob\n",
    "import pysentiment2 as ps\n",
    "import nltk\n",
    "from   nltk.sentiment.vader import SentimentIntensityAnalyzer\n",
    "from   IPython.core.display import HTML\n",
    "\n",
    "from transformers import pipeline\n",
    "from transformers import AutoTokenizer, AutoModelForSequenceClassification\n",
    "\n",
    "import torch"
   ]
  },
  {
   "cell_type": "code",
   "execution_count": 2,
   "outputs": [
    {
     "name": "stderr",
     "output_type": "stream",
     "text": [
      "[nltk_data] Downloading package vader_lexicon to\n",
      "[nltk_data]     /Users/wanghs/nltk_data...\n"
     ]
    },
    {
     "data": {
      "text/plain": "Downloading (…)okenizer_config.json:   0%|          | 0.00/252 [00:00<?, ?B/s]",
      "application/vnd.jupyter.widget-view+json": {
       "version_major": 2,
       "version_minor": 0,
       "model_id": "862b0adc7fd94d31974a5bffecd6bf1f"
      }
     },
     "metadata": {},
     "output_type": "display_data"
    },
    {
     "data": {
      "text/plain": "Downloading (…)lve/main/config.json:   0%|          | 0.00/758 [00:00<?, ?B/s]",
      "application/vnd.jupyter.widget-view+json": {
       "version_major": 2,
       "version_minor": 0,
       "model_id": "35daf29b2ced40759509a23f983f3c7c"
      }
     },
     "metadata": {},
     "output_type": "display_data"
    },
    {
     "data": {
      "text/plain": "Downloading (…)solve/main/vocab.txt:   0%|          | 0.00/232k [00:00<?, ?B/s]",
      "application/vnd.jupyter.widget-view+json": {
       "version_major": 2,
       "version_minor": 0,
       "model_id": "d42691ac967e42ae9999d31bd7813924"
      }
     },
     "metadata": {},
     "output_type": "display_data"
    },
    {
     "data": {
      "text/plain": "Downloading (…)cial_tokens_map.json:   0%|          | 0.00/112 [00:00<?, ?B/s]",
      "application/vnd.jupyter.widget-view+json": {
       "version_major": 2,
       "version_minor": 0,
       "model_id": "2fa1e242f47a4c12a2b7dcc54008a26f"
      }
     },
     "metadata": {},
     "output_type": "display_data"
    },
    {
     "data": {
      "text/plain": "Downloading pytorch_model.bin:   0%|          | 0.00/438M [00:00<?, ?B/s]",
      "application/vnd.jupyter.widget-view+json": {
       "version_major": 2,
       "version_minor": 0,
       "model_id": "a6f9e87f5d4f461b9094a2d57249edae"
      }
     },
     "metadata": {},
     "output_type": "display_data"
    },
    {
     "name": "stderr",
     "output_type": "stream",
     "text": [
      "Xformers is not installed correctly. If you want to use memorry_efficient_attention to accelerate training use the following command to install Xformers\n",
      "pip install xformers.\n"
     ]
    }
   ],
   "source": [
    "## 设置情感分析工具\n",
    "\n",
    "# 下载Vader情感分析工具的词典\n",
    "nltk.download('vader_lexicon')\n",
    "# 初始化Loughran-McDonald情感分析模型\n",
    "lm    = ps.LM()\n",
    "# 初始化HIV-4情感分析模型\n",
    "hiv4  = ps.HIV4()\n",
    "# 初始化Vader情感分析模型\n",
    "vader = SentimentIntensityAnalyzer()\n",
    "\n",
    "# 如果有可用的第一块GPU则使用，否则使用CPU\n",
    "device = torch.device(\"mps\"if torch.backends.mps.is_available()else \"cpu\")\n",
    "\n",
    "# 初始化FinBERT情感分析模型的tokenizer\n",
    "finbert_tokenizer  = AutoTokenizer.from_pretrained(\"ProsusAI/finbert\")\n",
    "# 从FinBERT预训练模型加载模型\n",
    "finbert_model      = AutoModelForSequenceClassification.from_pretrained(\"ProsusAI/finbert\")\n",
    "# 配置FinBERT情感分析模型的运行环境（GPU or CPU）\n",
    "finbert_classifier = pipeline(\"sentiment-analysis\", model = finbert_model, tokenizer = finbert_tokenizer, device = device)"
   ],
   "metadata": {
    "collapsed": false,
    "ExecuteTime": {
     "end_time": "2023-07-25T20:22:53.315610Z",
     "start_time": "2023-07-25T20:22:35.651996Z"
    }
   }
  },
  {
   "cell_type": "code",
   "execution_count": 16,
   "outputs": [],
   "source": [
    "def sentimentAnalysisLMD(text):\n",
    "    tokens = lm.tokenize(text) #tokenize the text into relevant words in the LM dict\n",
    "    score = lm.get_score(tokens) #score dict seperates into: NEG, POS, POLARITY, SUBJECTIVITY\n",
    "    return score\n",
    "\n",
    "def sentimentAnalysisHIV4(text):\n",
    "    tokens = hiv4.tokenize(text)\n",
    "    score = hiv4.get_score(tokens)\n",
    "    return score\n",
    "\n",
    "def sentimentAnalysisVader(df):\n",
    "    df_vader = pd.DataFrame(df, columns=['Date', 'Text'])\n",
    "    scores = [vader.polarity_scores(text) for text in tqdm(df_vader['Text'], desc=\"Processing with VADER\")]\n",
    "    scores_vader = pd.DataFrame(scores).add_prefix(\"vader_\")\n",
    "    df_vader = df_vader.join(scores_vader, rsuffix='_right')\n",
    "    return df_vader['vader_compound']\n",
    "\n",
    "def sentimentAnalysisFinBert(df):\n",
    "    df_finbert = pd.DataFrame(df, columns=['Date', 'Text'])\n",
    "    score = []\n",
    "    for text in tqdm(df_finbert['Text'], desc=\"Processing with FinBERT\"):\n",
    "        classified = finbert_classifier(text, truncation=True)[0]\n",
    "        if classified['label'] == \"negative\":\n",
    "            score.append(classified['score']*(-1))\n",
    "        elif classified['label'] == \"positive\":\n",
    "            score.append(classified['score'])\n",
    "        else:\n",
    "            score.append(0)\n",
    "    return score"
   ],
   "metadata": {
    "collapsed": false,
    "ExecuteTime": {
     "end_time": "2023-07-25T20:47:33.196170Z",
     "start_time": "2023-07-25T20:47:33.194758Z"
    }
   }
  },
  {
   "cell_type": "code",
   "execution_count": null,
   "outputs": [
    {
     "name": "stdout",
     "output_type": "stream",
     "text": [
      "../Data/Reuters_NER/Australia.csv\n"
     ]
    },
    {
     "data": {
      "text/plain": "Processing with LMD:   0%|          | 0/9234 [00:00<?, ?it/s]",
      "application/vnd.jupyter.widget-view+json": {
       "version_major": 2,
       "version_minor": 0,
       "model_id": "48cdcd7d73fb498180a881433dc7adb6"
      }
     },
     "metadata": {},
     "output_type": "display_data"
    },
    {
     "data": {
      "text/plain": "Processing with HIV4:   0%|          | 0/9234 [00:00<?, ?it/s]",
      "application/vnd.jupyter.widget-view+json": {
       "version_major": 2,
       "version_minor": 0,
       "model_id": "ddc7b464ee084470bacf62f886d5432a"
      }
     },
     "metadata": {},
     "output_type": "display_data"
    },
    {
     "data": {
      "text/plain": "Processing with VADER:   0%|          | 0/9234 [00:00<?, ?it/s]",
      "application/vnd.jupyter.widget-view+json": {
       "version_major": 2,
       "version_minor": 0,
       "model_id": "4e1c8614001b4b14a59008ada9328ca5"
      }
     },
     "metadata": {},
     "output_type": "display_data"
    },
    {
     "data": {
      "text/plain": "Processing with FinBERT:   0%|          | 0/9234 [00:00<?, ?it/s]",
      "application/vnd.jupyter.widget-view+json": {
       "version_major": 2,
       "version_minor": 0,
       "model_id": "514c744485584b8ab69a5d4ad782e4f2"
      }
     },
     "metadata": {},
     "output_type": "display_data"
    },
    {
     "name": "stdout",
     "output_type": "stream",
     "text": [
      "1\n",
      "../Data/Reuters_NER/Canada.csv\n"
     ]
    },
    {
     "data": {
      "text/plain": "Processing with LMD:   0%|          | 0/6950 [00:00<?, ?it/s]",
      "application/vnd.jupyter.widget-view+json": {
       "version_major": 2,
       "version_minor": 0,
       "model_id": "c32785a1947b49149f071347695376b9"
      }
     },
     "metadata": {},
     "output_type": "display_data"
    },
    {
     "data": {
      "text/plain": "Processing with HIV4:   0%|          | 0/6950 [00:00<?, ?it/s]",
      "application/vnd.jupyter.widget-view+json": {
       "version_major": 2,
       "version_minor": 0,
       "model_id": "d79e8a59b03e426b9f6ceb673b65cc40"
      }
     },
     "metadata": {},
     "output_type": "display_data"
    },
    {
     "data": {
      "text/plain": "Processing with VADER:   0%|          | 0/6950 [00:00<?, ?it/s]",
      "application/vnd.jupyter.widget-view+json": {
       "version_major": 2,
       "version_minor": 0,
       "model_id": "64f89737e1a04ad2ae14b7b6d063d325"
      }
     },
     "metadata": {},
     "output_type": "display_data"
    },
    {
     "data": {
      "text/plain": "Processing with FinBERT:   0%|          | 0/6950 [00:00<?, ?it/s]",
      "application/vnd.jupyter.widget-view+json": {
       "version_major": 2,
       "version_minor": 0,
       "model_id": "c64d30ce259e41529c59cab253b751f3"
      }
     },
     "metadata": {},
     "output_type": "display_data"
    },
    {
     "name": "stdout",
     "output_type": "stream",
     "text": [
      "2\n",
      "../Data/Reuters_NER/China.csv\n"
     ]
    },
    {
     "data": {
      "text/plain": "Processing with LMD:   0%|          | 0/20741 [00:00<?, ?it/s]",
      "application/vnd.jupyter.widget-view+json": {
       "version_major": 2,
       "version_minor": 0,
       "model_id": "c46d4cb8534f47c189e8ceb181e41863"
      }
     },
     "metadata": {},
     "output_type": "display_data"
    },
    {
     "data": {
      "text/plain": "Processing with HIV4:   0%|          | 0/20741 [00:00<?, ?it/s]",
      "application/vnd.jupyter.widget-view+json": {
       "version_major": 2,
       "version_minor": 0,
       "model_id": "d6b1489f4219404a85aad7b0130c7cdc"
      }
     },
     "metadata": {},
     "output_type": "display_data"
    },
    {
     "data": {
      "text/plain": "Processing with VADER:   0%|          | 0/20741 [00:00<?, ?it/s]",
      "application/vnd.jupyter.widget-view+json": {
       "version_major": 2,
       "version_minor": 0,
       "model_id": "facf7958539e493d8de10b32e14f1ae4"
      }
     },
     "metadata": {},
     "output_type": "display_data"
    },
    {
     "data": {
      "text/plain": "Processing with FinBERT:   0%|          | 0/20741 [00:00<?, ?it/s]",
      "application/vnd.jupyter.widget-view+json": {
       "version_major": 2,
       "version_minor": 0,
       "model_id": "b4b1994316d045e7bae26c90d6904e72"
      }
     },
     "metadata": {},
     "output_type": "display_data"
    },
    {
     "name": "stdout",
     "output_type": "stream",
     "text": [
      "3\n",
      "../Data/Reuters_NER/Denmark.csv\n"
     ]
    },
    {
     "data": {
      "text/plain": "Processing with LMD:   0%|          | 0/1675 [00:00<?, ?it/s]",
      "application/vnd.jupyter.widget-view+json": {
       "version_major": 2,
       "version_minor": 0,
       "model_id": "ee00057c5d274c0f91ebd80f2d38421b"
      }
     },
     "metadata": {},
     "output_type": "display_data"
    },
    {
     "data": {
      "text/plain": "Processing with HIV4:   0%|          | 0/1675 [00:00<?, ?it/s]",
      "application/vnd.jupyter.widget-view+json": {
       "version_major": 2,
       "version_minor": 0,
       "model_id": "6748db79cc58468babe08ea0645cbe21"
      }
     },
     "metadata": {},
     "output_type": "display_data"
    },
    {
     "data": {
      "text/plain": "Processing with VADER:   0%|          | 0/1675 [00:00<?, ?it/s]",
      "application/vnd.jupyter.widget-view+json": {
       "version_major": 2,
       "version_minor": 0,
       "model_id": "72edb838ee8a4ac982a050ebfb784b70"
      }
     },
     "metadata": {},
     "output_type": "display_data"
    },
    {
     "data": {
      "text/plain": "Processing with FinBERT:   0%|          | 0/1675 [00:00<?, ?it/s]",
      "application/vnd.jupyter.widget-view+json": {
       "version_major": 2,
       "version_minor": 0,
       "model_id": "30ce2305c40c40f2a84fd04bff1eef50"
      }
     },
     "metadata": {},
     "output_type": "display_data"
    },
    {
     "name": "stdout",
     "output_type": "stream",
     "text": [
      "4\n",
      "../Data/Reuters_NER/Finland.csv\n"
     ]
    },
    {
     "data": {
      "text/plain": "Processing with LMD:   0%|          | 0/1329 [00:00<?, ?it/s]",
      "application/vnd.jupyter.widget-view+json": {
       "version_major": 2,
       "version_minor": 0,
       "model_id": "e0d90972307e4a9c838be37cab53d516"
      }
     },
     "metadata": {},
     "output_type": "display_data"
    },
    {
     "data": {
      "text/plain": "Processing with HIV4:   0%|          | 0/1329 [00:00<?, ?it/s]",
      "application/vnd.jupyter.widget-view+json": {
       "version_major": 2,
       "version_minor": 0,
       "model_id": "c1cc4a29f3374196a51919b481ca4ea8"
      }
     },
     "metadata": {},
     "output_type": "display_data"
    },
    {
     "data": {
      "text/plain": "Processing with VADER:   0%|          | 0/1329 [00:00<?, ?it/s]",
      "application/vnd.jupyter.widget-view+json": {
       "version_major": 2,
       "version_minor": 0,
       "model_id": "f91f678cdcf3499f9a490f3828450da0"
      }
     },
     "metadata": {},
     "output_type": "display_data"
    },
    {
     "data": {
      "text/plain": "Processing with FinBERT:   0%|          | 0/1329 [00:00<?, ?it/s]",
      "application/vnd.jupyter.widget-view+json": {
       "version_major": 2,
       "version_minor": 0,
       "model_id": "35e7c72e2d3b483b90b0d52cf3cb4bb2"
      }
     },
     "metadata": {},
     "output_type": "display_data"
    },
    {
     "name": "stdout",
     "output_type": "stream",
     "text": [
      "5\n",
      "../Data/Reuters_NER/France.csv\n"
     ]
    },
    {
     "data": {
      "text/plain": "Processing with LMD:   0%|          | 0/9304 [00:00<?, ?it/s]",
      "application/vnd.jupyter.widget-view+json": {
       "version_major": 2,
       "version_minor": 0,
       "model_id": "d9a54c9db4ba409b96d7fbd5b93b80af"
      }
     },
     "metadata": {},
     "output_type": "display_data"
    },
    {
     "data": {
      "text/plain": "Processing with HIV4:   0%|          | 0/9304 [00:00<?, ?it/s]",
      "application/vnd.jupyter.widget-view+json": {
       "version_major": 2,
       "version_minor": 0,
       "model_id": "a2b25d32cc624c74b1908a5b41bd202e"
      }
     },
     "metadata": {},
     "output_type": "display_data"
    },
    {
     "data": {
      "text/plain": "Processing with VADER:   0%|          | 0/9304 [00:00<?, ?it/s]",
      "application/vnd.jupyter.widget-view+json": {
       "version_major": 2,
       "version_minor": 0,
       "model_id": "36e3cb56e7f547178c0e7c3f7e2e1cc6"
      }
     },
     "metadata": {},
     "output_type": "display_data"
    },
    {
     "data": {
      "text/plain": "Processing with FinBERT:   0%|          | 0/9304 [00:00<?, ?it/s]",
      "application/vnd.jupyter.widget-view+json": {
       "version_major": 2,
       "version_minor": 0,
       "model_id": "2769a918fcd64db1873194e024407681"
      }
     },
     "metadata": {},
     "output_type": "display_data"
    },
    {
     "name": "stdout",
     "output_type": "stream",
     "text": [
      "6\n",
      "../Data/Reuters_NER/Germany.csv\n"
     ]
    },
    {
     "data": {
      "text/plain": "Processing with LMD:   0%|          | 0/11026 [00:00<?, ?it/s]",
      "application/vnd.jupyter.widget-view+json": {
       "version_major": 2,
       "version_minor": 0,
       "model_id": "d57bd774e1984efbb7607cf5233d296f"
      }
     },
     "metadata": {},
     "output_type": "display_data"
    },
    {
     "data": {
      "text/plain": "Processing with HIV4:   0%|          | 0/11026 [00:00<?, ?it/s]",
      "application/vnd.jupyter.widget-view+json": {
       "version_major": 2,
       "version_minor": 0,
       "model_id": "20bee175a6d64e81a05538da1f5cdbf3"
      }
     },
     "metadata": {},
     "output_type": "display_data"
    },
    {
     "data": {
      "text/plain": "Processing with VADER:   0%|          | 0/11026 [00:00<?, ?it/s]",
      "application/vnd.jupyter.widget-view+json": {
       "version_major": 2,
       "version_minor": 0,
       "model_id": "bf4a45310e16429e8334928f65877664"
      }
     },
     "metadata": {},
     "output_type": "display_data"
    },
    {
     "data": {
      "text/plain": "Processing with FinBERT:   0%|          | 0/11026 [00:00<?, ?it/s]",
      "application/vnd.jupyter.widget-view+json": {
       "version_major": 2,
       "version_minor": 0,
       "model_id": "edd1624ecdbb4bc0a42884d7ecb59799"
      }
     },
     "metadata": {},
     "output_type": "display_data"
    },
    {
     "name": "stdout",
     "output_type": "stream",
     "text": [
      "7\n",
      "../Data/Reuters_NER/Italy.csv\n"
     ]
    },
    {
     "data": {
      "text/plain": "Processing with LMD:   0%|          | 0/6109 [00:00<?, ?it/s]",
      "application/vnd.jupyter.widget-view+json": {
       "version_major": 2,
       "version_minor": 0,
       "model_id": "0a40a77363784f51b1fd13a45f879653"
      }
     },
     "metadata": {},
     "output_type": "display_data"
    },
    {
     "data": {
      "text/plain": "Processing with HIV4:   0%|          | 0/6109 [00:00<?, ?it/s]",
      "application/vnd.jupyter.widget-view+json": {
       "version_major": 2,
       "version_minor": 0,
       "model_id": "ba25a2b066da46bfb744b43fbf771f08"
      }
     },
     "metadata": {},
     "output_type": "display_data"
    },
    {
     "data": {
      "text/plain": "Processing with VADER:   0%|          | 0/6109 [00:00<?, ?it/s]",
      "application/vnd.jupyter.widget-view+json": {
       "version_major": 2,
       "version_minor": 0,
       "model_id": "5fa06ad9df164b1e9624dfdf1ea6d3dc"
      }
     },
     "metadata": {},
     "output_type": "display_data"
    },
    {
     "data": {
      "text/plain": "Processing with FinBERT:   0%|          | 0/6109 [00:00<?, ?it/s]",
      "application/vnd.jupyter.widget-view+json": {
       "version_major": 2,
       "version_minor": 0,
       "model_id": "14ba2941bb464e1baf1eae7ccaea48e3"
      }
     },
     "metadata": {},
     "output_type": "display_data"
    },
    {
     "name": "stdout",
     "output_type": "stream",
     "text": [
      "8\n",
      "../Data/Reuters_NER/Japan.csv\n"
     ]
    },
    {
     "data": {
      "text/plain": "Processing with LMD:   0%|          | 0/9954 [00:00<?, ?it/s]",
      "application/vnd.jupyter.widget-view+json": {
       "version_major": 2,
       "version_minor": 0,
       "model_id": "470c4606b350459faf7d6fb4f0fa7320"
      }
     },
     "metadata": {},
     "output_type": "display_data"
    },
    {
     "data": {
      "text/plain": "Processing with HIV4:   0%|          | 0/9954 [00:00<?, ?it/s]",
      "application/vnd.jupyter.widget-view+json": {
       "version_major": 2,
       "version_minor": 0,
       "model_id": "7bc721017e6443849f474ea4a3d716ae"
      }
     },
     "metadata": {},
     "output_type": "display_data"
    },
    {
     "data": {
      "text/plain": "Processing with VADER:   0%|          | 0/9954 [00:00<?, ?it/s]",
      "application/vnd.jupyter.widget-view+json": {
       "version_major": 2,
       "version_minor": 0,
       "model_id": "e61c5c1b258b4bd89c28a2c3293465b3"
      }
     },
     "metadata": {},
     "output_type": "display_data"
    },
    {
     "data": {
      "text/plain": "Processing with FinBERT:   0%|          | 0/9954 [00:00<?, ?it/s]",
      "application/vnd.jupyter.widget-view+json": {
       "version_major": 2,
       "version_minor": 0,
       "model_id": "00381ffbb1b74e6690fed4351125baa5"
      }
     },
     "metadata": {},
     "output_type": "display_data"
    },
    {
     "name": "stdout",
     "output_type": "stream",
     "text": [
      "9\n",
      "../Data/Reuters_NER/Netherlands.csv\n"
     ]
    },
    {
     "data": {
      "text/plain": "Processing with LMD:   0%|          | 0/2661 [00:00<?, ?it/s]",
      "application/vnd.jupyter.widget-view+json": {
       "version_major": 2,
       "version_minor": 0,
       "model_id": "90097bd24d7f498295343b5defdbc1ba"
      }
     },
     "metadata": {},
     "output_type": "display_data"
    },
    {
     "data": {
      "text/plain": "Processing with HIV4:   0%|          | 0/2661 [00:00<?, ?it/s]",
      "application/vnd.jupyter.widget-view+json": {
       "version_major": 2,
       "version_minor": 0,
       "model_id": "2ecfbb13560543348626d2de2ce13f3c"
      }
     },
     "metadata": {},
     "output_type": "display_data"
    },
    {
     "data": {
      "text/plain": "Processing with VADER:   0%|          | 0/2661 [00:00<?, ?it/s]",
      "application/vnd.jupyter.widget-view+json": {
       "version_major": 2,
       "version_minor": 0,
       "model_id": "540afebd4016464f91c012c6d8095f87"
      }
     },
     "metadata": {},
     "output_type": "display_data"
    },
    {
     "data": {
      "text/plain": "Processing with FinBERT:   0%|          | 0/2661 [00:00<?, ?it/s]",
      "application/vnd.jupyter.widget-view+json": {
       "version_major": 2,
       "version_minor": 0,
       "model_id": "c36241d803014121b3851bb4ea8858ab"
      }
     },
     "metadata": {},
     "output_type": "display_data"
    },
    {
     "name": "stdout",
     "output_type": "stream",
     "text": [
      "10\n",
      "../Data/Reuters_NER/New Zealand.csv\n"
     ]
    },
    {
     "data": {
      "text/plain": "Processing with LMD:   0%|          | 0/3171 [00:00<?, ?it/s]",
      "application/vnd.jupyter.widget-view+json": {
       "version_major": 2,
       "version_minor": 0,
       "model_id": "6545335bf03c416d82eb84620d327bf9"
      }
     },
     "metadata": {},
     "output_type": "display_data"
    },
    {
     "data": {
      "text/plain": "Processing with HIV4:   0%|          | 0/3171 [00:00<?, ?it/s]",
      "application/vnd.jupyter.widget-view+json": {
       "version_major": 2,
       "version_minor": 0,
       "model_id": "4f088a4bd43d4188bcf619afc9dde953"
      }
     },
     "metadata": {},
     "output_type": "display_data"
    },
    {
     "data": {
      "text/plain": "Processing with VADER:   0%|          | 0/3171 [00:00<?, ?it/s]",
      "application/vnd.jupyter.widget-view+json": {
       "version_major": 2,
       "version_minor": 0,
       "model_id": "26ceddba7fa142e89f25165fcfeae244"
      }
     },
     "metadata": {},
     "output_type": "display_data"
    },
    {
     "data": {
      "text/plain": "Processing with FinBERT:   0%|          | 0/3171 [00:00<?, ?it/s]",
      "application/vnd.jupyter.widget-view+json": {
       "version_major": 2,
       "version_minor": 0,
       "model_id": "3e1911f27b014bc4890a8715ed97b0b3"
      }
     },
     "metadata": {},
     "output_type": "display_data"
    },
    {
     "name": "stdout",
     "output_type": "stream",
     "text": [
      "11\n",
      "../Data/Reuters_NER/Norway.csv\n"
     ]
    },
    {
     "data": {
      "text/plain": "Processing with LMD:   0%|          | 0/1998 [00:00<?, ?it/s]",
      "application/vnd.jupyter.widget-view+json": {
       "version_major": 2,
       "version_minor": 0,
       "model_id": "b9a90e721ab04a339b93424c9e1ce719"
      }
     },
     "metadata": {},
     "output_type": "display_data"
    },
    {
     "data": {
      "text/plain": "Processing with HIV4:   0%|          | 0/1998 [00:00<?, ?it/s]",
      "application/vnd.jupyter.widget-view+json": {
       "version_major": 2,
       "version_minor": 0,
       "model_id": "9ec4171db1c74e8e9d97f01414eb4f5c"
      }
     },
     "metadata": {},
     "output_type": "display_data"
    },
    {
     "data": {
      "text/plain": "Processing with VADER:   0%|          | 0/1998 [00:00<?, ?it/s]",
      "application/vnd.jupyter.widget-view+json": {
       "version_major": 2,
       "version_minor": 0,
       "model_id": "cf2f02ba66b64dc385ba7667389845c8"
      }
     },
     "metadata": {},
     "output_type": "display_data"
    },
    {
     "data": {
      "text/plain": "Processing with FinBERT:   0%|          | 0/1998 [00:00<?, ?it/s]",
      "application/vnd.jupyter.widget-view+json": {
       "version_major": 2,
       "version_minor": 0,
       "model_id": "2477013104044451a96f73fd77cc5505"
      }
     },
     "metadata": {},
     "output_type": "display_data"
    },
    {
     "name": "stdout",
     "output_type": "stream",
     "text": [
      "12\n",
      "../Data/Reuters_NER/Portugal.csv\n"
     ]
    },
    {
     "data": {
      "text/plain": "Processing with LMD:   0%|          | 0/1771 [00:00<?, ?it/s]",
      "application/vnd.jupyter.widget-view+json": {
       "version_major": 2,
       "version_minor": 0,
       "model_id": "c47ad92c672c4bdfb35b2c961cf230e8"
      }
     },
     "metadata": {},
     "output_type": "display_data"
    },
    {
     "data": {
      "text/plain": "Processing with HIV4:   0%|          | 0/1771 [00:00<?, ?it/s]",
      "application/vnd.jupyter.widget-view+json": {
       "version_major": 2,
       "version_minor": 0,
       "model_id": "f1939455f98a4732a63db8fa59c906a0"
      }
     },
     "metadata": {},
     "output_type": "display_data"
    },
    {
     "data": {
      "text/plain": "Processing with VADER:   0%|          | 0/1771 [00:00<?, ?it/s]",
      "application/vnd.jupyter.widget-view+json": {
       "version_major": 2,
       "version_minor": 0,
       "model_id": "1d92d35bea1545808777ffaa5d4a04e0"
      }
     },
     "metadata": {},
     "output_type": "display_data"
    },
    {
     "data": {
      "text/plain": "Processing with FinBERT:   0%|          | 0/1771 [00:00<?, ?it/s]",
      "application/vnd.jupyter.widget-view+json": {
       "version_major": 2,
       "version_minor": 0,
       "model_id": "1f17cb1005294143a37d7e11ebf07e6a"
      }
     },
     "metadata": {},
     "output_type": "display_data"
    },
    {
     "name": "stdout",
     "output_type": "stream",
     "text": [
      "13\n",
      "../Data/Reuters_NER/Singapore.csv\n"
     ]
    },
    {
     "data": {
      "text/plain": "Processing with LMD:   0%|          | 0/2999 [00:00<?, ?it/s]",
      "application/vnd.jupyter.widget-view+json": {
       "version_major": 2,
       "version_minor": 0,
       "model_id": "f99a85ea0d044946a5d1bcab5df29a05"
      }
     },
     "metadata": {},
     "output_type": "display_data"
    },
    {
     "data": {
      "text/plain": "Processing with HIV4:   0%|          | 0/2999 [00:00<?, ?it/s]",
      "application/vnd.jupyter.widget-view+json": {
       "version_major": 2,
       "version_minor": 0,
       "model_id": "eaa4d9a8617844fca3afc1deb465c79e"
      }
     },
     "metadata": {},
     "output_type": "display_data"
    },
    {
     "data": {
      "text/plain": "Processing with VADER:   0%|          | 0/2999 [00:00<?, ?it/s]",
      "application/vnd.jupyter.widget-view+json": {
       "version_major": 2,
       "version_minor": 0,
       "model_id": "dd154c3a70784738bed99ac7b8a3b2be"
      }
     },
     "metadata": {},
     "output_type": "display_data"
    },
    {
     "data": {
      "text/plain": "Processing with FinBERT:   0%|          | 0/2999 [00:00<?, ?it/s]",
      "application/vnd.jupyter.widget-view+json": {
       "version_major": 2,
       "version_minor": 0,
       "model_id": "217ccce813ba4dc981d7b4881713d134"
      }
     },
     "metadata": {},
     "output_type": "display_data"
    },
    {
     "name": "stdout",
     "output_type": "stream",
     "text": [
      "14\n",
      "../Data/Reuters_NER/South Korea.csv\n"
     ]
    },
    {
     "data": {
      "text/plain": "Processing with LMD:   0%|          | 0/3760 [00:00<?, ?it/s]",
      "application/vnd.jupyter.widget-view+json": {
       "version_major": 2,
       "version_minor": 0,
       "model_id": "e770d8725ff8431abc55c53671e513b9"
      }
     },
     "metadata": {},
     "output_type": "display_data"
    },
    {
     "data": {
      "text/plain": "Processing with HIV4:   0%|          | 0/3760 [00:00<?, ?it/s]",
      "application/vnd.jupyter.widget-view+json": {
       "version_major": 2,
       "version_minor": 0,
       "model_id": "e48d251bd70641e5a63db6454903444c"
      }
     },
     "metadata": {},
     "output_type": "display_data"
    },
    {
     "data": {
      "text/plain": "Processing with VADER:   0%|          | 0/3760 [00:00<?, ?it/s]",
      "application/vnd.jupyter.widget-view+json": {
       "version_major": 2,
       "version_minor": 0,
       "model_id": "4dd03261829f453fb978be75da73db6f"
      }
     },
     "metadata": {},
     "output_type": "display_data"
    },
    {
     "data": {
      "text/plain": "Processing with FinBERT:   0%|          | 0/3760 [00:00<?, ?it/s]",
      "application/vnd.jupyter.widget-view+json": {
       "version_major": 2,
       "version_minor": 0,
       "model_id": "22c695a53c73497ea673332c7234d2eb"
      }
     },
     "metadata": {},
     "output_type": "display_data"
    },
    {
     "name": "stdout",
     "output_type": "stream",
     "text": [
      "15\n",
      "../Data/Reuters_NER/Spain.csv\n"
     ]
    },
    {
     "data": {
      "text/plain": "Processing with LMD:   0%|          | 0/4669 [00:00<?, ?it/s]",
      "application/vnd.jupyter.widget-view+json": {
       "version_major": 2,
       "version_minor": 0,
       "model_id": "4e348b91a13c47e7a0bc0a42d7e2ce6c"
      }
     },
     "metadata": {},
     "output_type": "display_data"
    },
    {
     "data": {
      "text/plain": "Processing with HIV4:   0%|          | 0/4669 [00:00<?, ?it/s]",
      "application/vnd.jupyter.widget-view+json": {
       "version_major": 2,
       "version_minor": 0,
       "model_id": "6e13b3de41d04d5a916102304c39e007"
      }
     },
     "metadata": {},
     "output_type": "display_data"
    },
    {
     "data": {
      "text/plain": "Processing with VADER:   0%|          | 0/4669 [00:00<?, ?it/s]",
      "application/vnd.jupyter.widget-view+json": {
       "version_major": 2,
       "version_minor": 0,
       "model_id": "91d549d054284fecbea6c13082faf9f9"
      }
     },
     "metadata": {},
     "output_type": "display_data"
    },
    {
     "data": {
      "text/plain": "Processing with FinBERT:   0%|          | 0/4669 [00:00<?, ?it/s]",
      "application/vnd.jupyter.widget-view+json": {
       "version_major": 2,
       "version_minor": 0,
       "model_id": "d7f7c7f2f0c04c4eac9e08bd66b73ac3"
      }
     },
     "metadata": {},
     "output_type": "display_data"
    },
    {
     "name": "stdout",
     "output_type": "stream",
     "text": [
      "16\n",
      "../Data/Reuters_NER/Sweden.csv\n"
     ]
    },
    {
     "data": {
      "text/plain": "Processing with LMD:   0%|          | 0/2202 [00:00<?, ?it/s]",
      "application/vnd.jupyter.widget-view+json": {
       "version_major": 2,
       "version_minor": 0,
       "model_id": "b8e7e9c78a1c4b30ab4a910307549948"
      }
     },
     "metadata": {},
     "output_type": "display_data"
    },
    {
     "data": {
      "text/plain": "Processing with HIV4:   0%|          | 0/2202 [00:00<?, ?it/s]",
      "application/vnd.jupyter.widget-view+json": {
       "version_major": 2,
       "version_minor": 0,
       "model_id": "6a0ad0ea7ae1498babf63b3b6a4b404c"
      }
     },
     "metadata": {},
     "output_type": "display_data"
    },
    {
     "data": {
      "text/plain": "Processing with VADER:   0%|          | 0/2202 [00:00<?, ?it/s]",
      "application/vnd.jupyter.widget-view+json": {
       "version_major": 2,
       "version_minor": 0,
       "model_id": "c2c7b854152741c2af52076e319244d5"
      }
     },
     "metadata": {},
     "output_type": "display_data"
    },
    {
     "data": {
      "text/plain": "Processing with FinBERT:   0%|          | 0/2202 [00:00<?, ?it/s]",
      "application/vnd.jupyter.widget-view+json": {
       "version_major": 2,
       "version_minor": 0,
       "model_id": "af8211d91bd042959eae324f85d8032f"
      }
     },
     "metadata": {},
     "output_type": "display_data"
    }
   ],
   "source": [
    "lst_files = []\n",
    "\n",
    "Path = \"../Data/Reuters_NER/*.csv\"\n",
    "count = 0\n",
    "\n",
    "for fname in glob.glob(Path):\n",
    "    lst_files.append(fname)\n",
    "\n",
    "lst_files = sorted(lst_files)\n",
    "\n",
    "for file in lst_files:\n",
    "    file_name = os.path.basename(file)  # Get the file name from the full file path\n",
    "    country_name = os.path.splitext(file_name)[0]  # Remove the file extension\n",
    "\n",
    "    # 对单个国家的数据进行情感分析\n",
    "    # if country_name == 'Finland':\n",
    "    # Check if the file already exists\n",
    "    if os.path.isfile('../Data/SentimentScores/{0}.csv'.format(country_name)):\n",
    "        print(\"File already exists: {0}.csv\".format(country_name))\n",
    "    else:\n",
    "        print(file)\n",
    "        df = pd.read_csv(file)\n",
    "\n",
    "        if df.shape[0] != 0:\n",
    "            df = df.drop_duplicates(['Date','Headline'], keep='last')\n",
    "            df = df.drop(['Unnamed: 0', 'Headline'], axis = 1)\n",
    "            df['Text'] = df['Text'].astype(str)\n",
    "            df['Date'] = pd.to_datetime(df['Date'], utc=True).dt.date\n",
    "            df.reset_index(drop=True, inplace=True)\n",
    "\n",
    "            # LMD + HIV4\n",
    "            df_LMD_HIV4 = pd.DataFrame(df, columns=['Date', 'Text'])\n",
    "            # df_LMD_HIV4[\"scoreLMD\"] = df_LMD_HIV4[\"Text\"].apply(sentimentAnalysisLMD)\n",
    "            # df_LMD_HIV4[\"scoreHIV4\"] = df_LMD_HIV4[\"Text\"].apply(sentimentAnalysisHIV4)\n",
    "            # 使用tqdm在处理sentiment时显示进度条\n",
    "            df_LMD_HIV4[\"scoreLMD\"] = [sentimentAnalysisLMD(text) for text in tqdm(df_LMD_HIV4[\"Text\"], desc=\"Processing with LMD\")]\n",
    "            df_LMD_HIV4[\"scoreHIV4\"] = [sentimentAnalysisHIV4(text) for text in tqdm(df_LMD_HIV4[\"Text\"], desc=\"Processing with HIV4\")]\n",
    "            df_LMD_HIV4 = pd.concat([df_LMD_HIV4.drop([\"scoreLMD\"], axis=1), df_LMD_HIV4[\"scoreLMD\"].apply(pd.Series).add_prefix(\"LMD_\")], axis=1)\n",
    "            df_LMD_HIV4 = pd.concat([df_LMD_HIV4.drop([\"scoreHIV4\"], axis=1), df_LMD_HIV4[\"scoreHIV4\"].apply(pd.Series).add_prefix(\"HIV4_\")], axis=1)\n",
    "            df[['LMD_Polarity', 'HIV4_Polarity']] = df_LMD_HIV4[['LMD_Polarity', 'HIV4_Polarity']]\n",
    "\n",
    "            # VADER\n",
    "            df['Vader_Polarity'] = sentimentAnalysisVader(df)\n",
    "\n",
    "            # FINBERT\n",
    "            df['FinBert_Polarity'] = sentimentAnalysisFinBert(df)\n",
    "\n",
    "            # 储存一下df的原始数据\n",
    "            df_original = df.copy()\n",
    "            df['Country'] = country_name\n",
    "            # Find the average Polarity for each Dictionary, per given date\n",
    "            df = df.groupby('Date').mean(numeric_only=True).reset_index()\n",
    "            df = df.sort_values(by = ['Date'], ascending = True)\n",
    "            idx = pd.date_range('2012-01-01', '2022-12-31')\n",
    "            df = df.set_index(['Date']).reindex(idx, fill_value=np.nan).rename_axis('Date').reset_index()\n",
    "\n",
    "            df['Country'] = country_name\n",
    "            df= df[['Date', 'Country', 'LMD_Polarity', 'HIV4_Polarity', 'Vader_Polarity', 'FinBert_Polarity']]\n",
    "\n",
    "            count = count + 1\n",
    "            print(count)\n",
    "            df.to_csv('../Data/SentimentScores/{0}.csv'.format(country_name))\n",
    "            # 保存df的原始数据\n",
    "            df_original.to_csv('../Data/SentimentScores/{0}_original.csv'.format(country_name))\n"
   ],
   "metadata": {
    "collapsed": false,
    "is_executing": true,
    "ExecuteTime": {
     "start_time": "2023-07-25T20:47:44.707805Z"
    }
   }
  },
  {
   "cell_type": "code",
   "execution_count": 5,
   "outputs": [
    {
     "name": "stdout",
     "output_type": "stream",
     "text": [
      "Australia\n",
      "   Unnamed: 0        Date    Country  LMD_Polarity  HIV4_Polarity  \\\n",
      "0           0  2012-01-01  Australia           NaN            NaN   \n",
      "1           1  2012-01-02  Australia           NaN            NaN   \n",
      "2           2  2012-01-03  Australia           NaN            NaN   \n",
      "3           3  2012-01-04  Australia           NaN            NaN   \n",
      "4           4  2012-01-05  Australia           NaN            NaN   \n",
      "\n",
      "   Vader_Polarity  FinBert_Polarity  \n",
      "0             NaN               NaN  \n",
      "1             NaN               NaN  \n",
      "2             NaN               NaN  \n",
      "3             NaN               NaN  \n",
      "4             NaN               NaN  \n",
      "\n",
      "\n",
      "Canada\n",
      "   Unnamed: 0        Date Country  LMD_Polarity  HIV4_Polarity  \\\n",
      "0           0  2012-01-01  Canada           NaN            NaN   \n",
      "1           1  2012-01-02  Canada           NaN            NaN   \n",
      "2           2  2012-01-03  Canada           NaN            NaN   \n",
      "3           3  2012-01-04  Canada           NaN            NaN   \n",
      "4           4  2012-01-05  Canada           NaN            NaN   \n",
      "\n",
      "   Vader_Polarity  FinBert_Polarity  \n",
      "0             NaN               NaN  \n",
      "1             NaN               NaN  \n",
      "2             NaN               NaN  \n",
      "3             NaN               NaN  \n",
      "4             NaN               NaN  \n",
      "\n",
      "\n",
      "China\n",
      "   Unnamed: 0        Date Country  LMD_Polarity  HIV4_Polarity  \\\n",
      "0           0  2012-01-01   China           NaN            NaN   \n",
      "1           1  2012-01-02   China           NaN            NaN   \n",
      "2           2  2012-01-03   China           NaN            NaN   \n",
      "3           3  2012-01-04   China           NaN            NaN   \n",
      "4           4  2012-01-05   China           NaN            NaN   \n",
      "\n",
      "   Vader_Polarity  FinBert_Polarity  \n",
      "0             NaN               NaN  \n",
      "1             NaN               NaN  \n",
      "2             NaN               NaN  \n",
      "3             NaN               NaN  \n",
      "4             NaN               NaN  \n",
      "\n",
      "\n",
      "Denmark\n",
      "   Unnamed: 0        Date  Country  LMD_Polarity  HIV4_Polarity  \\\n",
      "0           0  2012-01-01  Denmark           NaN            NaN   \n",
      "1           1  2012-01-02  Denmark           NaN            NaN   \n",
      "2           2  2012-01-03  Denmark           NaN            NaN   \n",
      "3           3  2012-01-04  Denmark           NaN            NaN   \n",
      "4           4  2012-01-05  Denmark           NaN            NaN   \n",
      "\n",
      "   Vader_Polarity  FinBert_Polarity  \n",
      "0             NaN               NaN  \n",
      "1             NaN               NaN  \n",
      "2             NaN               NaN  \n",
      "3             NaN               NaN  \n",
      "4             NaN               NaN  \n",
      "\n",
      "\n",
      "Finland\n",
      "   Unnamed: 0        Date  Country  LMD_Polarity  HIV4_Polarity  \\\n",
      "0           0  2012-01-01  Finland           NaN            NaN   \n",
      "1           1  2012-01-02  Finland           NaN            NaN   \n",
      "2           2  2012-01-03  Finland           NaN            NaN   \n",
      "3           3  2012-01-04  Finland           NaN            NaN   \n",
      "4           4  2012-01-05  Finland           NaN            NaN   \n",
      "\n",
      "   Vader_Polarity  FinBert_Polarity  \n",
      "0             NaN               NaN  \n",
      "1             NaN               NaN  \n",
      "2             NaN               NaN  \n",
      "3             NaN               NaN  \n",
      "4             NaN               NaN  \n",
      "\n",
      "\n",
      "France\n",
      "   Unnamed: 0        Date Country  LMD_Polarity  HIV4_Polarity  \\\n",
      "0           0  2012-01-01  France           NaN            NaN   \n",
      "1           1  2012-01-02  France           NaN            NaN   \n",
      "2           2  2012-01-03  France           NaN            NaN   \n",
      "3           3  2012-01-04  France           NaN            NaN   \n",
      "4           4  2012-01-05  France           NaN            NaN   \n",
      "\n",
      "   Vader_Polarity  FinBert_Polarity  \n",
      "0             NaN               NaN  \n",
      "1             NaN               NaN  \n",
      "2             NaN               NaN  \n",
      "3             NaN               NaN  \n",
      "4             NaN               NaN  \n",
      "\n",
      "\n",
      "Germany\n",
      "   Unnamed: 0        Date  Country  LMD_Polarity  HIV4_Polarity  \\\n",
      "0           0  2012-01-01  Germany           NaN            NaN   \n",
      "1           1  2012-01-02  Germany           NaN            NaN   \n",
      "2           2  2012-01-03  Germany           NaN            NaN   \n",
      "3           3  2012-01-04  Germany           NaN            NaN   \n",
      "4           4  2012-01-05  Germany           NaN            NaN   \n",
      "\n",
      "   Vader_Polarity  FinBert_Polarity  \n",
      "0             NaN               NaN  \n",
      "1             NaN               NaN  \n",
      "2             NaN               NaN  \n",
      "3             NaN               NaN  \n",
      "4             NaN               NaN  \n",
      "\n",
      "\n",
      "Italy\n",
      "   Unnamed: 0        Date Country  LMD_Polarity  HIV4_Polarity  \\\n",
      "0           0  2012-01-01   Italy           NaN            NaN   \n",
      "1           1  2012-01-02   Italy           NaN            NaN   \n",
      "2           2  2012-01-03   Italy           NaN            NaN   \n",
      "3           3  2012-01-04   Italy           NaN            NaN   \n",
      "4           4  2012-01-05   Italy           NaN            NaN   \n",
      "\n",
      "   Vader_Polarity  FinBert_Polarity  \n",
      "0             NaN               NaN  \n",
      "1             NaN               NaN  \n",
      "2             NaN               NaN  \n",
      "3             NaN               NaN  \n",
      "4             NaN               NaN  \n",
      "\n",
      "\n",
      "Japan\n",
      "   Unnamed: 0        Date Country  LMD_Polarity  HIV4_Polarity  \\\n",
      "0           0  2012-01-01   Japan           NaN            NaN   \n",
      "1           1  2012-01-02   Japan           NaN            NaN   \n",
      "2           2  2012-01-03   Japan           NaN            NaN   \n",
      "3           3  2012-01-04   Japan           NaN            NaN   \n",
      "4           4  2012-01-05   Japan           NaN            NaN   \n",
      "\n",
      "   Vader_Polarity  FinBert_Polarity  \n",
      "0             NaN               NaN  \n",
      "1             NaN               NaN  \n",
      "2             NaN               NaN  \n",
      "3             NaN               NaN  \n",
      "4             NaN               NaN  \n",
      "\n",
      "\n",
      "Netherlands\n",
      "   Unnamed: 0        Date      Country  LMD_Polarity  HIV4_Polarity  \\\n",
      "0           0  2012-01-01  Netherlands           NaN            NaN   \n",
      "1           1  2012-01-02  Netherlands           NaN            NaN   \n",
      "2           2  2012-01-03  Netherlands           NaN            NaN   \n",
      "3           3  2012-01-04  Netherlands           NaN            NaN   \n",
      "4           4  2012-01-05  Netherlands           NaN            NaN   \n",
      "\n",
      "   Vader_Polarity  FinBert_Polarity  \n",
      "0             NaN               NaN  \n",
      "1             NaN               NaN  \n",
      "2             NaN               NaN  \n",
      "3             NaN               NaN  \n",
      "4             NaN               NaN  \n",
      "\n",
      "\n",
      "New Zealand\n",
      "   Unnamed: 0        Date      Country  LMD_Polarity  HIV4_Polarity  \\\n",
      "0           0  2012-01-01  New Zealand           NaN            NaN   \n",
      "1           1  2012-01-02  New Zealand           NaN            NaN   \n",
      "2           2  2012-01-03  New Zealand           NaN            NaN   \n",
      "3           3  2012-01-04  New Zealand           NaN            NaN   \n",
      "4           4  2012-01-05  New Zealand           NaN            NaN   \n",
      "\n",
      "   Vader_Polarity  FinBert_Polarity  \n",
      "0             NaN               NaN  \n",
      "1             NaN               NaN  \n",
      "2             NaN               NaN  \n",
      "3             NaN               NaN  \n",
      "4             NaN               NaN  \n",
      "\n",
      "\n",
      "Norway\n",
      "   Unnamed: 0        Date Country  LMD_Polarity  HIV4_Polarity  \\\n",
      "0           0  2012-01-01  Norway           NaN            NaN   \n",
      "1           1  2012-01-02  Norway           NaN            NaN   \n",
      "2           2  2012-01-03  Norway           NaN            NaN   \n",
      "3           3  2012-01-04  Norway           NaN            NaN   \n",
      "4           4  2012-01-05  Norway           NaN            NaN   \n",
      "\n",
      "   Vader_Polarity  FinBert_Polarity  \n",
      "0             NaN               NaN  \n",
      "1             NaN               NaN  \n",
      "2             NaN               NaN  \n",
      "3             NaN               NaN  \n",
      "4             NaN               NaN  \n",
      "\n",
      "\n",
      "Portugal\n",
      "   Unnamed: 0        Date   Country  LMD_Polarity  HIV4_Polarity  \\\n",
      "0           0  2012-01-01  Portugal           NaN            NaN   \n",
      "1           1  2012-01-02  Portugal           NaN            NaN   \n",
      "2           2  2012-01-03  Portugal           NaN            NaN   \n",
      "3           3  2012-01-04  Portugal           NaN            NaN   \n",
      "4           4  2012-01-05  Portugal           NaN            NaN   \n",
      "\n",
      "   Vader_Polarity  FinBert_Polarity  \n",
      "0             NaN               NaN  \n",
      "1             NaN               NaN  \n",
      "2             NaN               NaN  \n",
      "3             NaN               NaN  \n",
      "4             NaN               NaN  \n",
      "\n",
      "\n",
      "Singapore\n",
      "   Unnamed: 0        Date    Country  LMD_Polarity  HIV4_Polarity  \\\n",
      "0           0  2012-01-01  Singapore           NaN            NaN   \n",
      "1           1  2012-01-02  Singapore           NaN            NaN   \n",
      "2           2  2012-01-03  Singapore           NaN            NaN   \n",
      "3           3  2012-01-04  Singapore           NaN            NaN   \n",
      "4           4  2012-01-05  Singapore           NaN            NaN   \n",
      "\n",
      "   Vader_Polarity  FinBert_Polarity  \n",
      "0             NaN               NaN  \n",
      "1             NaN               NaN  \n",
      "2             NaN               NaN  \n",
      "3             NaN               NaN  \n",
      "4             NaN               NaN  \n",
      "\n",
      "\n",
      "South Korea\n",
      "   Unnamed: 0        Date      Country  LMD_Polarity  HIV4_Polarity  \\\n",
      "0           0  2012-01-01  South Korea           NaN            NaN   \n",
      "1           1  2012-01-02  South Korea           NaN            NaN   \n",
      "2           2  2012-01-03  South Korea           NaN            NaN   \n",
      "3           3  2012-01-04  South Korea           NaN            NaN   \n",
      "4           4  2012-01-05  South Korea           NaN            NaN   \n",
      "\n",
      "   Vader_Polarity  FinBert_Polarity  \n",
      "0             NaN               NaN  \n",
      "1             NaN               NaN  \n",
      "2             NaN               NaN  \n",
      "3             NaN               NaN  \n",
      "4             NaN               NaN  \n",
      "\n",
      "\n",
      "Spain\n",
      "   Unnamed: 0        Date Country  LMD_Polarity  HIV4_Polarity  \\\n",
      "0           0  2012-01-01   Spain           NaN            NaN   \n",
      "1           1  2012-01-02   Spain           NaN            NaN   \n",
      "2           2  2012-01-03   Spain           NaN            NaN   \n",
      "3           3  2012-01-04   Spain           NaN            NaN   \n",
      "4           4  2012-01-05   Spain           NaN            NaN   \n",
      "\n",
      "   Vader_Polarity  FinBert_Polarity  \n",
      "0             NaN               NaN  \n",
      "1             NaN               NaN  \n",
      "2             NaN               NaN  \n",
      "3             NaN               NaN  \n",
      "4             NaN               NaN  \n",
      "\n",
      "\n",
      "Sweden\n",
      "   Unnamed: 0        Date Country  LMD_Polarity  HIV4_Polarity  \\\n",
      "0           0  2012-01-01  Sweden           NaN            NaN   \n",
      "1           1  2012-01-02  Sweden           NaN            NaN   \n",
      "2           2  2012-01-03  Sweden           NaN            NaN   \n",
      "3           3  2012-01-04  Sweden           NaN            NaN   \n",
      "4           4  2012-01-05  Sweden           NaN            NaN   \n",
      "\n",
      "   Vader_Polarity  FinBert_Polarity  \n",
      "0             NaN               NaN  \n",
      "1             NaN               NaN  \n",
      "2             NaN               NaN  \n",
      "3             NaN               NaN  \n",
      "4             NaN               NaN  \n",
      "\n",
      "\n",
      "Switzerland\n",
      "   Unnamed: 0        Date      Country  LMD_Polarity  HIV4_Polarity  \\\n",
      "0           0  2012-01-01  Switzerland           NaN            NaN   \n",
      "1           1  2012-01-02  Switzerland           NaN            NaN   \n",
      "2           2  2012-01-03  Switzerland           NaN            NaN   \n",
      "3           3  2012-01-04  Switzerland           NaN            NaN   \n",
      "4           4  2012-01-05  Switzerland           NaN            NaN   \n",
      "\n",
      "   Vader_Polarity  FinBert_Polarity  \n",
      "0             NaN               NaN  \n",
      "1             NaN               NaN  \n",
      "2             NaN               NaN  \n",
      "3             NaN               NaN  \n",
      "4             NaN               NaN  \n",
      "\n",
      "\n",
      "United Kingdom\n",
      "   Unnamed: 0        Date         Country  LMD_Polarity  HIV4_Polarity  \\\n",
      "0           0  2012-01-01  United Kingdom           NaN            NaN   \n",
      "1           1  2012-01-02  United Kingdom           NaN            NaN   \n",
      "2           2  2012-01-03  United Kingdom           NaN            NaN   \n",
      "3           3  2012-01-04  United Kingdom           NaN            NaN   \n",
      "4           4  2012-01-05  United Kingdom           NaN            NaN   \n",
      "\n",
      "   Vader_Polarity  FinBert_Polarity  \n",
      "0             NaN               NaN  \n",
      "1             NaN               NaN  \n",
      "2             NaN               NaN  \n",
      "3             NaN               NaN  \n",
      "4             NaN               NaN  \n",
      "\n",
      "\n",
      "United States\n",
      "   Unnamed: 0        Date        Country  LMD_Polarity  HIV4_Polarity  \\\n",
      "0           0  2012-01-01  United States           NaN            NaN   \n",
      "1           1  2012-01-02  United States           NaN            NaN   \n",
      "2           2  2012-01-03  United States           NaN            NaN   \n",
      "3           3  2012-01-04  United States           NaN            NaN   \n",
      "4           4  2012-01-05  United States           NaN            NaN   \n",
      "\n",
      "   Vader_Polarity  FinBert_Polarity  \n",
      "0             NaN               NaN  \n",
      "1             NaN               NaN  \n",
      "2             NaN               NaN  \n",
      "3             NaN               NaN  \n",
      "4             NaN               NaN  \n",
      "\n",
      "\n"
     ]
    }
   ],
   "source": [
    "# 展示每个国家的情感分析数据\n",
    "lst_files = []\n",
    "path = \"../Data/SentimentScores/*.csv\"\n",
    "\n",
    "for fname in glob.glob(path):\n",
    "    # 检查文件名是否以 \"_original.csv\" 结尾\n",
    "    if not fname.endswith(\"_original.csv\"):\n",
    "        lst_files.append(fname)\n",
    "\n",
    "lst_files = sorted(lst_files)\n",
    "\n",
    "# 读取每个国家数据, 并输出每个数据的前5行\n",
    "for file in lst_files:\n",
    "    file_name = os.path.basename(file)  # Get the file name from the full file path\n",
    "    country_name = os.path.splitext(file_name)[0]  # Remove the file extension\n",
    "    df = pd.read_csv(file)\n",
    "    print(country_name)\n",
    "    print(df.head())\n",
    "    print('\\n')\n"
   ],
   "metadata": {
    "collapsed": false,
    "ExecuteTime": {
     "end_time": "2023-07-26T10:30:39.196837Z",
     "start_time": "2023-07-26T10:30:39.120410Z"
    }
   }
  },
  {
   "cell_type": "code",
   "execution_count": 6,
   "outputs": [
    {
     "name": "stdout",
     "output_type": "stream",
     "text": [
      "Australia_original\n",
      "   Unnamed: 0        Date                                               Text  \\\n",
      "0           0  2021-01-20  China’s imports of Australian copper ore crash...   \n",
      "1           1  2021-01-28  First flashes of Brexit trade trouble appear i...   \n",
      "2           2  2021-02-09  Stocks, oil rise in Asia after U.S. records, d...   \n",
      "3           3  2021-02-22  Future proofing: Australia’s gas networks look...   \n",
      "4           4  2021-02-26  Take Five: Policymakers under pressure. 1/TANT...   \n",
      "\n",
      "   LMD_Polarity  HIV4_Polarity  Vader_Polarity  FinBert_Polarity    Country  \n",
      "0     -1.000000       0.214286         -0.9485         -0.972263  Australia  \n",
      "1     -0.411765       0.050847         -0.6597         -0.969801  Australia  \n",
      "2     -0.066667       0.333333          0.9799          0.595929  Australia  \n",
      "3      0.400000       0.449275          0.9964          0.000000  Australia  \n",
      "4     -0.666667      -0.012658          0.9554          0.561960  Australia  \n",
      "\n",
      "\n",
      "Canada_original\n",
      "   Unnamed: 0        Date                                               Text  \\\n",
      "0           0  2021-05-06  The great exit: central banks line up to taper...   \n",
      "1           1  2021-05-10  Low carbon world needs $1.7 trillion in mining...   \n",
      "2           2  2021-05-14  U.S. DOJ says Canadian National bid for Kansas...   \n",
      "3           3  2021-05-14  U.S., Mexico, Canada to hold 'robust' talks on...   \n",
      "4           4  2021-05-14  Canada plots course to fully vaccinated return...   \n",
      "\n",
      "   LMD_Polarity  HIV4_Polarity  Vader_Polarity  FinBert_Polarity Country  \n",
      "0     -0.200000       0.189189          0.9721         -0.678663  Canada  \n",
      "1     -0.500000       0.220339          0.9806          0.559313  Canada  \n",
      "2      0.000000       0.217391          0.9136          0.705878  Canada  \n",
      "3      0.142857       0.636364          0.8658         -0.360106  Canada  \n",
      "4     -1.000000       0.333333          0.9682          0.000000  Canada  \n",
      "\n",
      "\n",
      "China_original\n",
      "   Unnamed: 0        Date                                               Text  \\\n",
      "0           0  2021-01-19  Treasury nominee Yellen says markets should de...   \n",
      "1           1  2021-01-20  China’s COVID-19 vaccine makers apply to join ...   \n",
      "2           2  2021-01-21  Explainer: Party people: What happens at Vietn...   \n",
      "3           3  2021-01-23  Animal activist in China’s Wuhan happy to be b...   \n",
      "4           4  2021-01-28  China sharpens language, warns Taiwan that ind...   \n",
      "\n",
      "   LMD_Polarity  HIV4_Polarity  Vader_Polarity  FinBert_Polarity Country  \n",
      "0     -0.629630       0.000000          0.9952         -0.833109   China  \n",
      "1     -0.500000       0.266667          0.4118          0.000000   China  \n",
      "2      0.161290       0.338710          0.9965          0.000000   China  \n",
      "3     -0.142857       0.518519          0.9854          0.000000   China  \n",
      "4     -1.000000       0.157895          0.9370         -0.495225   China  \n",
      "\n",
      "\n",
      "Denmark_original\n",
      "   Unnamed: 0        Date                                               Text  \\\n",
      "0           0  2021-05-20  Trust in EU governments falls amid pandemic, s...   \n",
      "1           1  2021-05-20  Blinken confirms the U.S. does not want to buy...   \n",
      "2           2  2021-05-23  Russia's Fortuna vessel moves to German waters...   \n",
      "3           3  2021-05-24  Focus: Hyundai raises hydrogen game as new tru...   \n",
      "4           4  2021-05-24  Shares wary on U.S. inflation, battered bitcoi...   \n",
      "\n",
      "   LMD_Polarity  HIV4_Polarity  Vader_Polarity  FinBert_Polarity  Country  \n",
      "0     -0.466667       0.243243          0.9763         -0.965240  Denmark  \n",
      "1     -0.200000       0.642857          0.7498          0.000000  Denmark  \n",
      "2     -0.500000       0.200000          0.2846         -0.844745  Denmark  \n",
      "3      0.000000       0.223881          0.9810          0.783211  Denmark  \n",
      "4     -0.440000      -0.146667         -0.2794          0.601021  Denmark  \n",
      "\n",
      "\n",
      "Finland_original\n",
      "   Unnamed: 0        Date                                               Text  \\\n",
      "0           0  2021-06-01  Russia hold Poland to 1-1 draw in friendly. WR...   \n",
      "1           1  2021-06-03  Bottas raised concerns over Mercedes' pit stop...   \n",
      "2           2  2021-06-08  Pfizer to test COVID-19 vaccine in larger grou...   \n",
      "3           3  2021-06-08  U.S. to work with allies to secure electric ve...   \n",
      "4           4  2021-06-09  Russia complains to UEFA over Ukraine kit with...   \n",
      "\n",
      "   LMD_Polarity  HIV4_Polarity  Vader_Polarity  FinBert_Polarity  Country  \n",
      "0     -0.333333       0.166667          0.7311          0.000000  Finland  \n",
      "1     -0.888889      -0.085714          0.9036          0.000000  Finland  \n",
      "2     -1.000000       0.400000          0.8402          0.000000  Finland  \n",
      "3     -0.333333       0.411765          0.9865          0.000000  Finland  \n",
      "4     -0.555555       0.400000          0.9304         -0.820463  Finland  \n",
      "\n",
      "\n",
      "France_original\n",
      "   Unnamed: 0        Date                                               Text  \\\n",
      "0           0  2021-01-28  First flashes of Brexit trade trouble appear i...   \n",
      "1           1  2021-01-28  Facebook oversight board overrules company on ...   \n",
      "2           2  2021-01-28  We want the vaccines we’ve ordered, UK says af...   \n",
      "3           3  2021-01-29  Analysis: “Russian roulette” in Europe as need...   \n",
      "4           4  2021-01-29  Analysis: A suitable suitor? Carrefour admirer...   \n",
      "\n",
      "   LMD_Polarity  HIV4_Polarity  Vader_Polarity  FinBert_Polarity Country  \n",
      "0     -0.411765       0.050847         -0.6597         -0.969801  France  \n",
      "1     -0.956522       0.042735         -0.9899         -0.769426  France  \n",
      "2     -0.769231       0.246377         -0.9451         -0.916840  France  \n",
      "3     -0.684210       0.147541          0.9737         -0.489272  France  \n",
      "4     -0.176471       0.500000          0.9948          0.000000  France  \n",
      "\n",
      "\n",
      "Germany_original\n",
      "   Unnamed: 0        Date                                               Text  \\\n",
      "0           0  2020-12-21  U.S. charges Libyan man in 1988 Pan Am Flight ...   \n",
      "1           1  2021-01-26  Airline outlook dims again as new travel curbs...   \n",
      "2           2  2021-01-28  First flashes of Brexit trade trouble appear i...   \n",
      "3           3  2021-01-28  We want the vaccines we’ve ordered, UK says af...   \n",
      "4           4  2021-01-28  Russian court keeps Kremlin critic Navalny in ...   \n",
      "\n",
      "   LMD_Polarity  HIV4_Polarity  Vader_Polarity  FinBert_Polarity  Country  \n",
      "0     -0.857143      -0.434783         -0.9287         -0.567405  Germany  \n",
      "1     -0.937500       0.015385         -0.8187         -0.972785  Germany  \n",
      "2     -0.411765       0.050847         -0.6597         -0.969801  Germany  \n",
      "3     -0.769231       0.246377         -0.9451         -0.916840  Germany  \n",
      "4     -0.833333      -0.272727         -0.9904         -0.758475  Germany  \n",
      "\n",
      "\n",
      "Italy_original\n",
      "   Unnamed: 0        Date                                               Text  \\\n",
      "0           0  2021-05-14  Italy's ERG pledges 2.1 bln euros to become pu...   \n",
      "1           1  2021-05-14  EXCLUSIVE Italy tribunal rules for Blackstone ...   \n",
      "2           2  2021-05-14  EXCLUSIVE Italy audit court rejects public fun...   \n",
      "3           3  2021-05-14  Italian police block 1.5 mln illegal streaming...   \n",
      "4           4  2021-05-14  Italy judge rules Salvini should not stand tri...   \n",
      "\n",
      "   LMD_Polarity  HIV4_Polarity  Vader_Polarity  FinBert_Polarity Country  \n",
      "0      0.714286       0.687500          0.9178         -0.971179   Italy  \n",
      "1     -0.600000       0.136364         -0.7059         -0.809346   Italy  \n",
      "2     -0.750000       0.268293          0.7129         -0.724230   Italy  \n",
      "3     -1.000000       0.040000         -0.9313         -0.883840   Italy  \n",
      "4     -1.000000      -0.052632         -0.6214         -0.841169   Italy  \n",
      "\n",
      "\n",
      "Japan_original\n",
      "   Unnamed: 0        Date                                               Text  \\\n",
      "0           0  2021-01-20  China’s imports of Australian copper ore crash...   \n",
      "1           1  2021-01-28  Asian equities rebound but short-squeeze nerve...   \n",
      "2           2  2021-01-28  First flashes of Brexit trade trouble appear i...   \n",
      "3           3  2021-02-01  GLOBAL ECONOMY Asian factories show mixed perf...   \n",
      "4           4  2021-02-01  Asian shares rally as retail crowd catch silve...   \n",
      "\n",
      "   LMD_Polarity  HIV4_Polarity  Vader_Polarity  FinBert_Polarity Country  \n",
      "0     -1.000000       0.214286         -0.9485         -0.972263   Japan  \n",
      "1     -0.500000      -0.019608         -0.9703         -0.957330   Japan  \n",
      "2     -0.411765       0.050847         -0.6597         -0.969801   Japan  \n",
      "3     -0.684210       0.100000         -0.2846         -0.965520   Japan  \n",
      "4     -0.692308       0.045455         -0.0511         -0.867138   Japan  \n",
      "\n",
      "\n",
      "Netherlands_original\n",
      "   Unnamed: 0        Date                                               Text  \\\n",
      "0           0  2021-05-17  Citi promotes Gutiérrez-Orrantia to head EMEA ...   \n",
      "1           1  2021-05-17  Sex workers back in business as Dutch COVID cu...   \n",
      "2           2  2021-05-17  Eurovision song contest prepares for slimmed d...   \n",
      "3           3  2021-05-18  IBM to acquire Salesforce partner Waeg. BERLIN...   \n",
      "4           4  2021-05-18  Stellantis, Foxconn to form connectivity-focus...   \n",
      "\n",
      "   LMD_Polarity  HIV4_Polarity  Vader_Polarity  FinBert_Polarity      Country  \n",
      "0      1.000000       0.818182          0.8834          0.000000  Netherlands  \n",
      "1     -0.833333       0.238095          0.8402         -0.962838  Netherlands  \n",
      "2     -0.714286      -0.363636         -0.6808         -0.956304  Netherlands  \n",
      "3     -0.500000       0.304348          0.9413          0.811834  Netherlands  \n",
      "4      0.000000       0.567568          0.9524          0.917983  Netherlands  \n",
      "\n",
      "\n",
      "New Zealand_original\n",
      "   Unnamed: 0        Date                                               Text  \\\n",
      "0           0  2021-05-18  Nurse who treated UK PM Johnson for COVID slam...   \n",
      "1           1  2021-05-19  India's Saha recovers from COVID-19 ahead of E...   \n",
      "2           2  2021-05-19  India's Royal Enfield recalls about 237,000 mo...   \n",
      "3           3  2021-05-20  Expect stronger India at neutral WTC final ven...   \n",
      "4           4  2021-05-20  New Zealand's Ardern delivers welfare boost in...   \n",
      "\n",
      "   LMD_Polarity  HIV4_Polarity  Vader_Polarity  FinBert_Polarity      Country  \n",
      "0     -0.555555       0.491525          0.9499         -0.934711  New Zealand  \n",
      "1      0.200000       0.444444          0.8627         -0.529436  New Zealand  \n",
      "2     -1.000000      -0.076923         -0.8481         -0.892193  New Zealand  \n",
      "3      0.200000       0.000000          0.9953          0.518756  New Zealand  \n",
      "4     -0.282051       0.219512          0.9676         -0.880637  New Zealand  \n",
      "\n",
      "\n",
      "Norway_original\n",
      "   Unnamed: 0        Date                                               Text  \\\n",
      "0           0  2021-05-14  Chelsea’s Reiten ready for Champions League ba...   \n",
      "1           1  2021-05-15  Portugal to allow EU and UK tourists with a ne...   \n",
      "2           2  2021-05-15  Foreign expedition abandons Everest attempt ci...   \n",
      "3           3  2021-05-17  U.S.-EU metals talks avert tariff hike on Amer...   \n",
      "4           4  2021-05-18  Norwegian Air says debt reconstruction plan ap...   \n",
      "\n",
      "   LMD_Polarity  HIV4_Polarity  Vader_Polarity  FinBert_Polarity Country  \n",
      "0          0.60       0.396226          0.9983          0.000000  Norway  \n",
      "1         -1.00       0.181818         -0.9738          0.000000  Norway  \n",
      "2         -0.75       0.030303         -0.9521         -0.928284  Norway  \n",
      "3         -0.75       0.082353          0.8289         -0.613230  Norway  \n",
      "4          0.00       0.666667          0.7003          0.000000  Norway  \n",
      "\n",
      "\n",
      "Portugal_original\n",
      "   Unnamed: 0        Date                                               Text  \\\n",
      "0           0  2021-05-18  Man City owner to fund fans' trip to Champions...   \n",
      "1           1  2021-05-18  Lufthansa sees surge in demand for transatlant...   \n",
      "2           2  2021-05-19  Spanish tourism looking to vaccines, UK green ...   \n",
      "3           3  2021-05-19  DNA study seeks to end dispute on where Columb...   \n",
      "4           4  2021-05-19  Europeans savour croissants and beers as cafes...   \n",
      "\n",
      "   LMD_Polarity  HIV4_Polarity  Vader_Polarity  FinBert_Polarity   Country  \n",
      "0      0.333333       0.448276          0.9926          0.000000  Portugal  \n",
      "1      0.000000       0.400000          0.9753          0.944095  Portugal  \n",
      "2      0.250000       0.483871          0.9653          0.626013  Portugal  \n",
      "3     -0.600000       0.230769          0.8050          0.000000  Portugal  \n",
      "4     -0.600000       0.186441          0.8773         -0.712963  Portugal  \n",
      "\n",
      "\n",
      "Singapore_original\n",
      "   Unnamed: 0        Date                                               Text  \\\n",
      "0           0  2021-03-11  France eases COVID-19 restrictions on internat...   \n",
      "1           1  2021-04-07  Singapore becomes a global cruise leader, for ...   \n",
      "2           2  2021-04-09  Commodities trader Trafigura launches carbon t...   \n",
      "3           3  2021-04-13  Temasek, BlackRock partnership commits initial...   \n",
      "4           4  2021-04-13  Focus: Biden’s chip dreams face reality check ...   \n",
      "\n",
      "   LMD_Polarity  HIV4_Polarity  Vader_Polarity  FinBert_Polarity    Country  \n",
      "0     -0.666667       0.476190          0.8432          0.000000  Singapore  \n",
      "1     -0.428571       0.357143          0.2732         -0.934993  Singapore  \n",
      "2     -0.333333       0.266667         -0.9125          0.000000  Singapore  \n",
      "3     -0.999999       0.743590          0.9584          0.744018  Singapore  \n",
      "4     -0.157895       0.312500          0.9959         -0.644453  Singapore  \n",
      "\n",
      "\n",
      "South Korea_original\n",
      "   Unnamed: 0        Date                                               Text  \\\n",
      "0           0  2021-05-17  Live video shopping firm Bambuser buys influen...   \n",
      "1           1  2021-05-17  U.S. military offers J&J vaccines for South Ko...   \n",
      "2           2  2021-05-17  U.S.-EU metals talks avert tariff hike on Amer...   \n",
      "3           3  2021-05-18  South Korea's Moon seeks urgency on N.Korea, v...   \n",
      "4           4  2021-05-18  Cryptocurrencies command 'Kimchi Premium' in S...   \n",
      "\n",
      "   LMD_Polarity  HIV4_Polarity  Vader_Polarity  FinBert_Polarity      Country  \n",
      "0     -0.428571       0.384615          0.9355          0.865169  South Korea  \n",
      "1     -1.000000       0.314286          0.8248          0.000000  South Korea  \n",
      "2     -0.750000       0.082353          0.8289         -0.613230  South Korea  \n",
      "3     -0.578947       0.610390          0.9964         -0.761593  South Korea  \n",
      "4     -0.333333       0.555556          0.9696          0.000000  South Korea  \n",
      "\n",
      "\n",
      "Spain_original\n",
      "   Unnamed: 0        Date                                               Text  \\\n",
      "0           0  2021-05-05  No longer dirty? EU leaders want to challenge ...   \n",
      "1           1  2021-05-14  Italy's ERG pledges 2.1 bln euros to become pu...   \n",
      "2           2  2021-05-14  La Liga still planning to take matches to U.S....   \n",
      "3           3  2021-05-14  Spain logged hottest year on record in 2020. M...   \n",
      "4           4  2021-05-14  Caixabank staff protest Spanish layoffs as exe...   \n",
      "\n",
      "   LMD_Polarity  HIV4_Polarity  Vader_Polarity  FinBert_Polarity Country  \n",
      "0     -0.444444       0.126761          0.9623          0.000000   Spain  \n",
      "1      0.714286       0.687500          0.9178         -0.971179   Spain  \n",
      "2     -0.500000       0.393939          0.9750          0.000000   Spain  \n",
      "3      0.000000       0.200000          0.5574          0.000000   Spain  \n",
      "4     -1.000000       0.000000         -0.9481         -0.954326   Spain  \n",
      "\n",
      "\n",
      "Sweden_original\n",
      "   Unnamed: 0        Date                                               Text  \\\n",
      "0           0  2021-05-24  S. Korea's c.bank moves to develop pilot digit...   \n",
      "1           1  2021-05-25  Sweden to donate at least 3 million vaccine do...   \n",
      "2           2  2021-05-25  U.S. women's coach Andonovski says Tokyo squad...   \n",
      "3           3  2021-05-26  'Social contagion' as Sweden sees surge in dea...   \n",
      "4           4  2021-05-26  Belarusian plane turns back after warning abou...   \n",
      "\n",
      "   LMD_Polarity  HIV4_Polarity  Vader_Polarity  FinBert_Polarity Country  \n",
      "0     -0.999999       0.500000          0.0717          0.000000  Sweden  \n",
      "1      0.999999       1.000000          0.4336          0.907088  Sweden  \n",
      "2     -0.111111       0.481481          0.9580          0.000000  Sweden  \n",
      "3     -0.600000      -0.371429         -0.9864         -0.919599  Sweden  \n",
      "4     -0.733333       0.120000         -0.9872         -0.888936  Sweden  \n",
      "\n",
      "\n",
      "Switzerland_original\n",
      "   Unnamed: 0        Date                                               Text  \\\n",
      "0           0  2021-05-19  Swiss government stocks up Lonza workforce to ...   \n",
      "1           1  2021-05-19  Drained lake reveals remnants of lost Italian ...   \n",
      "2           2  2021-05-19  Three uncapped players in Switzerland prelimin...   \n",
      "3           3  2021-05-20  After Federer exit, Stricker flying flag for S...   \n",
      "4           4  2021-05-20  'I'm coming back to life' pianist says, as Gen...   \n",
      "\n",
      "   LMD_Polarity  HIV4_Polarity  Vader_Polarity  FinBert_Polarity      Country  \n",
      "0     -0.428571       0.365854          0.9762         -0.479460  Switzerland  \n",
      "1     -0.428571       0.100000         -0.8209         -0.585864  Switzerland  \n",
      "2      1.000000       0.904762          0.9808          0.000000  Switzerland  \n",
      "3      0.333333       0.162791          0.9941          0.000000  Switzerland  \n",
      "4     -0.750000       0.243243         -0.2382          0.000000  Switzerland  \n",
      "\n",
      "\n",
      "United Kingdom_original\n",
      "   Unnamed: 0        Date                                               Text  \\\n",
      "0           0  2020-12-21  Indian shares set to snap six sessions of gain...   \n",
      "1           1  2021-01-26  Airline outlook dims again as new travel curbs...   \n",
      "2           2  2021-01-27  Factbox: The Brexit impact so far: paperwork, ...   \n",
      "3           3  2021-01-28  First flashes of Brexit trade trouble appear i...   \n",
      "4           4  2021-01-28  We want the vaccines we’ve ordered, UK says af...   \n",
      "\n",
      "   LMD_Polarity  HIV4_Polarity  Vader_Polarity  FinBert_Polarity  \\\n",
      "0     -0.500000       0.230769          0.9509         -0.972247   \n",
      "1     -0.937500       0.015385         -0.8187         -0.972785   \n",
      "2     -0.478261       0.000000         -0.8350         -0.966769   \n",
      "3     -0.411765       0.050847         -0.6597         -0.969801   \n",
      "4     -0.769231       0.246377         -0.9451         -0.916840   \n",
      "\n",
      "          Country  \n",
      "0  United Kingdom  \n",
      "1  United Kingdom  \n",
      "2  United Kingdom  \n",
      "3  United Kingdom  \n",
      "4  United Kingdom  \n",
      "\n",
      "\n",
      "United States_original\n",
      "   Unnamed: 0        Date                                               Text  \\\n",
      "0           0  2020-12-21  U.S. charges Libyan man in 1988 Pan Am Flight ...   \n",
      "1           1  2021-01-19  Treasury nominee Yellen says markets should de...   \n",
      "2           2  2021-01-21  Explainer: Party people: What happens at Vietn...   \n",
      "3           3  2021-01-28  We want the vaccines we’ve ordered, UK says af...   \n",
      "4           4  2021-01-28  Novavax says COVID-19 vaccine 89% effective in...   \n",
      "\n",
      "   LMD_Polarity  HIV4_Polarity  Vader_Polarity  FinBert_Polarity  \\\n",
      "0     -0.857143      -0.434783         -0.9287         -0.567405   \n",
      "1     -0.629630       0.000000          0.9952         -0.833109   \n",
      "2      0.161290       0.338710          0.9965          0.000000   \n",
      "3     -0.769231       0.246377         -0.9451         -0.916840   \n",
      "4      0.300000       0.512195          0.9820          0.487059   \n",
      "\n",
      "         Country  \n",
      "0  United States  \n",
      "1  United States  \n",
      "2  United States  \n",
      "3  United States  \n",
      "4  United States  \n",
      "\n",
      "\n"
     ]
    }
   ],
   "source": [
    "# 展示每个国家的原始情感数据\n",
    "lst_files = []\n",
    "path = \"../Data/SentimentScores/*.csv\"\n",
    "\n",
    "for fname in glob.glob(path):\n",
    "    # 检查文件名是否以 \"_original.csv\" 结尾\n",
    "    if fname.endswith(\"_original.csv\"):\n",
    "        lst_files.append(fname)\n",
    "\n",
    "lst_files = sorted(lst_files)\n",
    "\n",
    "# 读取每个国家数据, 并输出每个数据的前5行\n",
    "for file in lst_files:\n",
    "    file_name = os.path.basename(file)  # Get the file name from the full file path\n",
    "    country_name = os.path.splitext(file_name)[0]  # Remove the file extension\n",
    "    df = pd.read_csv(file)\n",
    "    print(country_name)\n",
    "    print(df.head())\n",
    "    print('\\n')"
   ],
   "metadata": {
    "collapsed": false,
    "ExecuteTime": {
     "end_time": "2023-07-26T10:31:32.413148Z",
     "start_time": "2023-07-26T10:31:29.895284Z"
    }
   }
  },
  {
   "cell_type": "code",
   "execution_count": 14,
   "outputs": [],
   "source": [
    "# 合并所有国家的情感分析数据\n",
    "lst_Reuters_files = []\n",
    "lst_MarketWatch_files = []\n",
    "path_Reuters = \"../Data/SentimentScores/*.csv\"\n",
    "path_MarketWatch = \"../Data/MW Sentiment/*.csv\"\n",
    "\n",
    "for fname in glob.glob(path_Reuters):\n",
    "    # 检查文件名是否以 \"_original.csv\" 结尾\n",
    "    if not fname.endswith(\"_original.csv\"):\n",
    "        lst_Reuters_files.append(fname)\n",
    "\n",
    "for fname in glob.glob(path_MarketWatch):\n",
    "    lst_MarketWatch_files.append(fname)\n",
    "\n",
    "lst_Reuters_files = sorted(lst_Reuters_files)\n",
    "lst_MarketWatch_files = sorted(lst_MarketWatch_files)\n",
    "\n",
    "df_Reuters_sentiment = pd.concat(map(pd.read_csv, lst_Reuters_files), ignore_index=True)\n",
    "df_MW_sentiment = pd.concat(map(pd.read_csv, lst_MarketWatch_files), ignore_index=True)\n",
    "\n",
    "# Sort by Date, Country; drop redundant columns\n",
    "df_Reuters_sentiment = df_Reuters_sentiment.sort_values(by = ['Date', 'Country'], ascending = True)\n",
    "df_Reuters_sentiment = df_Reuters_sentiment.drop(['Unnamed: 0'], axis = 1)\n",
    "df_MW_sentiment = df_MW_sentiment.sort_values(by = ['Date', 'Country'], ascending = True)\n",
    "df_MW_sentiment = df_MW_sentiment.drop(['Unnamed: 0'], axis = 1)\n",
    "\n",
    "# Align Sentiment with the following day's Return\n",
    "df_Reuters_sentiment['Date'] = pd.to_datetime(df_Reuters_sentiment['Date'])\n",
    "df_Reuters_sentiment = df_Reuters_sentiment[~(df_Reuters_sentiment['Date'] < '2012-01-01')]\n",
    "df_MW_sentiment['Date'] = pd.to_datetime(df_MW_sentiment['Date'])\n",
    "df_MW_sentiment = df_MW_sentiment[~(df_MW_sentiment['Date'] < '2012-01-01')]\n",
    "# df['Date'] = df[\"Date\"] + BusinessDay()\n",
    "\n",
    "# 展示数据\n",
    "# df\n",
    "#\n",
    "df_Reuters_sentiment.to_csv(r'../Data/{0}.csv'.format('Merged Sentiment Reuters'))\n",
    "df_MW_sentiment.to_csv(r'../Data/{0}.csv'.format('Merged Sentiment MW'))\n"
   ],
   "metadata": {
    "collapsed": false,
    "ExecuteTime": {
     "end_time": "2023-07-26T16:21:48.122802Z",
     "start_time": "2023-07-26T16:21:47.640873Z"
    }
   }
  },
  {
   "cell_type": "code",
   "execution_count": null,
   "outputs": [],
   "source": [],
   "metadata": {
    "collapsed": false
   }
  }
 ],
 "metadata": {
  "kernelspec": {
   "display_name": "Python 3",
   "language": "python",
   "name": "python3"
  },
  "language_info": {
   "codemirror_mode": {
    "name": "ipython",
    "version": 2
   },
   "file_extension": ".py",
   "mimetype": "text/x-python",
   "name": "python",
   "nbconvert_exporter": "python",
   "pygments_lexer": "ipython2",
   "version": "2.7.6"
  }
 },
 "nbformat": 4,
 "nbformat_minor": 0
}
