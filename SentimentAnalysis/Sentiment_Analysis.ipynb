{
 "cells": [
  {
   "cell_type": "code",
   "execution_count": 8,
   "metadata": {
    "collapsed": true,
    "ExecuteTime": {
     "end_time": "2023-07-25T20:32:48.687299Z",
     "start_time": "2023-07-25T20:32:48.685091Z"
    }
   },
   "outputs": [],
   "source": [
    "# 导入库\n",
    "import numpy as np\n",
    "import pandas as pd\n",
    "from   datetime import datetime\n",
    "from tqdm.notebook import tqdm\n",
    "import os\n",
    "import glob\n",
    "import pysentiment2 as ps\n",
    "import nltk\n",
    "from   nltk.sentiment.vader import SentimentIntensityAnalyzer\n",
    "from   IPython.core.display import HTML\n",
    "\n",
    "from transformers import pipeline\n",
    "from transformers import AutoTokenizer, AutoModelForSequenceClassification\n",
    "\n",
    "import torch"
   ]
  },
  {
   "cell_type": "code",
   "execution_count": 2,
   "outputs": [
    {
     "name": "stderr",
     "output_type": "stream",
     "text": [
      "[nltk_data] Downloading package vader_lexicon to\n",
      "[nltk_data]     /Users/wanghs/nltk_data...\n"
     ]
    },
    {
     "data": {
      "text/plain": "Downloading (…)okenizer_config.json:   0%|          | 0.00/252 [00:00<?, ?B/s]",
      "application/vnd.jupyter.widget-view+json": {
       "version_major": 2,
       "version_minor": 0,
       "model_id": "862b0adc7fd94d31974a5bffecd6bf1f"
      }
     },
     "metadata": {},
     "output_type": "display_data"
    },
    {
     "data": {
      "text/plain": "Downloading (…)lve/main/config.json:   0%|          | 0.00/758 [00:00<?, ?B/s]",
      "application/vnd.jupyter.widget-view+json": {
       "version_major": 2,
       "version_minor": 0,
       "model_id": "35daf29b2ced40759509a23f983f3c7c"
      }
     },
     "metadata": {},
     "output_type": "display_data"
    },
    {
     "data": {
      "text/plain": "Downloading (…)solve/main/vocab.txt:   0%|          | 0.00/232k [00:00<?, ?B/s]",
      "application/vnd.jupyter.widget-view+json": {
       "version_major": 2,
       "version_minor": 0,
       "model_id": "d42691ac967e42ae9999d31bd7813924"
      }
     },
     "metadata": {},
     "output_type": "display_data"
    },
    {
     "data": {
      "text/plain": "Downloading (…)cial_tokens_map.json:   0%|          | 0.00/112 [00:00<?, ?B/s]",
      "application/vnd.jupyter.widget-view+json": {
       "version_major": 2,
       "version_minor": 0,
       "model_id": "2fa1e242f47a4c12a2b7dcc54008a26f"
      }
     },
     "metadata": {},
     "output_type": "display_data"
    },
    {
     "data": {
      "text/plain": "Downloading pytorch_model.bin:   0%|          | 0.00/438M [00:00<?, ?B/s]",
      "application/vnd.jupyter.widget-view+json": {
       "version_major": 2,
       "version_minor": 0,
       "model_id": "a6f9e87f5d4f461b9094a2d57249edae"
      }
     },
     "metadata": {},
     "output_type": "display_data"
    },
    {
     "name": "stderr",
     "output_type": "stream",
     "text": [
      "Xformers is not installed correctly. If you want to use memorry_efficient_attention to accelerate training use the following command to install Xformers\n",
      "pip install xformers.\n"
     ]
    }
   ],
   "source": [
    "## 设置情感分析工具\n",
    "\n",
    "# 下载Vader情感分析工具的词典\n",
    "nltk.download('vader_lexicon')\n",
    "# 初始化Loughran-McDonald情感分析模型\n",
    "lm    = ps.LM()\n",
    "# 初始化HIV-4情感分析模型\n",
    "hiv4  = ps.HIV4()\n",
    "# 初始化Vader情感分析模型\n",
    "vader = SentimentIntensityAnalyzer()\n",
    "\n",
    "# 如果有可用的第一块GPU则使用，否则使用CPU\n",
    "device = torch.device(\"mps\"if torch.backends.mps.is_available()else \"cpu\")\n",
    "\n",
    "# 初始化FinBERT情感分析模型的tokenizer\n",
    "finbert_tokenizer  = AutoTokenizer.from_pretrained(\"ProsusAI/finbert\")\n",
    "# 从FinBERT预训练模型加载模型\n",
    "finbert_model      = AutoModelForSequenceClassification.from_pretrained(\"ProsusAI/finbert\")\n",
    "# 配置FinBERT情感分析模型的运行环境（GPU or CPU）\n",
    "finbert_classifier = pipeline(\"sentiment-analysis\", model = finbert_model, tokenizer = finbert_tokenizer, device = device)"
   ],
   "metadata": {
    "collapsed": false,
    "ExecuteTime": {
     "end_time": "2023-07-25T20:22:53.315610Z",
     "start_time": "2023-07-25T20:22:35.651996Z"
    }
   }
  },
  {
   "cell_type": "code",
   "execution_count": 16,
   "outputs": [],
   "source": [
    "def sentimentAnalysisLMD(text):\n",
    "    tokens = lm.tokenize(text) #tokenize the text into relevant words in the LM dict\n",
    "    score = lm.get_score(tokens) #score dict seperates into: NEG, POS, POLARITY, SUBJECTIVITY\n",
    "    return score\n",
    "\n",
    "def sentimentAnalysisHIV4(text):\n",
    "    tokens = hiv4.tokenize(text)\n",
    "    score = hiv4.get_score(tokens)\n",
    "    return score\n",
    "\n",
    "def sentimentAnalysisVader(df):\n",
    "    df_vader = pd.DataFrame(df, columns=['Date', 'Text'])\n",
    "    scores = [vader.polarity_scores(text) for text in tqdm(df_vader['Text'], desc=\"Processing with VADER\")]\n",
    "    scores_vader = pd.DataFrame(scores).add_prefix(\"vader_\")\n",
    "    df_vader = df_vader.join(scores_vader, rsuffix='_right')\n",
    "    return df_vader['vader_compound']\n",
    "\n",
    "def sentimentAnalysisFinBert(df):\n",
    "    df_finbert = pd.DataFrame(df, columns=['Date', 'Text'])\n",
    "    score = []\n",
    "    for text in tqdm(df_finbert['Text'], desc=\"Processing with FinBERT\"):\n",
    "        classified = finbert_classifier(text, truncation=True)[0]\n",
    "        if classified['label'] == \"negative\":\n",
    "            score.append(classified['score']*(-1))\n",
    "        elif classified['label'] == \"positive\":\n",
    "            score.append(classified['score'])\n",
    "        else:\n",
    "            score.append(0)\n",
    "    return score"
   ],
   "metadata": {
    "collapsed": false,
    "ExecuteTime": {
     "end_time": "2023-07-25T20:47:33.196170Z",
     "start_time": "2023-07-25T20:47:33.194758Z"
    }
   }
  },
  {
   "cell_type": "code",
   "execution_count": null,
   "outputs": [
    {
     "name": "stdout",
     "output_type": "stream",
     "text": [
      "../Data/Reuters_NER/Australia.csv\n"
     ]
    },
    {
     "data": {
      "text/plain": "Processing with LMD:   0%|          | 0/9234 [00:00<?, ?it/s]",
      "application/vnd.jupyter.widget-view+json": {
       "version_major": 2,
       "version_minor": 0,
       "model_id": "48cdcd7d73fb498180a881433dc7adb6"
      }
     },
     "metadata": {},
     "output_type": "display_data"
    },
    {
     "data": {
      "text/plain": "Processing with HIV4:   0%|          | 0/9234 [00:00<?, ?it/s]",
      "application/vnd.jupyter.widget-view+json": {
       "version_major": 2,
       "version_minor": 0,
       "model_id": "ddc7b464ee084470bacf62f886d5432a"
      }
     },
     "metadata": {},
     "output_type": "display_data"
    },
    {
     "data": {
      "text/plain": "Processing with VADER:   0%|          | 0/9234 [00:00<?, ?it/s]",
      "application/vnd.jupyter.widget-view+json": {
       "version_major": 2,
       "version_minor": 0,
       "model_id": "4e1c8614001b4b14a59008ada9328ca5"
      }
     },
     "metadata": {},
     "output_type": "display_data"
    },
    {
     "data": {
      "text/plain": "Processing with FinBERT:   0%|          | 0/9234 [00:00<?, ?it/s]",
      "application/vnd.jupyter.widget-view+json": {
       "version_major": 2,
       "version_minor": 0,
       "model_id": "514c744485584b8ab69a5d4ad782e4f2"
      }
     },
     "metadata": {},
     "output_type": "display_data"
    }
   ],
   "source": [
    "lst_files = []\n",
    "\n",
    "Path = \"../Data/Reuters_NER/*.csv\"\n",
    "count = 0\n",
    "\n",
    "for fname in glob.glob(Path):\n",
    "    lst_files.append(fname)\n",
    "\n",
    "lst_files = sorted(lst_files)\n",
    "\n",
    "for file in lst_files:\n",
    "    file_name = os.path.basename(file)  # Get the file name from the full file path\n",
    "    country_name = os.path.splitext(file_name)[0]  # Remove the file extension\n",
    "\n",
    "    # 对单个国家的数据进行情感分析\n",
    "    # if country_name == 'Finland':\n",
    "    # Check if the file already exists\n",
    "    if os.path.isfile('../Data/SentimentScores/{0}.csv'.format(country_name)):\n",
    "        print(\"File already exists: {0}.csv\".format(country_name))\n",
    "    else:\n",
    "        print(file)\n",
    "        df = pd.read_csv(file)\n",
    "\n",
    "        if df.shape[0] != 0:\n",
    "            df = df.drop_duplicates(['Date','Headline'], keep='last')\n",
    "            df = df.drop(['Unnamed: 0', 'Headline'], axis = 1)\n",
    "            df['Text'] = df['Text'].astype(str)\n",
    "            df['Date'] = pd.to_datetime(df['Date'], utc=True).dt.date\n",
    "            df.reset_index(drop=True, inplace=True)\n",
    "\n",
    "            # LMD + HIV4\n",
    "            df_LMD_HIV4 = pd.DataFrame(df, columns=['Date', 'Text'])\n",
    "            # df_LMD_HIV4[\"scoreLMD\"] = df_LMD_HIV4[\"Text\"].apply(sentimentAnalysisLMD)\n",
    "            # df_LMD_HIV4[\"scoreHIV4\"] = df_LMD_HIV4[\"Text\"].apply(sentimentAnalysisHIV4)\n",
    "            # 使用tqdm在处理sentiment时显示进度条\n",
    "            df_LMD_HIV4[\"scoreLMD\"] = [sentimentAnalysisLMD(text) for text in tqdm(df_LMD_HIV4[\"Text\"], desc=\"Processing with LMD\")]\n",
    "            df_LMD_HIV4[\"scoreHIV4\"] = [sentimentAnalysisHIV4(text) for text in tqdm(df_LMD_HIV4[\"Text\"], desc=\"Processing with HIV4\")]\n",
    "            df_LMD_HIV4 = pd.concat([df_LMD_HIV4.drop([\"scoreLMD\"], axis=1), df_LMD_HIV4[\"scoreLMD\"].apply(pd.Series).add_prefix(\"LMD_\")], axis=1)\n",
    "            df_LMD_HIV4 = pd.concat([df_LMD_HIV4.drop([\"scoreHIV4\"], axis=1), df_LMD_HIV4[\"scoreHIV4\"].apply(pd.Series).add_prefix(\"HIV4_\")], axis=1)\n",
    "            df[['LMD_Polarity', 'HIV4_Polarity']] = df_LMD_HIV4[['LMD_Polarity', 'HIV4_Polarity']]\n",
    "\n",
    "            # VADER\n",
    "            df['Vader_Polarity'] = sentimentAnalysisVader(df)\n",
    "\n",
    "            # FINBERT\n",
    "            df['FinBert_Polarity'] = sentimentAnalysisFinBert(df)\n",
    "\n",
    "            # 储存一下df的原始数据\n",
    "            df_original = df\n",
    "            df['Country'] = country_name\n",
    "            # Find the average Polarity for each Dictionary, per given date\n",
    "            df = df.groupby('Date').mean(numeric_only=True).reset_index()\n",
    "            df = df.sort_values(by = ['Date'], ascending = True)\n",
    "            idx = pd.date_range('2012-01-01', '2022-12-31')\n",
    "            df = df.set_index(['Date']).reindex(idx, fill_value=np.nan).rename_axis('Date').reset_index()\n",
    "\n",
    "            df['Country'] = country_name\n",
    "            df= df[['Date', 'Country', 'LMD_Polarity', 'HIV4_Polarity', 'Vader_Polarity', 'FinBert_Polarity']]\n",
    "\n",
    "            count = count + 1\n",
    "            print(count)\n",
    "            df.to_csv('../Data/SentimentScores/{0}.csv'.format(country_name))\n",
    "            # 保存df的原始数据\n",
    "            df_original.to_csv('../Data/SentimentScores/{0}_original.csv'.format(country_name))\n"
   ],
   "metadata": {
    "collapsed": false,
    "is_executing": true,
    "ExecuteTime": {
     "start_time": "2023-07-25T20:47:44.707805Z"
    }
   }
  },
  {
   "cell_type": "code",
   "execution_count": 10,
   "outputs": [
    {
     "data": {
      "text/plain": "            Date                                               Text  \\\n0     2021-06-01  Russia hold Poland to 1-1 draw in friendly. WR...   \n1     2021-06-03  Bottas raised concerns over Mercedes' pit stop...   \n2     2021-06-08  Pfizer to test COVID-19 vaccine in larger grou...   \n3     2021-06-08  U.S. to work with allies to secure electric ve...   \n4     2021-06-09  Russia complains to UEFA over Ukraine kit with...   \n...          ...                                                ...   \n1324  2023-07-17  Nordic region's main bank Nordea's profit jump...   \n1325  2023-07-18  UN shipping agency's Council elects Panama's D...   \n1326  2023-07-18  Finland's Gasum resumes LNG purchases from Rus...   \n1327  2023-07-18  Singapore’s clean reputation gets a timely tes...   \n1328  2023-07-19  Finland to revoke license of Russian consulate...   \n\n      LMD_Polarity  HIV4_Polarity  Vader_Polarity  FinBert_Polarity  \n0        -0.333333       0.166667          0.7311          0.000000  \n1        -0.888889      -0.085714          0.9036          0.000000  \n2        -1.000000       0.400000          0.8402          0.000000  \n3        -0.333333       0.411765          0.9865          0.000000  \n4        -0.555555       0.400000          0.9304         -0.820463  \n...            ...            ...             ...               ...  \n1324      0.263158       0.581395          0.9853          0.896204  \n1325     -0.333333       0.361702          0.6698          0.000000  \n1326     -1.000000       0.285714         -0.1779         -0.821030  \n1327     -0.837838       0.088608         -0.3628          0.000000  \n1328     -1.000000       0.250000          0.2960         -0.926880  \n\n[1329 rows x 6 columns]",
      "text/html": "<div>\n<style scoped>\n    .dataframe tbody tr th:only-of-type {\n        vertical-align: middle;\n    }\n\n    .dataframe tbody tr th {\n        vertical-align: top;\n    }\n\n    .dataframe thead th {\n        text-align: right;\n    }\n</style>\n<table border=\"1\" class=\"dataframe\">\n  <thead>\n    <tr style=\"text-align: right;\">\n      <th></th>\n      <th>Date</th>\n      <th>Text</th>\n      <th>LMD_Polarity</th>\n      <th>HIV4_Polarity</th>\n      <th>Vader_Polarity</th>\n      <th>FinBert_Polarity</th>\n    </tr>\n  </thead>\n  <tbody>\n    <tr>\n      <th>0</th>\n      <td>2021-06-01</td>\n      <td>Russia hold Poland to 1-1 draw in friendly. WR...</td>\n      <td>-0.333333</td>\n      <td>0.166667</td>\n      <td>0.7311</td>\n      <td>0.000000</td>\n    </tr>\n    <tr>\n      <th>1</th>\n      <td>2021-06-03</td>\n      <td>Bottas raised concerns over Mercedes' pit stop...</td>\n      <td>-0.888889</td>\n      <td>-0.085714</td>\n      <td>0.9036</td>\n      <td>0.000000</td>\n    </tr>\n    <tr>\n      <th>2</th>\n      <td>2021-06-08</td>\n      <td>Pfizer to test COVID-19 vaccine in larger grou...</td>\n      <td>-1.000000</td>\n      <td>0.400000</td>\n      <td>0.8402</td>\n      <td>0.000000</td>\n    </tr>\n    <tr>\n      <th>3</th>\n      <td>2021-06-08</td>\n      <td>U.S. to work with allies to secure electric ve...</td>\n      <td>-0.333333</td>\n      <td>0.411765</td>\n      <td>0.9865</td>\n      <td>0.000000</td>\n    </tr>\n    <tr>\n      <th>4</th>\n      <td>2021-06-09</td>\n      <td>Russia complains to UEFA over Ukraine kit with...</td>\n      <td>-0.555555</td>\n      <td>0.400000</td>\n      <td>0.9304</td>\n      <td>-0.820463</td>\n    </tr>\n    <tr>\n      <th>...</th>\n      <td>...</td>\n      <td>...</td>\n      <td>...</td>\n      <td>...</td>\n      <td>...</td>\n      <td>...</td>\n    </tr>\n    <tr>\n      <th>1324</th>\n      <td>2023-07-17</td>\n      <td>Nordic region's main bank Nordea's profit jump...</td>\n      <td>0.263158</td>\n      <td>0.581395</td>\n      <td>0.9853</td>\n      <td>0.896204</td>\n    </tr>\n    <tr>\n      <th>1325</th>\n      <td>2023-07-18</td>\n      <td>UN shipping agency's Council elects Panama's D...</td>\n      <td>-0.333333</td>\n      <td>0.361702</td>\n      <td>0.6698</td>\n      <td>0.000000</td>\n    </tr>\n    <tr>\n      <th>1326</th>\n      <td>2023-07-18</td>\n      <td>Finland's Gasum resumes LNG purchases from Rus...</td>\n      <td>-1.000000</td>\n      <td>0.285714</td>\n      <td>-0.1779</td>\n      <td>-0.821030</td>\n    </tr>\n    <tr>\n      <th>1327</th>\n      <td>2023-07-18</td>\n      <td>Singapore’s clean reputation gets a timely tes...</td>\n      <td>-0.837838</td>\n      <td>0.088608</td>\n      <td>-0.3628</td>\n      <td>0.000000</td>\n    </tr>\n    <tr>\n      <th>1328</th>\n      <td>2023-07-19</td>\n      <td>Finland to revoke license of Russian consulate...</td>\n      <td>-1.000000</td>\n      <td>0.250000</td>\n      <td>0.2960</td>\n      <td>-0.926880</td>\n    </tr>\n  </tbody>\n</table>\n<p>1329 rows × 6 columns</p>\n</div>"
     },
     "execution_count": 10,
     "metadata": {},
     "output_type": "execute_result"
    }
   ],
   "source": [
    "# 展示df的原始数据\n",
    "df_original"
   ],
   "metadata": {
    "collapsed": false,
    "ExecuteTime": {
     "end_time": "2023-07-25T20:35:09.667987Z",
     "start_time": "2023-07-25T20:35:09.652994Z"
    }
   }
  },
  {
   "cell_type": "code",
   "execution_count": 15,
   "outputs": [
    {
     "data": {
      "text/plain": "           Date  Country  LMD_Polarity  HIV4_Polarity  Vader_Polarity  \\\n4013 2022-12-27  Finland           NaN            NaN             NaN   \n4014 2022-12-28  Finland           NaN            NaN             NaN   \n4015 2022-12-29  Finland           1.0       0.230769          0.7003   \n4016 2022-12-30  Finland          -1.0       0.294118         -0.8360   \n4017 2022-12-31  Finland           NaN            NaN             NaN   \n\n      FinBert_Polarity  \n4013               NaN  \n4014               NaN  \n4015           0.00000  \n4016          -0.89182  \n4017               NaN  ",
      "text/html": "<div>\n<style scoped>\n    .dataframe tbody tr th:only-of-type {\n        vertical-align: middle;\n    }\n\n    .dataframe tbody tr th {\n        vertical-align: top;\n    }\n\n    .dataframe thead th {\n        text-align: right;\n    }\n</style>\n<table border=\"1\" class=\"dataframe\">\n  <thead>\n    <tr style=\"text-align: right;\">\n      <th></th>\n      <th>Date</th>\n      <th>Country</th>\n      <th>LMD_Polarity</th>\n      <th>HIV4_Polarity</th>\n      <th>Vader_Polarity</th>\n      <th>FinBert_Polarity</th>\n    </tr>\n  </thead>\n  <tbody>\n    <tr>\n      <th>4013</th>\n      <td>2022-12-27</td>\n      <td>Finland</td>\n      <td>NaN</td>\n      <td>NaN</td>\n      <td>NaN</td>\n      <td>NaN</td>\n    </tr>\n    <tr>\n      <th>4014</th>\n      <td>2022-12-28</td>\n      <td>Finland</td>\n      <td>NaN</td>\n      <td>NaN</td>\n      <td>NaN</td>\n      <td>NaN</td>\n    </tr>\n    <tr>\n      <th>4015</th>\n      <td>2022-12-29</td>\n      <td>Finland</td>\n      <td>1.0</td>\n      <td>0.230769</td>\n      <td>0.7003</td>\n      <td>0.00000</td>\n    </tr>\n    <tr>\n      <th>4016</th>\n      <td>2022-12-30</td>\n      <td>Finland</td>\n      <td>-1.0</td>\n      <td>0.294118</td>\n      <td>-0.8360</td>\n      <td>-0.89182</td>\n    </tr>\n    <tr>\n      <th>4017</th>\n      <td>2022-12-31</td>\n      <td>Finland</td>\n      <td>NaN</td>\n      <td>NaN</td>\n      <td>NaN</td>\n      <td>NaN</td>\n    </tr>\n  </tbody>\n</table>\n</div>"
     },
     "execution_count": 15,
     "metadata": {},
     "output_type": "execute_result"
    }
   ],
   "source": [
    "# 展示df最后5行的情感分析数据\n",
    "df.tail()"
   ],
   "metadata": {
    "collapsed": false,
    "ExecuteTime": {
     "end_time": "2023-07-25T20:38:30.399048Z",
     "start_time": "2023-07-25T20:38:30.396625Z"
    }
   }
  },
  {
   "cell_type": "code",
   "execution_count": null,
   "outputs": [],
   "source": [],
   "metadata": {
    "collapsed": false
   }
  }
 ],
 "metadata": {
  "kernelspec": {
   "display_name": "Python 3",
   "language": "python",
   "name": "python3"
  },
  "language_info": {
   "codemirror_mode": {
    "name": "ipython",
    "version": 2
   },
   "file_extension": ".py",
   "mimetype": "text/x-python",
   "name": "python",
   "nbconvert_exporter": "python",
   "pygments_lexer": "ipython2",
   "version": "2.7.6"
  }
 },
 "nbformat": 4,
 "nbformat_minor": 0
}
