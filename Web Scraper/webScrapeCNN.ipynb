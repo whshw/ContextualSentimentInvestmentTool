{
 "cells": [
  {
   "cell_type": "code",
   "execution_count": 7,
   "id": "initial_id",
   "metadata": {
    "collapsed": true,
    "ExecuteTime": {
     "end_time": "2023-08-11T23:43:00.040431400Z",
     "start_time": "2023-08-11T23:32:34.008526700Z"
    }
   },
   "outputs": [
    {
     "name": "stdout",
     "output_type": "stream",
     "text": [
      "Netherlands\n",
      "https://edition.cnn.com/search?q=Netherlands&from=0&size=10&page=1&sort=newest&types=all&section=\n"
     ]
    }
   ],
   "source": [
    "import numpy as np\n",
    "import matplotlib.pyplot as plt\n",
    "import pandas as pd\n",
    "import os\n",
    "import re\n",
    "from selenium import webdriver\n",
    "from selenium.webdriver.common.keys import Keys\n",
    "import time\n",
    "from selenium.webdriver.support import expected_conditions as EC\n",
    "from selenium.webdriver.support.ui import WebDriverWait\n",
    "from selenium.webdriver.common.by import By\n",
    "import urllib3\n",
    "from bs4 import BeautifulSoup\n",
    "import csv\n",
    "from selenium.webdriver.common.action_chains import ActionChains\n",
    "import requests\n",
    "from urllib import request\n",
    "import sys\n",
    "from selenium import webdriver\n",
    "from urllib.request import urlopen\n",
    "import warnings\n",
    "warnings.filterwarnings('ignore')\n",
    "\n",
    "from pathlib import Path\n",
    "\n",
    "data = {'Country name':['Netherlands'],'url':['https://edition.cnn.com/search?q=Netherlands&from=0&size=10&page=1&sort=newest&types=all&section=']}\n",
    "df = pd.DataFrame(data)\n",
    "\n",
    "for index, row in df.iloc[:].iterrows():\n",
    "    sys.path.insert(0,'D:\\chromedriver\\chromedriver-win64\\chromedriver.exe')\n",
    "    chrome_options = webdriver.ChromeOptions()\n",
    "    #chrome_options.add_argument('--headless')\n",
    "    chrome_options.add_argument('--no-sandbox')\n",
    "    chrome_options.add_argument('--disable-dev-shm-usage')\n",
    "    driver = webdriver.Chrome(options=chrome_options)\n",
    "    country_name = row['Country name']\n",
    "    print(country_name)\n",
    "    url = row['url']\n",
    "    print(url)\n",
    "    website = 'https://www.reuters.com'\n",
    "\n",
    "    if not pd.isna(url):\n",
    "      driver.get(url)\n",
    "      links = []\n",
    "      wait = WebDriverWait(driver, 20)\n",
    "      try:\n",
    "        WebDriverWait(driver, 30).until(EC.element_to_be_clickable((By.CSS_SELECTOR, \"#onetrust-accept-btn-handler\"))).click()\n",
    "      except:\n",
    "        pass\n",
    "    \n",
    "    locals()[\"df\" + str(country_name)] = pd.DataFrame(columns = ['Date', 'Headline', 'Text'])\n",
    "    start = 0\n",
    "    while True:\n",
    "        if start:\n",
    "            try:\n",
    "                element = driver.find_element(By.CSS_SELECTOR,'#search > div.search__right > div > div.search__results-pagi > div > div.pagination-arrow.pagination-arrow-right.search__pagination-link.text-active')\n",
    "                sm = driver.execute_script(\"arguments[0].scrollIntoView({block:'center'});\", element)\n",
    "                element.click()\n",
    "                time.sleep(1)\n",
    "            except:\n",
    "                break\n",
    "        html = driver.page_source\n",
    "        soup = BeautifulSoup(html, 'html.parser')\n",
    "        data1 = soup.find('div', class_=\"search__results\")\n",
    "        start = 1\n",
    "        for result in data1.find_all('a', attrs={'class':'container__link container_list-with-images__link'}):\n",
    "            link = result.get('href')\n",
    "            try:\n",
    "                if 'videos' in link or 'gallery' in link or 'football' in link:\n",
    "                    continue\n",
    "                headline = result.find('span', attrs = {'data-editable':\"headline\"}).string\n",
    "                date = result.find('div',attrs = {'class':\"container__date container_list-with-images__date inline-placeholder\"}).string.strip()\n",
    "                text = result.find('div',attrs = {'data-editable':\"description\"})['data-original-text']\n",
    "                locals()[\"df2\" + str(country_name)] = pd.DataFrame({\"Date\":[date], \"Headline\":[headline], \"Text\":[text]})\n",
    "                locals()[\"df\" + str(country_name)] = pd.concat([locals()[\"df\" + str(country_name)],locals()[\"df2\" + str(country_name)]])\n",
    "            except:\n",
    "                pass\n",
    "    \n",
    "    file_path = Path(f'../Data/CNNArticles/{country_name}.csv')\n",
    "    \n",
    "    if file_path.exists():\n",
    "        existing_df = pd.read_csv(file_path, index_col=0)\n",
    "        combined_df = pd.concat([existing_df, locals()[\"df\" + str(country_name)]], ignore_index=True)\n",
    "    else:\n",
    "        combined_df = locals()[\"df\" + str(country_name)]\n",
    "    \n",
    "    combined_df.to_csv(file_path)\n",
    "\n"
   ]
  },
  {
   "cell_type": "code",
   "execution_count": null,
   "outputs": [],
   "source": [],
   "metadata": {
    "collapsed": false
   },
   "id": "9f50549524ecb63f"
  }
 ],
 "metadata": {
  "kernelspec": {
   "display_name": "Python 3",
   "language": "python",
   "name": "python3"
  },
  "language_info": {
   "codemirror_mode": {
    "name": "ipython",
    "version": 2
   },
   "file_extension": ".py",
   "mimetype": "text/x-python",
   "name": "python",
   "nbconvert_exporter": "python",
   "pygments_lexer": "ipython2",
   "version": "2.7.6"
  }
 },
 "nbformat": 4,
 "nbformat_minor": 5
}
