{
 "cells": [
  {
   "cell_type": "code",
   "execution_count": 40,
   "metadata": {
    "collapsed": true,
    "ExecuteTime": {
     "end_time": "2023-07-24T12:25:05.266890Z",
     "start_time": "2023-07-24T12:25:05.262753Z"
    }
   },
   "outputs": [],
   "source": [
    "# 导入库\n",
    "import numpy as np\n",
    "import pandas as pd"
   ]
  },
  {
   "cell_type": "code",
   "execution_count": 41,
   "outputs": [
    {
     "data": {
      "text/plain": "        Date  United States Mid Yield  United States Modified Duration  \\\n0 2011-12-01                    2.088                         8.968272   \n1 2011-12-02                    2.034                         8.965182   \n2 2011-12-05                    2.044                         8.961475   \n3 2011-12-06                    2.090                         8.954462   \n4 2011-12-07                    2.030                         8.957351   \n\n   United Kingdom Mid Yield  United Kingdom Modified Duration  \\\n0                     2.262                          8.215139   \n1                     2.288                          8.204085   \n2                     2.345                          8.194778   \n3                     2.247                          8.203280   \n4                     2.232                          8.202217   \n\n   Germany Mid Yield  Germany Modified Duration  Japan Mid Yield  \\\n0              2.174                   9.019781            1.060   \n1              2.131                   9.022927            1.065   \n2              2.200                   9.010950            1.047   \n3              2.184                   9.010431            1.040   \n4              2.100                   9.013685            1.040   \n\n   Japan Modified Duration  Italy Mid Yield  ...  Canada Mid Yield  \\\n0                 8.849986            6.632  ...             2.133   \n1                 9.037485            6.661  ...             2.112   \n2                 9.052620            5.940  ...             2.085   \n3                 9.057935            5.844  ...             2.126   \n4                 9.057935            5.977  ...             2.054   \n\n   Canada Modified Duration  China Mid Yield  China Modified Duration  \\\n0                   8.21595            3.513                 7.970194   \n1                  8.215273            3.473                 7.966897   \n2                  8.215301            3.441                 7.967975   \n3                  8.208504            3.462                  7.96281   \n4                    8.2075            3.463                 7.960032   \n\n   Korea Mid Yield  Korea Modified Duration  New Zealand Mid Yield  \\\n0            3.798                 7.664476                  4.065   \n1            3.787                 7.657564                  4.068   \n2            3.781                 7.655596                  4.059   \n3            3.783                 7.652557                  4.033   \n4            3.790                 7.649014                  4.009   \n\n   New Zealand Modified Duration  Singapore Mid Yield  \\\n0                       7.340172                1.678   \n1                       7.337126                1.708   \n2                       7.335556                1.710   \n3                       7.335949                1.705   \n4                       7.336007                1.735   \n\n   Singapore Modified Duration  \n0                     8.558438  \n1                     8.547741  \n2                     8.544817  \n3                      8.54256  \n4                     8.537172  \n\n[5 rows x 41 columns]",
      "text/html": "<div>\n<style scoped>\n    .dataframe tbody tr th:only-of-type {\n        vertical-align: middle;\n    }\n\n    .dataframe tbody tr th {\n        vertical-align: top;\n    }\n\n    .dataframe thead th {\n        text-align: right;\n    }\n</style>\n<table border=\"1\" class=\"dataframe\">\n  <thead>\n    <tr style=\"text-align: right;\">\n      <th></th>\n      <th>Date</th>\n      <th>United States Mid Yield</th>\n      <th>United States Modified Duration</th>\n      <th>United Kingdom Mid Yield</th>\n      <th>United Kingdom Modified Duration</th>\n      <th>Germany Mid Yield</th>\n      <th>Germany Modified Duration</th>\n      <th>Japan Mid Yield</th>\n      <th>Japan Modified Duration</th>\n      <th>Italy Mid Yield</th>\n      <th>...</th>\n      <th>Canada Mid Yield</th>\n      <th>Canada Modified Duration</th>\n      <th>China Mid Yield</th>\n      <th>China Modified Duration</th>\n      <th>Korea Mid Yield</th>\n      <th>Korea Modified Duration</th>\n      <th>New Zealand Mid Yield</th>\n      <th>New Zealand Modified Duration</th>\n      <th>Singapore Mid Yield</th>\n      <th>Singapore Modified Duration</th>\n    </tr>\n  </thead>\n  <tbody>\n    <tr>\n      <th>0</th>\n      <td>2011-12-01</td>\n      <td>2.088</td>\n      <td>8.968272</td>\n      <td>2.262</td>\n      <td>8.215139</td>\n      <td>2.174</td>\n      <td>9.019781</td>\n      <td>1.060</td>\n      <td>8.849986</td>\n      <td>6.632</td>\n      <td>...</td>\n      <td>2.133</td>\n      <td>8.21595</td>\n      <td>3.513</td>\n      <td>7.970194</td>\n      <td>3.798</td>\n      <td>7.664476</td>\n      <td>4.065</td>\n      <td>7.340172</td>\n      <td>1.678</td>\n      <td>8.558438</td>\n    </tr>\n    <tr>\n      <th>1</th>\n      <td>2011-12-02</td>\n      <td>2.034</td>\n      <td>8.965182</td>\n      <td>2.288</td>\n      <td>8.204085</td>\n      <td>2.131</td>\n      <td>9.022927</td>\n      <td>1.065</td>\n      <td>9.037485</td>\n      <td>6.661</td>\n      <td>...</td>\n      <td>2.112</td>\n      <td>8.215273</td>\n      <td>3.473</td>\n      <td>7.966897</td>\n      <td>3.787</td>\n      <td>7.657564</td>\n      <td>4.068</td>\n      <td>7.337126</td>\n      <td>1.708</td>\n      <td>8.547741</td>\n    </tr>\n    <tr>\n      <th>2</th>\n      <td>2011-12-05</td>\n      <td>2.044</td>\n      <td>8.961475</td>\n      <td>2.345</td>\n      <td>8.194778</td>\n      <td>2.200</td>\n      <td>9.010950</td>\n      <td>1.047</td>\n      <td>9.052620</td>\n      <td>5.940</td>\n      <td>...</td>\n      <td>2.085</td>\n      <td>8.215301</td>\n      <td>3.441</td>\n      <td>7.967975</td>\n      <td>3.781</td>\n      <td>7.655596</td>\n      <td>4.059</td>\n      <td>7.335556</td>\n      <td>1.710</td>\n      <td>8.544817</td>\n    </tr>\n    <tr>\n      <th>3</th>\n      <td>2011-12-06</td>\n      <td>2.090</td>\n      <td>8.954462</td>\n      <td>2.247</td>\n      <td>8.203280</td>\n      <td>2.184</td>\n      <td>9.010431</td>\n      <td>1.040</td>\n      <td>9.057935</td>\n      <td>5.844</td>\n      <td>...</td>\n      <td>2.126</td>\n      <td>8.208504</td>\n      <td>3.462</td>\n      <td>7.96281</td>\n      <td>3.783</td>\n      <td>7.652557</td>\n      <td>4.033</td>\n      <td>7.335949</td>\n      <td>1.705</td>\n      <td>8.54256</td>\n    </tr>\n    <tr>\n      <th>4</th>\n      <td>2011-12-07</td>\n      <td>2.030</td>\n      <td>8.957351</td>\n      <td>2.232</td>\n      <td>8.202217</td>\n      <td>2.100</td>\n      <td>9.013685</td>\n      <td>1.040</td>\n      <td>9.057935</td>\n      <td>5.977</td>\n      <td>...</td>\n      <td>2.054</td>\n      <td>8.2075</td>\n      <td>3.463</td>\n      <td>7.960032</td>\n      <td>3.790</td>\n      <td>7.649014</td>\n      <td>4.009</td>\n      <td>7.336007</td>\n      <td>1.735</td>\n      <td>8.537172</td>\n    </tr>\n  </tbody>\n</table>\n<p>5 rows × 41 columns</p>\n</div>"
     },
     "execution_count": 41,
     "metadata": {},
     "output_type": "execute_result"
    }
   ],
   "source": [
    "# 读取yield_duration_data.xlsx文件\n",
    "df = pd.read_excel('./Data/yield_duration_data.xlsx')\n",
    "# 展示前5行数据\n",
    "df.head()"
   ],
   "metadata": {
    "collapsed": false,
    "ExecuteTime": {
     "end_time": "2023-07-24T12:25:06.150065Z",
     "start_time": "2023-07-24T12:25:05.605529Z"
    }
   }
  },
  {
   "cell_type": "code",
   "execution_count": 42,
   "outputs": [
    {
     "data": {
      "text/plain": "(            New Zealand  United Kingdom  Finland  Norway  United States  \\\n Date                                                                      \n 2011-12-01        4.065           2.262    2.686   2.450          2.088   \n 2011-12-02        4.068           2.288    2.648   2.421          2.034   \n 2011-12-05        4.059           2.345    2.710   2.442          2.044   \n 2011-12-06        4.033           2.247    2.698   2.467          2.090   \n 2011-12-07        4.009           2.232    2.635   2.431          2.030   \n \n             Sweden  Korea  Japan  Canada  Netherlands  Australia  Germany  \\\n Date                                                                        \n 2011-12-01   1.792  3.798  1.060   2.133        2.532     4.0065    2.174   \n 2011-12-02   1.775  3.787  1.065   2.112        2.493     4.0008    2.131   \n 2011-12-05   1.796  3.781  1.047   2.085        2.577     3.9613    2.200   \n 2011-12-06   1.774  3.783  1.040   2.126        2.584     3.9148    2.184   \n 2011-12-07   1.710  3.790  1.040   2.054        2.530     3.9533    2.100   \n \n             France  China  Switzerland  Spain  Denmark  Italy  Singapore  \\\n Date                                                                       \n 2011-12-01   3.090  3.513        0.842  5.701    1.857  6.632      1.678   \n 2011-12-02   3.253  3.473        0.814  5.626    1.850  6.661      1.708   \n 2011-12-05   3.122  3.441        0.829  5.090    2.051  5.940      1.710   \n 2011-12-06   3.227  3.462        0.790  5.182    2.020  5.844      1.705   \n 2011-12-07   3.204  3.463        0.767  5.396    2.024  5.977      1.735   \n \n             Portugal  \n Date                  \n 2011-12-01    13.392  \n 2011-12-02    13.374  \n 2011-12-05    12.853  \n 2011-12-06    12.690  \n 2011-12-07    12.421  ,\n            New Zealand  United Kingdom   Finland    Norway  United States  \\\n Date                                                                        \n 2011-12-01    7.340172        8.215139  7.777151  7.889866       8.968272   \n 2011-12-02    7.337126        8.204085  7.780053  7.891395       8.965182   \n 2011-12-05    7.335556        8.194778  7.768521  7.885699       8.961475   \n 2011-12-06    7.335949        8.203280  7.767486  7.879389       8.954462   \n 2011-12-07    7.336007        8.202217  7.768520  7.881855       8.957351   \n \n               Sweden     Korea     Japan    Canada  Netherlands  Australia  \\\n Date                                                                         \n 2011-12-01  8.793523  7.664476  8.849986   8.21595     8.142828   7.392519   \n 2011-12-02  8.793583  7.657564  9.037485  8.215273     8.145726   7.390486   \n 2011-12-05  8.787305  7.655596  9.052620  8.215301     8.131216   7.392449   \n 2011-12-06  8.788293  7.652557  9.057935  8.208504     8.127477   7.395210   \n 2011-12-07  8.790991  7.649014  9.057935    8.2075     8.127151   7.382596   \n \n              Germany    France     China  Switzerland     Spain   Denmark  \\\n Date                                                                        \n 2011-12-01  9.019781  8.334321  7.970194     8.536598  6.937747  8.637602   \n 2011-12-02  9.022927  8.308227  7.966897     8.537427  6.946482  8.636008   \n 2011-12-05  9.010950  8.324314  7.967975     8.532743  7.024062  8.604539   \n 2011-12-06  9.010431  8.306686   7.96281     8.534952  7.007724  8.606321   \n 2011-12-07  9.013685  8.301978  7.960032     8.529656  6.967800  8.597665   \n \n                Italy Singapore  Portugal  \n Date                                      \n 2011-12-01  7.170755  8.558438  6.213954  \n 2011-12-02  7.163680  8.547741  6.213922  \n 2011-12-05  7.272452  8.544817  6.283135  \n 2011-12-06  7.284763   8.54256  6.303159  \n 2011-12-07  7.256376  8.537172  6.332905  )"
     },
     "execution_count": 42,
     "metadata": {},
     "output_type": "execute_result"
    }
   ],
   "source": [
    "# 新建两个DataFrame,分别储存不同国家的Yield和Duration数据\n",
    "df_yield = pd.DataFrame()\n",
    "df_duration = pd.DataFrame()\n",
    "\n",
    "# 新建一个集合,储存不同国家的名称\n",
    "country_set = {\"United States\", \"Canada\", \"United Kingdom\", \"Australia\", \"China\",\n",
    "               \"Denmark\", \"Finland\", \"France\", \"Germany\", \"Japan\", \"Italy\", \"Netherlands\",\n",
    "               \"Norway\", \"Portugal\", \"Singapore\", \"Korea\", \"Spain\", \"Sweden\",\n",
    "               \"Switzerland\", \"New Zealand\"}\n",
    "\n",
    "# 从df中提取不同国家的Yield和Duration数据\n",
    "for country in country_set:\n",
    "    # 新建对应的变量的列名\n",
    "    yield_column = f\"{country} Mid Yield\"\n",
    "    duration_column = f\"{country} Modified Duration\"\n",
    "\n",
    "    # 提取对应国家的Yield和Duration数据\n",
    "    df_yield[country] = df[yield_column]\n",
    "    df_duration[country] = df[duration_column]\n",
    "\n",
    "# 复制‘Date’列到新的 DataFrame\n",
    "df_yield['Date'] = df['Date']\n",
    "df_duration['Date'] = df['Date']\n",
    "\n",
    "# 将‘Date’列设置为索引\n",
    "df_yield.set_index('Date', inplace=True)\n",
    "df_duration.set_index('Date', inplace=True)\n",
    "\n",
    "# 展示df_yield和df_duration的前5行数据\n",
    "df_yield.head(), df_duration.head()"
   ],
   "metadata": {
    "collapsed": false,
    "ExecuteTime": {
     "end_time": "2023-07-24T12:25:06.165010Z",
     "start_time": "2023-07-24T12:25:06.156017Z"
    }
   }
  },
  {
   "cell_type": "code",
   "execution_count": 43,
   "outputs": [
    {
     "data": {
      "text/plain": "(New Zealand        31\n United Kingdom      0\n Finland             0\n Norway              0\n United States       0\n Sweden              0\n Korea             161\n Japan               0\n Canada             11\n Netherlands         0\n Australia           0\n Germany             0\n France              0\n China               4\n Switzerland         0\n Spain               0\n Denmark             0\n Italy               0\n Singapore          13\n Portugal            0\n dtype: int64,\n New Zealand       789\n United Kingdom      0\n Finland             0\n Norway              0\n United States       0\n Sweden              0\n Korea             166\n Japan               0\n Canada            235\n Netherlands         0\n Australia           0\n Germany             0\n France              0\n China               7\n Switzerland         0\n Spain               0\n Denmark             0\n Italy               0\n Singapore          15\n Portugal            0\n dtype: int64)"
     },
     "execution_count": 43,
     "metadata": {},
     "output_type": "execute_result"
    }
   ],
   "source": [
    "# 检索所有的#N/A N/A, #N/A Invalid Override值, 并将其设为NaN\n",
    "df_yield.replace('#N/A N/A', np.nan, inplace=True)\n",
    "df_duration.replace('#N/A Invalid Override', np.nan, inplace=True)\n",
    "\n",
    "# 检查数据中是否有缺失值\n",
    "df_yield.isnull().sum(), df_duration.isnull().sum()"
   ],
   "metadata": {
    "collapsed": false,
    "ExecuteTime": {
     "end_time": "2023-07-24T12:25:06.687574Z",
     "start_time": "2023-07-24T12:25:06.681165Z"
    }
   }
  },
  {
   "cell_type": "code",
   "execution_count": 44,
   "outputs": [
    {
     "data": {
      "text/plain": "(New Zealand       0\n United Kingdom    0\n Finland           0\n Norway            0\n United States     0\n Sweden            0\n Korea             0\n Japan             0\n Canada            0\n Netherlands       0\n Australia         0\n Germany           0\n France            0\n China             0\n Switzerland       0\n Spain             0\n Denmark           0\n Italy             0\n Singapore         0\n Portugal          0\n dtype: int64,\n New Zealand       0\n United Kingdom    0\n Finland           0\n Norway            0\n United States     0\n Sweden            0\n Korea             0\n Japan             0\n Canada            0\n Netherlands       0\n Australia         0\n Germany           0\n France            0\n China             0\n Switzerland       0\n Spain             0\n Denmark           0\n Italy             0\n Singapore         0\n Portugal          0\n dtype: int64)"
     },
     "execution_count": 44,
     "metadata": {},
     "output_type": "execute_result"
    }
   ],
   "source": [
    "# 将所有的NaN值填充为上一个非NaN值\n",
    "df_yield.fillna(method='ffill', inplace=True)\n",
    "df_duration.fillna(method='ffill', inplace=True)\n",
    "\n",
    "# 检查数据中是否有缺失值\n",
    "df_yield.isnull().sum(), df_duration.isnull().sum()"
   ],
   "metadata": {
    "collapsed": false,
    "ExecuteTime": {
     "end_time": "2023-07-24T12:25:08.441624Z",
     "start_time": "2023-07-24T12:25:08.435077Z"
    }
   }
  },
  {
   "cell_type": "code",
   "execution_count": 45,
   "outputs": [
    {
     "data": {
      "text/plain": "(Date\n 2018-06-11    2.73\n 2018-06-12    2.73\n 2018-06-13    2.73\n 2018-06-14    2.73\n 2018-06-15    2.73\n               ... \n 2018-12-03    2.73\n 2018-12-04    2.73\n 2018-12-05    2.73\n 2018-12-06    2.73\n 2018-12-07    2.73\n Name: Korea, Length: 130, dtype: float64,\n Date\n 2018-06-11    8.426692\n 2018-06-12    8.426692\n 2018-06-13    8.426692\n 2018-06-14    8.426692\n 2018-06-15    8.426692\n                 ...   \n 2018-12-03    8.426692\n 2018-12-04    8.426692\n 2018-12-05    8.426692\n 2018-12-06    8.426692\n 2018-12-07    8.426692\n Name: Korea, Length: 130, dtype: float64)"
     },
     "execution_count": 45,
     "metadata": {},
     "output_type": "execute_result"
    }
   ],
   "source": [
    "# 展示df_yield和df_duration的曾经为NaN的值, 例如:2018年的6月11日到12月七日的Korea的yield和duration值\n",
    "df_yield.loc['2018-06-11':'2018-12-07', 'Korea'], df_duration.loc['2018-06-11':'2018-12-07', 'Korea']"
   ],
   "metadata": {
    "collapsed": false,
    "ExecuteTime": {
     "end_time": "2023-07-24T12:25:09.104614Z",
     "start_time": "2023-07-24T12:25:09.098977Z"
    }
   }
  },
  {
   "cell_type": "code",
   "execution_count": 46,
   "outputs": [],
   "source": [
    "# 新建一个DataFrame,储存所有国家债券的单日收益率\n",
    "df_daily_return = pd.DataFrame()\n",
    "\n",
    "# 对于每一个国家, 计算其单日收益率\n",
    "for country in country_set:\n",
    "    # 收益率 = -(当日yield - 前一日yield) * 当日duration + 当日yield / 365\n",
    "    df_daily_return[country] = -(df_yield[country] - df_yield[country].shift(1)) * df_duration[country] + df_yield[country] / 365\n",
    "\n",
    "# 保存df_daily_return到csv文件\n",
    "df_daily_return.to_csv('./Data/daily_return.csv')"
   ],
   "metadata": {
    "collapsed": false,
    "ExecuteTime": {
     "end_time": "2023-07-24T12:25:09.867136Z",
     "start_time": "2023-07-24T12:25:09.804729Z"
    }
   }
  },
  {
   "cell_type": "code",
   "execution_count": 47,
   "outputs": [
    {
     "data": {
      "text/plain": "            New Zealand  United Kingdom   Finland    Norway  United States  \\\nDate                                                                         \n2011-12-01          NaN             NaN       NaN       NaN            NaN   \n2011-12-02    -0.010866       -0.207038  0.302897  0.235483       0.489692   \n2011-12-05     0.077141       -0.460678 -0.474224 -0.158909      -0.084015   \n2011-12-06     0.201784        0.810078  0.100602 -0.190226      -0.406179   \n2011-12-07     0.187048        0.129148  0.496636  0.290407       0.543003   \n...                 ...             ...       ...       ...            ...   \n2023-06-26     0.479849        0.162791  0.354425 -0.286233       0.117752   \n2023-06-27    -0.140731       -0.583317 -0.355335 -0.319601      -0.353365   \n2023-06-28    -0.317555        0.488290  0.328230 -0.234871       0.481522   \n2023-06-29    -0.172365       -0.495617 -0.880845 -0.318596      -1.070457   \n2023-06-30    -0.420921       -0.051370  0.198116 -0.048997       0.018764   \n\n              Sweden     Korea     Japan    Canada  Netherlands  Australia  \\\nDate                                                                         \n2011-12-01       NaN       NaN       NaN       NaN          NaN        NaN   \n2011-12-02  0.154354  0.094609 -0.042270  0.178307     0.324513   0.053087   \n2011-12-05 -0.179613  0.056292  0.165816  0.227525    -0.675962   0.302855   \n2011-12-06  0.198203 -0.004941  0.066255 -0.330724    -0.049813   0.354603   \n2011-12-07  0.567308 -0.043160  0.002849  0.596567     0.445798  -0.273399   \n...              ...       ...       ...       ...          ...        ...   \n2023-06-26  0.825689  0.010047  0.076112  0.411338     0.380623   0.311384   \n2023-06-27  0.190775  0.010047 -0.120930 -0.059363    -0.348245   0.170486   \n2023-06-28 -0.020829  0.462870 -0.148749  0.822314     0.371721   0.479809   \n2023-06-29 -0.488908 -0.107440 -0.008310 -1.177506    -0.849309  -0.229066   \n2023-06-30  0.025266 -0.291362 -0.101677  0.795053     0.145971  -0.952878   \n\n             Germany    France     China  Switzerland     Spain   Denmark  \\\nDate                                                                        \n2011-12-01       NaN       NaN       NaN          NaN       NaN       NaN   \n2011-12-02  0.393824 -1.345329  0.328191     0.241278  0.536400  0.065521   \n2011-12-05 -0.615728  1.099039  0.264403    -0.125720  3.778843 -1.723893   \n2011-12-06  0.150150 -0.863361 -0.157734     0.335027 -0.630513  0.272330   \n2011-12-07  0.762903  0.199724  0.001528     0.198283 -1.476326 -0.028845   \n...              ...       ...       ...          ...       ...       ...   \n2023-06-26  0.387475  0.337837  0.041854     0.443648  0.324191  0.393742   \n2023-06-27 -0.391226 -0.321872 -0.048803    -0.328233 -0.330689 -0.459628   \n2023-06-28  0.361824  0.312250  0.063418     0.129561  0.216203  0.249720   \n2023-06-29 -0.854507 -0.902824  0.086679    -0.547344 -0.949227 -0.825675   \n2023-06-30  0.209178  0.159841  0.162473     0.154802  0.199337  0.168696   \n\n               Italy  Singapore  Portugal  \nDate                                       \n2011-12-01       NaN        NaN       NaN  \n2011-12-02 -0.189497  -0.251753  0.148492  \n2011-12-05  5.259712  -0.012405  3.308727  \n2011-12-06  0.715348   0.047384  1.062182  \n2011-12-07 -0.948723  -0.251362  1.737582  \n...              ...        ...       ...  \n2023-06-26  0.270234   0.261898  0.296803  \n2023-06-27 -0.240184  -0.356263 -0.320052  \n2023-06-28  0.018985  -0.007595  0.192466  \n2023-06-29 -0.957024   0.008241 -0.909960  \n2023-06-30  0.220980  -0.402688  0.144295  \n\n[3022 rows x 20 columns]",
      "text/html": "<div>\n<style scoped>\n    .dataframe tbody tr th:only-of-type {\n        vertical-align: middle;\n    }\n\n    .dataframe tbody tr th {\n        vertical-align: top;\n    }\n\n    .dataframe thead th {\n        text-align: right;\n    }\n</style>\n<table border=\"1\" class=\"dataframe\">\n  <thead>\n    <tr style=\"text-align: right;\">\n      <th></th>\n      <th>New Zealand</th>\n      <th>United Kingdom</th>\n      <th>Finland</th>\n      <th>Norway</th>\n      <th>United States</th>\n      <th>Sweden</th>\n      <th>Korea</th>\n      <th>Japan</th>\n      <th>Canada</th>\n      <th>Netherlands</th>\n      <th>Australia</th>\n      <th>Germany</th>\n      <th>France</th>\n      <th>China</th>\n      <th>Switzerland</th>\n      <th>Spain</th>\n      <th>Denmark</th>\n      <th>Italy</th>\n      <th>Singapore</th>\n      <th>Portugal</th>\n    </tr>\n    <tr>\n      <th>Date</th>\n      <th></th>\n      <th></th>\n      <th></th>\n      <th></th>\n      <th></th>\n      <th></th>\n      <th></th>\n      <th></th>\n      <th></th>\n      <th></th>\n      <th></th>\n      <th></th>\n      <th></th>\n      <th></th>\n      <th></th>\n      <th></th>\n      <th></th>\n      <th></th>\n      <th></th>\n      <th></th>\n    </tr>\n  </thead>\n  <tbody>\n    <tr>\n      <th>2011-12-01</th>\n      <td>NaN</td>\n      <td>NaN</td>\n      <td>NaN</td>\n      <td>NaN</td>\n      <td>NaN</td>\n      <td>NaN</td>\n      <td>NaN</td>\n      <td>NaN</td>\n      <td>NaN</td>\n      <td>NaN</td>\n      <td>NaN</td>\n      <td>NaN</td>\n      <td>NaN</td>\n      <td>NaN</td>\n      <td>NaN</td>\n      <td>NaN</td>\n      <td>NaN</td>\n      <td>NaN</td>\n      <td>NaN</td>\n      <td>NaN</td>\n    </tr>\n    <tr>\n      <th>2011-12-02</th>\n      <td>-0.010866</td>\n      <td>-0.207038</td>\n      <td>0.302897</td>\n      <td>0.235483</td>\n      <td>0.489692</td>\n      <td>0.154354</td>\n      <td>0.094609</td>\n      <td>-0.042270</td>\n      <td>0.178307</td>\n      <td>0.324513</td>\n      <td>0.053087</td>\n      <td>0.393824</td>\n      <td>-1.345329</td>\n      <td>0.328191</td>\n      <td>0.241278</td>\n      <td>0.536400</td>\n      <td>0.065521</td>\n      <td>-0.189497</td>\n      <td>-0.251753</td>\n      <td>0.148492</td>\n    </tr>\n    <tr>\n      <th>2011-12-05</th>\n      <td>0.077141</td>\n      <td>-0.460678</td>\n      <td>-0.474224</td>\n      <td>-0.158909</td>\n      <td>-0.084015</td>\n      <td>-0.179613</td>\n      <td>0.056292</td>\n      <td>0.165816</td>\n      <td>0.227525</td>\n      <td>-0.675962</td>\n      <td>0.302855</td>\n      <td>-0.615728</td>\n      <td>1.099039</td>\n      <td>0.264403</td>\n      <td>-0.125720</td>\n      <td>3.778843</td>\n      <td>-1.723893</td>\n      <td>5.259712</td>\n      <td>-0.012405</td>\n      <td>3.308727</td>\n    </tr>\n    <tr>\n      <th>2011-12-06</th>\n      <td>0.201784</td>\n      <td>0.810078</td>\n      <td>0.100602</td>\n      <td>-0.190226</td>\n      <td>-0.406179</td>\n      <td>0.198203</td>\n      <td>-0.004941</td>\n      <td>0.066255</td>\n      <td>-0.330724</td>\n      <td>-0.049813</td>\n      <td>0.354603</td>\n      <td>0.150150</td>\n      <td>-0.863361</td>\n      <td>-0.157734</td>\n      <td>0.335027</td>\n      <td>-0.630513</td>\n      <td>0.272330</td>\n      <td>0.715348</td>\n      <td>0.047384</td>\n      <td>1.062182</td>\n    </tr>\n    <tr>\n      <th>2011-12-07</th>\n      <td>0.187048</td>\n      <td>0.129148</td>\n      <td>0.496636</td>\n      <td>0.290407</td>\n      <td>0.543003</td>\n      <td>0.567308</td>\n      <td>-0.043160</td>\n      <td>0.002849</td>\n      <td>0.596567</td>\n      <td>0.445798</td>\n      <td>-0.273399</td>\n      <td>0.762903</td>\n      <td>0.199724</td>\n      <td>0.001528</td>\n      <td>0.198283</td>\n      <td>-1.476326</td>\n      <td>-0.028845</td>\n      <td>-0.948723</td>\n      <td>-0.251362</td>\n      <td>1.737582</td>\n    </tr>\n    <tr>\n      <th>...</th>\n      <td>...</td>\n      <td>...</td>\n      <td>...</td>\n      <td>...</td>\n      <td>...</td>\n      <td>...</td>\n      <td>...</td>\n      <td>...</td>\n      <td>...</td>\n      <td>...</td>\n      <td>...</td>\n      <td>...</td>\n      <td>...</td>\n      <td>...</td>\n      <td>...</td>\n      <td>...</td>\n      <td>...</td>\n      <td>...</td>\n      <td>...</td>\n      <td>...</td>\n    </tr>\n    <tr>\n      <th>2023-06-26</th>\n      <td>0.479849</td>\n      <td>0.162791</td>\n      <td>0.354425</td>\n      <td>-0.286233</td>\n      <td>0.117752</td>\n      <td>0.825689</td>\n      <td>0.010047</td>\n      <td>0.076112</td>\n      <td>0.411338</td>\n      <td>0.380623</td>\n      <td>0.311384</td>\n      <td>0.387475</td>\n      <td>0.337837</td>\n      <td>0.041854</td>\n      <td>0.443648</td>\n      <td>0.324191</td>\n      <td>0.393742</td>\n      <td>0.270234</td>\n      <td>0.261898</td>\n      <td>0.296803</td>\n    </tr>\n    <tr>\n      <th>2023-06-27</th>\n      <td>-0.140731</td>\n      <td>-0.583317</td>\n      <td>-0.355335</td>\n      <td>-0.319601</td>\n      <td>-0.353365</td>\n      <td>0.190775</td>\n      <td>0.010047</td>\n      <td>-0.120930</td>\n      <td>-0.059363</td>\n      <td>-0.348245</td>\n      <td>0.170486</td>\n      <td>-0.391226</td>\n      <td>-0.321872</td>\n      <td>-0.048803</td>\n      <td>-0.328233</td>\n      <td>-0.330689</td>\n      <td>-0.459628</td>\n      <td>-0.240184</td>\n      <td>-0.356263</td>\n      <td>-0.320052</td>\n    </tr>\n    <tr>\n      <th>2023-06-28</th>\n      <td>-0.317555</td>\n      <td>0.488290</td>\n      <td>0.328230</td>\n      <td>-0.234871</td>\n      <td>0.481522</td>\n      <td>-0.020829</td>\n      <td>0.462870</td>\n      <td>-0.148749</td>\n      <td>0.822314</td>\n      <td>0.371721</td>\n      <td>0.479809</td>\n      <td>0.361824</td>\n      <td>0.312250</td>\n      <td>0.063418</td>\n      <td>0.129561</td>\n      <td>0.216203</td>\n      <td>0.249720</td>\n      <td>0.018985</td>\n      <td>-0.007595</td>\n      <td>0.192466</td>\n    </tr>\n    <tr>\n      <th>2023-06-29</th>\n      <td>-0.172365</td>\n      <td>-0.495617</td>\n      <td>-0.880845</td>\n      <td>-0.318596</td>\n      <td>-1.070457</td>\n      <td>-0.488908</td>\n      <td>-0.107440</td>\n      <td>-0.008310</td>\n      <td>-1.177506</td>\n      <td>-0.849309</td>\n      <td>-0.229066</td>\n      <td>-0.854507</td>\n      <td>-0.902824</td>\n      <td>0.086679</td>\n      <td>-0.547344</td>\n      <td>-0.949227</td>\n      <td>-0.825675</td>\n      <td>-0.957024</td>\n      <td>0.008241</td>\n      <td>-0.909960</td>\n    </tr>\n    <tr>\n      <th>2023-06-30</th>\n      <td>-0.420921</td>\n      <td>-0.051370</td>\n      <td>0.198116</td>\n      <td>-0.048997</td>\n      <td>0.018764</td>\n      <td>0.025266</td>\n      <td>-0.291362</td>\n      <td>-0.101677</td>\n      <td>0.795053</td>\n      <td>0.145971</td>\n      <td>-0.952878</td>\n      <td>0.209178</td>\n      <td>0.159841</td>\n      <td>0.162473</td>\n      <td>0.154802</td>\n      <td>0.199337</td>\n      <td>0.168696</td>\n      <td>0.220980</td>\n      <td>-0.402688</td>\n      <td>0.144295</td>\n    </tr>\n  </tbody>\n</table>\n<p>3022 rows × 20 columns</p>\n</div>"
     },
     "execution_count": 47,
     "metadata": {},
     "output_type": "execute_result"
    }
   ],
   "source": [
    "df_daily_return"
   ],
   "metadata": {
    "collapsed": false,
    "ExecuteTime": {
     "end_time": "2023-07-24T12:25:33.879966Z",
     "start_time": "2023-07-24T12:25:33.874588Z"
    }
   }
  },
  {
   "cell_type": "code",
   "execution_count": null,
   "outputs": [],
   "source": [],
   "metadata": {
    "collapsed": false
   }
  }
 ],
 "metadata": {
  "kernelspec": {
   "display_name": "Python 3",
   "language": "python",
   "name": "python3"
  },
  "language_info": {
   "codemirror_mode": {
    "name": "ipython",
    "version": 2
   },
   "file_extension": ".py",
   "mimetype": "text/x-python",
   "name": "python",
   "nbconvert_exporter": "python",
   "pygments_lexer": "ipython2",
   "version": "2.7.6"
  }
 },
 "nbformat": 4,
 "nbformat_minor": 0
}
